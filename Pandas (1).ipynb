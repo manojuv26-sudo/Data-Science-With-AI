{
  "nbformat": 4,
  "nbformat_minor": 0,
  "metadata": {
    "colab": {
      "provenance": []
    },
    "kernelspec": {
      "name": "python3",
      "display_name": "Python 3"
    },
    "language_info": {
      "name": "python"
    }
  },
  "cells": [
    {
      "cell_type": "markdown",
      "source": [
        "#What is Pandas?\n",
        "\n",
        "Pandas is a Python data analysis and manipulation library.\n",
        "\n",
        "Built on NumPy, it adds labels (row & column names) and rich functionality for tabular data.\n",
        "\n",
        "It is widely used in Data Science, Machine Learning, Data Engineering, and Analytics.\n",
        "\n",
        "Key Features:\n",
        "\n",
        "Handles tabular data (rows & columns) and time series data.\n",
        "\n",
        "Works well with CSV, Excel, SQL, JSON files.\n",
        "\n",
        "Provides fast, flexible data transformations.\n",
        "\n"
      ],
      "metadata": {
        "id": "hEwDmt-aoh0I"
      }
    },
    {
      "cell_type": "markdown",
      "source": [
        "2. Why use Pandas over lists, dicts, NumPy arrays?"
      ],
      "metadata": {
        "id": "rPj2_-BmopyT"
      }
    },
    {
      "cell_type": "markdown",
      "source": [
        "| Feature                       | Lists/Dicts (Python Built-in)      | NumPy Arrays                  | Pandas (Best of both) |\n",
        "| ----------------------------- | ---------------------------------- | ----------------------------- | --------------------- |\n",
        "| **Labels (Row/Column Names)** | ❌ No                               | ❌ No                          | ✅ Yes                 |\n",
        "| **Heterogeneous Data**        | ✅ Yes (lists can hold mixed types) | ❌ No (all elements same type) | ✅ Yes                 |\n",
        "| **Missing Data Handling**     | ❌ Manual handling                  | ❌ Manual handling             | ✅ Built-in (`NaN`)    |\n",
        "| **Data Indexing**             | ❌ Manual loops                     | ✅ Fast index-based            | ✅ Fast & label-based  |\n",
        "| **Aggregation & Stats**       | ❌ Manual                           | ✅ Fast                        | ✅ Built-in & easy     |\n",
        "| **File I/O**                  | ❌ Manual parsing                   | ❌ Needs external handling     | ✅ CSV, Excel, SQL     |\n"
      ],
      "metadata": {
        "id": "XlPicu_Yorfc"
      }
    },
    {
      "cell_type": "code",
      "execution_count": 1,
      "metadata": {
        "colab": {
          "base_uri": "https://localhost:8080/"
        },
        "id": "FoM81l8LTCzP",
        "outputId": "95e2e073-32d2-4b80-b42a-7663796b0367"
      },
      "outputs": [
        {
          "output_type": "stream",
          "name": "stdout",
          "text": [
            "      Name  Age\n",
            "1      Bob   30\n",
            "2  Charlie   35\n"
          ]
        }
      ],
      "source": [
        "import pandas as pd\n",
        "\n",
        "data = {'Name': ['Alice', 'Bob', 'Charlie'], 'Age': [25, 30, 35]}\n",
        "df = pd.DataFrame(data)\n",
        "\n",
        "# Direct filtering\n",
        "print(df[df['Age'] > 28])\n"
      ]
    },
    {
      "cell_type": "markdown",
      "source": [
        "Installing and Importing Pandas\n",
        "To install:"
      ],
      "metadata": {
        "id": "CfJAzYW1o4d4"
      }
    },
    {
      "cell_type": "code",
      "source": [
        "pip install pandas\n"
      ],
      "metadata": {
        "colab": {
          "base_uri": "https://localhost:8080/"
        },
        "id": "hMWqm1QGo1LQ",
        "outputId": "da94ee61-a4f4-4414-f22e-bc2d85bd07ad"
      },
      "execution_count": 2,
      "outputs": [
        {
          "output_type": "stream",
          "name": "stdout",
          "text": [
            "Requirement already satisfied: pandas in /usr/local/lib/python3.11/dist-packages (2.2.2)\n",
            "Requirement already satisfied: numpy>=1.23.2 in /usr/local/lib/python3.11/dist-packages (from pandas) (2.0.2)\n",
            "Requirement already satisfied: python-dateutil>=2.8.2 in /usr/local/lib/python3.11/dist-packages (from pandas) (2.9.0.post0)\n",
            "Requirement already satisfied: pytz>=2020.1 in /usr/local/lib/python3.11/dist-packages (from pandas) (2025.2)\n",
            "Requirement already satisfied: tzdata>=2022.7 in /usr/local/lib/python3.11/dist-packages (from pandas) (2025.2)\n",
            "Requirement already satisfied: six>=1.5 in /usr/local/lib/python3.11/dist-packages (from python-dateutil>=2.8.2->pandas) (1.17.0)\n"
          ]
        }
      ]
    },
    {
      "cell_type": "code",
      "source": [
        "import pandas as pd\n"
      ],
      "metadata": {
        "id": "D2a3ectFo7as"
      },
      "execution_count": 3,
      "outputs": []
    },
    {
      "cell_type": "markdown",
      "source": [
        "#Pandas Data Structures\n",
        "\n",
        "a) Series (1D labeled array)\n",
        "\n",
        "Like a column in Excel or a 1D NumPy array with labels."
      ],
      "metadata": {
        "id": "0y1bcW-UpDuG"
      }
    },
    {
      "cell_type": "code",
      "source": [
        "import pandas as pd\n",
        "\n",
        "s = pd.Series([10, 20, 30], index=['a', 'b', 'c'])\n",
        "print(s)\n"
      ],
      "metadata": {
        "colab": {
          "base_uri": "https://localhost:8080/"
        },
        "id": "41-n4FLnpA6o",
        "outputId": "38b0b6d9-0969-4431-ad9d-96125a2dadeb"
      },
      "execution_count": 4,
      "outputs": [
        {
          "output_type": "stream",
          "name": "stdout",
          "text": [
            "a    10\n",
            "b    20\n",
            "c    30\n",
            "dtype: int64\n"
          ]
        }
      ]
    },
    {
      "cell_type": "markdown",
      "source": [
        "DataFrame (2D labeled data structure)\n",
        "\n",
        "Like a table with rows & columns."
      ],
      "metadata": {
        "id": "1KtdSv7CpKaG"
      }
    },
    {
      "cell_type": "code",
      "source": [
        "data = {'Name': ['Alice', 'Bob'], 'Age': [25, 30]}\n",
        "df = pd.DataFrame(data)\n",
        "print(df)\n"
      ],
      "metadata": {
        "colab": {
          "base_uri": "https://localhost:8080/"
        },
        "id": "zU2xGMljpH7P",
        "outputId": "28e360e4-8d14-4933-ad40-6b400b790456"
      },
      "execution_count": 5,
      "outputs": [
        {
          "output_type": "stream",
          "name": "stdout",
          "text": [
            "    Name  Age\n",
            "0  Alice   25\n",
            "1    Bob   30\n"
          ]
        }
      ]
    },
    {
      "cell_type": "markdown",
      "source": [
        "Index Objects\n",
        "\n",
        "Immutable array of labels."
      ],
      "metadata": {
        "id": "8LSPXxXspPoL"
      }
    },
    {
      "cell_type": "code",
      "source": [
        "print(df.index)       # Row indices\n",
        "print(df.columns)     # Column labels\n"
      ],
      "metadata": {
        "colab": {
          "base_uri": "https://localhost:8080/"
        },
        "id": "HIl_DFFmpNK7",
        "outputId": "d0c93332-44a8-42cd-b5cf-1c87621d9cb3"
      },
      "execution_count": 6,
      "outputs": [
        {
          "output_type": "stream",
          "name": "stdout",
          "text": [
            "RangeIndex(start=0, stop=2, step=1)\n",
            "Index(['Name', 'Age'], dtype='object')\n"
          ]
        }
      ]
    },
    {
      "cell_type": "markdown",
      "source": [
        "Pandas vs NumPy Comparison"
      ],
      "metadata": {
        "id": "SiMzPfPnpYq0"
      }
    },
    {
      "cell_type": "markdown",
      "source": [
        "| Feature          | NumPy                        | Pandas                                 |\n",
        "| ---------------- | ---------------------------- | -------------------------------------- |\n",
        "| **Data Type**    | Homogeneous                  | Heterogeneous                          |\n",
        "| **Structure**    | N-dimensional array          | Series (1D), DataFrame (2D)            |\n",
        "| **Labels**       | Index by position only       | Index by labels & position             |\n",
        "| **Missing Data** | Needs masking                | Built-in `NaN` handling                |\n",
        "| **Performance**  | Faster for pure numeric data | Slightly slower but more functionality |\n"
      ],
      "metadata": {
        "id": "fGtnVJD_pcBw"
      }
    },
    {
      "cell_type": "markdown",
      "source": [
        "#Creating a Series\n",
        "A Series is a 1D labeled array that can hold any data type."
      ],
      "metadata": {
        "id": "25ozSWOEp22M"
      }
    },
    {
      "cell_type": "markdown",
      "source": [
        "a) From a list"
      ],
      "metadata": {
        "id": "APVnTQmFp5-S"
      }
    },
    {
      "cell_type": "code",
      "source": [
        "import pandas as pd\n",
        "\n",
        "s1 = pd.Series([10, 20, 30, 40])\n",
        "print(s1)\n"
      ],
      "metadata": {
        "colab": {
          "base_uri": "https://localhost:8080/"
        },
        "id": "_X23mDqLpUhM",
        "outputId": "9a0ae533-7348-4cba-866b-fcf6e4fe977c"
      },
      "execution_count": 7,
      "outputs": [
        {
          "output_type": "stream",
          "name": "stdout",
          "text": [
            "0    10\n",
            "1    20\n",
            "2    30\n",
            "3    40\n",
            "dtype: int64\n"
          ]
        }
      ]
    },
    {
      "cell_type": "markdown",
      "source": [
        "b) From a NumPy array"
      ],
      "metadata": {
        "id": "5al-vmy-p-ou"
      }
    },
    {
      "cell_type": "code",
      "source": [
        "import numpy as np\n",
        "arr = np.array([5, 10, 15])\n",
        "s2 = pd.Series(arr)\n",
        "print(s2)\n"
      ],
      "metadata": {
        "colab": {
          "base_uri": "https://localhost:8080/"
        },
        "id": "T1DEeNq_p8Sn",
        "outputId": "f3f58036-724b-472b-8100-c8b36ac4f893"
      },
      "execution_count": 8,
      "outputs": [
        {
          "output_type": "stream",
          "name": "stdout",
          "text": [
            "0     5\n",
            "1    10\n",
            "2    15\n",
            "dtype: int64\n"
          ]
        }
      ]
    },
    {
      "cell_type": "markdown",
      "source": [
        "c) From a dictionary\n",
        "\n",
        "Keys → become index labels\n",
        "\n",
        "Values → become data"
      ],
      "metadata": {
        "id": "A4wdeju7qGJk"
      }
    },
    {
      "cell_type": "code",
      "source": [
        "data = {'a': 100, 'b': 200, 'c': 300}\n",
        "s3 = pd.Series(data)\n",
        "print(s3)\n"
      ],
      "metadata": {
        "colab": {
          "base_uri": "https://localhost:8080/"
        },
        "id": "r0MQkNvnqD6t",
        "outputId": "306d50e3-28c8-4a2d-a2c3-1ed919f6a9b6"
      },
      "execution_count": 9,
      "outputs": [
        {
          "output_type": "stream",
          "name": "stdout",
          "text": [
            "a    100\n",
            "b    200\n",
            "c    300\n",
            "dtype: int64\n"
          ]
        }
      ]
    },
    {
      "cell_type": "markdown",
      "source": [
        "d) From a scalar value"
      ],
      "metadata": {
        "id": "aX5D8OAsqLvV"
      }
    },
    {
      "cell_type": "code",
      "source": [
        "s4 = pd.Series(5, index=['x', 'y', 'z'])\n",
        "print(s4)\n"
      ],
      "metadata": {
        "colab": {
          "base_uri": "https://localhost:8080/"
        },
        "id": "0jy71fLKqIla",
        "outputId": "fd1f583c-4bb7-46f5-8eed-6a98b5119a0c"
      },
      "execution_count": 10,
      "outputs": [
        {
          "output_type": "stream",
          "name": "stdout",
          "text": [
            "x    5\n",
            "y    5\n",
            "z    5\n",
            "dtype: int64\n"
          ]
        }
      ]
    },
    {
      "cell_type": "markdown",
      "source": [
        "e) With custom indexes"
      ],
      "metadata": {
        "id": "cK4B1eZwqQGQ"
      }
    },
    {
      "cell_type": "code",
      "source": [
        "s5 = pd.Series([1, 2, 3], index=['one', 'two', 'three'])\n",
        "print(s5)\n"
      ],
      "metadata": {
        "colab": {
          "base_uri": "https://localhost:8080/"
        },
        "id": "a6a_8L0sqNQ4",
        "outputId": "1426410c-b40f-4a11-d91a-074f07b140f1"
      },
      "execution_count": 11,
      "outputs": [
        {
          "output_type": "stream",
          "name": "stdout",
          "text": [
            "one      1\n",
            "two      2\n",
            "three    3\n",
            "dtype: int64\n"
          ]
        }
      ]
    },
    {
      "cell_type": "markdown",
      "source": [
        "Accessing Elements\n",
        "\n",
        "a) By label (.loc)"
      ],
      "metadata": {
        "id": "JxwqmzJpqUti"
      }
    },
    {
      "cell_type": "code",
      "source": [
        "print(s5.loc['two'])       # Single value\n",
        "print(s5.loc[['one', 'three']])  # Multiple values\n"
      ],
      "metadata": {
        "colab": {
          "base_uri": "https://localhost:8080/"
        },
        "id": "4ksthYvLqSQi",
        "outputId": "0d7cb2c2-b8a4-4a72-faee-698199da7950"
      },
      "execution_count": 12,
      "outputs": [
        {
          "output_type": "stream",
          "name": "stdout",
          "text": [
            "2\n",
            "one      1\n",
            "three    3\n",
            "dtype: int64\n"
          ]
        }
      ]
    },
    {
      "cell_type": "markdown",
      "source": [
        "b) By position (.iloc)"
      ],
      "metadata": {
        "id": "yCZS_TLbqmPP"
      }
    },
    {
      "cell_type": "code",
      "source": [
        "print(s5.iloc[1])       # Single value\n",
        "print(s5.iloc[0:2])     # Slicing\n"
      ],
      "metadata": {
        "colab": {
          "base_uri": "https://localhost:8080/"
        },
        "id": "GvWsyw2oqXoe",
        "outputId": "936812ac-e9c8-4fc4-8556-e2b9fc7744c6"
      },
      "execution_count": 13,
      "outputs": [
        {
          "output_type": "stream",
          "name": "stdout",
          "text": [
            "2\n",
            "one    1\n",
            "two    2\n",
            "dtype: int64\n"
          ]
        }
      ]
    },
    {
      "cell_type": "markdown",
      "source": [
        "3. Series Attributes"
      ],
      "metadata": {
        "id": "Ux1Oq1KKqsEZ"
      }
    },
    {
      "cell_type": "code",
      "source": [
        "print(s5.index)    # Index object\n",
        "print(s5.values)   # NumPy array\n",
        "print(s5.dtype)    # Data type\n",
        "s5.name = \"Numbers\"\n",
        "print(s5.name)     # Series name\n"
      ],
      "metadata": {
        "colab": {
          "base_uri": "https://localhost:8080/"
        },
        "id": "Gqx0MsAqqqGO",
        "outputId": "d31b2f6d-d9c9-447e-e03e-96e51758732c"
      },
      "execution_count": 14,
      "outputs": [
        {
          "output_type": "stream",
          "name": "stdout",
          "text": [
            "Index(['one', 'two', 'three'], dtype='object')\n",
            "[1 2 3]\n",
            "int64\n",
            "Numbers\n"
          ]
        }
      ]
    },
    {
      "cell_type": "markdown",
      "source": [
        "Series Methods\n",
        "\n",
        "a) .head() – First n elements (default 5)"
      ],
      "metadata": {
        "id": "04GexO0PqwGe"
      }
    },
    {
      "cell_type": "code",
      "source": [
        "print(s1.head(2))\n"
      ],
      "metadata": {
        "colab": {
          "base_uri": "https://localhost:8080/"
        },
        "id": "eCIUo5gtqt3S",
        "outputId": "43bf6838-225f-406e-cb61-7954a044e457"
      },
      "execution_count": 15,
      "outputs": [
        {
          "output_type": "stream",
          "name": "stdout",
          "text": [
            "0    10\n",
            "1    20\n",
            "dtype: int64\n"
          ]
        }
      ]
    },
    {
      "cell_type": "markdown",
      "source": [
        "b) .tail() – Last n elements"
      ],
      "metadata": {
        "id": "vJ0SEnSJq-Qt"
      }
    },
    {
      "cell_type": "code",
      "source": [
        "print(s1.tail(2))\n"
      ],
      "metadata": {
        "colab": {
          "base_uri": "https://localhost:8080/"
        },
        "id": "JADq4jMXqzGW",
        "outputId": "ff5f4d23-27e0-483e-a390-ebaa754cf707"
      },
      "execution_count": 16,
      "outputs": [
        {
          "output_type": "stream",
          "name": "stdout",
          "text": [
            "2    30\n",
            "3    40\n",
            "dtype: int64\n"
          ]
        }
      ]
    },
    {
      "cell_type": "markdown",
      "source": [
        "c) .describe() – Summary statistics"
      ],
      "metadata": {
        "id": "QDiniIANrEOZ"
      }
    },
    {
      "cell_type": "code",
      "source": [
        "print(s1.describe())\n"
      ],
      "metadata": {
        "colab": {
          "base_uri": "https://localhost:8080/"
        },
        "id": "PC-Z2i98rAtL",
        "outputId": "985d8caf-37f5-4a14-c9b4-4e440205112a"
      },
      "execution_count": 17,
      "outputs": [
        {
          "output_type": "stream",
          "name": "stdout",
          "text": [
            "count     4.000000\n",
            "mean     25.000000\n",
            "std      12.909944\n",
            "min      10.000000\n",
            "25%      17.500000\n",
            "50%      25.000000\n",
            "75%      32.500000\n",
            "max      40.000000\n",
            "dtype: float64\n"
          ]
        }
      ]
    },
    {
      "cell_type": "markdown",
      "source": [
        "Mathematical Operations on Series\n",
        "Works element-wise (vectorized, no loops)."
      ],
      "metadata": {
        "id": "kckQLkoSrU2H"
      }
    },
    {
      "cell_type": "code",
      "source": [
        "s = pd.Series([1, 2, 3, 4])\n",
        "\n",
        "print(s + 10)       # Add scalar\n",
        "print(s * 2)        # Multiply scalar\n",
        "print(s ** 2)       # Square\n",
        "print(s + s)        # Add Series\n"
      ],
      "metadata": {
        "colab": {
          "base_uri": "https://localhost:8080/"
        },
        "id": "JhYzIMO1rG6D",
        "outputId": "42a11dee-ce0a-49bd-d08e-6b3222ea0cc4"
      },
      "execution_count": 18,
      "outputs": [
        {
          "output_type": "stream",
          "name": "stdout",
          "text": [
            "0    11\n",
            "1    12\n",
            "2    13\n",
            "3    14\n",
            "dtype: int64\n",
            "0    2\n",
            "1    4\n",
            "2    6\n",
            "3    8\n",
            "dtype: int64\n",
            "0     1\n",
            "1     4\n",
            "2     9\n",
            "3    16\n",
            "dtype: int64\n",
            "0    2\n",
            "1    4\n",
            "2    6\n",
            "3    8\n",
            "dtype: int64\n"
          ]
        }
      ]
    },
    {
      "cell_type": "markdown",
      "source": [
        "Handling Missing Values in Series\n",
        "\n",
        "a) Creating a Series with NaN"
      ],
      "metadata": {
        "id": "wRWO_98yrauW"
      }
    },
    {
      "cell_type": "code",
      "source": [
        "import numpy as np\n",
        "s_nan = pd.Series([1, np.nan, 3, None])\n",
        "print(s_nan)\n"
      ],
      "metadata": {
        "colab": {
          "base_uri": "https://localhost:8080/"
        },
        "id": "vjgts3M-rXiR",
        "outputId": "7d954a0b-7350-45bd-9fb5-1ca30c96ef34"
      },
      "execution_count": 19,
      "outputs": [
        {
          "output_type": "stream",
          "name": "stdout",
          "text": [
            "0    1.0\n",
            "1    NaN\n",
            "2    3.0\n",
            "3    NaN\n",
            "dtype: float64\n"
          ]
        }
      ]
    },
    {
      "cell_type": "markdown",
      "source": [
        "b) Detect missing values"
      ],
      "metadata": {
        "id": "iPd4zbf3rgj6"
      }
    },
    {
      "cell_type": "code",
      "source": [
        "print(s_nan.isna())     # True for NaN\n",
        "print(s_nan.notna())    # True for non-NaN\n"
      ],
      "metadata": {
        "colab": {
          "base_uri": "https://localhost:8080/"
        },
        "id": "75EFKSphres5",
        "outputId": "496118ba-cc42-4b7b-cef2-84593c259492"
      },
      "execution_count": 20,
      "outputs": [
        {
          "output_type": "stream",
          "name": "stdout",
          "text": [
            "0    False\n",
            "1     True\n",
            "2    False\n",
            "3     True\n",
            "dtype: bool\n",
            "0     True\n",
            "1    False\n",
            "2     True\n",
            "3    False\n",
            "dtype: bool\n"
          ]
        }
      ]
    },
    {
      "cell_type": "markdown",
      "source": [
        "c) Fill missing values"
      ],
      "metadata": {
        "id": "stCU75byroQw"
      }
    },
    {
      "cell_type": "code",
      "source": [
        "print(s_nan.fillna(0))\n"
      ],
      "metadata": {
        "colab": {
          "base_uri": "https://localhost:8080/"
        },
        "id": "bfr0A06jriwI",
        "outputId": "708bb881-5859-4e9f-e66f-c77e8dd95e1e"
      },
      "execution_count": 21,
      "outputs": [
        {
          "output_type": "stream",
          "name": "stdout",
          "text": [
            "0    1.0\n",
            "1    0.0\n",
            "2    3.0\n",
            "3    0.0\n",
            "dtype: float64\n"
          ]
        }
      ]
    },
    {
      "cell_type": "markdown",
      "source": [
        "d) Drop missing values"
      ],
      "metadata": {
        "id": "36M4NRd_rsta"
      }
    },
    {
      "cell_type": "code",
      "source": [
        "print(s_nan.dropna())\n"
      ],
      "metadata": {
        "colab": {
          "base_uri": "https://localhost:8080/"
        },
        "id": "k1Ty3jGkrqp2",
        "outputId": "81194943-db3e-47c6-d0fb-2856804ef7fb"
      },
      "execution_count": 22,
      "outputs": [
        {
          "output_type": "stream",
          "name": "stdout",
          "text": [
            "0    1.0\n",
            "2    3.0\n",
            "dtype: float64\n"
          ]
        }
      ]
    },
    {
      "cell_type": "markdown",
      "source": [
        "#Creating DataFrames\n",
        "\n",
        "a) From dictionaries\n",
        "Keys → column names\n",
        "\n",
        "Values → list/array of column values"
      ],
      "metadata": {
        "id": "5GFimTcesFcH"
      }
    },
    {
      "cell_type": "code",
      "source": [
        "import pandas as pd\n",
        "\n",
        "data = {\n",
        "    'Name': ['Alice', 'Bob', 'Charlie'],\n",
        "    'Age': [25, 30, 35],\n",
        "    'City': ['NY', 'LA', 'Chicago']\n",
        "}\n",
        "\n",
        "df1 = pd.DataFrame(data)\n",
        "print(df1)\n"
      ],
      "metadata": {
        "colab": {
          "base_uri": "https://localhost:8080/"
        },
        "id": "14qa-HO4ru0v",
        "outputId": "a0d4124c-b4d2-4567-bf82-de230f423891"
      },
      "execution_count": 23,
      "outputs": [
        {
          "output_type": "stream",
          "name": "stdout",
          "text": [
            "      Name  Age     City\n",
            "0    Alice   25       NY\n",
            "1      Bob   30       LA\n",
            "2  Charlie   35  Chicago\n"
          ]
        }
      ]
    },
    {
      "cell_type": "markdown",
      "source": [
        "b) From lists of lists\n",
        "\n",
        "Provide data + optional column names"
      ],
      "metadata": {
        "id": "EkevHznvsR4j"
      }
    },
    {
      "cell_type": "code",
      "source": [
        "data = [\n",
        "    ['Alice', 25, 'NY'],\n",
        "    ['Bob', 30, 'LA'],\n",
        "    ['Charlie', 35, 'Chicago']\n",
        "]\n",
        "\n",
        "df2 = pd.DataFrame(data, columns=['Name', 'Age', 'City'])\n",
        "print(df2)\n"
      ],
      "metadata": {
        "colab": {
          "base_uri": "https://localhost:8080/"
        },
        "id": "uk0CS1oxsJsr",
        "outputId": "ccc86392-594f-406c-8342-361be6fceec7"
      },
      "execution_count": 24,
      "outputs": [
        {
          "output_type": "stream",
          "name": "stdout",
          "text": [
            "      Name  Age     City\n",
            "0    Alice   25       NY\n",
            "1      Bob   30       LA\n",
            "2  Charlie   35  Chicago\n"
          ]
        }
      ]
    },
    {
      "cell_type": "markdown",
      "source": [
        "c) From NumPy arrays"
      ],
      "metadata": {
        "id": "K8ok-O47tSU0"
      }
    },
    {
      "cell_type": "code",
      "source": [
        "import numpy as np\n",
        "\n",
        "arr = np.array([\n",
        "    ['Alice', 25, 'NY'],\n",
        "    ['Bob', 30, 'LA'],\n",
        "    ['Charlie', 35, 'Chicago']\n",
        "])\n",
        "\n",
        "df3 = pd.DataFrame(arr, columns=['Name', 'Age', 'City'])\n",
        "print(df3)\n"
      ],
      "metadata": {
        "colab": {
          "base_uri": "https://localhost:8080/"
        },
        "id": "kuilRs_5sYZm",
        "outputId": "9297dd1e-37dd-49d9-ee2f-2a27a3536c86"
      },
      "execution_count": 25,
      "outputs": [
        {
          "output_type": "stream",
          "name": "stdout",
          "text": [
            "      Name Age     City\n",
            "0    Alice  25       NY\n",
            "1      Bob  30       LA\n",
            "2  Charlie  35  Chicago\n"
          ]
        }
      ]
    },
    {
      "cell_type": "markdown",
      "source": [
        "d) From CSV/Excel/JSON files\n",
        "\n",
        "Assuming file data.csv exists with columns Name, Age, City"
      ],
      "metadata": {
        "id": "Wgvf2ZuftY6G"
      }
    },
    {
      "cell_type": "code",
      "source": [
        "# CSV\n",
        "df_csv = pd.read_csv('/content/Iris (1).csv')\n",
        "\n",
        "# Excel\n",
        "# df_excel = pd.read_excel('data.xlsx')\n",
        "\n",
        "# JSON\n",
        "# df_json = pd.read_json('data.json')\n"
      ],
      "metadata": {
        "id": "TDOYl0getVCn"
      },
      "execution_count": 28,
      "outputs": []
    },
    {
      "cell_type": "markdown",
      "source": [
        "2. DataFrame Attributes"
      ],
      "metadata": {
        "id": "KzzAeHJEuc7D"
      }
    },
    {
      "cell_type": "code",
      "source": [
        "print(df1.shape)     # (rows, columns)\n",
        "print(df1.columns)   # Column labels\n",
        "print(df1.index)     # Row labels (default is RangeIndex)\n",
        "print(df1.dtypes)    # Data type of each column\n",
        "\n"
      ],
      "metadata": {
        "colab": {
          "base_uri": "https://localhost:8080/"
        },
        "id": "mJ7aqYSqtchl",
        "outputId": "530fc066-968f-4fa2-f0fe-ae236e2aaa83"
      },
      "execution_count": 29,
      "outputs": [
        {
          "output_type": "stream",
          "name": "stdout",
          "text": [
            "(3, 3)\n",
            "Index(['Name', 'Age', 'City'], dtype='object')\n",
            "RangeIndex(start=0, stop=3, step=1)\n",
            "Name    object\n",
            "Age      int64\n",
            "City    object\n",
            "dtype: object\n"
          ]
        }
      ]
    },
    {
      "cell_type": "markdown",
      "source": [
        "Viewing Data\n",
        "\n",
        "a) .head() — first 5 rows by default"
      ],
      "metadata": {
        "id": "D5Cvx0PyunN4"
      }
    },
    {
      "cell_type": "code",
      "source": [
        "print(df1.head(2))\n"
      ],
      "metadata": {
        "colab": {
          "base_uri": "https://localhost:8080/"
        },
        "id": "umG_GyNcufsS",
        "outputId": "e8f1fb36-2ad3-44c1-f6dc-4543d8a4c269"
      },
      "execution_count": 30,
      "outputs": [
        {
          "output_type": "stream",
          "name": "stdout",
          "text": [
            "    Name  Age City\n",
            "0  Alice   25   NY\n",
            "1    Bob   30   LA\n"
          ]
        }
      ]
    },
    {
      "cell_type": "markdown",
      "source": [
        "b) .tail() — last 5 rows"
      ],
      "metadata": {
        "id": "NUb-gF3nu4pT"
      }
    },
    {
      "cell_type": "code",
      "source": [
        "print(df1.tail(2))\n"
      ],
      "metadata": {
        "colab": {
          "base_uri": "https://localhost:8080/"
        },
        "id": "YcECoey0urWU",
        "outputId": "b68c9f1a-731b-46c0-cb63-86c0779e2b75"
      },
      "execution_count": 31,
      "outputs": [
        {
          "output_type": "stream",
          "name": "stdout",
          "text": [
            "      Name  Age     City\n",
            "1      Bob   30       LA\n",
            "2  Charlie   35  Chicago\n"
          ]
        }
      ]
    },
    {
      "cell_type": "markdown",
      "source": [
        "c) .sample() — random sample rows"
      ],
      "metadata": {
        "id": "SV5jHe7Iu-fc"
      }
    },
    {
      "cell_type": "code",
      "source": [
        "print(df1.sample(2))\n"
      ],
      "metadata": {
        "colab": {
          "base_uri": "https://localhost:8080/"
        },
        "id": "Fvc3feGSu8NT",
        "outputId": "5caec78b-018e-4188-df5d-2a1ce78bef7a"
      },
      "execution_count": 32,
      "outputs": [
        {
          "output_type": "stream",
          "name": "stdout",
          "text": [
            "      Name  Age     City\n",
            "2  Charlie   35  Chicago\n",
            "0    Alice   25       NY\n"
          ]
        }
      ]
    },
    {
      "cell_type": "markdown",
      "source": [
        "d) .info() — summary of DataFrame"
      ],
      "metadata": {
        "id": "mHvGWE7QvCr-"
      }
    },
    {
      "cell_type": "code",
      "source": [
        "print(df1.info())\n"
      ],
      "metadata": {
        "colab": {
          "base_uri": "https://localhost:8080/"
        },
        "id": "XpzdHmn9vAgi",
        "outputId": "20e3ea2b-e6f4-432c-942a-9a3af6da7f53"
      },
      "execution_count": 33,
      "outputs": [
        {
          "output_type": "stream",
          "name": "stdout",
          "text": [
            "<class 'pandas.core.frame.DataFrame'>\n",
            "RangeIndex: 3 entries, 0 to 2\n",
            "Data columns (total 3 columns):\n",
            " #   Column  Non-Null Count  Dtype \n",
            "---  ------  --------------  ----- \n",
            " 0   Name    3 non-null      object\n",
            " 1   Age     3 non-null      int64 \n",
            " 2   City    3 non-null      object\n",
            "dtypes: int64(1), object(2)\n",
            "memory usage: 204.0+ bytes\n",
            "None\n"
          ]
        }
      ]
    },
    {
      "cell_type": "markdown",
      "source": [
        "e) .describe() — statistics summary (numeric columns by default)"
      ],
      "metadata": {
        "id": "DhOMNjrJvG6S"
      }
    },
    {
      "cell_type": "code",
      "source": [
        "print(df1.describe())\n"
      ],
      "metadata": {
        "colab": {
          "base_uri": "https://localhost:8080/"
        },
        "id": "2MwmVc4kvE4W",
        "outputId": "e70a136f-caed-4bd3-db9a-3fee129433da"
      },
      "execution_count": 34,
      "outputs": [
        {
          "output_type": "stream",
          "name": "stdout",
          "text": [
            "        Age\n",
            "count   3.0\n",
            "mean   30.0\n",
            "std     5.0\n",
            "min    25.0\n",
            "25%    27.5\n",
            "50%    30.0\n",
            "75%    32.5\n",
            "max    35.0\n"
          ]
        }
      ]
    },
    {
      "cell_type": "markdown",
      "source": [
        "Accessing Columns & Rows\n",
        "\n",
        "a) Column selection\n",
        "\n",
        "By column name as key (preferred if column name has spaces or special characters)"
      ],
      "metadata": {
        "id": "0VNGwUvKvO4y"
      }
    },
    {
      "cell_type": "code",
      "source": [
        "print(df1['Name'])\n"
      ],
      "metadata": {
        "colab": {
          "base_uri": "https://localhost:8080/"
        },
        "id": "Tu6ulEg8vJfP",
        "outputId": "9eab8f6b-18e0-4b00-975b-68556fd35551"
      },
      "execution_count": 35,
      "outputs": [
        {
          "output_type": "stream",
          "name": "stdout",
          "text": [
            "0      Alice\n",
            "1        Bob\n",
            "2    Charlie\n",
            "Name: Name, dtype: object\n"
          ]
        }
      ]
    },
    {
      "cell_type": "code",
      "source": [
        "print(df1.Age)\n"
      ],
      "metadata": {
        "colab": {
          "base_uri": "https://localhost:8080/"
        },
        "id": "1HiAKq-DvShr",
        "outputId": "092d9395-b908-4acb-bd3d-83dcf94dd13b"
      },
      "execution_count": 36,
      "outputs": [
        {
          "output_type": "stream",
          "name": "stdout",
          "text": [
            "0    25\n",
            "1    30\n",
            "2    35\n",
            "Name: Age, dtype: int64\n"
          ]
        }
      ]
    },
    {
      "cell_type": "markdown",
      "source": [
        "Row selection\n",
        "\n",
        "Using .loc[] — label-based (by index label)"
      ],
      "metadata": {
        "id": "Ra2iCcdDvgb0"
      }
    },
    {
      "cell_type": "code",
      "source": [
        "print(df1.loc[1])   # Row with index label 1\n"
      ],
      "metadata": {
        "colab": {
          "base_uri": "https://localhost:8080/"
        },
        "id": "hqeM8whHvd6h",
        "outputId": "0ad1916f-a6b1-4922-c431-8dd3be9959c9"
      },
      "execution_count": 37,
      "outputs": [
        {
          "output_type": "stream",
          "name": "stdout",
          "text": [
            "Name    Bob\n",
            "Age      30\n",
            "City     LA\n",
            "Name: 1, dtype: object\n"
          ]
        }
      ]
    },
    {
      "cell_type": "markdown",
      "source": [
        "Using .iloc[] — position-based (integer location)"
      ],
      "metadata": {
        "id": "vQDlTYv6vrT0"
      }
    },
    {
      "cell_type": "code",
      "source": [
        "print(df1.iloc[1])  # 2nd row (0-based)\n"
      ],
      "metadata": {
        "colab": {
          "base_uri": "https://localhost:8080/"
        },
        "id": "X5BtoOEEvpaN",
        "outputId": "7a9e23d9-29de-4412-fc67-fe29d967be98"
      },
      "execution_count": 38,
      "outputs": [
        {
          "output_type": "stream",
          "name": "stdout",
          "text": [
            "Name    Bob\n",
            "Age      30\n",
            "City     LA\n",
            "Name: 1, dtype: object\n"
          ]
        }
      ]
    },
    {
      "cell_type": "markdown",
      "source": [
        "\n",
        "Slicing & Subsetting\n",
        "Rows by position:"
      ],
      "metadata": {
        "id": "kdoFtvjAvzAo"
      }
    },
    {
      "cell_type": "code",
      "source": [
        "print(df1.iloc[0:2])  # first two rows\n"
      ],
      "metadata": {
        "colab": {
          "base_uri": "https://localhost:8080/"
        },
        "id": "DTN6V49hvtRL",
        "outputId": "eb1611a3-3310-43ae-815e-f8cbffc530be"
      },
      "execution_count": 39,
      "outputs": [
        {
          "output_type": "stream",
          "name": "stdout",
          "text": [
            "    Name  Age City\n",
            "0  Alice   25   NY\n",
            "1    Bob   30   LA\n"
          ]
        }
      ]
    },
    {
      "cell_type": "markdown",
      "source": [
        "Rows by label:"
      ],
      "metadata": {
        "id": "u5h0xdy7v7_F"
      }
    },
    {
      "cell_type": "code",
      "source": [
        "print(df1.loc[0:1])   # rows with labels 0 and 1 inclusive\n"
      ],
      "metadata": {
        "colab": {
          "base_uri": "https://localhost:8080/"
        },
        "id": "GubMJJqkv3SK",
        "outputId": "03f46077-59da-4f20-ceba-f0ec77b7e556"
      },
      "execution_count": 40,
      "outputs": [
        {
          "output_type": "stream",
          "name": "stdout",
          "text": [
            "    Name  Age City\n",
            "0  Alice   25   NY\n",
            "1    Bob   30   LA\n"
          ]
        }
      ]
    },
    {
      "cell_type": "markdown",
      "source": [
        "Selecting multiple columns:"
      ],
      "metadata": {
        "id": "gH11rrCYv-MZ"
      }
    },
    {
      "cell_type": "code",
      "source": [
        "print(df1[['Name', 'City']])\n"
      ],
      "metadata": {
        "colab": {
          "base_uri": "https://localhost:8080/"
        },
        "id": "kJ2v0PVxv6fW",
        "outputId": "da55790b-5f09-4b2b-a4cd-c02fe24a28b9"
      },
      "execution_count": 41,
      "outputs": [
        {
          "output_type": "stream",
          "name": "stdout",
          "text": [
            "      Name     City\n",
            "0    Alice       NY\n",
            "1      Bob       LA\n",
            "2  Charlie  Chicago\n"
          ]
        }
      ]
    },
    {
      "cell_type": "markdown",
      "source": [
        "#Data Selection & Filtering in Pandas:"
      ],
      "metadata": {
        "id": "JgmywMt6wQ9v"
      }
    },
    {
      "cell_type": "markdown",
      "source": [
        "Conditional Filtering\n",
        "\n",
        "a) Single condition\n",
        "\n",
        "Filter rows where a column satisfies a condition."
      ],
      "metadata": {
        "id": "4AFKtlzrwU_C"
      }
    },
    {
      "cell_type": "code",
      "source": [
        "import pandas as pd\n",
        "\n",
        "data = {'Name': ['Alice', 'Bob', 'Charlie', 'David'],\n",
        "        'Age': [25, 30, 35, 40],\n",
        "        'City': ['NY', 'LA', 'Chicago', 'Houston']}\n",
        "\n",
        "df = pd.DataFrame(data)\n",
        "\n",
        "# Select rows where Age > 30\n",
        "filtered_df = df[df['Age'] > 30]\n",
        "print(filtered_df)\n"
      ],
      "metadata": {
        "colab": {
          "base_uri": "https://localhost:8080/"
        },
        "id": "rhuMpMiUwANc",
        "outputId": "4fa80de0-9ad1-4975-821c-d719355d7784"
      },
      "execution_count": 42,
      "outputs": [
        {
          "output_type": "stream",
          "name": "stdout",
          "text": [
            "      Name  Age     City\n",
            "2  Charlie   35  Chicago\n",
            "3    David   40  Houston\n"
          ]
        }
      ]
    },
    {
      "cell_type": "markdown",
      "source": [
        "b) Multiple conditions (&, |, ~)\n",
        "\n",
        "Use & for AND, | for OR, and ~ for NOT.\n",
        "\n",
        "Wrap each condition in parentheses."
      ],
      "metadata": {
        "id": "a7bDxtRhwcYS"
      }
    },
    {
      "cell_type": "code",
      "source": [
        "# Age > 30 AND City is 'Chicago'\n",
        "filtered_and = df[(df['Age'] > 30) & (df['City'] == 'Chicago')]\n",
        "print(filtered_and)\n",
        "\n",
        "# Age < 35 OR City is 'Houston'\n",
        "filtered_or = df[(df['Age'] < 35) | (df['City'] == 'Houston')]\n",
        "print(filtered_or)\n",
        "\n",
        "# NOT City 'LA'\n",
        "filtered_not = df[~(df['City'] == 'LA')]\n",
        "print(filtered_not)\n"
      ],
      "metadata": {
        "colab": {
          "base_uri": "https://localhost:8080/"
        },
        "id": "H5Dnke9JwaF-",
        "outputId": "c6b183b4-6246-41cf-d48e-f5dab3bb3e4a"
      },
      "execution_count": 43,
      "outputs": [
        {
          "output_type": "stream",
          "name": "stdout",
          "text": [
            "      Name  Age     City\n",
            "2  Charlie   35  Chicago\n",
            "    Name  Age     City\n",
            "0  Alice   25       NY\n",
            "1    Bob   30       LA\n",
            "3  David   40  Houston\n",
            "      Name  Age     City\n",
            "0    Alice   25       NY\n",
            "2  Charlie   35  Chicago\n",
            "3    David   40  Houston\n"
          ]
        }
      ]
    },
    {
      "cell_type": "markdown",
      "source": [
        "Outputs:\n",
        "AND condition:"
      ],
      "metadata": {
        "id": "3ef4p2zww-NC"
      }
    },
    {
      "cell_type": "markdown",
      "source": [
        "      Name  Age     City\n",
        "2  Charlie   35  Chicago\n"
      ],
      "metadata": {
        "id": "T0Ox1JHixOVQ"
      }
    },
    {
      "cell_type": "markdown",
      "source": [
        "OR condition:"
      ],
      "metadata": {
        "id": "IUtC5hGoxQlH"
      }
    },
    {
      "cell_type": "markdown",
      "source": [
        "    Name  Age     City\n",
        "0  Alice   25       NY\n",
        "1    Bob   30       LA\n",
        "3  David   40  Houston\n"
      ],
      "metadata": {
        "id": "f34UOVtWxR8C"
      }
    },
    {
      "cell_type": "markdown",
      "source": [
        "NOT condition:"
      ],
      "metadata": {
        "id": "iw7Ocv0mxT10"
      }
    },
    {
      "cell_type": "markdown",
      "source": [
        "      Name  Age     City\n",
        "0    Alice   25       NY\n",
        "2  Charlie   35  Chicago\n",
        "3    David   40  Houston\n"
      ],
      "metadata": {
        "id": "JMlk-GeRxVNN"
      }
    },
    {
      "cell_type": "markdown",
      "source": [
        "2. Filtering with .query()\n",
        "\n",
        ".query() lets you filter with a string expression — cleaner and more readable."
      ],
      "metadata": {
        "id": "LPB-t2dWxYay"
      }
    },
    {
      "cell_type": "code",
      "source": [
        "filtered_query = df.query('Age > 30 and City == \"Chicago\"')\n",
        "print(filtered_query)\n"
      ],
      "metadata": {
        "colab": {
          "base_uri": "https://localhost:8080/"
        },
        "id": "ZvQr2ALPwf0m",
        "outputId": "17605821-87f3-49f0-fbde-421916309ffe"
      },
      "execution_count": 44,
      "outputs": [
        {
          "output_type": "stream",
          "name": "stdout",
          "text": [
            "      Name  Age     City\n",
            "2  Charlie   35  Chicago\n"
          ]
        }
      ]
    },
    {
      "cell_type": "markdown",
      "source": [
        "Filtering by .isin() and .between()\n",
        "\n",
        "a) .isin()\n",
        "\n",
        "Filter rows where column value is in a list of values."
      ],
      "metadata": {
        "id": "qDVXFnA1xgFS"
      }
    },
    {
      "cell_type": "code",
      "source": [
        "cities = ['NY', 'Houston']\n",
        "filtered_isin = df[df['City'].isin(cities)]\n",
        "print(filtered_isin)\n"
      ],
      "metadata": {
        "colab": {
          "base_uri": "https://localhost:8080/"
        },
        "id": "3S--MK_XxbCo",
        "outputId": "96f7d776-44ca-4622-fa84-20b1a48686b8"
      },
      "execution_count": 45,
      "outputs": [
        {
          "output_type": "stream",
          "name": "stdout",
          "text": [
            "    Name  Age     City\n",
            "0  Alice   25       NY\n",
            "3  David   40  Houston\n"
          ]
        }
      ]
    },
    {
      "cell_type": "markdown",
      "source": [
        ".between()\n",
        "\n",
        "Filter numeric columns within a range (inclusive)."
      ],
      "metadata": {
        "id": "zIpZWD8jxmLz"
      }
    },
    {
      "cell_type": "code",
      "source": [
        "filtered_between = df[df['Age'].between(30, 40)]\n",
        "print(filtered_between)\n"
      ],
      "metadata": {
        "colab": {
          "base_uri": "https://localhost:8080/"
        },
        "id": "MUCs-NVixj3I",
        "outputId": "28762475-a3f8-4af5-92f2-ee2a9b6ca4e1"
      },
      "execution_count": 46,
      "outputs": [
        {
          "output_type": "stream",
          "name": "stdout",
          "text": [
            "      Name  Age     City\n",
            "1      Bob   30       LA\n",
            "2  Charlie   35  Chicago\n",
            "3    David   40  Houston\n"
          ]
        }
      ]
    },
    {
      "cell_type": "markdown",
      "source": [
        " Selecting Specific Columns and Rows\n",
        "\n",
        "Select specific columns after filtering:"
      ],
      "metadata": {
        "id": "Q5yn6_hux1qV"
      }
    },
    {
      "cell_type": "code",
      "source": [
        "filtered = df[df['Age'] > 30]\n",
        "print(filtered[['Name', 'City']])\n"
      ],
      "metadata": {
        "colab": {
          "base_uri": "https://localhost:8080/"
        },
        "id": "Q73FyTcvxzgc",
        "outputId": "bd2ee297-8b88-4ea6-8e8c-4cb6f76ea3d9"
      },
      "execution_count": 47,
      "outputs": [
        {
          "output_type": "stream",
          "name": "stdout",
          "text": [
            "      Name     City\n",
            "2  Charlie  Chicago\n",
            "3    David  Houston\n"
          ]
        }
      ]
    },
    {
      "cell_type": "markdown",
      "source": [
        "Select specific rows and columns using .loc[]:"
      ],
      "metadata": {
        "id": "Vfv2D-rCx51y"
      }
    },
    {
      "cell_type": "code",
      "source": [
        "# Rows with index 1 and 2, columns 'Name' and 'Age'\n",
        "subset = df.loc[1:2, ['Name', 'Age']]\n",
        "print(subset)\n"
      ],
      "metadata": {
        "colab": {
          "base_uri": "https://localhost:8080/"
        },
        "id": "0J6CAaVux4AO",
        "outputId": "d8ca3efa-3e88-4416-9166-ca95a471a7c2"
      },
      "execution_count": 48,
      "outputs": [
        {
          "output_type": "stream",
          "name": "stdout",
          "text": [
            "      Name  Age\n",
            "1      Bob   30\n",
            "2  Charlie   35\n"
          ]
        }
      ]
    },
    {
      "cell_type": "markdown",
      "source": [
        "# Indexing & Reindexing"
      ],
      "metadata": {
        "id": "p9V3a_pW1oHT"
      }
    },
    {
      "cell_type": "markdown",
      "source": [
        "Setting an Index (set_index)\n",
        "\n",
        "Set one or more columns as the row index.\n",
        "\n",
        "Original columns used as index are removed from columns by default."
      ],
      "metadata": {
        "id": "sUyGYCUQ1soH"
      }
    },
    {
      "cell_type": "code",
      "source": [
        "import pandas as pd\n",
        "\n",
        "data = {'Name': ['Alice', 'Bob', 'Charlie'],\n",
        "        'Age': [25, 30, 35],\n",
        "        'City': ['NY', 'LA', 'Chicago']}\n",
        "\n",
        "df = pd.DataFrame(data)\n",
        "\n",
        "# Set 'Name' as the index\n",
        "df_indexed = df.set_index('Name')\n",
        "print(df_indexed)\n"
      ],
      "metadata": {
        "colab": {
          "base_uri": "https://localhost:8080/"
        },
        "id": "sDtQQFFCx7fL",
        "outputId": "c1568d28-8373-4dcd-92e3-3a708c4c1e3a"
      },
      "execution_count": 49,
      "outputs": [
        {
          "output_type": "stream",
          "name": "stdout",
          "text": [
            "         Age     City\n",
            "Name                 \n",
            "Alice     25       NY\n",
            "Bob       30       LA\n",
            "Charlie   35  Chicago\n"
          ]
        }
      ]
    },
    {
      "cell_type": "markdown",
      "source": [
        "To keep the column in the DataFrame (not remove it), use:"
      ],
      "metadata": {
        "id": "Iw2UF_b12OJ4"
      }
    },
    {
      "cell_type": "code",
      "source": [
        "df.set_index('Name', inplace=True, drop=False)\n"
      ],
      "metadata": {
        "id": "COgeqYkQ1_7O"
      },
      "execution_count": 50,
      "outputs": []
    },
    {
      "cell_type": "markdown",
      "source": [
        "Resetting Index (reset_index)\n",
        "\n",
        "Resets the index back to default integer index.\n",
        "\n",
        "Moves the current index back into columns."
      ],
      "metadata": {
        "id": "PjSdUvUE2Gfq"
      }
    },
    {
      "cell_type": "code",
      "source": [
        "df_reset = df_indexed.reset_index()\n",
        "print(df_reset)\n"
      ],
      "metadata": {
        "colab": {
          "base_uri": "https://localhost:8080/"
        },
        "id": "WJmDcXQG2CaV",
        "outputId": "29c811cb-8a65-45b9-f9ed-de5ee3b42ee8"
      },
      "execution_count": 51,
      "outputs": [
        {
          "output_type": "stream",
          "name": "stdout",
          "text": [
            "      Name  Age     City\n",
            "0    Alice   25       NY\n",
            "1      Bob   30       LA\n",
            "2  Charlie   35  Chicago\n"
          ]
        }
      ]
    },
    {
      "cell_type": "markdown",
      "source": [
        "To drop the current index instead of converting to a column:"
      ],
      "metadata": {
        "id": "WF_5qq5G2LPE"
      }
    },
    {
      "cell_type": "code",
      "source": [
        "df_indexed.reset_index(drop=True, inplace=True)\n"
      ],
      "metadata": {
        "id": "xrQ6TCHS2JA9"
      },
      "execution_count": 52,
      "outputs": []
    },
    {
      "cell_type": "markdown",
      "source": [
        "Reindexing with .reindex()\n",
        "\n",
        "Change the index to a new one.\n",
        "\n",
        "If new labels do not exist in the original index, NaN will be introduced."
      ],
      "metadata": {
        "id": "a4vP6Sfb2Tws"
      }
    },
    {
      "cell_type": "code",
      "source": [
        "new_index = ['Charlie', 'Alice', 'David']\n",
        "df_reindexed = df_indexed.reindex(new_index)\n",
        "print(df_reindexed)\n"
      ],
      "metadata": {
        "colab": {
          "base_uri": "https://localhost:8080/"
        },
        "id": "SlZ4Pe3J2R7q",
        "outputId": "c8b5b04f-e31d-4366-90e5-ab8796facdf1"
      },
      "execution_count": 53,
      "outputs": [
        {
          "output_type": "stream",
          "name": "stdout",
          "text": [
            "         Age City\n",
            "Charlie  NaN  NaN\n",
            "Alice    NaN  NaN\n",
            "David    NaN  NaN\n"
          ]
        }
      ]
    },
    {
      "cell_type": "markdown",
      "source": [
        "Sorting Index (sort_index)\n",
        "\n",
        "Sort DataFrame by row index or column names."
      ],
      "metadata": {
        "id": "HwdtZPAH2iqk"
      }
    },
    {
      "cell_type": "code",
      "source": [
        "# Sort rows by index (ascending)\n",
        "print(df_indexed.sort_index())\n",
        "\n",
        "# Sort columns by name\n",
        "print(df_indexed.sort_index(axis=1))\n"
      ],
      "metadata": {
        "colab": {
          "base_uri": "https://localhost:8080/"
        },
        "id": "RTs91zeL2grP",
        "outputId": "cd5be2cb-478f-4e6a-e7fa-1b50777fd8e7"
      },
      "execution_count": 54,
      "outputs": [
        {
          "output_type": "stream",
          "name": "stdout",
          "text": [
            "   Age     City\n",
            "0   25       NY\n",
            "1   30       LA\n",
            "2   35  Chicago\n",
            "   Age     City\n",
            "0   25       NY\n",
            "1   30       LA\n",
            "2   35  Chicago\n"
          ]
        }
      ]
    },
    {
      "cell_type": "markdown",
      "source": [
        "Changing Column Order\n",
        "\n",
        "Reorder columns by passing a list of column names"
      ],
      "metadata": {
        "id": "fDHamTYI2n5q"
      }
    },
    {
      "cell_type": "code",
      "source": [
        "new_order = ['City', 'Age']\n",
        "df_reordered = df_indexed[new_order]\n",
        "print(df_reordered)\n"
      ],
      "metadata": {
        "colab": {
          "base_uri": "https://localhost:8080/"
        },
        "id": "Bwwple4-2lAV",
        "outputId": "2691db20-3865-41a6-8722-fbbeb0ace2d5"
      },
      "execution_count": 55,
      "outputs": [
        {
          "output_type": "stream",
          "name": "stdout",
          "text": [
            "      City  Age\n",
            "0       NY   25\n",
            "1       LA   30\n",
            "2  Chicago   35\n"
          ]
        }
      ]
    },
    {
      "cell_type": "markdown",
      "source": [
        "#Data Cleaning & Preparation"
      ],
      "metadata": {
        "id": "jWbncnXR21M5"
      }
    },
    {
      "cell_type": "markdown",
      "source": [
        "Handling Missing Data\n",
        "\n",
        "\n",
        "a) Detect missing values"
      ],
      "metadata": {
        "id": "0qY3wMhr25Ti"
      }
    },
    {
      "cell_type": "code",
      "source": [
        "import pandas as pd\n",
        "import numpy as np\n",
        "\n",
        "data = {'A': [1, 2, np.nan, 4], 'B': [np.nan, 2, 3, 4]}\n",
        "df = pd.DataFrame(data)\n",
        "\n",
        "print(df.isna())     # True where missing\n",
        "print(df.notna())    # True where not missing\n"
      ],
      "metadata": {
        "colab": {
          "base_uri": "https://localhost:8080/"
        },
        "id": "GvSwFDcW2q3a",
        "outputId": "00cdca3c-1947-4096-ae4c-d9be28a87809"
      },
      "execution_count": 56,
      "outputs": [
        {
          "output_type": "stream",
          "name": "stdout",
          "text": [
            "       A      B\n",
            "0  False   True\n",
            "1  False  False\n",
            "2   True  False\n",
            "3  False  False\n",
            "       A      B\n",
            "0   True  False\n",
            "1   True   True\n",
            "2  False   True\n",
            "3   True   True\n"
          ]
        }
      ]
    },
    {
      "cell_type": "markdown",
      "source": [
        "b)Fill missing values\n",
        "\n",
        "Fill NaNs with a scalar, forward fill, backward fill, etc."
      ],
      "metadata": {
        "id": "geETwC183AuI"
      }
    },
    {
      "cell_type": "code",
      "source": [
        "print(df.fillna(0))           # Replace NaN with 0\n",
        "print(df.fillna(method='ffill'))  # Forward fill\n",
        "print(df.fillna(method='bfill'))  # Backward fill\n"
      ],
      "metadata": {
        "colab": {
          "base_uri": "https://localhost:8080/"
        },
        "id": "4z-gLTvJ28AD",
        "outputId": "ab01e777-b005-4f4d-9267-a2bca18a3dec"
      },
      "execution_count": 57,
      "outputs": [
        {
          "output_type": "stream",
          "name": "stdout",
          "text": [
            "     A    B\n",
            "0  1.0  0.0\n",
            "1  2.0  2.0\n",
            "2  0.0  3.0\n",
            "3  4.0  4.0\n",
            "     A    B\n",
            "0  1.0  NaN\n",
            "1  2.0  2.0\n",
            "2  2.0  3.0\n",
            "3  4.0  4.0\n",
            "     A    B\n",
            "0  1.0  2.0\n",
            "1  2.0  2.0\n",
            "2  4.0  3.0\n",
            "3  4.0  4.0\n"
          ]
        },
        {
          "output_type": "stream",
          "name": "stderr",
          "text": [
            "/tmp/ipython-input-1845729134.py:2: FutureWarning: DataFrame.fillna with 'method' is deprecated and will raise in a future version. Use obj.ffill() or obj.bfill() instead.\n",
            "  print(df.fillna(method='ffill'))  # Forward fill\n",
            "/tmp/ipython-input-1845729134.py:3: FutureWarning: DataFrame.fillna with 'method' is deprecated and will raise in a future version. Use obj.ffill() or obj.bfill() instead.\n",
            "  print(df.fillna(method='bfill'))  # Backward fill\n"
          ]
        }
      ]
    },
    {
      "cell_type": "markdown",
      "source": [
        "c) Drop missing values\n",
        "\n",
        "Drop rows or columns with missing data"
      ],
      "metadata": {
        "id": "duwa4Muy3V5c"
      }
    },
    {
      "cell_type": "code",
      "source": [
        "print(df.dropna())          # Drop rows with any NaN\n",
        "print(df.dropna(axis=1))   # Drop columns with any NaN\n",
        "print(df.dropna(thresh=3)) # Keep rows with at least 3 non-NaN values\n"
      ],
      "metadata": {
        "colab": {
          "base_uri": "https://localhost:8080/"
        },
        "id": "2IWF3QSv3Fdu",
        "outputId": "307b3656-b9d0-4511-a81b-739f065f96ae"
      },
      "execution_count": 58,
      "outputs": [
        {
          "output_type": "stream",
          "name": "stdout",
          "text": [
            "     A    B\n",
            "1  2.0  2.0\n",
            "3  4.0  4.0\n",
            "Empty DataFrame\n",
            "Columns: []\n",
            "Index: [0, 1, 2, 3]\n",
            "Empty DataFrame\n",
            "Columns: [A, B]\n",
            "Index: []\n"
          ]
        }
      ]
    },
    {
      "cell_type": "markdown",
      "source": [
        " Replacing Values (.replace())\n",
        "\n",
        "Replace specific values or patterns"
      ],
      "metadata": {
        "id": "Q9h4ZSJy3a14"
      }
    },
    {
      "cell_type": "code",
      "source": [
        "df_replace = pd.DataFrame({'A': [1, 2, 3], 'B': ['cat', 'dog', 'cat']})\n",
        "print(df_replace.replace('cat', 'lion'))\n",
        "print(df_replace.replace({1: 100, 'dog': 'wolf'}))\n"
      ],
      "metadata": {
        "colab": {
          "base_uri": "https://localhost:8080/"
        },
        "id": "PDC1dM3J3Y3M",
        "outputId": "5c950125-d809-44c8-e3f3-161ef95c2d53"
      },
      "execution_count": 59,
      "outputs": [
        {
          "output_type": "stream",
          "name": "stdout",
          "text": [
            "   A     B\n",
            "0  1  lion\n",
            "1  2   dog\n",
            "2  3  lion\n",
            "     A     B\n",
            "0  100   cat\n",
            "1    2  wolf\n",
            "2    3   cat\n"
          ]
        }
      ]
    },
    {
      "cell_type": "markdown",
      "source": [
        "3. Renaming Columns/Index (.rename())"
      ],
      "metadata": {
        "id": "G57PAmDT3f1V"
      }
    },
    {
      "cell_type": "code",
      "source": [
        "df_rename = pd.DataFrame({'A': [1,2], 'B':[3,4]}, index=['x','y'])\n",
        "print(df_rename.rename(columns={'A': 'Col1', 'B': 'Col2'}))\n",
        "print(df_rename.rename(index={'x': 'row1', 'y': 'row2'}))\n"
      ],
      "metadata": {
        "colab": {
          "base_uri": "https://localhost:8080/"
        },
        "id": "nkDYZgyr3d4g",
        "outputId": "6f4f0b5c-29f4-4bed-bf58-bd974a4ce967"
      },
      "execution_count": 60,
      "outputs": [
        {
          "output_type": "stream",
          "name": "stdout",
          "text": [
            "   Col1  Col2\n",
            "x     1     3\n",
            "y     2     4\n",
            "      A  B\n",
            "row1  1  3\n",
            "row2  2  4\n"
          ]
        }
      ]
    },
    {
      "cell_type": "markdown",
      "source": [
        "4. Changing Column Names Case\n"
      ],
      "metadata": {
        "id": "aFd-dcM04bzC"
      }
    },
    {
      "cell_type": "code",
      "source": [
        "df = pd.DataFrame({'Name': ['Alice', 'Bob'], 'Age': [25,30]})\n",
        "print(df.columns.str.lower())   # Index(['name', 'age'], dtype='object')\n",
        "print(df.columns.str.upper())   # Index(['NAME', 'AGE'], dtype='object')\n",
        "\n",
        "# To actually rename columns to lower case:\n",
        "df.columns = df.columns.str.lower()\n",
        "print(df)\n"
      ],
      "metadata": {
        "colab": {
          "base_uri": "https://localhost:8080/"
        },
        "id": "AlyAQE3n4ZM6",
        "outputId": "4647b3e9-e129-4cd0-edd1-494f3ca35362"
      },
      "execution_count": 61,
      "outputs": [
        {
          "output_type": "stream",
          "name": "stdout",
          "text": [
            "Index(['name', 'age'], dtype='object')\n",
            "Index(['NAME', 'AGE'], dtype='object')\n",
            "    name  age\n",
            "0  Alice   25\n",
            "1    Bob   30\n"
          ]
        }
      ]
    },
    {
      "cell_type": "markdown",
      "source": [
        "Handling Duplicates\n",
        "\n",
        "a) Detect duplicates"
      ],
      "metadata": {
        "id": "rsgTuUHB4hLU"
      }
    },
    {
      "cell_type": "code",
      "source": [
        "df_dup = pd.DataFrame({'A': [1,1,2,3], 'B':[4,4,5,6]})\n",
        "print(df_dup.duplicated())  # Boolean Series\n"
      ],
      "metadata": {
        "colab": {
          "base_uri": "https://localhost:8080/"
        },
        "id": "CzT3cQ4N4eu3",
        "outputId": "ab142444-7b99-4cb4-818f-3cfb540f4753"
      },
      "execution_count": 62,
      "outputs": [
        {
          "output_type": "stream",
          "name": "stdout",
          "text": [
            "0    False\n",
            "1     True\n",
            "2    False\n",
            "3    False\n",
            "dtype: bool\n"
          ]
        }
      ]
    },
    {
      "cell_type": "markdown",
      "source": [
        "b) Drop duplicates"
      ],
      "metadata": {
        "id": "nBgHavcg4mfH"
      }
    },
    {
      "cell_type": "code",
      "source": [
        "print(df_dup.drop_duplicates())\n"
      ],
      "metadata": {
        "colab": {
          "base_uri": "https://localhost:8080/"
        },
        "id": "QTun1g-u4kbX",
        "outputId": "e9a7b233-8656-43e8-92d1-e9fcc6531159"
      },
      "execution_count": 63,
      "outputs": [
        {
          "output_type": "stream",
          "name": "stdout",
          "text": [
            "   A  B\n",
            "0  1  4\n",
            "2  2  5\n",
            "3  3  6\n"
          ]
        }
      ]
    },
    {
      "cell_type": "markdown",
      "source": [
        "6. Type Conversion\n",
        "\n",
        "a) Using .astype()"
      ],
      "metadata": {
        "id": "BQMkx4BS4qLn"
      }
    },
    {
      "cell_type": "code",
      "source": [
        "df = pd.DataFrame({'A': ['1', '2', '3'], 'B': [1.1, 2.2, 3.3]})\n",
        "print(df.dtypes)\n",
        "df['A'] = df['A'].astype(int)\n",
        "print(df.dtypes)\n"
      ],
      "metadata": {
        "colab": {
          "base_uri": "https://localhost:8080/"
        },
        "id": "cSJebuyt4oXB",
        "outputId": "27a2d820-0a8f-4183-b5e5-f3411b152f8b"
      },
      "execution_count": 64,
      "outputs": [
        {
          "output_type": "stream",
          "name": "stdout",
          "text": [
            "A     object\n",
            "B    float64\n",
            "dtype: object\n",
            "A      int64\n",
            "B    float64\n",
            "dtype: object\n"
          ]
        }
      ]
    },
    {
      "cell_type": "markdown",
      "source": [
        "b) Using pd.to_numeric() (for more robust conversion)"
      ],
      "metadata": {
        "id": "tQBQSeXv4uMr"
      }
    },
    {
      "cell_type": "code",
      "source": [
        "s = pd.Series(['1', '2', 'three', '4'])\n",
        "print(pd.to_numeric(s, errors='coerce'))  # 'three' becomes NaN\n"
      ],
      "metadata": {
        "colab": {
          "base_uri": "https://localhost:8080/"
        },
        "id": "j89NrN_r4sbY",
        "outputId": "2c296159-d46b-4b3d-b9c3-bb3d51da54e0"
      },
      "execution_count": 65,
      "outputs": [
        {
          "output_type": "stream",
          "name": "stdout",
          "text": [
            "0    1.0\n",
            "1    2.0\n",
            "2    NaN\n",
            "3    4.0\n",
            "dtype: float64\n"
          ]
        }
      ]
    },
    {
      "cell_type": "markdown",
      "source": [
        "c) Using pd.to_datetime()"
      ],
      "metadata": {
        "id": "q7NMLGd94yCU"
      }
    },
    {
      "cell_type": "code",
      "source": [
        "dates = pd.Series(['2020-01-01', '2020/02/02', 'March 3, 2020'])\n",
        "print(pd.to_datetime(dates, format='mixed'))"
      ],
      "metadata": {
        "colab": {
          "base_uri": "https://localhost:8080/"
        },
        "id": "9wYg1Wh24z3r",
        "outputId": "a78534f2-12ac-4da6-e65d-39b5f4155b90"
      },
      "execution_count": 67,
      "outputs": [
        {
          "output_type": "stream",
          "name": "stdout",
          "text": [
            "0   2020-01-01\n",
            "1   2020-02-02\n",
            "2   2020-03-03\n",
            "dtype: datetime64[ns]\n"
          ]
        }
      ]
    },
    {
      "cell_type": "markdown",
      "source": [
        "#Data Operations"
      ],
      "metadata": {
        "id": "B8QUCZwN5aCj"
      }
    },
    {
      "cell_type": "markdown",
      "source": [
        " Mathematical Operations\n",
        "\n",
        "a) Element-wise operations\n",
        "\n",
        "Operations happen element-by-element on Series or DataFrames."
      ],
      "metadata": {
        "id": "AECemdvy5d1j"
      }
    },
    {
      "cell_type": "code",
      "source": [
        "import pandas as pd\n",
        "\n",
        "s = pd.Series([1, 2, 3, 4])\n",
        "print(s + 10)\n",
        "print(s * 2)\n",
        "print(s ** 2)\n"
      ],
      "metadata": {
        "colab": {
          "base_uri": "https://localhost:8080/"
        },
        "id": "UqdWoMRF4wYV",
        "outputId": "e9b72d15-b0f6-493f-dda9-56be46f533b6"
      },
      "execution_count": 68,
      "outputs": [
        {
          "output_type": "stream",
          "name": "stdout",
          "text": [
            "0    11\n",
            "1    12\n",
            "2    13\n",
            "3    14\n",
            "dtype: int64\n",
            "0    2\n",
            "1    4\n",
            "2    6\n",
            "3    8\n",
            "dtype: int64\n",
            "0     1\n",
            "1     4\n",
            "2     9\n",
            "3    16\n",
            "dtype: int64\n"
          ]
        }
      ]
    },
    {
      "cell_type": "markdown",
      "source": [
        "Across rows/columns (axis parameter)\n",
        "\n",
        "axis=0 → operate down the rows (i.e., column-wise)\n",
        "\n",
        "axis=1 → operate across the columns (i.e., row-wise)\n",
        "\n",
        "Example DataFrame:"
      ],
      "metadata": {
        "id": "dLQ8MznA5jue"
      }
    },
    {
      "cell_type": "code",
      "source": [
        "df = pd.DataFrame({\n",
        "    'A': [1, 2, 3],\n",
        "    'B': [4, 5, 6],\n",
        "    'C': [7, 8, 9]\n",
        "})\n"
      ],
      "metadata": {
        "id": "WpOCWj2z5hK_"
      },
      "execution_count": 69,
      "outputs": []
    },
    {
      "cell_type": "markdown",
      "source": [
        "Sum across columns (for each row):"
      ],
      "metadata": {
        "id": "nTGKCp1v5o_C"
      }
    },
    {
      "cell_type": "code",
      "source": [
        "print(df.sum(axis=1))"
      ],
      "metadata": {
        "colab": {
          "base_uri": "https://localhost:8080/"
        },
        "id": "CKzt1yt45nMk",
        "outputId": "43985614-feb6-4490-9fb6-c8e3cf6b6db7"
      },
      "execution_count": 71,
      "outputs": [
        {
          "output_type": "stream",
          "name": "stdout",
          "text": [
            "0    12\n",
            "1    15\n",
            "2    18\n",
            "dtype: int64\n"
          ]
        }
      ]
    },
    {
      "cell_type": "markdown",
      "source": [
        "Sum across rows (for each column):"
      ],
      "metadata": {
        "id": "UjB5PzVF5vRS"
      }
    },
    {
      "cell_type": "code",
      "source": [
        "print(df.sum(axis=0))\n"
      ],
      "metadata": {
        "colab": {
          "base_uri": "https://localhost:8080/"
        },
        "id": "nQd9QLyU5sIR",
        "outputId": "cb9bddfc-c399-485e-a46d-3b8446ad6253"
      },
      "execution_count": 72,
      "outputs": [
        {
          "output_type": "stream",
          "name": "stdout",
          "text": [
            "A     6\n",
            "B    15\n",
            "C    24\n",
            "dtype: int64\n"
          ]
        }
      ]
    },
    {
      "cell_type": "markdown",
      "source": [
        " Aggregations\n",
        "\n",
        "Common aggregation functions applied on Series or DataFrames."
      ],
      "metadata": {
        "id": "6LUMljZM50QP"
      }
    },
    {
      "cell_type": "code",
      "source": [
        "print(df.sum())       # Sum per column (axis=0 by default)\n",
        "print(df.mean())      # Mean per column\n",
        "print(df.count())     # Count non-NaN values per column\n",
        "print(df.min())       # Minimum per column\n",
        "print(df.max())       # Maximum per column\n"
      ],
      "metadata": {
        "colab": {
          "base_uri": "https://localhost:8080/"
        },
        "id": "ValO_fFu5xd2",
        "outputId": "2b1e825c-cb5d-4fcb-9129-ee03edbc669b"
      },
      "execution_count": 73,
      "outputs": [
        {
          "output_type": "stream",
          "name": "stdout",
          "text": [
            "A     6\n",
            "B    15\n",
            "C    24\n",
            "dtype: int64\n",
            "A    2.0\n",
            "B    5.0\n",
            "C    8.0\n",
            "dtype: float64\n",
            "A    3\n",
            "B    3\n",
            "C    3\n",
            "dtype: int64\n",
            "A    1\n",
            "B    4\n",
            "C    7\n",
            "dtype: int64\n",
            "A    3\n",
            "B    6\n",
            "C    9\n",
            "dtype: int64\n"
          ]
        }
      ]
    },
    {
      "cell_type": "markdown",
      "source": [
        "Cumulative Operations\n",
        "\n",
        "Compute cumulative sums or products."
      ],
      "metadata": {
        "id": "L1aYChkv54ue"
      }
    },
    {
      "cell_type": "code",
      "source": [
        "print(df.cumsum())     # Cumulative sum (down each column)\n",
        "print(df.cumprod())    # Cumulative product (down each column)\n"
      ],
      "metadata": {
        "colab": {
          "base_uri": "https://localhost:8080/"
        },
        "id": "zxkALaTy52fP",
        "outputId": "662c6238-3437-4e5b-c5be-9480b594c91b"
      },
      "execution_count": 74,
      "outputs": [
        {
          "output_type": "stream",
          "name": "stdout",
          "text": [
            "   A   B   C\n",
            "0  1   4   7\n",
            "1  3   9  15\n",
            "2  6  15  24\n",
            "   A    B    C\n",
            "0  1    4    7\n",
            "1  2   20   56\n",
            "2  6  120  504\n"
          ]
        }
      ]
    },
    {
      "cell_type": "markdown",
      "source": [
        "Ranking (.rank())\n",
        "\n",
        "Assign ranks to values in Series or DataFrame."
      ],
      "metadata": {
        "id": "eyZCSbRd5846"
      }
    },
    {
      "cell_type": "code",
      "source": [
        "s = pd.Series([100, 200, 100, 300])\n",
        "print(s.rank())          # Average ranks by default\n",
        "print(s.rank(method='min'))  # Minimum rank for ties\n"
      ],
      "metadata": {
        "colab": {
          "base_uri": "https://localhost:8080/"
        },
        "id": "TrW3NKt1563D",
        "outputId": "69e0fab1-f006-4092-eeff-b1f16e5b4e6a"
      },
      "execution_count": 75,
      "outputs": [
        {
          "output_type": "stream",
          "name": "stdout",
          "text": [
            "0    1.5\n",
            "1    3.0\n",
            "2    1.5\n",
            "3    4.0\n",
            "dtype: float64\n",
            "0    1.0\n",
            "1    3.0\n",
            "2    1.0\n",
            "3    4.0\n",
            "dtype: float64\n"
          ]
        }
      ]
    },
    {
      "cell_type": "markdown",
      "source": [
        "Correlation & Covariance\n",
        "\n",
        "Measures of linear relationship and variance."
      ],
      "metadata": {
        "id": "18hxrIfk6BYs"
      }
    },
    {
      "cell_type": "code",
      "source": [
        "print(df.corr())   # Correlation matrix\n",
        "print(df.cov())    # Covariance matrix\n"
      ],
      "metadata": {
        "colab": {
          "base_uri": "https://localhost:8080/"
        },
        "id": "HO9MyzTr5_Ek",
        "outputId": "4d234f74-1c3c-4037-866a-436232006cc8"
      },
      "execution_count": 76,
      "outputs": [
        {
          "output_type": "stream",
          "name": "stdout",
          "text": [
            "     A    B    C\n",
            "A  1.0  1.0  1.0\n",
            "B  1.0  1.0  1.0\n",
            "C  1.0  1.0  1.0\n",
            "     A    B    C\n",
            "A  1.0  1.0  1.0\n",
            "B  1.0  1.0  1.0\n",
            "C  1.0  1.0  1.0\n"
          ]
        }
      ]
    },
    {
      "cell_type": "markdown",
      "source": [
        "Example with outputs"
      ],
      "metadata": {
        "id": "QWtmdHYv6Gl-"
      }
    },
    {
      "cell_type": "code",
      "source": [
        "print(df.sum(axis=1))\n",
        "# Output:\n",
        "# 0    12\n",
        "# 1    15\n",
        "# 2    18\n",
        "# dtype: int64\n",
        "\n",
        "print(df.corr())\n",
        "# Output:\n",
        "#      A    B    C\n",
        "# A  1.0  1.0  1.0\n",
        "# B  1.0  1.0  1.0\n",
        "# C  1.0  1.0  1.0\n"
      ],
      "metadata": {
        "colab": {
          "base_uri": "https://localhost:8080/"
        },
        "id": "VM3KMuYk6Dng",
        "outputId": "01ea2525-9ffb-4416-d4bc-0c65a1dfdd21"
      },
      "execution_count": 77,
      "outputs": [
        {
          "output_type": "stream",
          "name": "stdout",
          "text": [
            "0    12\n",
            "1    15\n",
            "2    18\n",
            "dtype: int64\n",
            "     A    B    C\n",
            "A  1.0  1.0  1.0\n",
            "B  1.0  1.0  1.0\n",
            "C  1.0  1.0  1.0\n"
          ]
        }
      ]
    },
    {
      "cell_type": "markdown",
      "source": [
        "#String Operations"
      ],
      "metadata": {
        "id": "_Pd4pS3m6RQd"
      }
    },
    {
      "cell_type": "markdown",
      "source": [
        " .str Accessor Overview\n",
        "\n",
        "Use .str to apply string methods element-wise on a Series of strings.\n",
        "\n",
        "Works only on object dtype or string columns."
      ],
      "metadata": {
        "id": "yczpuucW6UgF"
      }
    },
    {
      "cell_type": "markdown",
      "source": [
        "2. Common String Methods\n",
        "Assume:"
      ],
      "metadata": {
        "id": "tdb7QkvN6ZUJ"
      }
    },
    {
      "cell_type": "code",
      "source": [
        "import pandas as pd\n",
        "\n",
        "s = pd.Series(['  Alice ', 'bob', 'Charlie ', None, 'delta'])\n"
      ],
      "metadata": {
        "id": "nHDWt9B_6IUb"
      },
      "execution_count": 78,
      "outputs": []
    },
    {
      "cell_type": "markdown",
      "source": [
        "a) .lower() and .upper() — Convert case"
      ],
      "metadata": {
        "id": "Qqmz4Yaa6c2P"
      }
    },
    {
      "cell_type": "code",
      "source": [
        "print(s.str.lower())\n",
        "print(s.str.upper())\n"
      ],
      "metadata": {
        "colab": {
          "base_uri": "https://localhost:8080/"
        },
        "id": "AE21SqRt6bXr",
        "outputId": "3333f673-5ea8-4000-a757-3688e65eeab8"
      },
      "execution_count": 79,
      "outputs": [
        {
          "output_type": "stream",
          "name": "stdout",
          "text": [
            "0      alice \n",
            "1         bob\n",
            "2    charlie \n",
            "3        None\n",
            "4       delta\n",
            "dtype: object\n",
            "0      ALICE \n",
            "1         BOB\n",
            "2    CHARLIE \n",
            "3        None\n",
            "4       DELTA\n",
            "dtype: object\n"
          ]
        }
      ]
    },
    {
      "cell_type": "markdown",
      "source": [
        "b) .strip() — Remove whitespace"
      ],
      "metadata": {
        "id": "O15lj6qq6lBe"
      }
    },
    {
      "cell_type": "code",
      "source": [
        "print(s.str.strip())\n"
      ],
      "metadata": {
        "colab": {
          "base_uri": "https://localhost:8080/"
        },
        "id": "zHsap9IP6fEY",
        "outputId": "f277684d-6b4b-472a-d009-a13dc321364b"
      },
      "execution_count": 80,
      "outputs": [
        {
          "output_type": "stream",
          "name": "stdout",
          "text": [
            "0      Alice\n",
            "1        bob\n",
            "2    Charlie\n",
            "3       None\n",
            "4      delta\n",
            "dtype: object\n"
          ]
        }
      ]
    },
    {
      "cell_type": "markdown",
      "source": [
        "c) .replace() — Replace substring or regex pattern"
      ],
      "metadata": {
        "id": "zYO0IEmI6pwJ"
      }
    },
    {
      "cell_type": "code",
      "source": [
        "print(s.str.replace('a', '@'))           # Replace all 'a' with '@'\n",
        "print(s.str.replace('^a', 'A', regex=True))  # Replace 'a' at start of string with 'A'\n"
      ],
      "metadata": {
        "colab": {
          "base_uri": "https://localhost:8080/"
        },
        "id": "fGM0O0Cl6nUd",
        "outputId": "dbca123f-f4d2-4435-d4b9-a8fa470f13f7"
      },
      "execution_count": 81,
      "outputs": [
        {
          "output_type": "stream",
          "name": "stdout",
          "text": [
            "0      Alice \n",
            "1         bob\n",
            "2    Ch@rlie \n",
            "3        None\n",
            "4       delt@\n",
            "dtype: object\n",
            "0      Alice \n",
            "1         bob\n",
            "2    Charlie \n",
            "3        None\n",
            "4       delta\n",
            "dtype: object\n"
          ]
        }
      ]
    },
    {
      "cell_type": "markdown",
      "source": [
        "d) .contains() — Check if substring exists (returns Boolean)"
      ],
      "metadata": {
        "id": "QYJTkqf26t7N"
      }
    },
    {
      "cell_type": "code",
      "source": [
        "print(s.str.contains('li'))   # True if 'li' in string\n"
      ],
      "metadata": {
        "colab": {
          "base_uri": "https://localhost:8080/"
        },
        "id": "HR8Vjujj6o3J",
        "outputId": "b7a56605-71fe-4d01-80a0-db5e899de917"
      },
      "execution_count": 82,
      "outputs": [
        {
          "output_type": "stream",
          "name": "stdout",
          "text": [
            "0     True\n",
            "1    False\n",
            "2     True\n",
            "3     None\n",
            "4    False\n",
            "dtype: object\n"
          ]
        }
      ]
    },
    {
      "cell_type": "markdown",
      "source": [
        "Handle missing values safely by adding na=False:"
      ],
      "metadata": {
        "id": "9AB05Fs66x6T"
      }
    },
    {
      "cell_type": "code",
      "source": [
        "print(s.str.contains('li', na=False))\n"
      ],
      "metadata": {
        "colab": {
          "base_uri": "https://localhost:8080/"
        },
        "id": "22dEiGRT6wR1",
        "outputId": "a8fbadd1-cf8c-4d06-cac2-4669409a1f10"
      },
      "execution_count": 83,
      "outputs": [
        {
          "output_type": "stream",
          "name": "stdout",
          "text": [
            "0     True\n",
            "1    False\n",
            "2     True\n",
            "3    False\n",
            "4    False\n",
            "dtype: bool\n"
          ]
        }
      ]
    },
    {
      "cell_type": "markdown",
      "source": [
        "e) .startswith() and .endswith()"
      ],
      "metadata": {
        "id": "q8_ZKdUl61dM"
      }
    },
    {
      "cell_type": "code",
      "source": [
        "print(s.str.startswith('A'))\n",
        "print(s.str.endswith('a'))\n"
      ],
      "metadata": {
        "colab": {
          "base_uri": "https://localhost:8080/"
        },
        "id": "QmooH2lY6zxc",
        "outputId": "129c156b-b279-41b5-b925-c09dc2caae88"
      },
      "execution_count": 84,
      "outputs": [
        {
          "output_type": "stream",
          "name": "stdout",
          "text": [
            "0    False\n",
            "1    False\n",
            "2    False\n",
            "3     None\n",
            "4    False\n",
            "dtype: object\n",
            "0    False\n",
            "1    False\n",
            "2    False\n",
            "3     None\n",
            "4     True\n",
            "dtype: object\n"
          ]
        }
      ]
    },
    {
      "cell_type": "markdown",
      "source": [
        "f) .split() — Split string by delimiter, returns Series of lists"
      ],
      "metadata": {
        "id": "kQsKwvC664_1"
      }
    },
    {
      "cell_type": "code",
      "source": [
        "print(s.str.strip().str.split('l'))  # split on letter 'l'\n"
      ],
      "metadata": {
        "colab": {
          "base_uri": "https://localhost:8080/"
        },
        "id": "uZvUdeOS63AE",
        "outputId": "4c6e9070-1bfe-4851-c934-9e0da608a801"
      },
      "execution_count": 85,
      "outputs": [
        {
          "output_type": "stream",
          "name": "stdout",
          "text": [
            "0      [A, ice]\n",
            "1         [bob]\n",
            "2    [Char, ie]\n",
            "3          None\n",
            "4      [de, ta]\n",
            "dtype: object\n"
          ]
        }
      ]
    },
    {
      "cell_type": "markdown",
      "source": [
        "g) .join() — Join list elements into strings\n",
        "\n",
        "Used on Series of lists"
      ],
      "metadata": {
        "id": "mgZTaX4369cx"
      }
    },
    {
      "cell_type": "code",
      "source": [
        "s_lists = pd.Series([['A', 'B'], ['C', 'D'], ['E']])\n",
        "print(s_lists.str.join('-'))\n"
      ],
      "metadata": {
        "colab": {
          "base_uri": "https://localhost:8080/"
        },
        "id": "TziDUPEr67Cf",
        "outputId": "291fb525-8c06-4714-a423-e13bd10b7352"
      },
      "execution_count": 86,
      "outputs": [
        {
          "output_type": "stream",
          "name": "stdout",
          "text": [
            "0    A-B\n",
            "1    C-D\n",
            "2      E\n",
            "dtype: object\n"
          ]
        }
      ]
    },
    {
      "cell_type": "markdown",
      "source": [
        "3. Extracting Substrings with .extract()\n",
        "Extract substring using regular expressions (regex)\n",
        "\n",
        "Returns DataFrame with capture groups\n",
        "\n",
        "Example: Extract first word starting with uppercase letter:"
      ],
      "metadata": {
        "id": "o2C1oWJ37Eas"
      }
    },
    {
      "cell_type": "code",
      "source": [
        "s2 = pd.Series(['John Smith', 'Alice Cooper', 'bob dylan'])\n",
        "print(s2.str.extract(r'([A-Z][a-z]+)'))\n"
      ],
      "metadata": {
        "colab": {
          "base_uri": "https://localhost:8080/"
        },
        "id": "-N2ADoCI7CLt",
        "outputId": "f58ea030-5639-468f-deb9-eb842280fae5"
      },
      "execution_count": 87,
      "outputs": [
        {
          "output_type": "stream",
          "name": "stdout",
          "text": [
            "       0\n",
            "0   John\n",
            "1  Alice\n",
            "2    NaN\n"
          ]
        }
      ]
    },
    {
      "cell_type": "markdown",
      "source": [
        "#Working with Dates & Time"
      ],
      "metadata": {
        "id": "5b5ECWbv7WGq"
      }
    },
    {
      "cell_type": "markdown",
      "source": [
        "Converting to Datetime (pd.to_datetime())\n",
        "\n",
        "Converts strings or numbers to Pandas datetime objects."
      ],
      "metadata": {
        "id": "Zr8QNS247Y3h"
      }
    },
    {
      "cell_type": "code",
      "source": [
        "import pandas as pd\n",
        "\n",
        "dates = ['2023-01-01', '2024/02/15', 'March 3, 2025']\n",
        "dt_series = pd.to_datetime(dates, format='mixed')\n",
        "print(dt_series)"
      ],
      "metadata": {
        "colab": {
          "base_uri": "https://localhost:8080/"
        },
        "id": "EOzie7Vw7IYC",
        "outputId": "1123eed9-7d13-4e6a-eea4-84e5c2ba4f67"
      },
      "execution_count": 2,
      "outputs": [
        {
          "output_type": "stream",
          "name": "stdout",
          "text": [
            "DatetimeIndex(['2023-01-01', '2024-02-15', '2025-03-03'], dtype='datetime64[ns]', freq=None)\n"
          ]
        }
      ]
    },
    {
      "cell_type": "markdown",
      "source": [
        "Extracting Date Components\n",
        "\n",
        "Given a datetime Series dt_series:"
      ],
      "metadata": {
        "id": "fp2DUcAa7kGn"
      }
    },
    {
      "cell_type": "code",
      "source": [
        "# Convert the DatetimeIndex to a Series to use the .dt accessor\n",
        "dt_series = pd.Series(dt_series)\n",
        "\n",
        "print(dt_series.dt.year)      # Year\n",
        "print(dt_series.dt.month)     # Month (1-12)\n",
        "print(dt_series.dt.day)       # Day of the month\n",
        "print(dt_series.dt.weekday)   # Day of week (Monday=0, Sunday=6)"
      ],
      "metadata": {
        "colab": {
          "base_uri": "https://localhost:8080/"
        },
        "id": "5crk23B47c4W",
        "outputId": "46e2457c-50d8-4481-fe0c-469ca405e17c"
      },
      "execution_count": 4,
      "outputs": [
        {
          "output_type": "stream",
          "name": "stdout",
          "text": [
            "0    2023\n",
            "1    2024\n",
            "2    2025\n",
            "dtype: int32\n",
            "0    1\n",
            "1    2\n",
            "2    3\n",
            "dtype: int32\n",
            "0     1\n",
            "1    15\n",
            "2     3\n",
            "dtype: int32\n",
            "0    6\n",
            "1    3\n",
            "2    0\n",
            "dtype: int32\n"
          ]
        }
      ]
    },
    {
      "cell_type": "markdown",
      "source": [
        "Filtering by Date Range\n",
        "\n",
        "Filter rows between two dates:"
      ],
      "metadata": {
        "id": "i-jRWW8TUkHj"
      }
    },
    {
      "cell_type": "code",
      "source": [
        "df = pd.DataFrame({\n",
        "    'date': pd.to_datetime(['2023-01-01', '2023-06-15', '2024-01-01']),\n",
        "    'value': [100, 200, 300]\n",
        "})\n",
        "\n",
        "mask = (df['date'] >= '2023-01-01') & (df['date'] <= '2023-12-31')\n",
        "print(df.loc[mask])\n"
      ],
      "metadata": {
        "colab": {
          "base_uri": "https://localhost:8080/"
        },
        "id": "7umTBFBf7rUA",
        "outputId": "b5d52404-7567-49f1-e4b4-08ad64c6e55d"
      },
      "execution_count": 5,
      "outputs": [
        {
          "output_type": "stream",
          "name": "stdout",
          "text": [
            "        date  value\n",
            "0 2023-01-01    100\n",
            "1 2023-06-15    200\n"
          ]
        }
      ]
    },
    {
      "cell_type": "markdown",
      "source": [
        "Creating Date Ranges (pd.date_range)\n",
        "\n",
        "Generate a range of dates:"
      ],
      "metadata": {
        "id": "V8E7O2vqUpyh"
      }
    },
    {
      "cell_type": "markdown",
      "source": [
        "Common freq values:\n",
        "\n",
        "'D' – daily\n",
        "\n",
        "'M' – month end\n",
        "\n",
        "'MS' – month start\n",
        "\n",
        "'H' – hourly"
      ],
      "metadata": {
        "id": "dYQWvc5OUvxQ"
      }
    },
    {
      "cell_type": "code",
      "source": [
        "rng = pd.date_range(start='2023-01-01', end='2023-01-10', freq='D')\n",
        "print(rng)\n"
      ],
      "metadata": {
        "colab": {
          "base_uri": "https://localhost:8080/"
        },
        "id": "5yz3yepzUnNl",
        "outputId": "4854a0d5-7b0f-45b5-e3fd-fccb06eb074e"
      },
      "execution_count": 6,
      "outputs": [
        {
          "output_type": "stream",
          "name": "stdout",
          "text": [
            "DatetimeIndex(['2023-01-01', '2023-01-02', '2023-01-03', '2023-01-04',\n",
            "               '2023-01-05', '2023-01-06', '2023-01-07', '2023-01-08',\n",
            "               '2023-01-09', '2023-01-10'],\n",
            "              dtype='datetime64[ns]', freq='D')\n"
          ]
        }
      ]
    },
    {
      "cell_type": "markdown",
      "source": [
        "Resampling (.resample())\n",
        "\n",
        "Group time series data into different frequency bins and aggregate.\n",
        "\n",
        "Example: Convert daily data to monthly sums:"
      ],
      "metadata": {
        "id": "G2fnI2HVUy8F"
      }
    },
    {
      "cell_type": "code",
      "source": [
        "ts = pd.Series([1, 2, 3, 4, 5],\n",
        "               index=pd.date_range('2023-01-01', periods=5, freq='D'))\n",
        "\n",
        "monthly_sum = ts.resample('M').sum()\n",
        "print(monthly_sum)\n"
      ],
      "metadata": {
        "colab": {
          "base_uri": "https://localhost:8080/"
        },
        "id": "pzT4eVc2Uts1",
        "outputId": "f7c9d5b9-63d3-40f2-a6cb-ee0b9f1b9f73"
      },
      "execution_count": 7,
      "outputs": [
        {
          "output_type": "stream",
          "name": "stdout",
          "text": [
            "2023-01-31    15\n",
            "Freq: ME, dtype: int64\n"
          ]
        },
        {
          "output_type": "stream",
          "name": "stderr",
          "text": [
            "/tmp/ipython-input-1197387444.py:4: FutureWarning: 'M' is deprecated and will be removed in a future version, please use 'ME' instead.\n",
            "  monthly_sum = ts.resample('M').sum()\n"
          ]
        }
      ]
    },
    {
      "cell_type": "markdown",
      "source": [
        "Time Zone Handling\n",
        "\n",
        "Convert timezone-aware datetime or localize naive timestamps."
      ],
      "metadata": {
        "id": "h4gvT2OnV-IP"
      }
    },
    {
      "cell_type": "code",
      "source": [
        "dt = pd.to_datetime('2023-01-01 12:00')\n",
        "\n",
        "# Localize naive datetime to UTC\n",
        "dt_utc = dt.tz_localize('UTC')\n",
        "print(dt_utc)\n",
        "\n",
        "# Convert to another timezone\n",
        "dt_est = dt_utc.tz_convert('US/Eastern')\n",
        "print(dt_est)\n"
      ],
      "metadata": {
        "colab": {
          "base_uri": "https://localhost:8080/"
        },
        "id": "P-1bW0RFV7my",
        "outputId": "7eaa9748-c326-4a55-eb7c-899d8e83e32b"
      },
      "execution_count": 8,
      "outputs": [
        {
          "output_type": "stream",
          "name": "stdout",
          "text": [
            "2023-01-01 12:00:00+00:00\n",
            "2023-01-01 07:00:00-05:00\n"
          ]
        }
      ]
    },
    {
      "cell_type": "markdown",
      "source": [
        "#Sorting Data\n",
        "Sorting by Values (.sort_values())\n",
        "\n",
        "Sort a DataFrame or Series by one or more columns."
      ],
      "metadata": {
        "id": "6Efldij-cRMN"
      }
    },
    {
      "cell_type": "code",
      "source": [
        "import pandas as pd\n",
        "\n",
        "df = pd.DataFrame({\n",
        "    'Name': ['Alice', 'Bob', 'Charlie', 'David'],\n",
        "    'Age': [25, 30, 35, 30],\n",
        "    'Score': [85, 90, 85, 95]\n",
        "})\n",
        "\n",
        "# Sort by Age ascending\n",
        "print(df.sort_values('Age'))\n",
        "\n",
        "# Sort by Age descending\n",
        "print(df.sort_values('Age', ascending=False))\n"
      ],
      "metadata": {
        "colab": {
          "base_uri": "https://localhost:8080/"
        },
        "id": "pxPoga2dWESa",
        "outputId": "0ee1e599-2fbe-4e41-fd2a-ce737f9cb938"
      },
      "execution_count": 9,
      "outputs": [
        {
          "output_type": "stream",
          "name": "stdout",
          "text": [
            "      Name  Age  Score\n",
            "0    Alice   25     85\n",
            "1      Bob   30     90\n",
            "3    David   30     95\n",
            "2  Charlie   35     85\n",
            "      Name  Age  Score\n",
            "2  Charlie   35     85\n",
            "1      Bob   30     90\n",
            "3    David   30     95\n",
            "0    Alice   25     85\n"
          ]
        }
      ]
    },
    {
      "cell_type": "markdown",
      "source": [
        "Sorting by Multiple Columns\n",
        "\n",
        "Provide a list of columns to sort by.\n",
        "\n",
        "You can specify ascending or descending per column."
      ],
      "metadata": {
        "id": "N6wvMFYscV0O"
      }
    },
    {
      "cell_type": "code",
      "source": [
        "# Sort by Age ascending, then Score descending\n",
        "print(df.sort_values(by=['Age', 'Score'], ascending=[True, False]))\n"
      ],
      "metadata": {
        "colab": {
          "base_uri": "https://localhost:8080/"
        },
        "id": "lW2_GLWMcTw1",
        "outputId": "36e5b686-278e-4e64-a8cc-c98ed5c2ccb0"
      },
      "execution_count": 10,
      "outputs": [
        {
          "output_type": "stream",
          "name": "stdout",
          "text": [
            "      Name  Age  Score\n",
            "0    Alice   25     85\n",
            "3    David   30     95\n",
            "1      Bob   30     90\n",
            "2  Charlie   35     85\n"
          ]
        }
      ]
    },
    {
      "cell_type": "markdown",
      "source": [
        "Sorting Index (.sort_index())\n",
        "\n",
        "Sort rows by the index labels."
      ],
      "metadata": {
        "id": "LMdJ5xfKccO0"
      }
    },
    {
      "cell_type": "code",
      "source": [
        "df_indexed = df.set_index('Name')\n",
        "print(df_indexed.sort_index())       # Sort index ascending\n",
        "print(df_indexed.sort_index(ascending=False))  # Descending\n"
      ],
      "metadata": {
        "colab": {
          "base_uri": "https://localhost:8080/"
        },
        "id": "3624DEJicZ4z",
        "outputId": "6d02f248-6d56-4206-cfff-b6bc24958d48"
      },
      "execution_count": 11,
      "outputs": [
        {
          "output_type": "stream",
          "name": "stdout",
          "text": [
            "         Age  Score\n",
            "Name               \n",
            "Alice     25     85\n",
            "Bob       30     90\n",
            "Charlie   35     85\n",
            "David     30     95\n",
            "         Age  Score\n",
            "Name               \n",
            "David     30     95\n",
            "Charlie   35     85\n",
            "Bob       30     90\n",
            "Alice     25     85\n"
          ]
        }
      ]
    },
    {
      "cell_type": "markdown",
      "source": [
        "#Grouping & Aggregation"
      ],
      "metadata": {
        "id": "AAEVyW3hc1bs"
      }
    },
    {
      "cell_type": "markdown",
      "source": [
        ".groupby() Basics\n",
        "\n",
        "Groups data by one or more columns and allows aggregation."
      ],
      "metadata": {
        "id": "BTWiWLWkc4c8"
      }
    },
    {
      "cell_type": "code",
      "source": [
        "import pandas as pd\n",
        "\n",
        "data = {'Team': ['A', 'A', 'B', 'B', 'C'],\n",
        "        'Player': ['P1', 'P2', 'P3', 'P4', 'P5'],\n",
        "        'Points': [10, 15, 10, 20, 30],\n",
        "        'Assists': [5, 7, 8, 5, 10]}\n",
        "\n",
        "df = pd.DataFrame(data)\n",
        "\n",
        "grouped = df.groupby('Team')\n",
        "print(grouped)\n"
      ],
      "metadata": {
        "colab": {
          "base_uri": "https://localhost:8080/"
        },
        "id": "wOvq7pnqcfLw",
        "outputId": "8e196962-0b28-4726-bfd6-c6cd9899ee84"
      },
      "execution_count": 12,
      "outputs": [
        {
          "output_type": "stream",
          "name": "stdout",
          "text": [
            "<pandas.core.groupby.generic.DataFrameGroupBy object at 0x7ef7cf8ce910>\n"
          ]
        }
      ]
    },
    {
      "cell_type": "markdown",
      "source": [
        "Aggregation Functions\n",
        "\n",
        "Apply aggregations like sum, mean, count, max, min on grouped data."
      ],
      "metadata": {
        "id": "Ma0UkUIteFWV"
      }
    },
    {
      "cell_type": "code",
      "source": [
        "print(grouped.sum())\n",
        "print(grouped[['Points', 'Assists']].mean())\n",
        "print(grouped.count())\n",
        "print(grouped[['Points', 'Assists']].max())\n",
        "print(grouped[['Points', 'Assists']].min())"
      ],
      "metadata": {
        "colab": {
          "base_uri": "https://localhost:8080/"
        },
        "id": "6Ku79ZEdc6-6",
        "outputId": "aef68c63-4404-47dd-c24a-25fcc8aba2de"
      },
      "execution_count": 14,
      "outputs": [
        {
          "output_type": "stream",
          "name": "stdout",
          "text": [
            "     Player  Points  Assists\n",
            "Team                        \n",
            "A      P1P2      25       12\n",
            "B      P3P4      30       13\n",
            "C        P5      30       10\n",
            "      Points  Assists\n",
            "Team                 \n",
            "A       12.5      6.0\n",
            "B       15.0      6.5\n",
            "C       30.0     10.0\n",
            "      Player  Points  Assists\n",
            "Team                         \n",
            "A          2       2        2\n",
            "B          2       2        2\n",
            "C          1       1        1\n",
            "      Points  Assists\n",
            "Team                 \n",
            "A         15        7\n",
            "B         20        8\n",
            "C         30       10\n",
            "      Points  Assists\n",
            "Team                 \n",
            "A         10        5\n",
            "B         10        5\n",
            "C         30       10\n"
          ]
        }
      ]
    },
    {
      "cell_type": "markdown",
      "source": [
        "Multiple Aggregations with .agg()\n",
        "\n",
        "Use .agg() to apply multiple aggregation functions at once."
      ],
      "metadata": {
        "id": "Tpcyj0RDehPw"
      }
    },
    {
      "cell_type": "code",
      "source": [
        "print(grouped.agg({\n",
        "    'Points': ['sum', 'mean'],\n",
        "    'Assists': ['min', 'max']\n",
        "}))\n"
      ],
      "metadata": {
        "colab": {
          "base_uri": "https://localhost:8080/"
        },
        "id": "4fcgrx3GeJQV",
        "outputId": "00bce588-cc59-4307-bb54-fab37589b279"
      },
      "execution_count": 15,
      "outputs": [
        {
          "output_type": "stream",
          "name": "stdout",
          "text": [
            "     Points       Assists    \n",
            "        sum  mean     min max\n",
            "Team                         \n",
            "A        25  12.5       5   7\n",
            "B        30  15.0       5   8\n",
            "C        30  30.0      10  10\n"
          ]
        }
      ]
    },
    {
      "cell_type": "markdown",
      "source": [
        "Grouping by Multiple Columns"
      ],
      "metadata": {
        "id": "MJyXvSf4enYa"
      }
    },
    {
      "cell_type": "code",
      "source": [
        "data2 = {'Team': ['A', 'A', 'B', 'B', 'C', 'C'],\n",
        "         'Position': ['Guard', 'Forward', 'Guard', 'Forward', 'Guard', 'Forward'],\n",
        "         'Points': [10, 15, 10, 20, 30, 25]}\n",
        "\n",
        "df2 = pd.DataFrame(data2)\n",
        "\n",
        "grouped_multi = df2.groupby(['Team', 'Position']).sum()\n",
        "print(grouped_multi)\n"
      ],
      "metadata": {
        "colab": {
          "base_uri": "https://localhost:8080/"
        },
        "id": "7NCK4jKAej9h",
        "outputId": "51db7a27-3717-485d-f80c-5f0b8312d885"
      },
      "execution_count": 16,
      "outputs": [
        {
          "output_type": "stream",
          "name": "stdout",
          "text": [
            "               Points\n",
            "Team Position        \n",
            "A    Forward       15\n",
            "     Guard         10\n",
            "B    Forward       20\n",
            "     Guard         10\n",
            "C    Forward       25\n",
            "     Guard         30\n"
          ]
        }
      ]
    },
    {
      "cell_type": "markdown",
      "source": [
        "Transformations with .transform()\n",
        "\n",
        "Applies a function to each group and returns a result with the same shape as original.\n",
        "\n",
        "Example: Subtract group mean from each value (demeaning):"
      ],
      "metadata": {
        "id": "emwKv7cCe-7l"
      }
    },
    {
      "cell_type": "code",
      "source": [
        "df['Points_demeaned'] = grouped['Points'].transform(lambda x: x - x.mean())\n",
        "print(df)\n"
      ],
      "metadata": {
        "colab": {
          "base_uri": "https://localhost:8080/"
        },
        "id": "zT4EnLo1eqLo",
        "outputId": "00428e9c-dbc0-4a06-ae6c-de89e02c16eb"
      },
      "execution_count": 17,
      "outputs": [
        {
          "output_type": "stream",
          "name": "stdout",
          "text": [
            "  Team Player  Points  Assists  Points_demeaned\n",
            "0    A     P1      10        5             -2.5\n",
            "1    A     P2      15        7              2.5\n",
            "2    B     P3      10        8             -5.0\n",
            "3    B     P4      20        5              5.0\n",
            "4    C     P5      30       10              0.0\n"
          ]
        }
      ]
    },
    {
      "cell_type": "markdown",
      "source": [
        "Filtering Groups with .filter()\n",
        "\n",
        "Keeps only groups that satisfy a condition.\n",
        "\n",
        "Example: Keep teams with total Points > 20:"
      ],
      "metadata": {
        "id": "2_MTyWyxfJXW"
      }
    },
    {
      "cell_type": "code",
      "source": [
        "filtered = grouped.filter(lambda x: x['Points'].sum() > 20)\n",
        "print(filtered)\n"
      ],
      "metadata": {
        "colab": {
          "base_uri": "https://localhost:8080/"
        },
        "id": "yYqn8aK8fLcl",
        "outputId": "1983ab76-ff0e-4ba1-b7ea-975316302307"
      },
      "execution_count": 18,
      "outputs": [
        {
          "output_type": "stream",
          "name": "stdout",
          "text": [
            "  Team Player  Points  Assists  Points_demeaned\n",
            "0    A     P1      10        5             -2.5\n",
            "1    A     P2      15        7              2.5\n",
            "2    B     P3      10        8             -5.0\n",
            "3    B     P4      20        5              5.0\n",
            "4    C     P5      30       10              0.0\n"
          ]
        }
      ]
    },
    {
      "cell_type": "markdown",
      "source": [
        "Concatenation (pd.concat())\n",
        "\n",
        "Stack DataFrames vertically (axis=0) or horizontally (axis=1)."
      ],
      "metadata": {
        "id": "5oFY0CN2fUhG"
      }
    },
    {
      "cell_type": "code",
      "source": [
        "import pandas as pd\n",
        "\n",
        "df1 = pd.DataFrame({'A': [1, 2], 'B': [3, 4]})\n",
        "df2 = pd.DataFrame({'A': [5, 6], 'B': [7, 8]})\n",
        "\n",
        "# Vertical concatenation (default axis=0)\n",
        "vertical_concat = pd.concat([df1, df2])\n",
        "print(vertical_concat)\n"
      ],
      "metadata": {
        "colab": {
          "base_uri": "https://localhost:8080/"
        },
        "id": "QiSefms5fCAq",
        "outputId": "24f1bbf8-b89b-4184-f4e6-40560178ab7e"
      },
      "execution_count": 19,
      "outputs": [
        {
          "output_type": "stream",
          "name": "stdout",
          "text": [
            "   A  B\n",
            "0  1  3\n",
            "1  2  4\n",
            "0  5  7\n",
            "1  6  8\n"
          ]
        }
      ]
    },
    {
      "cell_type": "code",
      "source": [
        "# Horizontal concatenation (axis=1)\n",
        "horizontal_concat = pd.concat([df1, df2], axis=1)\n",
        "print(horizontal_concat)\n"
      ],
      "metadata": {
        "colab": {
          "base_uri": "https://localhost:8080/"
        },
        "id": "UhFG7Sm6fXOg",
        "outputId": "bd9c7692-3002-4c62-8980-91df1639c8dd"
      },
      "execution_count": 20,
      "outputs": [
        {
          "output_type": "stream",
          "name": "stdout",
          "text": [
            "   A  B  A  B\n",
            "0  1  3  5  7\n",
            "1  2  4  6  8\n"
          ]
        }
      ]
    },
    {
      "cell_type": "markdown",
      "source": [
        "Merge (merge()) — SQL-like joins\n",
        "\n",
        "Join DataFrames on common columns or indices."
      ],
      "metadata": {
        "id": "PT2-hWAJfc6q"
      }
    },
    {
      "cell_type": "code",
      "source": [
        "left = pd.DataFrame({'key': ['A', 'B', 'C'], 'left_val': [1, 2, 3]})\n",
        "right = pd.DataFrame({'key': ['B', 'C', 'D'], 'right_val': [4, 5, 6]})\n"
      ],
      "metadata": {
        "id": "UOYA5djXfa1o"
      },
      "execution_count": 21,
      "outputs": []
    },
    {
      "cell_type": "markdown",
      "source": [
        "a) Inner join (intersection)"
      ],
      "metadata": {
        "id": "mnCMi7Z_fhgp"
      }
    },
    {
      "cell_type": "code",
      "source": [
        "inner = pd.merge(left, right, on='key', how='inner')\n",
        "print(inner)\n"
      ],
      "metadata": {
        "colab": {
          "base_uri": "https://localhost:8080/"
        },
        "id": "HufBEG7bfgFX",
        "outputId": "7fe19c6e-ffa0-4093-ff2a-28b7170b9ffe"
      },
      "execution_count": 22,
      "outputs": [
        {
          "output_type": "stream",
          "name": "stdout",
          "text": [
            "  key  left_val  right_val\n",
            "0   B         2          4\n",
            "1   C         3          5\n"
          ]
        }
      ]
    },
    {
      "cell_type": "markdown",
      "source": [
        "b) Outer join (union)"
      ],
      "metadata": {
        "id": "8eZBBxd7fmg_"
      }
    },
    {
      "cell_type": "code",
      "source": [
        "outer = pd.merge(left, right, on='key', how='outer')\n",
        "print(outer)\n"
      ],
      "metadata": {
        "colab": {
          "base_uri": "https://localhost:8080/"
        },
        "id": "Xi7_Qc3lfj5v",
        "outputId": "3a05d4f0-d1db-459a-db09-6a731de0ceb0"
      },
      "execution_count": 23,
      "outputs": [
        {
          "output_type": "stream",
          "name": "stdout",
          "text": [
            "  key  left_val  right_val\n",
            "0   A       1.0        NaN\n",
            "1   B       2.0        4.0\n",
            "2   C       3.0        5.0\n",
            "3   D       NaN        6.0\n"
          ]
        }
      ]
    },
    {
      "cell_type": "markdown",
      "source": [
        "c) Left join"
      ],
      "metadata": {
        "id": "AQ-AuPcaf0au"
      }
    },
    {
      "cell_type": "code",
      "source": [
        "left_join = pd.merge(left, right, on='key', how='left')\n",
        "print(left_join)\n"
      ],
      "metadata": {
        "colab": {
          "base_uri": "https://localhost:8080/"
        },
        "id": "XOQByCY6foc5",
        "outputId": "2190ed61-85d9-4904-a8f0-508daab4c15a"
      },
      "execution_count": 24,
      "outputs": [
        {
          "output_type": "stream",
          "name": "stdout",
          "text": [
            "  key  left_val  right_val\n",
            "0   A         1        NaN\n",
            "1   B         2        4.0\n",
            "2   C         3        5.0\n"
          ]
        }
      ]
    },
    {
      "cell_type": "markdown",
      "source": [
        "d) Right join"
      ],
      "metadata": {
        "id": "Gp8AZooyf4F-"
      }
    },
    {
      "cell_type": "code",
      "source": [
        "right_join = pd.merge(left, right, on='key', how='right')\n",
        "print(right_join)\n"
      ],
      "metadata": {
        "colab": {
          "base_uri": "https://localhost:8080/"
        },
        "id": "o0QyVLE5f2rd",
        "outputId": "26aaa785-6b19-4f6b-d014-ebdaab09ac8d"
      },
      "execution_count": 25,
      "outputs": [
        {
          "output_type": "stream",
          "name": "stdout",
          "text": [
            "  key  left_val  right_val\n",
            "0   B       2.0          4\n",
            "1   C       3.0          5\n",
            "2   D       NaN          6\n"
          ]
        }
      ]
    },
    {
      "cell_type": "markdown",
      "source": [
        "Join (.join()) Method\n",
        "\n",
        "Join on index by default; useful for combining DataFrames side-by-side."
      ],
      "metadata": {
        "id": "S1XWjecxf8P1"
      }
    },
    {
      "cell_type": "code",
      "source": [
        "df1 = pd.DataFrame({'A': [1, 2]}, index=['K0', 'K1'])\n",
        "df2 = pd.DataFrame({'B': [3, 4]}, index=['K0', 'K2'])\n",
        "\n",
        "joined = df1.join(df2, how='outer')\n",
        "print(joined)\n"
      ],
      "metadata": {
        "colab": {
          "base_uri": "https://localhost:8080/"
        },
        "id": "Pu89jj0ef6cj",
        "outputId": "b71989e1-0554-4300-d26f-608942dea42a"
      },
      "execution_count": 26,
      "outputs": [
        {
          "output_type": "stream",
          "name": "stdout",
          "text": [
            "      A    B\n",
            "K0  1.0  3.0\n",
            "K1  2.0  NaN\n",
            "K2  NaN  4.0\n"
          ]
        }
      ]
    },
    {
      "cell_type": "markdown",
      "source": [
        "Combining Multiple DataFrames\n",
        "\n",
        "Use pd.concat() or chained merge() calls for multiple DataFrames.\n",
        "\n",
        "Example: Concatenate a list of DataFrames vertically."
      ],
      "metadata": {
        "id": "5bj6lHdsgHZ8"
      }
    },
    {
      "cell_type": "code",
      "source": [
        "dfs = [df1, df2]\n",
        "combined = pd.concat(dfs, axis=0)\n",
        "print(combined)\n"
      ],
      "metadata": {
        "colab": {
          "base_uri": "https://localhost:8080/"
        },
        "id": "LCmtXVYxgFBP",
        "outputId": "6a3ae131-3be9-401b-a478-cf605e56f559"
      },
      "execution_count": 27,
      "outputs": [
        {
          "output_type": "stream",
          "name": "stdout",
          "text": [
            "      A    B\n",
            "K0  1.0  NaN\n",
            "K1  2.0  NaN\n",
            "K0  NaN  3.0\n",
            "K2  NaN  4.0\n"
          ]
        }
      ]
    },
    {
      "cell_type": "markdown",
      "source": [
        "# Pivot Tables & Crosstabs"
      ],
      "metadata": {
        "id": "dkMd1MqJgXUQ"
      }
    },
    {
      "cell_type": "markdown",
      "source": [
        " Creating Pivot Tables (pd.pivot_table())\n",
        "\n",
        "Summarizes data by aggregating over categories.\n",
        "\n",
        "Similar to Excel’s pivot tables."
      ],
      "metadata": {
        "id": "FnSvCtrmgZx0"
      }
    },
    {
      "cell_type": "code",
      "source": [
        "import pandas as pd\n",
        "\n",
        "data = {\n",
        "    'Date': ['2023-01', '2023-01', '2023-02', '2023-02'],\n",
        "    'City': ['NY', 'LA', 'NY', 'LA'],\n",
        "    'Sales': [100, 200, 150, 250],\n",
        "    'Profit': [20, 40, 30, 50]\n",
        "}\n",
        "\n",
        "df = pd.DataFrame(data)\n",
        "\n",
        "\n",
        "pivot = pd.pivot_table(df,\n",
        "                       values='Sales',\n",
        "                       index='Date',       # Rows\n",
        "                       columns='City',     # Columns\n",
        "                       aggfunc='sum')      # Aggregation function\n",
        "\n",
        "print(pivot)\n"
      ],
      "metadata": {
        "colab": {
          "base_uri": "https://localhost:8080/"
        },
        "id": "5-Q9ofwigJ52",
        "outputId": "dffd965f-24f5-4927-8938-bd82e5d01c92"
      },
      "execution_count": 28,
      "outputs": [
        {
          "output_type": "stream",
          "name": "stdout",
          "text": [
            "City      LA   NY\n",
            "Date             \n",
            "2023-01  200  100\n",
            "2023-02  250  150\n"
          ]
        }
      ]
    },
    {
      "cell_type": "markdown",
      "source": [
        "Crosstab Analysis (pd.crosstab())\n",
        "\n",
        "Computes a frequency table (cross-tabulation) of two or more factors."
      ],
      "metadata": {
        "id": "oGDwicXqgfQq"
      }
    },
    {
      "cell_type": "code",
      "source": [
        "data = {\n",
        "    'Gender': ['Male', 'Female', 'Female', 'Male', 'Female'],\n",
        "    'Preference': ['A', 'B', 'A', 'B', 'A']\n",
        "}\n",
        "\n",
        "df = pd.DataFrame(data)\n",
        "\n",
        "crosstab = pd.crosstab(df['Gender'], df['Preference'])\n",
        "print(crosstab)\n"
      ],
      "metadata": {
        "colab": {
          "base_uri": "https://localhost:8080/"
        },
        "id": "n6zfPOKQgdJf",
        "outputId": "cd91ee46-b9c1-4391-e0aa-496b4f9a7608"
      },
      "execution_count": 29,
      "outputs": [
        {
          "output_type": "stream",
          "name": "stdout",
          "text": [
            "Preference  A  B\n",
            "Gender          \n",
            "Female      2  1\n",
            "Male        1  1\n"
          ]
        }
      ]
    },
    {
      "cell_type": "code",
      "source": [
        "crosstab = pd.crosstab(df['Gender'], df['Preference'], margins=True)\n",
        "print(crosstab)\n"
      ],
      "metadata": {
        "colab": {
          "base_uri": "https://localhost:8080/"
        },
        "id": "R9a2gPJNgh36",
        "outputId": "b8fae416-8866-4c6f-e1c7-1de13c77b37d"
      },
      "execution_count": 30,
      "outputs": [
        {
          "output_type": "stream",
          "name": "stdout",
          "text": [
            "Preference  A  B  All\n",
            "Gender               \n",
            "Female      2  1    3\n",
            "Male        1  1    2\n",
            "All         3  2    5\n"
          ]
        }
      ]
    },
    {
      "cell_type": "markdown",
      "source": [
        "Multi-Level Indexing in Pivot Tables\n",
        "\n",
        "Pivot tables can group by multiple levels (rows and columns)."
      ],
      "metadata": {
        "id": "IVdz0T0-gt7r"
      }
    },
    {
      "cell_type": "code",
      "source": [
        "data = {\n",
        "    'Date': ['2023-01', '2023-01', '2023-02', '2023-02', '2023-01'],\n",
        "    'City': ['NY', 'LA', 'NY', 'LA', 'NY'],\n",
        "    'Category': ['Electronics', 'Electronics', 'Furniture', 'Furniture', 'Furniture'],\n",
        "    'Sales': [100, 200, 150, 250, 300]\n",
        "}\n",
        "\n",
        "df = pd.DataFrame(data)\n",
        "\n",
        "pivot_multi = pd.pivot_table(df,\n",
        "                             values='Sales',\n",
        "                             index=['Date', 'City'],    # Multi-level row index\n",
        "                             columns='Category',        # Columns\n",
        "                             aggfunc='sum',\n",
        "                             fill_value=0)             # Fill missing with 0\n",
        "\n",
        "print(pivot_multi)\n"
      ],
      "metadata": {
        "colab": {
          "base_uri": "https://localhost:8080/"
        },
        "id": "VcDqoreFgkIv",
        "outputId": "fb2b7f24-5a55-47eb-b849-d0e1f8eac6f8"
      },
      "execution_count": 31,
      "outputs": [
        {
          "output_type": "stream",
          "name": "stdout",
          "text": [
            "Category      Electronics  Furniture\n",
            "Date    City                        \n",
            "2023-01 LA            200          0\n",
            "        NY            100        300\n",
            "2023-02 LA              0        250\n",
            "        NY              0        150\n"
          ]
        }
      ]
    },
    {
      "cell_type": "markdown",
      "source": [
        "#Reshaping Data"
      ],
      "metadata": {
        "id": "Rn3KXiISg3wN"
      }
    },
    {
      "cell_type": "markdown",
      "source": [
        ".melt() — Wide to Long Format\n",
        "\n",
        "Converts columns into rows, making data longer and thinner."
      ],
      "metadata": {
        "id": "byg7-dYfg830"
      }
    },
    {
      "cell_type": "code",
      "source": [
        "import pandas as pd\n",
        "\n",
        "df = pd.DataFrame({\n",
        "    'Name': ['Alice', 'Bob'],\n",
        "    'Math': [90, 80],\n",
        "    'Science': [85, 95]\n",
        "})\n",
        "\n",
        "print(\"Original DataFrame:\\n\", df)\n",
        "\n",
        "melted = pd.melt(df, id_vars=['Name'], var_name='Subject', value_name='Score')\n",
        "print(\"\\nMelted DataFrame:\\n\", melted)\n"
      ],
      "metadata": {
        "colab": {
          "base_uri": "https://localhost:8080/"
        },
        "id": "dj7iEcwJgxAm",
        "outputId": "9a0bbda0-6f80-48ad-ec93-2a6766502067"
      },
      "execution_count": 32,
      "outputs": [
        {
          "output_type": "stream",
          "name": "stdout",
          "text": [
            "Original DataFrame:\n",
            "     Name  Math  Science\n",
            "0  Alice    90       85\n",
            "1    Bob    80       95\n",
            "\n",
            "Melted DataFrame:\n",
            "     Name  Subject  Score\n",
            "0  Alice     Math     90\n",
            "1    Bob     Math     80\n",
            "2  Alice  Science     85\n",
            "3    Bob  Science     95\n"
          ]
        }
      ]
    },
    {
      "cell_type": "markdown",
      "source": [
        ".pivot() — Long to Wide Format\n",
        "\n",
        "Opposite of melt, converts long data back to wide format."
      ],
      "metadata": {
        "id": "Gyq26FKohDys"
      }
    },
    {
      "cell_type": "code",
      "source": [
        "pivoted = melted.pivot(index='Name', columns='Subject', values='Score')\n",
        "print(\"\\nPivoted DataFrame:\\n\", pivoted)\n"
      ],
      "metadata": {
        "colab": {
          "base_uri": "https://localhost:8080/"
        },
        "id": "Qd0IzFi1hAwr",
        "outputId": "d912481a-4c8b-47e0-de72-3c94bebbceab"
      },
      "execution_count": 33,
      "outputs": [
        {
          "output_type": "stream",
          "name": "stdout",
          "text": [
            "\n",
            "Pivoted DataFrame:\n",
            " Subject  Math  Science\n",
            "Name                  \n",
            "Alice      90       85\n",
            "Bob        80       95\n"
          ]
        }
      ]
    },
    {
      "cell_type": "markdown",
      "source": [
        "Stacking & Unstacking\n",
        "\n",
        ".stack() converts columns to rows (wide → long) by moving the innermost column index to the row index.\n",
        "\n",
        ".unstack() does the reverse, moving innermost row index to columns."
      ],
      "metadata": {
        "id": "fH2e5DN_hRcx"
      }
    },
    {
      "cell_type": "code",
      "source": [
        "df_multi = pd.DataFrame({\n",
        "    ('Math', 'Score'): [90, 80],\n",
        "    ('Science', 'Score'): [85, 95]\n",
        "}, index=['Alice', 'Bob'])\n",
        "\n",
        "print(\"Original MultiIndex Columns:\\n\", df_multi)\n",
        "\n",
        "stacked = df_multi.stack()\n",
        "print(\"\\nStacked DataFrame:\\n\", stacked)\n",
        "\n",
        "unstacked = stacked.unstack()\n",
        "print(\"\\nUnstacked DataFrame:\\n\", unstacked)\n"
      ],
      "metadata": {
        "colab": {
          "base_uri": "https://localhost:8080/"
        },
        "id": "r3XFlnFshNpN",
        "outputId": "38a02542-23cc-48b2-9cfc-e1baa671d17c"
      },
      "execution_count": 34,
      "outputs": [
        {
          "output_type": "stream",
          "name": "stdout",
          "text": [
            "Original MultiIndex Columns:\n",
            "        Math Science\n",
            "      Score   Score\n",
            "Alice    90      85\n",
            "Bob      80      95\n",
            "\n",
            "Stacked DataFrame:\n",
            "              Math  Science\n",
            "Alice Score    90       85\n",
            "Bob   Score    80       95\n",
            "\n",
            "Unstacked DataFrame:\n",
            "        Math Science\n",
            "      Score   Score\n",
            "Alice    90      85\n",
            "Bob      80      95\n"
          ]
        },
        {
          "output_type": "stream",
          "name": "stderr",
          "text": [
            "/tmp/ipython-input-3026395504.py:8: FutureWarning: The previous implementation of stack is deprecated and will be removed in a future version of pandas. See the What's New notes for pandas 2.1.0 for details. Specify future_stack=True to adopt the new implementation and silence this warning.\n",
            "  stacked = df_multi.stack()\n"
          ]
        }
      ]
    },
    {
      "cell_type": "markdown",
      "source": [
        "#Window Functions\n",
        "Rolling Windows (.rolling())\n",
        "\n",
        "Perform calculations on a rolling window of fixed size that moves across data.\n",
        "\n",
        "Example: Calculate rolling mean (moving average) with window size 3."
      ],
      "metadata": {
        "id": "XLLo3N9ehfvn"
      }
    },
    {
      "cell_type": "code",
      "source": [
        "import pandas as pd\n",
        "\n",
        "s = pd.Series([1, 2, 3, 4, 5])\n",
        "\n",
        "rolling_mean = s.rolling(window=3).mean()\n",
        "print(rolling_mean)\n"
      ],
      "metadata": {
        "colab": {
          "base_uri": "https://localhost:8080/"
        },
        "id": "uHRmIrK7hXXY",
        "outputId": "b2aebdea-8055-4497-f570-a0298141b4ef"
      },
      "execution_count": 35,
      "outputs": [
        {
          "output_type": "stream",
          "name": "stdout",
          "text": [
            "0    NaN\n",
            "1    NaN\n",
            "2    2.0\n",
            "3    3.0\n",
            "4    4.0\n",
            "dtype: float64\n"
          ]
        }
      ]
    },
    {
      "cell_type": "markdown",
      "source": [
        "Expanding Windows (.expanding())\n",
        "\n",
        "Calculate statistics over an expanding window starting from the first observation.\n",
        "\n",
        "Example: Calculate expanding sum."
      ],
      "metadata": {
        "id": "ktkbTEPXh4Qi"
      }
    },
    {
      "cell_type": "code",
      "source": [
        "expanding_sum = s.expanding(min_periods=1).sum()\n",
        "print(expanding_sum)\n"
      ],
      "metadata": {
        "colab": {
          "base_uri": "https://localhost:8080/"
        },
        "id": "ZOZ_1pQPh1E4",
        "outputId": "67a5dc13-c683-46e5-acc8-22ed0bb2faf3"
      },
      "execution_count": 36,
      "outputs": [
        {
          "output_type": "stream",
          "name": "stdout",
          "text": [
            "0     1.0\n",
            "1     3.0\n",
            "2     6.0\n",
            "3    10.0\n",
            "4    15.0\n",
            "dtype: float64\n"
          ]
        }
      ]
    },
    {
      "cell_type": "markdown",
      "source": [
        "Applying Custom Functions with .apply()\n",
        "\n",
        "Apply any custom function over rolling or expanding windows.\n",
        "\n",
        "Example: Apply custom function (e.g., range = max - min) over rolling window."
      ],
      "metadata": {
        "id": "TAX08GY2iXw9"
      }
    },
    {
      "cell_type": "code",
      "source": [
        "def rolling_range(x):\n",
        "    return x.max() - x.min()\n",
        "\n",
        "rolling_range_result = s.rolling(window=3).apply(rolling_range)\n",
        "print(rolling_range_result)\n"
      ],
      "metadata": {
        "colab": {
          "base_uri": "https://localhost:8080/"
        },
        "id": "qh_ivIg-iVxb",
        "outputId": "11556814-c694-4dcc-b979-ef1e255ec9f0"
      },
      "execution_count": 37,
      "outputs": [
        {
          "output_type": "stream",
          "name": "stdout",
          "text": [
            "0    NaN\n",
            "1    NaN\n",
            "2    2.0\n",
            "3    2.0\n",
            "4    2.0\n",
            "dtype: float64\n"
          ]
        }
      ]
    },
    {
      "cell_type": "markdown",
      "source": [
        "#Reading Data\n",
        "a) pd.read_csv()"
      ],
      "metadata": {
        "id": "7XzTftqBimnL"
      }
    },
    {
      "cell_type": "code",
      "source": [
        "import pandas as pd\n",
        "\n",
        "df_csv = pd.read_csv('/content/iris.csv', encoding='utf-8', chunksize=1000)\n",
        "# chunksize returns an iterator for large files\n",
        "for chunk in df_csv:\n",
        "    print(chunk.head())\n"
      ],
      "metadata": {
        "colab": {
          "base_uri": "https://localhost:8080/"
        },
        "id": "2mtLNDWfibU1",
        "outputId": "6674198f-a722-4453-efca-ed868e979ab7"
      },
      "execution_count": 39,
      "outputs": [
        {
          "output_type": "stream",
          "name": "stdout",
          "text": [
            "   Id  SepalLengthCm  SepalWidthCm  PetalLengthCm  PetalWidthCm      Species\n",
            "0   1            5.1           3.5            1.4           0.2  Iris-setosa\n",
            "1   2            4.9           3.0            1.4           0.2  Iris-setosa\n",
            "2   3            4.7           3.2            1.3           0.2  Iris-setosa\n",
            "3   4            4.6           3.1            1.5           0.2  Iris-setosa\n",
            "4   5            5.0           3.6            1.4           0.2  Iris-setosa\n"
          ]
        }
      ]
    },
    {
      "cell_type": "markdown",
      "source": [
        "pd.read_excel()"
      ],
      "metadata": {
        "id": "jJOdbw4xjC7e"
      }
    },
    {
      "cell_type": "code",
      "source": [
        "df_excel = pd.read_excel('/content/R28 _ Tutorial official.xlsx', sheet_name='Sheet1')\n",
        "print(df_excel.head())\n"
      ],
      "metadata": {
        "colab": {
          "base_uri": "https://localhost:8080/"
        },
        "id": "ahXjKeneiqgm",
        "outputId": "41b5f016-8fbd-4aad-ff37-ec04ce788ed8"
      },
      "execution_count": 42,
      "outputs": [
        {
          "output_type": "stream",
          "name": "stdout",
          "text": [
            "   id                                             idea  \\\n",
            "0   1          The Fire Within: Ancient Drive Lives On   \n",
            "1   2   Meditation Across Millennia: Rituals That Last   \n",
            "2   3      What Elephants Teach About Spiritual Memory   \n",
            "3   4  Real-Life Routines of Spiritually Strong People   \n",
            "4   5     The River’s Way: Flowing Through Generations   \n",
            "\n",
            "                                             caption  \\\n",
            "0  Discover how ancient motivation still fuels us...   \n",
            "1  See how meditation has evolved but never left us.   \n",
            "2  Learn wisdom and spiritual depth from nature's...   \n",
            "3      Discover habits that feed your mind and soul.   \n",
            "4  What rivers teach us about surrender and stren...   \n",
            "\n",
            "                              character_style_prompt  production_status  \\\n",
            "0  An ember-eyed AI shaman holding a torch with f...                NaN   \n",
            "1  A serene AI yogi floating above a holographic ...                NaN   \n",
            "2  An elephant-avatar AI with golden tusks engrav...                NaN   \n",
            "3  A minimalist AI life coach with floating routi...                NaN   \n",
            "4  A flowing, translucent AI guide shaped like a ...                NaN   \n",
            "\n",
            "                                channel_style_prompt  final_output  \\\n",
            "0    AI-driven legacy, spiritual roots, life purpose           NaN   \n",
            "1  Mindfulness traditions, AI-guided practice, sp...           NaN   \n",
            "2     Animal analogies, life memory, AI storytelling           NaN   \n",
            "3   Real-life examples, AI insights, soul discipline           NaN   \n",
            "4       Nature-based AI wisdom, emotional resilience           NaN   \n",
            "\n",
            "  publishing_status  error_log  \n",
            "0           pending        NaN  \n",
            "1           pending        NaN  \n",
            "2           pending        NaN  \n",
            "3           pending        NaN  \n",
            "4           pending        NaN  \n"
          ]
        }
      ]
    },
    {
      "cell_type": "markdown",
      "source": [
        "pd.read_json()"
      ],
      "metadata": {
        "id": "ndTuwEjwjm75"
      }
    },
    {
      "cell_type": "code",
      "source": [
        "\"\"\"df_json = pd.read_json('data.json')\n",
        "print(df_json.head())\n",
        "\"\"\""
      ],
      "metadata": {
        "colab": {
          "base_uri": "https://localhost:8080/",
          "height": 36
        },
        "id": "vr5mCbd5jK_M",
        "outputId": "e934700d-4907-476a-d8f0-d83c8bfc66e0"
      },
      "execution_count": 43,
      "outputs": [
        {
          "output_type": "execute_result",
          "data": {
            "text/plain": [
              "\"df_json = pd.read_json('data.json')\\nprint(df_json.head())\\n\""
            ],
            "application/vnd.google.colaboratory.intrinsic+json": {
              "type": "string"
            }
          },
          "metadata": {},
          "execution_count": 43
        }
      ]
    },
    {
      "cell_type": "markdown",
      "source": [
        "Reading from SQL (pd.read_sql())\n",
        "\n",
        "Requires a database connection (e.g., using sqlite3 or sqlalchemy)."
      ],
      "metadata": {
        "id": "QcBXXqY8jvBY"
      }
    },
    {
      "cell_type": "code",
      "source": [
        "\"\"\"import sqlite3\n",
        "\n",
        "conn = sqlite3.connect('my_database.db')\n",
        "query = \"SELECT * FROM my_table\"\n",
        "df_sql = pd.read_sql(query, conn)\n",
        "print(df_sql.head())\n",
        "conn.close()\"\"\"\n"
      ],
      "metadata": {
        "colab": {
          "base_uri": "https://localhost:8080/",
          "height": 70
        },
        "id": "_tJ4SKbRjsKq",
        "outputId": "45b45287-3479-4c0c-8099-3cd261175dde"
      },
      "execution_count": 45,
      "outputs": [
        {
          "output_type": "execute_result",
          "data": {
            "text/plain": [
              "'import sqlite3\\n\\nconn = sqlite3.connect(\\'my_database.db\\')\\nquery = \"SELECT * FROM my_table\"\\ndf_sql = pd.read_sql(query, conn)\\nprint(df_sql.head())\\nconn.close()'"
            ],
            "application/vnd.google.colaboratory.intrinsic+json": {
              "type": "string"
            }
          },
          "metadata": {},
          "execution_count": 45
        }
      ]
    },
    {
      "cell_type": "markdown",
      "source": [
        "Important Options\n",
        "\n",
        "chunksize: Read large files in chunks (number of rows per chunk).\n",
        "\n",
        "encoding: Specify file encoding (e.g., 'utf-8', 'latin1').\n",
        "\n",
        "index: Include/exclude index when writing files (index=True/False).\n",
        "\n",
        "header: Include/exclude header row."
      ],
      "metadata": {
        "id": "q4seu9rgkPQd"
      }
    },
    {
      "cell_type": "markdown",
      "source": [
        "Writing Data\n",
        "\n",
        "a) .to_csv()"
      ],
      "metadata": {
        "id": "OOGFfHC8j430"
      }
    },
    {
      "cell_type": "code",
      "source": [
        "\"\"\"df_csv.to_csv('output.csv', index=False, encoding='utf-8')\n",
        "\"\"\""
      ],
      "metadata": {
        "colab": {
          "base_uri": "https://localhost:8080/",
          "height": 36
        },
        "id": "njqrRIJJjx59",
        "outputId": "4adc50c1-38ab-47db-9847-c42f3384f231"
      },
      "execution_count": 46,
      "outputs": [
        {
          "output_type": "execute_result",
          "data": {
            "text/plain": [
              "\"df_csv.to_csv('output.csv', index=False, encoding='utf-8')\\n\""
            ],
            "application/vnd.google.colaboratory.intrinsic+json": {
              "type": "string"
            }
          },
          "metadata": {},
          "execution_count": 46
        }
      ]
    },
    {
      "cell_type": "markdown",
      "source": [
        "b) .to_excel()"
      ],
      "metadata": {
        "id": "JKd_16OpkAoT"
      }
    },
    {
      "cell_type": "code",
      "source": [
        "\"\"\"df_excel.to_excel('output.xlsx', index=False)\n",
        "\"\"\""
      ],
      "metadata": {
        "colab": {
          "base_uri": "https://localhost:8080/",
          "height": 36
        },
        "id": "A2kdyczvj-mu",
        "outputId": "a82ef942-2e8e-4c4f-ce58-a52dabf3eb93"
      },
      "execution_count": 47,
      "outputs": [
        {
          "output_type": "execute_result",
          "data": {
            "text/plain": [
              "\"df_excel.to_excel('output.xlsx', index=False)\\n\""
            ],
            "application/vnd.google.colaboratory.intrinsic+json": {
              "type": "string"
            }
          },
          "metadata": {},
          "execution_count": 47
        }
      ]
    },
    {
      "cell_type": "markdown",
      "source": [
        "c) .to_json()"
      ],
      "metadata": {
        "id": "dGTz0FyZkHTB"
      }
    },
    {
      "cell_type": "code",
      "source": [
        "#df_json.to_json('output.json')\n"
      ],
      "metadata": {
        "id": "jRw-rVF3kG-M"
      },
      "execution_count": 48,
      "outputs": []
    },
    {
      "cell_type": "markdown",
      "source": [
        "#Advanced Pandas"
      ],
      "metadata": {
        "id": "sXzAEQlskZbN"
      }
    },
    {
      "cell_type": "markdown",
      "source": [
        "MultiIndex\n",
        "\n",
        "a) Creating MultiIndex"
      ],
      "metadata": {
        "id": "0Nx1Jpfokb7_"
      }
    },
    {
      "cell_type": "code",
      "source": [
        "import pandas as pd\n",
        "\n",
        "arrays = [\n",
        "    ['A', 'A', 'B', 'B'],\n",
        "    [1, 2, 1, 2]\n",
        "]\n",
        "\n",
        "index = pd.MultiIndex.from_arrays(arrays, names=('Letter', 'Number'))\n",
        "\n",
        "df = pd.DataFrame({'Value': [10, 20, 30, 40]}, index=index)\n",
        "print(df)\n"
      ],
      "metadata": {
        "colab": {
          "base_uri": "https://localhost:8080/"
        },
        "id": "POyNbLv2kLWj",
        "outputId": "3002c67c-a73d-4159-ca99-701c7d9bea29"
      },
      "execution_count": 49,
      "outputs": [
        {
          "output_type": "stream",
          "name": "stdout",
          "text": [
            "               Value\n",
            "Letter Number       \n",
            "A      1          10\n",
            "       2          20\n",
            "B      1          30\n",
            "       2          40\n"
          ]
        }
      ]
    },
    {
      "cell_type": "markdown",
      "source": [
        "b) Indexing & slicing MultiIndex"
      ],
      "metadata": {
        "id": "XnzKjIAQk2wL"
      }
    },
    {
      "cell_type": "code",
      "source": [
        "# Select all rows where Letter == 'A'\n",
        "print(df.loc['A'])\n",
        "\n",
        "# Select specific index tuple\n",
        "print(df.loc[('B', 2)])\n",
        "\n",
        "# Slice within MultiIndex levels\n",
        "print(df.loc[pd.IndexSlice['A':'B', 1], :])\n"
      ],
      "metadata": {
        "colab": {
          "base_uri": "https://localhost:8080/"
        },
        "id": "mMyQh1aske5t",
        "outputId": "23145c08-ae1e-4868-8f1c-6582d6e41ad9"
      },
      "execution_count": 50,
      "outputs": [
        {
          "output_type": "stream",
          "name": "stdout",
          "text": [
            "        Value\n",
            "Number       \n",
            "1          10\n",
            "2          20\n",
            "Value    40\n",
            "Name: (B, 2), dtype: int64\n",
            "               Value\n",
            "Letter Number       \n",
            "A      1          10\n",
            "B      1          30\n"
          ]
        }
      ]
    },
    {
      "cell_type": "markdown",
      "source": [
        "c) .swaplevel() — Swap levels of MultiIndex"
      ],
      "metadata": {
        "id": "hESoXQW-k7bS"
      }
    },
    {
      "cell_type": "code",
      "source": [
        "df_swapped = df.swaplevel()\n",
        "print(df_swapped.sort_index())\n"
      ],
      "metadata": {
        "colab": {
          "base_uri": "https://localhost:8080/"
        },
        "id": "Yc4TxZmdk5L4",
        "outputId": "3f91b6c9-2e79-4b50-aef2-3629bed3325a"
      },
      "execution_count": 51,
      "outputs": [
        {
          "output_type": "stream",
          "name": "stdout",
          "text": [
            "               Value\n",
            "Number Letter       \n",
            "1      A          10\n",
            "       B          30\n",
            "2      A          20\n",
            "       B          40\n"
          ]
        }
      ]
    },
    {
      "cell_type": "markdown",
      "source": [
        "d) .sort_index() — Sort MultiIndex levels"
      ],
      "metadata": {
        "id": "eDL_eHfJlAZq"
      }
    },
    {
      "cell_type": "code",
      "source": [
        "print(df.sort_index(level=1))\n"
      ],
      "metadata": {
        "colab": {
          "base_uri": "https://localhost:8080/"
        },
        "id": "2riuH7PRk-pr",
        "outputId": "fe3f8dbc-74e5-4402-97e6-9f29c15c20d4"
      },
      "execution_count": 52,
      "outputs": [
        {
          "output_type": "stream",
          "name": "stdout",
          "text": [
            "               Value\n",
            "Letter Number       \n",
            "A      1          10\n",
            "B      1          30\n",
            "A      2          20\n",
            "B      2          40\n"
          ]
        }
      ]
    },
    {
      "cell_type": "markdown",
      "source": [
        "2. Categoricals\n",
        "\n",
        "a) Convert to categorical dtype"
      ],
      "metadata": {
        "id": "l-FjhOGPlHkV"
      }
    },
    {
      "cell_type": "code",
      "source": [
        "df_cat = pd.DataFrame({\n",
        "    'Size': ['small', 'medium', 'large', 'medium', 'small']\n",
        "})\n",
        "\n",
        "df_cat['Size'] = df_cat['Size'].astype('category')\n",
        "print(df_cat['Size'].dtype)\n"
      ],
      "metadata": {
        "colab": {
          "base_uri": "https://localhost:8080/"
        },
        "id": "Y-3upgJblEho",
        "outputId": "068d16cf-d68d-46b8-9d7f-8f42e2baac26"
      },
      "execution_count": 53,
      "outputs": [
        {
          "output_type": "stream",
          "name": "stdout",
          "text": [
            "category\n"
          ]
        }
      ]
    },
    {
      "cell_type": "markdown",
      "source": [
        "b) Category ordering"
      ],
      "metadata": {
        "id": "y59gQjmDlMAc"
      }
    },
    {
      "cell_type": "code",
      "source": [
        "cat_type = pd.CategoricalDtype(categories=['small', 'medium', 'large'], ordered=True)\n",
        "df_cat['Size'] = df_cat['Size'].astype(cat_type)\n",
        "\n",
        "print(df_cat.sort_values('Size'))\n"
      ],
      "metadata": {
        "colab": {
          "base_uri": "https://localhost:8080/"
        },
        "id": "kuXiWwVTlKhj",
        "outputId": "8cd53816-f56e-40b1-d89a-c057450ef658"
      },
      "execution_count": 54,
      "outputs": [
        {
          "output_type": "stream",
          "name": "stdout",
          "text": [
            "     Size\n",
            "0   small\n",
            "4   small\n",
            "1  medium\n",
            "3  medium\n",
            "2   large\n"
          ]
        }
      ]
    },
    {
      "cell_type": "markdown",
      "source": [
        "Sparse Data Structures\n",
        "\n",
        "Efficient storage for data with many missing or zero values."
      ],
      "metadata": {
        "id": "SF0dtlRelRF9"
      }
    },
    {
      "cell_type": "code",
      "source": [
        "sparse_series = pd.Series([0, 0, 1, 0, 2], dtype='Sparse[int]')\n",
        "print(sparse_series)\n"
      ],
      "metadata": {
        "colab": {
          "base_uri": "https://localhost:8080/"
        },
        "id": "7IqwjzEVlOZt",
        "outputId": "7ba59b71-117b-485b-cd86-9b5fdf4784d7"
      },
      "execution_count": 55,
      "outputs": [
        {
          "output_type": "stream",
          "name": "stdout",
          "text": [
            "0    0\n",
            "1    0\n",
            "2    1\n",
            "3    0\n",
            "4    2\n",
            "dtype: Sparse[int64, 0]\n"
          ]
        }
      ]
    },
    {
      "cell_type": "markdown",
      "source": [
        "4. Performance Tips\n",
        "\n",
        "a) Vectorization\n",
        "\n",
        "Use built-in vectorized operations over loops for speed."
      ],
      "metadata": {
        "id": "ZEHeQByRlWmV"
      }
    },
    {
      "cell_type": "code",
      "source": [
        "import numpy as np\n",
        "\n",
        "df = pd.DataFrame({'A': np.arange(1000000)})\n",
        "df['B'] = df['A'] * 2  # Vectorized operation\n"
      ],
      "metadata": {
        "id": "79bclcOTlULw"
      },
      "execution_count": 56,
      "outputs": []
    },
    {
      "cell_type": "markdown",
      "source": [
        "b) eval() and query() for faster computation\n",
        "\n",
        "Evaluate expressions faster by avoiding temporary objects."
      ],
      "metadata": {
        "id": "ITPtkouWleju"
      }
    },
    {
      "cell_type": "code",
      "source": [
        "df = pd.DataFrame({'A': range(5), 'B': range(5, 10)})\n",
        "\n",
        "# Using query\n",
        "filtered = df.query('A < 3 and B > 6')\n",
        "\n",
        "# Using eval\n",
        "df['C'] = df.eval('A + B')\n"
      ],
      "metadata": {
        "id": "zURvBgIQlbKx"
      },
      "execution_count": 57,
      "outputs": []
    },
    {
      "cell_type": "markdown",
      "source": [
        "#Visualization in Pandas"
      ],
      "metadata": {
        "id": "XkxgzZ0XlqHM"
      }
    },
    {
      "cell_type": "markdown",
      "source": [
        ".plot() Basics\n",
        "\n",
        "Pandas has built-in plotting based on Matplotlib.\n",
        "\n",
        "You can plot Series or DataFrame easily."
      ],
      "metadata": {
        "id": "eNICVYiCluz4"
      }
    },
    {
      "cell_type": "code",
      "source": [
        "import pandas as pd\n",
        "import matplotlib.pyplot as plt\n",
        "\n",
        "data = {'A': [1, 3, 2, 4], 'B': [4, 2, 3, 1]}\n",
        "df = pd.DataFrame(data)\n",
        "\n",
        "df.plot()  # Line plot by default\n",
        "plt.show()\n"
      ],
      "metadata": {
        "colab": {
          "base_uri": "https://localhost:8080/",
          "height": 430
        },
        "id": "uD3ry6ZbliW3",
        "outputId": "7d1a85f3-2633-4dd6-b5e3-815c2dfcc938"
      },
      "execution_count": 58,
      "outputs": [
        {
          "output_type": "display_data",
          "data": {
            "text/plain": [
              "<Figure size 640x480 with 1 Axes>"
            ],
            "image/png": "[encoded data removed]"
          },
          "metadata": {}
        }
      ]
    },
    {
      "cell_type": "markdown",
      "source": [
        "Plot Types\n",
        "\n",
        "a) Line plot (default)"
      ],
      "metadata": {
        "id": "JcFAsSTNl212"
      }
    },
    {
      "cell_type": "code",
      "source": [
        "df.plot(kind='line')\n"
      ],
      "metadata": {
        "colab": {
          "base_uri": "https://localhost:8080/",
          "height": 447
        },
        "id": "aM8_pCa8lzsb",
        "outputId": "b303d567-33a8-4b1d-9705-e50b6b44fa75"
      },
      "execution_count": 59,
      "outputs": [
        {
          "output_type": "execute_result",
          "data": {
            "text/plain": [
              "<Axes: >"
            ]
          },
          "metadata": {},
          "execution_count": 59
        },
        {
          "output_type": "display_data",
          "data": {
            "text/plain": [
              "<Figure size 640x480 with 1 Axes>"
            ],
            "image/png": "[encoded data removed]"
          },
          "metadata": {}
        }
      ]
    },
    {
      "cell_type": "markdown",
      "source": [
        "b) Bar plot"
      ],
      "metadata": {
        "id": "oUCmSzvul6zG"
      }
    },
    {
      "cell_type": "code",
      "source": [
        "df.plot(kind='bar')\n"
      ],
      "metadata": {
        "colab": {
          "base_uri": "https://localhost:8080/",
          "height": 442
        },
        "id": "p5kTJ_xzl5UG",
        "outputId": "9561038c-cab8-48ee-ce74-1880bb6cfd27"
      },
      "execution_count": 60,
      "outputs": [
        {
          "output_type": "execute_result",
          "data": {
            "text/plain": [
              "<Axes: >"
            ]
          },
          "metadata": {},
          "execution_count": 60
        },
        {
          "output_type": "display_data",
          "data": {
            "text/plain": [
              "<Figure size 640x480 with 1 Axes>"
            ],
            "image/png": "[encoded data removed]"
          },
          "metadata": {}
        }
      ]
    },
    {
      "cell_type": "markdown",
      "source": [
        "c) Histogram"
      ],
      "metadata": {
        "id": "kvp-1GySl-3t"
      }
    },
    {
      "cell_type": "code",
      "source": [
        "df['A'].plot(kind='hist', bins=5)\n"
      ],
      "metadata": {
        "colab": {
          "base_uri": "https://localhost:8080/",
          "height": 447
        },
        "id": "mBM_RHAwl89H",
        "outputId": "96d04f15-4a3c-403d-8b2f-db81275c5dd4"
      },
      "execution_count": 61,
      "outputs": [
        {
          "output_type": "execute_result",
          "data": {
            "text/plain": [
              "<Axes: ylabel='Frequency'>"
            ]
          },
          "metadata": {},
          "execution_count": 61
        },
        {
          "output_type": "display_data",
          "data": {
            "text/plain": [
              "<Figure size 640x480 with 1 Axes>"
            ],
            "image/png": "[encoded data removed]"
          },
          "metadata": {}
        }
      ]
    },
    {
      "cell_type": "markdown",
      "source": [
        "d) Scatter plot"
      ],
      "metadata": {
        "id": "DBk-hrpumEbY"
      }
    },
    {
      "cell_type": "code",
      "source": [
        "df.plot(kind='scatter', x='A', y='B')\n"
      ],
      "metadata": {
        "colab": {
          "base_uri": "https://localhost:8080/",
          "height": 466
        },
        "id": "AlkazcdsmBIs",
        "outputId": "280096ba-cd61-40dc-94a4-a25ba3ebde3b"
      },
      "execution_count": 62,
      "outputs": [
        {
          "output_type": "execute_result",
          "data": {
            "text/plain": [
              "<Axes: xlabel='A', ylabel='B'>"
            ]
          },
          "metadata": {},
          "execution_count": 62
        },
        {
          "output_type": "display_data",
          "data": {
            "text/plain": [
              "<Figure size 640x480 with 1 Axes>"
            ],
            "image/png": "[encoded data removed]"
          },
          "metadata": {}
        }
      ]
    },
    {
      "cell_type": "markdown",
      "source": [
        "3. Customizing Plots"
      ],
      "metadata": {
        "id": "IIxiQDDHmK1-"
      }
    },
    {
      "cell_type": "code",
      "source": [
        "ax = df.plot(kind='bar', color=['skyblue', 'salmon'])\n",
        "\n",
        "ax.set_title('Sample Bar Plot')\n",
        "ax.set_xlabel('X Axis Label')\n",
        "ax.set_ylabel('Y Axis Label')\n",
        "\n",
        "plt.style.use('ggplot')  # Change style globally\n",
        "plt.show()\n"
      ],
      "metadata": {
        "colab": {
          "base_uri": "https://localhost:8080/",
          "height": 467
        },
        "id": "oxKjfLQwmGrw",
        "outputId": "7d6d58d3-6a4b-4f98-db00-cb64ea49aa3b"
      },
      "execution_count": 63,
      "outputs": [
        {
          "output_type": "display_data",
          "data": {
            "text/plain": [
              "<Figure size 640x480 with 1 Axes>"
            ],
            "image/png": "[encoded data removed]"
          },
          "metadata": {}
        }
      ]
    },
    {
      "cell_type": "markdown",
      "source": [
        "4. Integration with Matplotlib & Seaborn\n",
        "\n",
        "Use Matplotlib functions for advanced customization.\n",
        "\n",
        "Seaborn works seamlessly with Pandas DataFrames for statistical plots."
      ],
      "metadata": {
        "id": "sR7bAsXZmThr"
      }
    },
    {
      "cell_type": "code",
      "source": [
        "import seaborn as sns\n",
        "\n",
        "sns.scatterplot(data=df, x='A', y='B', hue='B', size='A')\n",
        "plt.title('Seaborn Scatter Plot')\n",
        "plt.show()\n"
      ],
      "metadata": {
        "colab": {
          "base_uri": "https://localhost:8080/",
          "height": 477
        },
        "id": "RIfeVkZrmPi5",
        "outputId": "16746653-54a3-4c8d-c716-b7914615a5eb"
      },
      "execution_count": 64,
      "outputs": [
        {
          "output_type": "display_data",
          "data": {
            "text/plain": [
              "<Figure size 640x480 with 1 Axes>"
            ],
            "image/png": "[encoded data removed]"
          },
          "metadata": {}
        }
      ]
    },
    {
      "cell_type": "markdown",
      "source": [
        "#Real World Projects"
      ],
      "metadata": {
        "id": "fQoZLXFhmjYB"
      }
    },
    {
      "cell_type": "markdown",
      "source": [
        "1. Data Cleaning & Preprocessing"
      ],
      "metadata": {
        "id": "VUl8akobmxjR"
      }
    },
    {
      "cell_type": "markdown",
      "source": [
        "Handling Missing Values\n",
        "\n",
        "a) Detect missing values"
      ],
      "metadata": {
        "id": "0M_5yPwpm1Bn"
      }
    },
    {
      "cell_type": "code",
      "source": [
        "import pandas as pd\n",
        "import numpy as np\n",
        "\n",
        "df = pd.DataFrame({\n",
        "    'A': [1, 2, np.nan, 4],\n",
        "    'B': [np.nan, 2, 3, 4]\n",
        "})\n",
        "\n",
        "print(df.isna())\n",
        "print(df.notna())\n"
      ],
      "metadata": {
        "colab": {
          "base_uri": "https://localhost:8080/"
        },
        "id": "J9aaKe-omW23",
        "outputId": "04eefba9-fd1a-43bc-bd30-c53c802a1a0f"
      },
      "execution_count": 65,
      "outputs": [
        {
          "output_type": "stream",
          "name": "stdout",
          "text": [
            "       A      B\n",
            "0  False   True\n",
            "1  False  False\n",
            "2   True  False\n",
            "3  False  False\n",
            "       A      B\n",
            "0   True  False\n",
            "1   True   True\n",
            "2  False   True\n",
            "3   True   True\n"
          ]
        }
      ]
    },
    {
      "cell_type": "markdown",
      "source": [
        "b) Fill missing values"
      ],
      "metadata": {
        "id": "y43fhldOm5g9"
      }
    },
    {
      "cell_type": "code",
      "source": [
        "df_filled = df.fillna(0)  # Fill NaN with 0\n",
        "print(df_filled)\n",
        "\n",
        "df_filled_ffill = df.fillna(method='ffill')  # Forward fill\n",
        "print(df_filled_ffill)\n"
      ],
      "metadata": {
        "colab": {
          "base_uri": "https://localhost:8080/"
        },
        "id": "PMXPk_WXm3l6",
        "outputId": "6dd49787-bde7-464b-8c81-59959bb0416d"
      },
      "execution_count": 66,
      "outputs": [
        {
          "output_type": "stream",
          "name": "stdout",
          "text": [
            "     A    B\n",
            "0  1.0  0.0\n",
            "1  2.0  2.0\n",
            "2  0.0  3.0\n",
            "3  4.0  4.0\n",
            "     A    B\n",
            "0  1.0  NaN\n",
            "1  2.0  2.0\n",
            "2  2.0  3.0\n",
            "3  4.0  4.0\n"
          ]
        },
        {
          "output_type": "stream",
          "name": "stderr",
          "text": [
            "/tmp/ipython-input-2336613041.py:4: FutureWarning: DataFrame.fillna with 'method' is deprecated and will raise in a future version. Use obj.ffill() or obj.bfill() instead.\n",
            "  df_filled_ffill = df.fillna(method='ffill')  # Forward fill\n"
          ]
        }
      ]
    },
    {
      "cell_type": "markdown",
      "source": [
        "c) Drop missing values"
      ],
      "metadata": {
        "id": "SYPB_Wl2m9KF"
      }
    },
    {
      "cell_type": "code",
      "source": [
        "df_dropped = df.dropna()  # Drop rows with any NaN\n",
        "print(df_dropped)\n"
      ],
      "metadata": {
        "colab": {
          "base_uri": "https://localhost:8080/"
        },
        "id": "Eeva3L12m7WA",
        "outputId": "90c70e5b-4b70-4779-c866-6b12e0ffc1ae"
      },
      "execution_count": 67,
      "outputs": [
        {
          "output_type": "stream",
          "name": "stdout",
          "text": [
            "     A    B\n",
            "1  2.0  2.0\n",
            "3  4.0  4.0\n"
          ]
        }
      ]
    },
    {
      "cell_type": "markdown",
      "source": [
        "2. Convert Data Types\n",
        "\n",
        "a) Change data types with .astype()"
      ],
      "metadata": {
        "id": "dAeKNpWdnBSp"
      }
    },
    {
      "cell_type": "code",
      "source": [
        "df = pd.DataFrame({'A': ['1', '2', '3'], 'B': [1.1, 2.2, 3.3]})\n",
        "print(df.dtypes)\n",
        "\n",
        "df['A'] = df['A'].astype(int)\n",
        "print(df.dtypes)\n"
      ],
      "metadata": {
        "colab": {
          "base_uri": "https://localhost:8080/"
        },
        "id": "P9lRdIkDnFOz",
        "outputId": "c2675608-855c-4807-850b-511a6c345bc1"
      },
      "execution_count": 68,
      "outputs": [
        {
          "output_type": "stream",
          "name": "stdout",
          "text": [
            "A     object\n",
            "B    float64\n",
            "dtype: object\n",
            "A      int64\n",
            "B    float64\n",
            "dtype: object\n"
          ]
        }
      ]
    },
    {
      "cell_type": "markdown",
      "source": [
        "b) Convert strings to datetime"
      ],
      "metadata": {
        "id": "gWdAwdDEnHuV"
      }
    },
    {
      "cell_type": "code",
      "source": [
        "dates = ['2023-01-01', '2023/02/15', 'March 3, 2023']\n",
        "df_dates = pd.DataFrame({'date': dates})\n",
        "df_dates['date'] = pd.to_datetime(df_dates['date'], format='mixed')\n",
        "print(df_dates)\n",
        "print(df_dates.dtypes)"
      ],
      "metadata": {
        "colab": {
          "base_uri": "https://localhost:8080/"
        },
        "id": "rGUYGKx_m_g2",
        "outputId": "88170772-235a-4fb7-a7c9-8b917de045f8"
      },
      "execution_count": 71,
      "outputs": [
        {
          "output_type": "stream",
          "name": "stdout",
          "text": [
            "        date\n",
            "0 2023-01-01\n",
            "1 2023-02-15\n",
            "2 2023-03-03\n",
            "date    datetime64[ns]\n",
            "dtype: object\n"
          ]
        }
      ]
    },
    {
      "cell_type": "markdown",
      "source": [
        "3. Rename Columns & Fix Inconsistent Entries\n",
        "\n",
        "a) Rename columns"
      ],
      "metadata": {
        "id": "7Chs5F35nSo6"
      }
    },
    {
      "cell_type": "code",
      "source": [
        "df = pd.DataFrame({'A': [1, 2], 'B': [3, 4]})\n",
        "df = df.rename(columns={'A': 'Col1', 'B': 'Col2'})\n",
        "print(df)\n"
      ],
      "metadata": {
        "colab": {
          "base_uri": "https://localhost:8080/"
        },
        "id": "95GYeRgvnJ-W",
        "outputId": "42d06682-012f-4f59-eb01-850c9c6b35d4"
      },
      "execution_count": 72,
      "outputs": [
        {
          "output_type": "stream",
          "name": "stdout",
          "text": [
            "   Col1  Col2\n",
            "0     1     3\n",
            "1     2     4\n"
          ]
        }
      ]
    },
    {
      "cell_type": "markdown",
      "source": [
        "b) Fix inconsistent entries (e.g., case, typos)"
      ],
      "metadata": {
        "id": "kpqQyf3fnX1L"
      }
    },
    {
      "cell_type": "code",
      "source": [
        "df_entries = pd.DataFrame({'Color': ['red', 'Red', 'RED', 'blue']})\n",
        "\n",
        "df_entries['Color'] = df_entries['Color'].str.lower()  # Normalize to lowercase\n",
        "print(df_entries)\n"
      ],
      "metadata": {
        "colab": {
          "base_uri": "https://localhost:8080/"
        },
        "id": "PHDaRtstnVqX",
        "outputId": "5ca64639-3ba5-4c3c-df36-c46439367cf6"
      },
      "execution_count": 73,
      "outputs": [
        {
          "output_type": "stream",
          "name": "stdout",
          "text": [
            "  Color\n",
            "0   red\n",
            "1   red\n",
            "2   red\n",
            "3  blue\n"
          ]
        }
      ]
    },
    {
      "cell_type": "markdown",
      "source": [
        "4. Remove Duplicates"
      ],
      "metadata": {
        "id": "wGmLrU46nb_2"
      }
    },
    {
      "cell_type": "code",
      "source": [
        "df_dup = pd.DataFrame({'A': [1, 1, 2, 3], 'B': [4, 4, 5, 6]})\n",
        "print(df_dup.duplicated())  # Boolean mask of duplicates\n",
        "\n",
        "df_no_dup = df_dup.drop_duplicates()\n",
        "print(df_no_dup)\n"
      ],
      "metadata": {
        "colab": {
          "base_uri": "https://localhost:8080/"
        },
        "id": "DJIpW0zNnaN7",
        "outputId": "bd647a02-1f74-4f4f-d385-cdf97a13a3ec"
      },
      "execution_count": 74,
      "outputs": [
        {
          "output_type": "stream",
          "name": "stdout",
          "text": [
            "0    False\n",
            "1     True\n",
            "2    False\n",
            "3    False\n",
            "dtype: bool\n",
            "   A  B\n",
            "0  1  4\n",
            "2  2  5\n",
            "3  3  6\n"
          ]
        }
      ]
    },
    {
      "cell_type": "markdown",
      "source": [
        "5. Feature Engineering\n",
        "\n",
        "a) Create new columns from existing data"
      ],
      "metadata": {
        "id": "3GTrPYS9ngfD"
      }
    },
    {
      "cell_type": "code",
      "source": [
        "df = pd.DataFrame({'Price': [100, 200, 300], 'Quantity': [1, 3, 2]})\n",
        "\n",
        "# Total cost column\n",
        "df['Total_Cost'] = df['Price'] * df['Quantity']\n",
        "print(df)\n"
      ],
      "metadata": {
        "colab": {
          "base_uri": "https://localhost:8080/"
        },
        "id": "hU8MsUhpnd3F",
        "outputId": "665b5259-d219-4906-a9f1-20f29a92cf15"
      },
      "execution_count": 75,
      "outputs": [
        {
          "output_type": "stream",
          "name": "stdout",
          "text": [
            "   Price  Quantity  Total_Cost\n",
            "0    100         1         100\n",
            "1    200         3         600\n",
            "2    300         2         600\n"
          ]
        }
      ]
    },
    {
      "cell_type": "markdown",
      "source": [
        "\n",
        "b) Extract datetime features"
      ],
      "metadata": {
        "id": "yXYjbsFbnkaf"
      }
    },
    {
      "cell_type": "code",
      "source": [
        "df_dates['Year'] = df_dates['date'].dt.year\n",
        "df_dates['Month'] = df_dates['date'].dt.month\n",
        "print(df_dates)\n"
      ],
      "metadata": {
        "colab": {
          "base_uri": "https://localhost:8080/"
        },
        "id": "uUQsNreWniyz",
        "outputId": "6caa76b3-e072-43da-fe17-4eb2f772fd69"
      },
      "execution_count": 76,
      "outputs": [
        {
          "output_type": "stream",
          "name": "stdout",
          "text": [
            "        date  Year  Month\n",
            "0 2023-01-01  2023      1\n",
            "1 2023-02-15  2023      2\n",
            "2 2023-03-03  2023      3\n"
          ]
        }
      ]
    },
    {
      "cell_type": "markdown",
      "source": [
        "#2. Exploratory Data Analysis (EDA)"
      ],
      "metadata": {
        "id": "Eyb_nMU6np12"
      }
    },
    {
      "cell_type": "markdown",
      "source": [
        "1. Summary Statistics\n",
        "\n",
        "a) .describe() — Quick stats for numeric columns"
      ],
      "metadata": {
        "id": "GZRtecdEnzMA"
      }
    },
    {
      "cell_type": "code",
      "source": [
        "import pandas as pd\n",
        "\n",
        "df = pd.DataFrame({\n",
        "    'Age': [23, 45, 31, 35, 22, 40, 29],\n",
        "    'Income': [50000, 80000, 60000, 65000, 48000, 70000, 52000]\n",
        "})\n",
        "\n",
        "print(df.describe())\n"
      ],
      "metadata": {
        "colab": {
          "base_uri": "https://localhost:8080/"
        },
        "id": "ffmGKl8Inm08",
        "outputId": "55b98e1c-d80b-4d14-a7c3-9e5285a4bae4"
      },
      "execution_count": 77,
      "outputs": [
        {
          "output_type": "stream",
          "name": "stdout",
          "text": [
            "             Age        Income\n",
            "count   7.000000      7.000000\n",
            "mean   32.142857  60714.285714\n",
            "std     8.493695  11757.469763\n",
            "min    22.000000  48000.000000\n",
            "25%    26.000000  51000.000000\n",
            "50%    31.000000  60000.000000\n",
            "75%    37.500000  67500.000000\n",
            "max    45.000000  80000.000000\n"
          ]
        }
      ]
    },
    {
      "cell_type": "markdown",
      "source": [
        "b) .info() — Data types and non-null counts"
      ],
      "metadata": {
        "id": "732s_hFnn4m0"
      }
    },
    {
      "cell_type": "code",
      "source": [
        "print(df.info())\n",
        "\n"
      ],
      "metadata": {
        "colab": {
          "base_uri": "https://localhost:8080/"
        },
        "id": "PN6O45rDn2hy",
        "outputId": "11d5c5d5-153e-4b29-f2f6-b4083d0b62db"
      },
      "execution_count": 78,
      "outputs": [
        {
          "output_type": "stream",
          "name": "stdout",
          "text": [
            "<class 'pandas.core.frame.DataFrame'>\n",
            "RangeIndex: 7 entries, 0 to 6\n",
            "Data columns (total 2 columns):\n",
            " #   Column  Non-Null Count  Dtype\n",
            "---  ------  --------------  -----\n",
            " 0   Age     7 non-null      int64\n",
            " 1   Income  7 non-null      int64\n",
            "dtypes: int64(2)\n",
            "memory usage: 244.0 bytes\n",
            "None\n"
          ]
        }
      ]
    },
    {
      "cell_type": "markdown",
      "source": [
        "c) .value_counts() — Count unique values (for categorical data)"
      ],
      "metadata": {
        "id": "4wguBZfEn8w5"
      }
    },
    {
      "cell_type": "code",
      "source": [
        "df_cats = pd.DataFrame({'City': ['NY', 'LA', 'NY', 'SF', 'LA', 'NY']})\n",
        "print(df_cats['City'].value_counts())\n"
      ],
      "metadata": {
        "colab": {
          "base_uri": "https://localhost:8080/"
        },
        "id": "jDU0cBlwn7JZ",
        "outputId": "28be1d12-b700-42ef-adf6-a8726c301b44"
      },
      "execution_count": 79,
      "outputs": [
        {
          "output_type": "stream",
          "name": "stdout",
          "text": [
            "City\n",
            "NY    3\n",
            "LA    2\n",
            "SF    1\n",
            "Name: count, dtype: int64\n"
          ]
        }
      ]
    },
    {
      "cell_type": "markdown",
      "source": [
        "2. Visualizing Distributions\n",
        "\n",
        "a) Histogram"
      ],
      "metadata": {
        "id": "fbsqgnLPoBEF"
      }
    },
    {
      "cell_type": "code",
      "source": [
        "import matplotlib.pyplot as plt\n",
        "\n",
        "df['Age'].hist(bins=5)\n",
        "plt.title('Age Distribution')\n",
        "plt.xlabel('Age')\n",
        "plt.ylabel('Frequency')\n",
        "plt.show()\n"
      ],
      "metadata": {
        "colab": {
          "base_uri": "https://localhost:8080/",
          "height": 477
        },
        "id": "keVn4YWIn_Po",
        "outputId": "d6ea6547-9c6e-41a8-cb88-5a04314ab6ef"
      },
      "execution_count": 80,
      "outputs": [
        {
          "output_type": "display_data",
          "data": {
            "text/plain": [
              "<Figure size 640x480 with 1 Axes>"
            ],
            "image/png": "[encoded data removed]"
          },
          "metadata": {}
        }
      ]
    },
    {
      "cell_type": "markdown",
      "source": [
        "b) Boxplot"
      ],
      "metadata": {
        "id": "-MNLoA30oFqx"
      }
    },
    {
      "cell_type": "code",
      "source": [
        "df.boxplot(column='Income')\n",
        "plt.title('Income Boxplot')\n",
        "plt.show()\n"
      ],
      "metadata": {
        "colab": {
          "base_uri": "https://localhost:8080/",
          "height": 453
        },
        "id": "SJ3zdcVGoD6e",
        "outputId": "abfa76c0-9afc-45d9-cb06-9b438bd22542"
      },
      "execution_count": 81,
      "outputs": [
        {
          "output_type": "display_data",
          "data": {
            "text/plain": [
              "<Figure size 640x480 with 1 Axes>"
            ],
            "image/png": "[encoded data removed]"
          },
          "metadata": {}
        }
      ]
    },
    {
      "cell_type": "markdown",
      "source": [
        "3. Correlation Analysis\n",
        "\n",
        "a) Calculate correlation matrix"
      ],
      "metadata": {
        "id": "B9UNjvcloJng"
      }
    },
    {
      "cell_type": "code",
      "source": [
        "corr = df.corr()\n",
        "print(corr)\n"
      ],
      "metadata": {
        "colab": {
          "base_uri": "https://localhost:8080/"
        },
        "id": "C3WGJv6LoHAb",
        "outputId": "7bed88cb-1e93-49ce-d57d-85058a5398d9"
      },
      "execution_count": 82,
      "outputs": [
        {
          "output_type": "stream",
          "name": "stdout",
          "text": [
            "             Age    Income\n",
            "Age     1.000000  0.981808\n",
            "Income  0.981808  1.000000\n"
          ]
        }
      ]
    },
    {
      "cell_type": "markdown",
      "source": [
        "b) Heatmap using Seaborn"
      ],
      "metadata": {
        "id": "JeX8WWZVoOB7"
      }
    },
    {
      "cell_type": "code",
      "source": [
        "import seaborn as sns\n",
        "\n",
        "sns.heatmap(corr, annot=True, cmap='coolwarm')\n",
        "plt.title('Correlation Heatmap')\n",
        "plt.show()\n"
      ],
      "metadata": {
        "colab": {
          "base_uri": "https://localhost:8080/",
          "height": 453
        },
        "id": "9-d_sfhHoMcS",
        "outputId": "0de3836d-d2bb-4d96-dd28-9682ce7f1659"
      },
      "execution_count": 83,
      "outputs": [
        {
          "output_type": "display_data",
          "data": {
            "text/plain": [
              "<Figure size 640x480 with 2 Axes>"
            ],
            "image/png": "[encoded data removed]"
          },
          "metadata": {}
        }
      ]
    },
    {
      "cell_type": "markdown",
      "source": [
        "4. Grouped Analysis\n",
        "\n",
        "a) Using .groupby()"
      ],
      "metadata": {
        "id": "ll_wJ17ZoSTD"
      }
    },
    {
      "cell_type": "code",
      "source": [
        "df_grouped = df_cats.join(df['Income']).groupby('City').mean()\n",
        "print(df_grouped)\n"
      ],
      "metadata": {
        "colab": {
          "base_uri": "https://localhost:8080/"
        },
        "id": "y4pvEzl5oQLP",
        "outputId": "2740a62e-1ed0-4935-e4e4-b06ca9fe56d1"
      },
      "execution_count": 84,
      "outputs": [
        {
          "output_type": "stream",
          "name": "stdout",
          "text": [
            "       Income\n",
            "City         \n",
            "LA    64000.0\n",
            "NY    60000.0\n",
            "SF    65000.0\n"
          ]
        }
      ]
    },
    {
      "cell_type": "markdown",
      "source": [
        "b) Using pivot tables"
      ],
      "metadata": {
        "id": "CzWEnKyZoXdL"
      }
    },
    {
      "cell_type": "code",
      "source": [
        "pivot = pd.pivot_table(df_cats.join(df['Income']), index='City', aggfunc='mean')\n",
        "print(pivot)\n"
      ],
      "metadata": {
        "colab": {
          "base_uri": "https://localhost:8080/"
        },
        "id": "DZNFsTWPoV0i",
        "outputId": "22fdd381-72a3-4912-9e9d-e71badd8c1a5"
      },
      "execution_count": 85,
      "outputs": [
        {
          "output_type": "stream",
          "name": "stdout",
          "text": [
            "       Income\n",
            "City         \n",
            "LA    64000.0\n",
            "NY    60000.0\n",
            "SF    65000.0\n"
          ]
        }
      ]
    },
    {
      "cell_type": "markdown",
      "source": [
        "5. Identify Outliers and Anomalies\n",
        "\n",
        "a) Using boxplot visualization (already shown)\n",
        "\n",
        "b) Using IQR method"
      ],
      "metadata": {
        "id": "E3oDpR-9obhl"
      }
    },
    {
      "cell_type": "code",
      "source": [
        "Q1 = df['Income'].quantile(0.25)\n",
        "Q3 = df['Income'].quantile(0.75)\n",
        "IQR = Q3 - Q1\n",
        "\n",
        "outliers = df[(df['Income'] < (Q1 - 1.5 * IQR)) | (df['Income'] > (Q3 + 1.5 * IQR))]\n",
        "print(outliers)\n"
      ],
      "metadata": {
        "colab": {
          "base_uri": "https://localhost:8080/"
        },
        "id": "-_V3qsFLoZZT",
        "outputId": "e1435690-da64-472d-dec9-960dea4b2019"
      },
      "execution_count": 86,
      "outputs": [
        {
          "output_type": "stream",
          "name": "stdout",
          "text": [
            "Empty DataFrame\n",
            "Columns: [Age, Income]\n",
            "Index: []\n"
          ]
        }
      ]
    },
    {
      "cell_type": "markdown",
      "source": [
        "#3. Time Series Analysis"
      ],
      "metadata": {
        "id": "CpjOOPYConU9"
      }
    },
    {
      "cell_type": "markdown",
      "source": [
        "1. Convert to datetime and set as index"
      ],
      "metadata": {
        "id": "fJ-kPa70oleB"
      }
    },
    {
      "cell_type": "code",
      "source": [
        "import pandas as pd\n",
        "\n",
        "data = {\n",
        "    'Date': ['2023-01-01', '2023-01-02', '2023-01-03', '2023-01-05'],\n",
        "    'Value': [100, 110, 105, 115]\n",
        "}\n",
        "\n",
        "df = pd.DataFrame(data)\n",
        "df['Date'] = pd.to_datetime(df['Date'])\n",
        "df = df.set_index('Date')\n",
        "\n",
        "print(df)\n"
      ],
      "metadata": {
        "colab": {
          "base_uri": "https://localhost:8080/"
        },
        "id": "d0C0OtL0oe_0",
        "outputId": "b92bbd47-0b74-429a-abe8-1bbfa4230327"
      },
      "execution_count": 87,
      "outputs": [
        {
          "output_type": "stream",
          "name": "stdout",
          "text": [
            "            Value\n",
            "Date             \n",
            "2023-01-01    100\n",
            "2023-01-02    110\n",
            "2023-01-03    105\n",
            "2023-01-05    115\n"
          ]
        }
      ]
    },
    {
      "cell_type": "markdown",
      "source": [
        "2. Resample data for different frequencies\n",
        "\n",
        "Change frequency (e.g., daily to weekly or monthly) and aggregate."
      ],
      "metadata": {
        "id": "FvBHSARjouDF"
      }
    },
    {
      "cell_type": "code",
      "source": [
        "# Resample to weekly sum\n",
        "weekly = df.resample('W').sum()\n",
        "print(weekly)\n",
        "\n",
        "# Resample to monthly mean\n",
        "monthly = df.resample('M').mean()\n",
        "print(monthly)\n"
      ],
      "metadata": {
        "colab": {
          "base_uri": "https://localhost:8080/"
        },
        "id": "VlycM-phosIZ",
        "outputId": "35d79838-4f4c-410e-c932-735298320a46"
      },
      "execution_count": 88,
      "outputs": [
        {
          "output_type": "stream",
          "name": "stdout",
          "text": [
            "            Value\n",
            "Date             \n",
            "2023-01-01    100\n",
            "2023-01-08    330\n",
            "            Value\n",
            "Date             \n",
            "2023-01-31  107.5\n"
          ]
        },
        {
          "output_type": "stream",
          "name": "stderr",
          "text": [
            "/tmp/ipython-input-80843639.py:6: FutureWarning: 'M' is deprecated and will be removed in a future version, please use 'ME' instead.\n",
            "  monthly = df.resample('M').mean()\n"
          ]
        }
      ]
    },
    {
      "cell_type": "markdown",
      "source": [
        "3. Rolling statistics\n",
        "\n",
        "Compute statistics over a moving window."
      ],
      "metadata": {
        "id": "Hq036zBMoy11"
      }
    },
    {
      "cell_type": "code",
      "source": [
        "# 3-day rolling mean\n",
        "df['Rolling_Mean'] = df['Value'].rolling(window=3).mean()\n",
        "print(df)\n"
      ],
      "metadata": {
        "colab": {
          "base_uri": "https://localhost:8080/"
        },
        "id": "ohpstz3CoxJF",
        "outputId": "0bc8a64f-46b1-46b4-b6f1-5f6522a19485"
      },
      "execution_count": 89,
      "outputs": [
        {
          "output_type": "stream",
          "name": "stdout",
          "text": [
            "            Value  Rolling_Mean\n",
            "Date                           \n",
            "2023-01-01    100           NaN\n",
            "2023-01-02    110           NaN\n",
            "2023-01-03    105         105.0\n",
            "2023-01-05    115         110.0\n"
          ]
        }
      ]
    },
    {
      "cell_type": "markdown",
      "source": [
        "4. Plot time trends and seasonality"
      ],
      "metadata": {
        "id": "74cPFXUto3q8"
      }
    },
    {
      "cell_type": "code",
      "source": [
        "import matplotlib.pyplot as plt\n",
        "\n",
        "df['Value'].plot(title='Time Series Value')\n",
        "plt.show()\n",
        "\n",
        "df['Rolling_Mean'].plot(title='Rolling Mean (3-day window)')\n",
        "plt.show()\n"
      ],
      "metadata": {
        "colab": {
          "base_uri": "https://localhost:8080/",
          "height": 909
        },
        "id": "55__9L3fo1Ul",
        "outputId": "49b4201b-c93a-40de-d917-ea0f7119dc68"
      },
      "execution_count": 90,
      "outputs": [
        {
          "output_type": "display_data",
          "data": {
            "text/plain": [
              "<Figure size 640x480 with 1 Axes>"
            ],
            "image/png": "[encoded data removed]"
          },
          "metadata": {}
        },
        {
          "output_type": "display_data",
          "data": {
            "text/plain": [
              "<Figure size 640x480 with 1 Axes>"
            ],
            "image/png": "[encoded data removed]"
          },
          "metadata": {}
        }
      ]
    },
    {
      "cell_type": "markdown",
      "source": [
        "5. Handle missing time periods\n",
        "\n",
        "Reindex to include missing dates, then fill missing values."
      ],
      "metadata": {
        "id": "KMbJoElAo7N3"
      }
    },
    {
      "cell_type": "code",
      "source": [
        "# Create complete date range\n",
        "full_idx = pd.date_range(start=df.index.min(), end=df.index.max(), freq='D')\n",
        "\n",
        "df_full = df.reindex(full_idx)\n",
        "\n",
        "print(df_full)  # Shows NaN for missing dates\n",
        "\n",
        "# Fill missing values (e.g., forward fill)\n",
        "df_full['Value'] = df_full['Value'].fillna(method='ffill')\n",
        "print(df_full)\n"
      ],
      "metadata": {
        "colab": {
          "base_uri": "https://localhost:8080/"
        },
        "id": "JOuhtVg_o6ds",
        "outputId": "8a29d0a2-665d-4651-8b79-bd4e96e518ce"
      },
      "execution_count": 91,
      "outputs": [
        {
          "output_type": "stream",
          "name": "stdout",
          "text": [
            "            Value  Rolling_Mean\n",
            "2023-01-01  100.0           NaN\n",
            "2023-01-02  110.0           NaN\n",
            "2023-01-03  105.0         105.0\n",
            "2023-01-04    NaN           NaN\n",
            "2023-01-05  115.0         110.0\n",
            "            Value  Rolling_Mean\n",
            "2023-01-01  100.0           NaN\n",
            "2023-01-02  110.0           NaN\n",
            "2023-01-03  105.0         105.0\n",
            "2023-01-04  105.0           NaN\n",
            "2023-01-05  115.0         110.0\n"
          ]
        },
        {
          "output_type": "stream",
          "name": "stderr",
          "text": [
            "/tmp/ipython-input-1636939649.py:9: FutureWarning: Series.fillna with 'method' is deprecated and will raise in a future version. Use obj.ffill() or obj.bfill() instead.\n",
            "  df_full['Value'] = df_full['Value'].fillna(method='ffill')\n"
          ]
        }
      ]
    },
    {
      "cell_type": "markdown",
      "source": [
        "#Sales & Customer Data Analysis"
      ],
      "metadata": {
        "id": "WaWCE1O1pJyi"
      }
    },
    {
      "cell_type": "markdown",
      "source": [
        "1. Customer Segmentation Using RFM Analysis\n",
        "\n",
        "Recency: How recently a customer made a purchase\n",
        "\n",
        "Frequency: How often they purchase\n",
        "\n",
        "Monetary: How much money they spend"
      ],
      "metadata": {
        "id": "fWCPPqf9pNIb"
      }
    },
    {
      "cell_type": "code",
      "source": [
        "import pandas as pd\n",
        "\n",
        "# Sample transactional data\n",
        "data = {\n",
        "    'CustomerID': [1, 2, 1, 3, 2, 1],\n",
        "    'OrderDate': pd.to_datetime([\n",
        "        '2023-08-01', '2023-08-01', '2023-08-10',\n",
        "        '2023-07-15', '2023-08-20', '2023-08-22']),\n",
        "    'OrderValue': [100, 200, 150, 300, 250, 100]\n",
        "}\n",
        "\n",
        "df = pd.DataFrame(data)\n",
        "\n",
        "# Reference date for recency (e.g., today)\n",
        "reference_date = pd.to_datetime('2023-08-31')\n",
        "\n",
        "# Calculate RFM metrics\n",
        "rfm = df.groupby('CustomerID').agg({\n",
        "    'OrderDate': lambda x: (reference_date - x.max()).days,  # Recency\n",
        "    'CustomerID': 'count',                                   # Frequency\n",
        "    'OrderValue': 'sum'                                      # Monetary\n",
        "})\n",
        "\n",
        "rfm.rename(columns={\n",
        "    'OrderDate': 'Recency',\n",
        "    'CustomerID': 'Frequency',\n",
        "    'OrderValue': 'Monetary'\n",
        "}, inplace=True)\n",
        "\n",
        "print(rfm)\n"
      ],
      "metadata": {
        "colab": {
          "base_uri": "https://localhost:8080/"
        },
        "id": "vk7K9bhMpCCI",
        "outputId": "8e94bc7d-96bf-4201-ebbb-a3b39d510460"
      },
      "execution_count": 92,
      "outputs": [
        {
          "output_type": "stream",
          "name": "stdout",
          "text": [
            "            Recency  Frequency  Monetary\n",
            "CustomerID                              \n",
            "1                 9          3       350\n",
            "2                11          2       450\n",
            "3                47          1       300\n"
          ]
        }
      ]
    },
    {
      "cell_type": "markdown",
      "source": [
        "2. Calculate KPIs\n",
        "\n",
        "a) Total Sales"
      ],
      "metadata": {
        "id": "bno5zJL_pTkm"
      }
    },
    {
      "cell_type": "code",
      "source": [
        "total_sales = df['OrderValue'].sum()\n",
        "print(f\"Total Sales: {total_sales}\")\n"
      ],
      "metadata": {
        "colab": {
          "base_uri": "https://localhost:8080/"
        },
        "id": "_cmtAJq5pRJH",
        "outputId": "6fc9b0af-a53d-4683-db1f-621c18e23f9c"
      },
      "execution_count": 93,
      "outputs": [
        {
          "output_type": "stream",
          "name": "stdout",
          "text": [
            "Total Sales: 1100\n"
          ]
        }
      ]
    },
    {
      "cell_type": "markdown",
      "source": [
        "b) Average Order Value (AOV)"
      ],
      "metadata": {
        "id": "HySB9Sd6pYY7"
      }
    },
    {
      "cell_type": "code",
      "source": [
        "aov = df['OrderValue'].mean()\n",
        "print(f\"Average Order Value: {aov}\")\n"
      ],
      "metadata": {
        "colab": {
          "base_uri": "https://localhost:8080/"
        },
        "id": "6WNPKK8upWJg",
        "outputId": "96054232-4186-422b-f0d8-9af7af7bd8d5"
      },
      "execution_count": 94,
      "outputs": [
        {
          "output_type": "stream",
          "name": "stdout",
          "text": [
            "Average Order Value: 183.33333333333334\n"
          ]
        }
      ]
    },
    {
      "cell_type": "markdown",
      "source": [
        "c) Repeat Purchase Rate"
      ],
      "metadata": {
        "id": "LbPq5OOApcgP"
      }
    },
    {
      "cell_type": "code",
      "source": [
        "repeat_customers = df.groupby('CustomerID').size()\n",
        "repeat_purchase_rate = (repeat_customers > 1).mean()\n",
        "print(f\"Repeat Purchase Rate: {repeat_purchase_rate:.2%}\")\n"
      ],
      "metadata": {
        "colab": {
          "base_uri": "https://localhost:8080/"
        },
        "id": "Kx4NFiIfpayK",
        "outputId": "2aaa371b-911a-467e-da4a-ff2eb842fdf1"
      },
      "execution_count": 95,
      "outputs": [
        {
          "output_type": "stream",
          "name": "stdout",
          "text": [
            "Repeat Purchase Rate: 66.67%\n"
          ]
        }
      ]
    },
    {
      "cell_type": "markdown",
      "source": [
        "3. Cohort Analysis\n",
        "\n",
        "Group customers by their first purchase month and analyze retention."
      ],
      "metadata": {
        "id": "zRRYb1tVpgse"
      }
    },
    {
      "cell_type": "code",
      "source": [
        "df['OrderMonth'] = df['OrderDate'].dt.to_period('M')\n",
        "\n",
        "# First purchase month per customer\n",
        "first_purchase = df.groupby('CustomerID')['OrderMonth'].min().reset_index()\n",
        "first_purchase.columns = ['CustomerID', 'CohortMonth']\n",
        "\n",
        "df = df.merge(first_purchase, on='CustomerID')\n",
        "\n",
        "# Calculate cohort index (months since first purchase)\n",
        "df['CohortIndex'] = (df['OrderMonth'].dt.year - df['CohortMonth'].dt.year) * 12 + \\\n",
        "                    (df['OrderMonth'].dt.month - df['CohortMonth'].dt.month) + 1\n",
        "\n",
        "cohort_data = df.groupby(['CohortMonth', 'CohortIndex'])['CustomerID'].nunique().reset_index()\n",
        "\n",
        "print(cohort_data)\n"
      ],
      "metadata": {
        "colab": {
          "base_uri": "https://localhost:8080/"
        },
        "id": "DRpoqQBwpe0L",
        "outputId": "95b3d44e-89b4-4584-b77d-5ecec19146d3"
      },
      "execution_count": 101,
      "outputs": [
        {
          "output_type": "stream",
          "name": "stdout",
          "text": [
            "  CohortMonth  CohortIndex  CustomerID\n",
            "0     2023-07            1           1\n",
            "1     2023-08            1           2\n"
          ]
        }
      ]
    },
    {
      "cell_type": "markdown",
      "source": [
        "4. Identify Top Products, Seasonal Trends, Sales by Region\n",
        "\n",
        "Assuming extra columns like 'Product' and 'Region' exist:"
      ],
      "metadata": {
        "id": "9K-lNSo0pmAu"
      }
    },
    {
      "cell_type": "code",
      "source": [
        "if 'Product' in df.columns:\n",
        "    top_products = df.groupby('Product')['OrderValue'].sum().sort_values(ascending=False)\n",
        "    print(top_products.head())\n",
        "else:\n",
        "    print(\"No 'Product' column in DataFrame\")\n"
      ],
      "metadata": {
        "colab": {
          "base_uri": "https://localhost:8080/"
        },
        "id": "0oYpnkzcqlvk",
        "outputId": "7780a18f-2012-477f-ed40-4bce17a8599c"
      },
      "execution_count": 105,
      "outputs": [
        {
          "output_type": "stream",
          "name": "stdout",
          "text": [
            "No 'Product' column in DataFrame\n"
          ]
        }
      ]
    },
    {
      "cell_type": "code",
      "source": [
        "\"\"\"# Top products by sales\n",
        "top_products = df.groupby('Product')['OrderValue'].sum().sort_values(ascending=False)\n",
        "print(top_products.head())\n",
        "\n",
        "# Seasonal trends - monthly sales\n",
        "monthly_sales = df.groupby(df['OrderDate'].dt.to_period('M'))['OrderValue'].sum()\n",
        "monthly_sales.plot(kind='line', title='Monthly Sales')\n",
        "\"\"\""
      ],
      "metadata": {
        "colab": {
          "base_uri": "https://localhost:8080/",
          "height": 88
        },
        "id": "ESlvEu2-pj3K",
        "outputId": "daa7fed9-cb7d-45f6-ba92-47d7976d3911"
      },
      "execution_count": 107,
      "outputs": [
        {
          "output_type": "execute_result",
          "data": {
            "text/plain": [
              "\"# Top products by sales\\ntop_products = df.groupby('Product')['OrderValue'].sum().sort_values(ascending=False)\\nprint(top_products.head())\\n\\n# Seasonal trends - monthly sales\\nmonthly_sales = df.groupby(df['OrderDate'].dt.to_period('M'))['OrderValue'].sum()\\nmonthly_sales.plot(kind='line', title='Monthly Sales')\\n\""
            ],
            "application/vnd.google.colaboratory.intrinsic+json": {
              "type": "string"
            }
          },
          "metadata": {},
          "execution_count": 107
        }
      ]
    },
    {
      "cell_type": "markdown",
      "source": [
        "#1. Use NumPy for Numerical Operations\n",
        "Pandas is built on NumPy, so they integrate seamlessly.\n",
        "\n",
        "Use NumPy for vectorized math, statistics, and array manipulations."
      ],
      "metadata": {
        "id": "Q9vQQ5Jqq4t2"
      }
    },
    {
      "cell_type": "code",
      "source": [
        "import pandas as pd\n",
        "import numpy as np\n",
        "\n",
        "df = pd.DataFrame({'A': [1, 2, 3, 4], 'B': [5, 6, 7, 8]})\n",
        "\n",
        "# NumPy sqrt applied to DataFrame column\n",
        "df['sqrt_A'] = np.sqrt(df['A'])\n",
        "\n",
        "# Create new column with a NumPy function\n",
        "df['log_B'] = np.log(df['B'])\n",
        "\n",
        "print(df)\n"
      ],
      "metadata": {
        "colab": {
          "base_uri": "https://localhost:8080/"
        },
        "id": "G-pW2txIppmu",
        "outputId": "1ac9834a-c14a-472b-c8bd-272e3ac7222d"
      },
      "execution_count": 108,
      "outputs": [
        {
          "output_type": "stream",
          "name": "stdout",
          "text": [
            "   A  B    sqrt_A     log_B\n",
            "0  1  5  1.000000  1.609438\n",
            "1  2  6  1.414214  1.791759\n",
            "2  3  7  1.732051  1.945910\n",
            "3  4  8  2.000000  2.079442\n"
          ]
        }
      ]
    },
    {
      "cell_type": "markdown",
      "source": [
        "2. Use Matplotlib for Customizable Visualizations\n",
        "\n",
        "Pandas .plot() is built on Matplotlib but sometimes you need more control."
      ],
      "metadata": {
        "id": "Ws3FMo04q_cc"
      }
    },
    {
      "cell_type": "code",
      "source": [
        "import matplotlib.pyplot as plt\n",
        "\n",
        "df.plot(x='A', y='B', kind='scatter')\n",
        "plt.title('Scatter plot of A vs B')\n",
        "plt.xlabel('A values')\n",
        "plt.ylabel('B values')\n",
        "plt.grid(True)\n",
        "plt.show()\n"
      ],
      "metadata": {
        "colab": {
          "base_uri": "https://localhost:8080/",
          "height": 477
        },
        "id": "-W6EHDOsq9fz",
        "outputId": "731b8152-4b21-40af-8c42-78738596ba50"
      },
      "execution_count": 109,
      "outputs": [
        {
          "output_type": "display_data",
          "data": {
            "text/plain": [
              "<Figure size 640x480 with 1 Axes>"
            ],
            "image/png": "[encoded data removed]"
          },
          "metadata": {}
        }
      ]
    },
    {
      "cell_type": "markdown",
      "source": [
        "3. Use Seaborn for Statistical and Attractive Plots\n",
        "\n",
        "Built on Matplotlib, with better aesthetics and statistical features."
      ],
      "metadata": {
        "id": "vCYmvD-trELx"
      }
    },
    {
      "cell_type": "code",
      "source": [
        "import seaborn as sns\n",
        "\n",
        "# Example dataset\n",
        "tips = sns.load_dataset('tips')\n",
        "\n",
        "# Scatter plot with regression line\n",
        "sns.lmplot(data=tips, x='total_bill', y='tip', hue='smoker', markers=['o', 'x'])\n",
        "\n",
        "plt.title('Tips vs Total Bill by Smoker Status')\n",
        "plt.show()\n"
      ],
      "metadata": {
        "colab": {
          "base_uri": "https://localhost:8080/",
          "height": 530
        },
        "id": "Lv8aDvVurCHL",
        "outputId": "534cee25-6341-4d2c-de5c-e8bfc4dc05a6"
      },
      "execution_count": 110,
      "outputs": [
        {
          "output_type": "display_data",
          "data": {
            "text/plain": [
              "<Figure size 572.125x500 with 1 Axes>"
            ],
            "image/png": "[encoded data removed]"
          },
          "metadata": {}
        }
      ]
    },
    {
      "cell_type": "markdown",
      "source": [
        "Common Seaborn plots:\n",
        "\n",
        "sns.histplot()\n",
        "\n",
        "sns.boxplot()\n",
        "\n",
        "sns.heatmap()\n",
        "\n",
        "sns.countplot()\n",
        "\n",
        "sns.pairplot()"
      ],
      "metadata": {
        "id": "-C2jcj01rKTW"
      }
    },
    {
      "cell_type": "markdown",
      "source": [
        "| Tool           | Use case                           |\n",
        "| -------------- | ---------------------------------- |\n",
        "| **NumPy**      | Fast numeric computations          |\n",
        "| **Pandas**     | Data manipulation & analysis       |\n",
        "| **Matplotlib** | Custom plots & fine control        |\n",
        "| **Seaborn**    | Statistical plots & better styling |\n"
      ],
      "metadata": {
        "id": "UUzqz1A-rMLI"
      }
    },
    {
      "cell_type": "code",
      "source": [],
      "metadata": {
        "id": "bttbzaDvrHN3"
      },
      "execution_count": null,
      "outputs": []
    }
  ]
}