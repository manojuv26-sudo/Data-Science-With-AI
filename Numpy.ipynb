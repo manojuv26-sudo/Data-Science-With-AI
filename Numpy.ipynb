{
  "nbformat": 4,
  "nbformat_minor": 0,
  "metadata": {
    "colab": {
      "provenance": []
    },
    "kernelspec": {
      "name": "python3",
      "display_name": "Python 3"
    },
    "language_info": {
      "name": "python"
    }
  },
  "cells": [
    {
      "cell_type": "markdown",
      "source": [
        "#Introduction to NumPy\n",
        "1. What is NumPy?\n",
        "NumPy (Numerical Python) is an open-source Python library for:\n",
        "\n",
        "Handling multi-dimensional arrays (ndarray)\n",
        "\n",
        "Performing fast mathematical and statistical operations\n",
        "\n",
        "Supporting linear algebra, Fourier transforms, and random number generation\n",
        "\n",
        "It’s the core numerical computing tool in Python, forming the base for libraries like Pandas, SciPy, scikit-learn, TensorFlow, and more.\n",
        "\n",
        "2. Features of NumPy\n",
        "N-dimensional array object (ndarray) for storing homogeneous data\n",
        "\n",
        "Vectorized operations (no explicit loops needed)\n",
        "\n",
        "Broadcasting → Operations on arrays of different shapes\n",
        "\n",
        "Rich mathematical functions → trigonometry, statistics, linear algebra\n",
        "\n",
        "Interoperability → Works with C/C++ and Fortran\n",
        "\n",
        "Efficient memory usage → Stores data in contiguous memory blocks\n",
        "\n",
        "3. Why NumPy is Fast\n",
        "Written in C → Avoids Python’s interpreter overhead\n",
        "\n",
        "Vectorization → Executes operations on entire arrays at once\n",
        "\n",
        "Contiguous Memory Layout → Enables CPU cache optimization\n",
        "\n",
        "Low-level optimizations → Uses BLAS, LAPACK, or Intel MKL libraries"
      ],
      "metadata": {
        "id": "3v1HvrRly7iB"
      }
    },
    {
      "cell_type": "markdown",
      "source": [
        "Applications\n",
        "\n",
        "Data Analysis → Base for Pandas\n",
        "\n",
        "Machine Learning → Used in TensorFlow, PyTorch\n",
        "\n",
        "Scientific Computing → Physics, statistics, simulations\n",
        "\n",
        "Image Processing → Images as arrays"
      ],
      "metadata": {
        "id": "-q4EZdeczGJq"
      }
    },
    {
      "cell_type": "markdown",
      "source": [
        "| Aspect          | Python List                   | NumPy Array                    |\n",
        "| --------------- | ----------------------------- | ------------------------------ |\n",
        "| **Data Type**   | Can hold mixed types          | Homogeneous (single data type) |\n",
        "| **Speed**       | Slow for numerical operations | Very fast (C-level operations) |\n",
        "| **Memory**      | Uses more memory              | More memory-efficient          |\n",
        "| **Operations**  | No vectorized math            | Supports vectorized math       |\n",
        "| **Performance** | Loops in Python               | Loops in compiled C code       |\n"
      ],
      "metadata": {
        "id": "0QPCFfM_0Vtt"
      }
    },
    {
      "cell_type": "code",
      "execution_count": 1,
      "metadata": {
        "colab": {
          "base_uri": "https://localhost:8080/"
        },
        "id": "anglrJGqxsmh",
        "outputId": "c62f8402-e473-4b4e-c1ec-fa630547329b"
      },
      "outputs": [
        {
          "output_type": "stream",
          "name": "stdout",
          "text": [
            "[ 2  4  6  8 10]\n",
            "[4 5 6 7 8]\n"
          ]
        }
      ],
      "source": [
        "import numpy as np\n",
        "\n",
        "# Creating an array\n",
        "arr = np.array([1, 2, 3, 4, 5])\n",
        "\n",
        "# Mathematical operations\n",
        "print(arr * 2)  # [ 2  4  6  8 10]\n",
        "print(arr + 3)  # [ 4  5  6  7  8]\n"
      ]
    },
    {
      "cell_type": "code",
      "source": [
        "import numpy as np\n",
        "\n",
        "# Python list\n",
        "lst = [1, 2, 3, 4, 5]\n",
        "# NumPy array\n",
        "arr = np.array([1, 2, 3, 4, 5])\n",
        "\n",
        "print([x*2 for x in lst])  # Python loop → [2, 4, 6, 8, 10]\n",
        "print(arr * 2)             # Vectorized → [ 2  4  6  8 10]\n"
      ],
      "metadata": {
        "colab": {
          "base_uri": "https://localhost:8080/"
        },
        "id": "vsOnefgPzDHj",
        "outputId": "576f71bc-4c43-4027-ccb5-3459a81e05f1"
      },
      "execution_count": 2,
      "outputs": [
        {
          "output_type": "stream",
          "name": "stdout",
          "text": [
            "[2, 4, 6, 8, 10]\n",
            "[ 2  4  6  8 10]\n"
          ]
        }
      ]
    },
    {
      "cell_type": "markdown",
      "source": [
        "Installation\n",
        "\n",
        "To install NumPy, run in your terminal or command prompt:"
      ],
      "metadata": {
        "id": "h3LqvKro0iWe"
      }
    },
    {
      "cell_type": "code",
      "source": [
        "pip install numpy\n"
      ],
      "metadata": {
        "colab": {
          "base_uri": "https://localhost:8080/"
        },
        "id": "b97VORhG0Zor",
        "outputId": "2f8ffb24-0130-419c-a475-19ef4d55c39e"
      },
      "execution_count": 3,
      "outputs": [
        {
          "output_type": "stream",
          "name": "stdout",
          "text": [
            "Requirement already satisfied: numpy in /usr/local/lib/python3.11/dist-packages (2.0.2)\n"
          ]
        }
      ]
    },
    {
      "cell_type": "markdown",
      "source": [
        "Importing NumPy\n",
        "\n",
        "It’s standard practice to import NumPy using the alias np:"
      ],
      "metadata": {
        "id": "OB3Q9dis04OO"
      }
    },
    {
      "cell_type": "code",
      "source": [
        "import numpy as np\n"
      ],
      "metadata": {
        "id": "8nZAqPNE0xBG"
      },
      "execution_count": 4,
      "outputs": []
    },
    {
      "cell_type": "markdown",
      "source": [
        "Using np makes code shorter and more readable.\n",
        "\n",
        "Example: np.array() instead of numpy.array()."
      ],
      "metadata": {
        "id": "w2-e0RNT0_TR"
      }
    },
    {
      "cell_type": "markdown",
      "source": [
        "Checking NumPy Version\n",
        "\n",
        "You can check the installed version with:"
      ],
      "metadata": {
        "id": "oO87LuK91D7o"
      }
    },
    {
      "cell_type": "code",
      "source": [
        "import numpy as np\n",
        "print(np.__version__)\n"
      ],
      "metadata": {
        "colab": {
          "base_uri": "https://localhost:8080/"
        },
        "id": "CjvxtXsC07Vf",
        "outputId": "4dee5800-70bd-495b-b886-5b72ab4db3b7"
      },
      "execution_count": 5,
      "outputs": [
        {
          "output_type": "stream",
          "name": "stdout",
          "text": [
            "2.0.2\n"
          ]
        }
      ]
    },
    {
      "cell_type": "markdown",
      "source": [
        "#Numpy Arrays"
      ],
      "metadata": {
        "id": "GTgdu4D21PNY"
      }
    },
    {
      "cell_type": "markdown",
      "source": [
        "Creating Arrays from Python Lists\n",
        "\n",
        "You can convert a normal Python list into a NumPy array using np.array()."
      ],
      "metadata": {
        "id": "M5s2QfKh1WGL"
      }
    },
    {
      "cell_type": "code",
      "source": [
        "import numpy as np\n",
        "\n",
        "# Python list\n",
        "py_list = [1, 2, 3, 4, 5]\n",
        "\n",
        "# Convert to NumPy array\n",
        "arr = np.array(py_list)\n",
        "\n",
        "print(arr)          # [1 2 3 4 5]\n",
        "print(type(arr))    # <class 'numpy.ndarray'>\n"
      ],
      "metadata": {
        "colab": {
          "base_uri": "https://localhost:8080/"
        },
        "id": "hCBIhSfM1Hl7",
        "outputId": "8984dc00-91b1-4945-c1c9-83f147fed924"
      },
      "execution_count": 6,
      "outputs": [
        {
          "output_type": "stream",
          "name": "stdout",
          "text": [
            "[1 2 3 4 5]\n",
            "<class 'numpy.ndarray'>\n"
          ]
        }
      ]
    },
    {
      "cell_type": "markdown",
      "source": [
        "Specifying Data Type with dtype\n",
        "\n",
        "You can set the data type of the array explicitly using dtype.\n",
        "\n"
      ],
      "metadata": {
        "id": "YK_S6Z__1hJ1"
      }
    },
    {
      "cell_type": "code",
      "source": [
        "# Integer array\n",
        "arr_int = np.array([1, 2, 3], dtype=int)\n",
        "print(arr_int, arr_int.dtype)  # [1 2 3] int64\n",
        "\n",
        "# Float array\n",
        "arr_float = np.array([1, 2, 3], dtype=float)\n",
        "print(arr_float, arr_float.dtype)  # [1. 2. 3.] float64\n",
        "\n",
        "# Complex numbers\n",
        "arr_complex = np.array([1, 2, 3], dtype=complex)\n",
        "print(arr_complex, arr_complex.dtype)  # [1.+0.j 2.+0.j 3.+0.j]\n",
        "\n",
        "# Strings\n",
        "arr_str = np.array([1, 2, 3], dtype=str)\n",
        "print(arr_str, arr_str.dtype)  # ['1' '2' '3'] <U1\n"
      ],
      "metadata": {
        "colab": {
          "base_uri": "https://localhost:8080/"
        },
        "id": "S4DbltTV1Zwh",
        "outputId": "ffe49e0d-c1f6-4e16-8609-356dcd8087cf"
      },
      "execution_count": 7,
      "outputs": [
        {
          "output_type": "stream",
          "name": "stdout",
          "text": [
            "[1 2 3] int64\n",
            "[1. 2. 3.] float64\n",
            "[1.+0.j 2.+0.j 3.+0.j] complex128\n",
            "['1' '2' '3'] <U1\n"
          ]
        }
      ]
    },
    {
      "cell_type": "markdown",
      "source": [
        "#NumPy Array Types\n",
        "NumPy arrays can have any number of dimensions (also called rank).\n",
        "The ndim attribute tells you how many dimensions an array has."
      ],
      "metadata": {
        "id": "UTbw_0fi11wB"
      }
    },
    {
      "cell_type": "markdown",
      "source": [
        "| Type | Example Shape | Real-world Example                  |\n",
        "| ---- | ------------- | ----------------------------------- |\n",
        "| 1D   | (5,)          | Temperature readings in a week      |\n",
        "| 2D   | (3, 4)        | Spreadsheet data (rows × columns)   |\n",
        "| 3D   | (10, 28, 28)  | 10 grayscale images of 28×28 pixels |\n",
        "| n-D  | varies        | Deep learning tensors               |\n"
      ],
      "metadata": {
        "id": "9SfzPxFe2Sz2"
      }
    },
    {
      "cell_type": "markdown",
      "source": [
        "1D Array (One-Dimensional)\n",
        "A simple list of elements."
      ],
      "metadata": {
        "id": "HADaICCU14QM"
      }
    },
    {
      "cell_type": "code",
      "source": [
        "import numpy as np\n",
        "\n",
        "arr1D = np.array([1, 2, 3, 4, 5])\n",
        "print(arr1D)\n",
        "print(\"Dimensions:\", arr1D.ndim)   # 1\n",
        "print(\"Shape:\", arr1D.shape)       # (5,)\n"
      ],
      "metadata": {
        "colab": {
          "base_uri": "https://localhost:8080/"
        },
        "id": "YxsP0KBj1pBk",
        "outputId": "45c88ef5-faaa-4493-c8e6-e84fe117e3dd"
      },
      "execution_count": 8,
      "outputs": [
        {
          "output_type": "stream",
          "name": "stdout",
          "text": [
            "[1 2 3 4 5]\n",
            "Dimensions: 1\n",
            "Shape: (5,)\n"
          ]
        }
      ]
    },
    {
      "cell_type": "markdown",
      "source": [
        "2D Array (Two-Dimensional)\n",
        "\n",
        "Like a matrix — rows and columns."
      ],
      "metadata": {
        "id": "UQCk3QJ41_D3"
      }
    },
    {
      "cell_type": "code",
      "source": [
        "arr2D = np.array([[1, 2, 3], [4, 5, 6]])\n",
        "print(arr2D)\n",
        "print(\"Dimensions:\", arr2D.ndim)   # 2\n",
        "print(\"Shape:\", arr2D.shape)       # (2, 3)\n"
      ],
      "metadata": {
        "colab": {
          "base_uri": "https://localhost:8080/"
        },
        "id": "Pzy4l_Ia16sN",
        "outputId": "273fe57c-45e3-4d2b-ef04-85aa30889a0d"
      },
      "execution_count": 9,
      "outputs": [
        {
          "output_type": "stream",
          "name": "stdout",
          "text": [
            "[[1 2 3]\n",
            " [4 5 6]]\n",
            "Dimensions: 2\n",
            "Shape: (2, 3)\n"
          ]
        }
      ]
    },
    {
      "cell_type": "markdown",
      "source": [
        "3D Array (Three-Dimensional)\n",
        "\n",
        "Like a cube of numbers — depth × rows × columns."
      ],
      "metadata": {
        "id": "TnBEZx252G-9"
      }
    },
    {
      "cell_type": "code",
      "source": [
        "arr3D = np.array([\n",
        "    [[1, 2], [3, 4]],\n",
        "    [[5, 6], [7, 8]]\n",
        "])\n",
        "print(arr3D)\n",
        "print(\"Dimensions:\", arr3D.ndim)   # 3\n",
        "print(\"Shape:\", arr3D.shape)       # (2, 2, 2)\n"
      ],
      "metadata": {
        "colab": {
          "base_uri": "https://localhost:8080/"
        },
        "id": "IGg1ZkXp2B8f",
        "outputId": "cba36d50-3900-41e9-b332-348462236799"
      },
      "execution_count": 10,
      "outputs": [
        {
          "output_type": "stream",
          "name": "stdout",
          "text": [
            "[[[1 2]\n",
            "  [3 4]]\n",
            "\n",
            " [[5 6]\n",
            "  [7 8]]]\n",
            "Dimensions: 3\n",
            "Shape: (2, 2, 2)\n"
          ]
        }
      ]
    },
    {
      "cell_type": "markdown",
      "source": [
        "N-Dimensional Arrays\n",
        "\n",
        "\n",
        "You can have arrays with 4D, 5D, or more dimensions."
      ],
      "metadata": {
        "id": "f6e68JCv2Mq9"
      }
    },
    {
      "cell_type": "code",
      "source": [
        "arrND = np.array([1, 2, 3], ndmin=5)\n",
        "print(arrND)\n",
        "print(\"Dimensions:\", arrND.ndim)   # 5\n",
        "print(\"Shape:\", arrND.shape)       # (1, 1, 1, 1, 3)\n"
      ],
      "metadata": {
        "colab": {
          "base_uri": "https://localhost:8080/"
        },
        "id": "bnRRcdD52KJQ",
        "outputId": "9be47684-7927-4b35-bbc8-d05767583f86"
      },
      "execution_count": 11,
      "outputs": [
        {
          "output_type": "stream",
          "name": "stdout",
          "text": [
            "[[[[[1 2 3]]]]]\n",
            "Dimensions: 5\n",
            "Shape: (1, 1, 1, 1, 3)\n"
          ]
        }
      ]
    },
    {
      "cell_type": "markdown",
      "source": [
        "#Array Attributes in NumPy\n",
        "NumPy arrays (ndarray) come with several built-in attributes that give information about their shape, size, dimensions, data type, and memory layout.\n",
        "\n",
        "Let’s explore the most common ones.\n",
        "\n"
      ],
      "metadata": {
        "id": "hhLgZ5tN2jFC"
      }
    },
    {
      "cell_type": "markdown",
      "source": [
        "| Attribute   | Meaning               | Example        |\n",
        "| ----------- | --------------------- | -------------- |\n",
        "| `.ndim`     | Number of dimensions  | `2`            |\n",
        "| `.shape`    | Size along each axis  | `(2, 3)`       |\n",
        "| `.size`     | Total elements        | `6`            |\n",
        "| `.dtype`    | Data type of elements | `int64`        |\n",
        "| `.itemsize` | Bytes per element     | `8`            |\n",
        "| `.nbytes`   | Total memory usage    | `48`           |\n",
        "| `.T`        | Transpose of array    | Matrix flipped |\n"
      ],
      "metadata": {
        "id": "NqX4yaA63CG5"
      }
    },
    {
      "cell_type": "markdown",
      "source": [
        ".ndim — Number of Dimensions"
      ],
      "metadata": {
        "id": "frCRKUzg2lxK"
      }
    },
    {
      "cell_type": "code",
      "source": [
        "import numpy as np\n",
        "arr = np.array([[1, 2, 3], [4, 5, 6]])\n",
        "print(arr.ndim)   # 2\n"
      ],
      "metadata": {
        "colab": {
          "base_uri": "https://localhost:8080/"
        },
        "id": "LxENZDAc2PTQ",
        "outputId": "a55ce141-9760-40ba-8ab3-ae7b8503832f"
      },
      "execution_count": 12,
      "outputs": [
        {
          "output_type": "stream",
          "name": "stdout",
          "text": [
            "2\n"
          ]
        }
      ]
    },
    {
      "cell_type": "markdown",
      "source": [
        ".shape — Shape of Array"
      ],
      "metadata": {
        "id": "8hxM4uAy2qQ5"
      }
    },
    {
      "cell_type": "code",
      "source": [
        "print(arr.shape)  # (2, 3)\n"
      ],
      "metadata": {
        "colab": {
          "base_uri": "https://localhost:8080/"
        },
        "id": "zqyv1w4w2n0O",
        "outputId": "598c84a5-ef7a-4bb7-d45e-3f0637f117d9"
      },
      "execution_count": 13,
      "outputs": [
        {
          "output_type": "stream",
          "name": "stdout",
          "text": [
            "(2, 3)\n"
          ]
        }
      ]
    },
    {
      "cell_type": "markdown",
      "source": [
        " .size — Total Number of Elements"
      ],
      "metadata": {
        "id": "rGEDlkxQ2t7F"
      }
    },
    {
      "cell_type": "code",
      "source": [
        "print(arr.size)   # 6\n"
      ],
      "metadata": {
        "colab": {
          "base_uri": "https://localhost:8080/"
        },
        "id": "ZJ46xvhj2r3m",
        "outputId": "d476f4aa-676b-42e7-a54f-4ff0920b57e4"
      },
      "execution_count": 14,
      "outputs": [
        {
          "output_type": "stream",
          "name": "stdout",
          "text": [
            "6\n"
          ]
        }
      ]
    },
    {
      "cell_type": "markdown",
      "source": [
        " .dtype — Data Type of Elements"
      ],
      "metadata": {
        "id": "Qc6EGiDx2yE-"
      }
    },
    {
      "cell_type": "code",
      "source": [
        "print(arr.dtype)  # int64 (depends on system)\n"
      ],
      "metadata": {
        "colab": {
          "base_uri": "https://localhost:8080/"
        },
        "id": "o76djLZN2wC3",
        "outputId": "7fe3d456-4fac-4333-8115-d1f243e926cc"
      },
      "execution_count": 15,
      "outputs": [
        {
          "output_type": "stream",
          "name": "stdout",
          "text": [
            "int64\n"
          ]
        }
      ]
    },
    {
      "cell_type": "markdown",
      "source": [
        ".itemsize — Size of Each Element (Bytes)"
      ],
      "metadata": {
        "id": "fkBpJRV822D_"
      }
    },
    {
      "cell_type": "code",
      "source": [
        "print(arr.itemsize)  # 8 (for int64, 8 bytes per element)\n"
      ],
      "metadata": {
        "colab": {
          "base_uri": "https://localhost:8080/"
        },
        "id": "W1Vt5rSh2z7u",
        "outputId": "05a887c2-3a97-45dc-dfab-9b3110bfcbe5"
      },
      "execution_count": 16,
      "outputs": [
        {
          "output_type": "stream",
          "name": "stdout",
          "text": [
            "8\n"
          ]
        }
      ]
    },
    {
      "cell_type": "markdown",
      "source": [
        ".nbytes — Total Bytes Consumed"
      ],
      "metadata": {
        "id": "Tk-Fa7SX25wg"
      }
    },
    {
      "cell_type": "code",
      "source": [
        "print(arr.nbytes)  # size × itemsize = 6 × 8 = 48\n"
      ],
      "metadata": {
        "colab": {
          "base_uri": "https://localhost:8080/"
        },
        "id": "Zkdk5uYW23wx",
        "outputId": "b73cdcca-e9c9-4403-e536-8536fe21e38f"
      },
      "execution_count": 17,
      "outputs": [
        {
          "output_type": "stream",
          "name": "stdout",
          "text": [
            "48\n"
          ]
        }
      ]
    },
    {
      "cell_type": "markdown",
      "source": [
        ".T — Transpose of Array"
      ],
      "metadata": {
        "id": "X02wT-xY29n8"
      }
    },
    {
      "cell_type": "code",
      "source": [
        "print(arr.T)\n",
        "# [[1 4]\n",
        "#  [2 5]\n",
        "#  [3 6]]\n"
      ],
      "metadata": {
        "colab": {
          "base_uri": "https://localhost:8080/"
        },
        "id": "LCwUorY127ji",
        "outputId": "4de3f953-4088-41cf-be35-e946e1caea2d"
      },
      "execution_count": 18,
      "outputs": [
        {
          "output_type": "stream",
          "name": "stdout",
          "text": [
            "[[1 4]\n",
            " [2 5]\n",
            " [3 6]]\n"
          ]
        }
      ]
    },
    {
      "cell_type": "markdown",
      "source": [
        "#Type Conversion in NumPy\n",
        "Type conversion means changing the data type (dtype) of a NumPy array.\n",
        "NumPy provides two main ways to do this:"
      ],
      "metadata": {
        "id": "5BzzZu7f3vPi"
      }
    },
    {
      "cell_type": "markdown",
      "source": [
        "Using astype() Method\n",
        "\n",
        "The astype() method creates a new array with the desired data type."
      ],
      "metadata": {
        "id": "K8YiGE0C4dtZ"
      }
    },
    {
      "cell_type": "code",
      "source": [
        "import numpy as np\n",
        "\n",
        "arr = np.array([1.2, 3.4, 5.6])\n",
        "print(arr, arr.dtype)   # [1.2 3.4 5.6] float64\n",
        "\n",
        "# Convert to integer\n",
        "arr_int = arr.astype(int)\n",
        "print(arr_int, arr_int.dtype)  # [1 3 5] int64\n",
        "\n",
        "# Convert to string\n",
        "arr_str = arr.astype(str)\n",
        "print(arr_str, arr_str.dtype)  # ['1.2' '3.4' '5.6'] <U32\n"
      ],
      "metadata": {
        "colab": {
          "base_uri": "https://localhost:8080/"
        },
        "id": "8qyUd4Z42_0m",
        "outputId": "2908c94b-de3c-4267-871c-50d4c13dbbf5"
      },
      "execution_count": 19,
      "outputs": [
        {
          "output_type": "stream",
          "name": "stdout",
          "text": [
            "[1.2 3.4 5.6] float64\n",
            "[1 3 5] int64\n",
            "['1.2' '3.4' '5.6'] <U32\n"
          ]
        }
      ]
    },
    {
      "cell_type": "markdown",
      "source": [
        "Changing dtype During Array Creation\n",
        "\n",
        "You can specify the data type when creating the array."
      ],
      "metadata": {
        "id": "0FMLIBND4nC3"
      }
    },
    {
      "cell_type": "code",
      "source": [
        "arr2 = np.array([1, 2, 3], dtype=float)\n",
        "print(arr2, arr2.dtype)  # [1. 2. 3.] float64\n"
      ],
      "metadata": {
        "colab": {
          "base_uri": "https://localhost:8080/"
        },
        "id": "-6skk4cD4jsf",
        "outputId": "2899b030-cadd-4459-869b-52ad8419524d"
      },
      "execution_count": 20,
      "outputs": [
        {
          "output_type": "stream",
          "name": "stdout",
          "text": [
            "[1. 2. 3.] float64\n"
          ]
        }
      ]
    },
    {
      "cell_type": "markdown",
      "source": [
        "Common Data Types in NumPy"
      ],
      "metadata": {
        "id": "MZxtmlVf42u_"
      }
    },
    {
      "cell_type": "markdown",
      "source": [
        "| Data Type   | Description                |\n",
        "| ----------- | -------------------------- |\n",
        "| `int8`      | Integer (1 byte)           |\n",
        "| `int32`     | Integer (4 bytes)          |\n",
        "| `int64`     | Integer (8 bytes)          |\n",
        "| `float32`   | Float (4 bytes)            |\n",
        "| `float64`   | Float (8 bytes, default)   |\n",
        "| `complex64` | Complex number (2×float32) |\n",
        "| `bool`      | Boolean (`True`/`False`)   |\n",
        "| `str`       | String (Unicode)           |\n"
      ],
      "metadata": {
        "id": "57GxP_1H447v"
      }
    },
    {
      "cell_type": "markdown",
      "source": [
        "Memory Optimization\n",
        "\n",
        "If you have large datasets, you can reduce memory usage by converting types."
      ],
      "metadata": {
        "id": "zgKD8JLy47pS"
      }
    },
    {
      "cell_type": "code",
      "source": [
        "big_arr = np.array([1000, 2000, 3000], dtype=np.int64)\n",
        "print(big_arr.nbytes)  # 24 bytes\n",
        "\n",
        "small_arr = big_arr.astype(np.int16)\n",
        "print(small_arr.nbytes)  # 6 bytes\n"
      ],
      "metadata": {
        "colab": {
          "base_uri": "https://localhost:8080/"
        },
        "id": "Fmd4Qzos40Jp",
        "outputId": "93ad50e2-882d-4068-ccf6-5e5e9703c8db"
      },
      "execution_count": 21,
      "outputs": [
        {
          "output_type": "stream",
          "name": "stdout",
          "text": [
            "24\n",
            "6\n"
          ]
        }
      ]
    },
    {
      "cell_type": "markdown",
      "source": [
        "#Array Indexing\n",
        "Indexing means accessing specific elements in a NumPy array.\n",
        "\n",
        "1D Array Indexing"
      ],
      "metadata": {
        "id": "PGvyjmAF5cHI"
      }
    },
    {
      "cell_type": "code",
      "source": [
        "import numpy as np\n",
        "arr = np.array([10, 20, 30, 40, 50])\n",
        "\n",
        "print(arr[0])   # First element → 10\n",
        "print(arr[-1])  # Last element → 50\n",
        "print(arr[2])   # Third element → 30\n"
      ],
      "metadata": {
        "colab": {
          "base_uri": "https://localhost:8080/"
        },
        "id": "UVs-4PRs4-sl",
        "outputId": "cdbb0892-b8c7-49b9-d6e4-15d814bb3a91"
      },
      "execution_count": 22,
      "outputs": [
        {
          "output_type": "stream",
          "name": "stdout",
          "text": [
            "10\n",
            "50\n",
            "30\n"
          ]
        }
      ]
    },
    {
      "cell_type": "markdown",
      "source": [
        "2D Array Indexing\n",
        "\n",
        "Use row index and column index."
      ],
      "metadata": {
        "id": "hsxuohSa5hq3"
      }
    },
    {
      "cell_type": "code",
      "source": [
        "arr2D = np.array([[1, 2, 3],\n",
        "                  [4, 5, 6]])\n",
        "\n",
        "print(arr2D[0, 0])  # 1 (row 0, col 0)\n",
        "print(arr2D[1, 2])  # 6 (row 1, col 2)\n",
        "print(arr2D[-1, -1])# 6 (last row, last col)\n"
      ],
      "metadata": {
        "colab": {
          "base_uri": "https://localhost:8080/"
        },
        "id": "lVUbeMe15kBg",
        "outputId": "061f7844-b826-4a22-a954-6fb66218da4f"
      },
      "execution_count": 23,
      "outputs": [
        {
          "output_type": "stream",
          "name": "stdout",
          "text": [
            "1\n",
            "6\n",
            "6\n"
          ]
        }
      ]
    },
    {
      "cell_type": "markdown",
      "source": [
        "3D Array Indexing"
      ],
      "metadata": {
        "id": "7HPHEWHf5mfL"
      }
    },
    {
      "cell_type": "code",
      "source": [
        "arr3D = np.array([[[1, 2], [3, 4]],\n",
        "                  [[5, 6], [7, 8]]])\n",
        "\n",
        "print(arr3D[0, 1, 1])  # 4 (block 0, row 1, col 1)\n",
        "print(arr3D[1, 0, 0])  # 5\n"
      ],
      "metadata": {
        "colab": {
          "base_uri": "https://localhost:8080/"
        },
        "id": "uBBujz9g5fbl",
        "outputId": "aebe5fc0-fed4-4ad1-9fc4-4de1ceb06a2e"
      },
      "execution_count": 24,
      "outputs": [
        {
          "output_type": "stream",
          "name": "stdout",
          "text": [
            "4\n",
            "5\n"
          ]
        }
      ]
    },
    {
      "cell_type": "markdown",
      "source": [
        "Negative Indexing\n",
        "\n",
        "Negative indices count from the end of the array."
      ],
      "metadata": {
        "id": "VNmtcUrV6eBG"
      }
    },
    {
      "cell_type": "code",
      "source": [
        "print(arr[-1])   # Last element → 50\n",
        "print(arr[-2])   # Second last → 40\n",
        "\n",
        "print(arr2D[-1, -1])  # Last row, last column → 6\n",
        "print(arr2D[-2, -3])  # First row, first column → 1\n"
      ],
      "metadata": {
        "colab": {
          "base_uri": "https://localhost:8080/"
        },
        "id": "_81y75cv6dut",
        "outputId": "6b111577-1a6a-42dd-c700-ef13839f5fd4"
      },
      "execution_count": 28,
      "outputs": [
        {
          "output_type": "stream",
          "name": "stdout",
          "text": [
            "50\n",
            "40\n",
            "9\n",
            "4\n"
          ]
        }
      ]
    },
    {
      "cell_type": "markdown",
      "source": [
        "2. Array Slicing\n",
        "\n",
        "Slicing lets you extract a range of elements using:"
      ],
      "metadata": {
        "id": "_KCsoh0B5rUf"
      }
    },
    {
      "cell_type": "markdown",
      "source": [
        "| Operation    | Example         | Meaning                    |\n",
        "| ------------ | --------------- | -------------------------- |\n",
        "| Index single | `arr[2]`        | Element at index 2         |\n",
        "| Index 2D     | `arr[1, 2]`     | Row 1, col 2               |\n",
        "| Slice 1D     | `arr[1:4]`      | Elements from index 1 to 3 |\n",
        "| Slice 2D     | `arr[0:2, 1:3]` | Rows 0–1, cols 1–2         |\n",
        "| Step slicing | `arr[::2]`      | Every 2nd element          |\n",
        "| Reverse      | `arr[::-1]`     | Reverse order              |\n"
      ],
      "metadata": {
        "id": "2VwkUInv5_ve"
      }
    },
    {
      "cell_type": "markdown",
      "source": [
        "| Feature           | Example             | Result           |\n",
        "| ----------------- | ------------------- | ---------------- |\n",
        "| 1D indexing       | `arr[2]`            | 30               |\n",
        "| 2D indexing       | `arr2D[1, 2]`       | 6                |\n",
        "| Negative indexing | `arr[-1]`           | 50               |\n",
        "| Step slicing 1D   | `arr[::2]`          | \\[10 30 50]      |\n",
        "| Step slicing 2D   | `arr2D[::-1, ::-1]` | Reverse 2D array |\n"
      ],
      "metadata": {
        "id": "pNHktObX683r"
      }
    },
    {
      "cell_type": "markdown",
      "source": [
        "[start : stop : step]\n"
      ],
      "metadata": {
        "id": "iFMbF3S_5tRs"
      }
    },
    {
      "cell_type": "markdown",
      "source": [
        "start → Starting index (inclusive)\n",
        "\n",
        "stop → Ending index (exclusive)\n",
        "\n",
        "step → Interval between elements"
      ],
      "metadata": {
        "id": "9Bq5HcAO5vHU"
      }
    },
    {
      "cell_type": "markdown",
      "source": [
        "1D Array Slicing"
      ],
      "metadata": {
        "id": "HHRaAyWJ5xIE"
      }
    },
    {
      "cell_type": "code",
      "source": [
        "arr = np.array([10, 20, 30, 40, 50])\n",
        "\n",
        "print(arr[1:4])    # [20 30 40]\n",
        "print(arr[:3])     # [10 20 30]\n",
        "print(arr[::2])    # [10 30 50]\n",
        "print(arr[::-1])   # [50 40 30 20 10] (reversed)\n"
      ],
      "metadata": {
        "colab": {
          "base_uri": "https://localhost:8080/"
        },
        "id": "BjgpPM0F5pIG",
        "outputId": "89f4794e-5b06-4e3f-e045-123509a6ba86"
      },
      "execution_count": 25,
      "outputs": [
        {
          "output_type": "stream",
          "name": "stdout",
          "text": [
            "[20 30 40]\n",
            "[10 20 30]\n",
            "[10 30 50]\n",
            "[50 40 30 20 10]\n"
          ]
        }
      ]
    },
    {
      "cell_type": "code",
      "source": [
        "print(arr[1:5:2])  # [20 40] → from index 1 to 4, step 2\n",
        "print(arr[::2])    # [10 30 50] → every 2nd element\n",
        "print(arr[::-1])   # [50 40 30 20 10] → reverse\n"
      ],
      "metadata": {
        "colab": {
          "base_uri": "https://localhost:8080/"
        },
        "id": "6Z-OEpdd62J0",
        "outputId": "5a893809-e9e8-4b5f-d917-4b7d06c71523"
      },
      "execution_count": 29,
      "outputs": [
        {
          "output_type": "stream",
          "name": "stdout",
          "text": [
            "[20 40]\n",
            "[10 30 50]\n",
            "[50 40 30 20 10]\n"
          ]
        }
      ]
    },
    {
      "cell_type": "markdown",
      "source": [
        "2D Array Slicing"
      ],
      "metadata": {
        "id": "KgDvPLou511r"
      }
    },
    {
      "cell_type": "code",
      "source": [
        "arr2D = np.array([[1, 2, 3],\n",
        "                  [4, 5, 6],\n",
        "                  [7, 8, 9]])\n",
        "\n",
        "print(arr2D[0:2, 1:3])  # [[2 3]\n",
        "                        #  [5 6]]\n",
        "print(arr2D[:, 0])      # [1 4 7] → all rows, col 0\n",
        "print(arr2D[1, :])      # [4 5 6] → row 1, all columns\n"
      ],
      "metadata": {
        "colab": {
          "base_uri": "https://localhost:8080/"
        },
        "id": "BJAIiabn5zn0",
        "outputId": "7abc6abf-5e37-4b14-8ba8-a4954590388b"
      },
      "execution_count": 26,
      "outputs": [
        {
          "output_type": "stream",
          "name": "stdout",
          "text": [
            "[[2 3]\n",
            " [5 6]]\n",
            "[1 4 7]\n",
            "[4 5 6]\n"
          ]
        }
      ]
    },
    {
      "cell_type": "code",
      "source": [
        "print(arr2D[::2, ::2])\n",
        "# Every 2nd row, every 2nd column\n",
        "# [[1 3]]\n",
        "\n",
        "print(arr2D[::-1, ::-1])\n",
        "# Reverse rows & columns\n",
        "# [[6 5 4]\n",
        "#  [3 2 1]]\n"
      ],
      "metadata": {
        "colab": {
          "base_uri": "https://localhost:8080/"
        },
        "id": "HCqQ_L_S64pl",
        "outputId": "9b810255-c7f3-45d8-8fc4-b6aab6b0fc7d"
      },
      "execution_count": 30,
      "outputs": [
        {
          "output_type": "stream",
          "name": "stdout",
          "text": [
            "[[1 3]\n",
            " [7 9]]\n",
            "[[9 8 7]\n",
            " [6 5 4]\n",
            " [3 2 1]]\n"
          ]
        }
      ]
    },
    {
      "cell_type": "markdown",
      "source": [
        "3D Array Slicing"
      ],
      "metadata": {
        "id": "nsjECjhV57kg"
      }
    },
    {
      "cell_type": "code",
      "source": [
        "arr3D = np.array([[[1, 2], [3, 4]],\n",
        "                  [[5, 6], [7, 8]]])\n",
        "\n",
        "print(arr3D[:, :, 1])  # All blocks, all rows, col 1 → [[2 4]\n",
        "                       #                               [6 8]]\n"
      ],
      "metadata": {
        "colab": {
          "base_uri": "https://localhost:8080/"
        },
        "id": "_D5uAMC655VV",
        "outputId": "9ca6587f-c10b-40f0-bddf-916391d7e11c"
      },
      "execution_count": 27,
      "outputs": [
        {
          "output_type": "stream",
          "name": "stdout",
          "text": [
            "[[2 4]\n",
            " [6 8]]\n"
          ]
        }
      ]
    },
    {
      "cell_type": "markdown",
      "source": [
        "#Copy vs View"
      ],
      "metadata": {
        "id": "Z6JGKm6Y7XCh"
      }
    },
    {
      "cell_type": "markdown",
      "source": [
        "| Method    | Shares Data? | Memory Usage | Changes Affect Original? |\n",
        "| --------- | ------------ | ------------ | ------------------------ |\n",
        "| `.copy()` | ❌ No         | More         | ❌ No                     |\n",
        "| `.view()` | ✅ Yes        | Less         | ✅ Yes                    |\n"
      ],
      "metadata": {
        "id": "HhLklmeF7uIt"
      }
    },
    {
      "cell_type": "markdown",
      "source": [
        "What’s the Difference?\n",
        "\n",
        "When you create a copy of an array, NumPy makes a completely new array in memory.\n",
        "When you create a view, NumPy creates a new object that refers to the same data in memory.\n",
        "\n"
      ],
      "metadata": {
        "id": "QbHe25ka7akr"
      }
    },
    {
      "cell_type": "markdown",
      "source": [
        ".copy() — Creates an Independent Array\n",
        "\n",
        "Data is fully duplicated into a new memory location.\n",
        "\n",
        "Changes in the copy do not affect the original."
      ],
      "metadata": {
        "id": "h7VADFKh7d4Y"
      }
    },
    {
      "cell_type": "code",
      "source": [
        "import numpy as np\n",
        "\n",
        "arr = np.array([1, 2, 3])\n",
        "copy_arr = arr.copy()\n",
        "\n",
        "copy_arr[0] = 99\n",
        "\n",
        "print(\"Original:\", arr)     # [1 2 3]\n",
        "print(\"Copy:\", copy_arr)    # [99  2  3]\n"
      ],
      "metadata": {
        "colab": {
          "base_uri": "https://localhost:8080/"
        },
        "id": "ZBbsb7o159YQ",
        "outputId": "6c4dec84-1252-4eef-e13f-26b3e6d50c4f"
      },
      "execution_count": 31,
      "outputs": [
        {
          "output_type": "stream",
          "name": "stdout",
          "text": [
            "Original: [1 2 3]\n",
            "Copy: [99  2  3]\n"
          ]
        }
      ]
    },
    {
      "cell_type": "markdown",
      "source": [
        ".view() — Shares the Same Data\n",
        "\n",
        "Creates a new array object pointing to the same memory.\n",
        "\n",
        "Changes in one affect the other."
      ],
      "metadata": {
        "id": "3xYkAeL_7kUR"
      }
    },
    {
      "cell_type": "code",
      "source": [
        "arr = np.array([1, 2, 3])\n",
        "view_arr = arr.view()\n",
        "\n",
        "view_arr[0] = 99\n",
        "\n",
        "print(\"Original:\", arr)     # [99  2  3]\n",
        "print(\"View:\", view_arr)    # [99  2  3]\n"
      ],
      "metadata": {
        "colab": {
          "base_uri": "https://localhost:8080/"
        },
        "id": "-gy9_I-T7hrn",
        "outputId": "ec44317c-3678-4930-83d0-60385f4f5a09"
      },
      "execution_count": 32,
      "outputs": [
        {
          "output_type": "stream",
          "name": "stdout",
          "text": [
            "Original: [99  2  3]\n",
            "View: [99  2  3]\n"
          ]
        }
      ]
    },
    {
      "cell_type": "markdown",
      "source": [
        "Check Memory Sharing\n",
        "\n",
        "NumPy provides .base to see if arrays share the same data:\n",
        "\n",
        "python\n",
        "Copy code\n"
      ],
      "metadata": {
        "id": "08fr_Y227pVn"
      }
    },
    {
      "cell_type": "code",
      "source": [
        "print(copy_arr.base)  # None → independent\n",
        "print(view_arr.base)  # [99  2  3] → shares data with arr\n"
      ],
      "metadata": {
        "colab": {
          "base_uri": "https://localhost:8080/"
        },
        "id": "N-0mLlb17nXd",
        "outputId": "89145dab-17c0-4359-c2e0-06d4b846476a"
      },
      "execution_count": 33,
      "outputs": [
        {
          "output_type": "stream",
          "name": "stdout",
          "text": [
            "None\n",
            "[99  2  3]\n"
          ]
        }
      ]
    },
    {
      "cell_type": "markdown",
      "source": [
        "#Predefined Arrays in NumPy\n",
        "NumPy has built-in functions to create arrays with preset values without manually specifying each element."
      ],
      "metadata": {
        "id": "M8HIGHIE8yRv"
      }
    },
    {
      "cell_type": "markdown",
      "source": [
        "| Function     | Purpose                       |\n",
        "| ------------ | ----------------------------- |\n",
        "| `np.zeros()` | All zeros                     |\n",
        "| `np.ones()`  | All ones                      |\n",
        "| `np.full()`  | All elements with given value |\n",
        "| `np.eye()`   | Identity matrix               |\n",
        "| `np.empty()` | Uninitialized array           |\n"
      ],
      "metadata": {
        "id": "Lnaae2oG_qYb"
      }
    },
    {
      "cell_type": "markdown",
      "source": [
        "np.zeros() – Array of Zeros\n",
        "\n",
        "Creates an array filled with 0."
      ],
      "metadata": {
        "id": "6tBXYh_z81rQ"
      }
    },
    {
      "cell_type": "code",
      "source": [
        "import numpy as np\n",
        "\n",
        "zeros_arr = np.zeros((3, 4))\n",
        "print(zeros_arr)\n"
      ],
      "metadata": {
        "colab": {
          "base_uri": "https://localhost:8080/"
        },
        "id": "YKOEd6yG7sJw",
        "outputId": "dcfc382c-9c8b-4d27-cb50-adf4a74b1e09"
      },
      "execution_count": 34,
      "outputs": [
        {
          "output_type": "stream",
          "name": "stdout",
          "text": [
            "[[0. 0. 0. 0.]\n",
            " [0. 0. 0. 0.]\n",
            " [0. 0. 0. 0.]]\n"
          ]
        }
      ]
    },
    {
      "cell_type": "markdown",
      "source": [
        "np.ones() – Array of Ones\n",
        "\n",
        "Creates an array filled with 1.\n",
        "\n"
      ],
      "metadata": {
        "id": "F0uTKTqJ9iWV"
      }
    },
    {
      "cell_type": "code",
      "source": [
        "ones_arr = np.ones((2, 3), dtype=int)\n",
        "print(ones_arr)\n"
      ],
      "metadata": {
        "colab": {
          "base_uri": "https://localhost:8080/"
        },
        "id": "TG1Cj4ae9EYa",
        "outputId": "258034e4-a55b-4cb9-cc83-15401828fdc4"
      },
      "execution_count": 35,
      "outputs": [
        {
          "output_type": "stream",
          "name": "stdout",
          "text": [
            "[[1 1 1]\n",
            " [1 1 1]]\n"
          ]
        }
      ]
    },
    {
      "cell_type": "markdown",
      "source": [
        "np.full() – Array with Custom Value\n",
        "\n",
        "Creates an array filled with a specified number.\n"
      ],
      "metadata": {
        "id": "p5Jtckfh_VQ-"
      }
    },
    {
      "cell_type": "code",
      "source": [
        "full_arr = np.full((3, 3), 7)\n",
        "print(full_arr)\n"
      ],
      "metadata": {
        "colab": {
          "base_uri": "https://localhost:8080/"
        },
        "id": "9xwJmemS_TFc",
        "outputId": "c2a1b502-94b1-4be9-a12d-12c299ead9f1"
      },
      "execution_count": 36,
      "outputs": [
        {
          "output_type": "stream",
          "name": "stdout",
          "text": [
            "[[7 7 7]\n",
            " [7 7 7]\n",
            " [7 7 7]]\n"
          ]
        }
      ]
    },
    {
      "cell_type": "markdown",
      "source": [
        "np.eye() – Identity Matrix\n",
        "\n",
        "Square matrix with 1’s on diagonal, 0’s elsewhere."
      ],
      "metadata": {
        "id": "qzERDwfo_b7K"
      }
    },
    {
      "cell_type": "code",
      "source": [
        "identity_arr = np.eye(4)\n",
        "print(identity_arr)\n"
      ],
      "metadata": {
        "colab": {
          "base_uri": "https://localhost:8080/"
        },
        "id": "NLhjJ4r__Z5-",
        "outputId": "4be6f740-4f1c-4a36-cff5-f18a7b249c36"
      },
      "execution_count": 37,
      "outputs": [
        {
          "output_type": "stream",
          "name": "stdout",
          "text": [
            "[[1. 0. 0. 0.]\n",
            " [0. 1. 0. 0.]\n",
            " [0. 0. 1. 0.]\n",
            " [0. 0. 0. 1.]]\n"
          ]
        }
      ]
    },
    {
      "cell_type": "markdown",
      "source": [
        "np.empty() – Uninitialized Array\n",
        "\n",
        "Creates an array without setting values (contains random garbage values from memory)."
      ],
      "metadata": {
        "id": "p0sg7KDn_hh8"
      }
    },
    {
      "cell_type": "code",
      "source": [
        "empty_arr = np.empty((2, 3))\n",
        "print(empty_arr)\n"
      ],
      "metadata": {
        "colab": {
          "base_uri": "https://localhost:8080/"
        },
        "id": "La0xH4N9_e8a",
        "outputId": "69620252-6a7c-4789-e058-f9ffccba68cb"
      },
      "execution_count": 38,
      "outputs": [
        {
          "output_type": "stream",
          "name": "stdout",
          "text": [
            "[[4.9e-324 9.9e-324 1.5e-323]\n",
            " [2.0e-323 2.5e-323 3.0e-323]]\n"
          ]
        }
      ]
    },
    {
      "cell_type": "markdown",
      "source": [
        "#Range & Sequence Arrays\n",
        "\n",
        "np.arange() – Range with Step\n",
        "\n",
        "Works like Python’s range(), but returns a NumPy array."
      ],
      "metadata": {
        "id": "2Ysq4FxfAfeP"
      }
    },
    {
      "cell_type": "markdown",
      "source": [
        "| Function        | Purpose                              | Example Output    |\n",
        "| --------------- | ------------------------------------ | ----------------- |\n",
        "| `np.arange()`   | Sequence with fixed step             | `[0, 2, 4, 6]`    |\n",
        "| `np.linspace()` | Fixed number of evenly spaced values | `[0, 0.25, 0.5]`  |\n",
        "| `np.logspace()` | Even spacing on logarithmic scale    | `[10, 100, 1000]` |\n"
      ],
      "metadata": {
        "id": "VNHOeBrXBpRk"
      }
    },
    {
      "cell_type": "code",
      "source": [
        "import numpy as np\n",
        "\n",
        "arr1 = np.arange(0, 10, 2)  # start=0, stop=10, step=2\n",
        "print(arr1)  # [0 2 4 6 8]\n",
        "\n",
        "arr2 = np.arange(5)  # Only stop value\n",
        "print(arr2)  # [0 1 2 3 4]\n"
      ],
      "metadata": {
        "colab": {
          "base_uri": "https://localhost:8080/"
        },
        "id": "34NRrzG8_mez",
        "outputId": "47f179c1-24c8-421d-ac0c-f5d3875f06d9"
      },
      "execution_count": 39,
      "outputs": [
        {
          "output_type": "stream",
          "name": "stdout",
          "text": [
            "[0 2 4 6 8]\n",
            "[0 1 2 3 4]\n"
          ]
        }
      ]
    },
    {
      "cell_type": "markdown",
      "source": [
        "np.linspace() – Evenly Spaced Numbers\n",
        "\n",
        "\n",
        "Generates a fixed number of equally spaced values between start and stop (inclusive)."
      ],
      "metadata": {
        "id": "uoyhEK1xAqYU"
      }
    },
    {
      "cell_type": "code",
      "source": [
        "arr3 = np.linspace(0, 1, 5)  # start=0, stop=1, num=5\n",
        "print(arr3)  # [0.   0.25 0.5  0.75 1.  ]\n"
      ],
      "metadata": {
        "colab": {
          "base_uri": "https://localhost:8080/"
        },
        "id": "uAazLzPHAnc5",
        "outputId": "fde042f9-1eca-4d5b-dd3d-57f7a28e427b"
      },
      "execution_count": 40,
      "outputs": [
        {
          "output_type": "stream",
          "name": "stdout",
          "text": [
            "[0.   0.25 0.5  0.75 1.  ]\n"
          ]
        }
      ]
    },
    {
      "cell_type": "markdown",
      "source": [
        "np.logspace() – Logarithmic Scale\n",
        "\n",
        "Generates values spaced evenly on a log scale (powers of 10 by default)."
      ],
      "metadata": {
        "id": "8ywLtdqbBO52"
      }
    },
    {
      "cell_type": "code",
      "source": [
        "arr4 = np.logspace(1, 3, 4)  # 10^1 to 10^3, 4 values\n",
        "print(arr4)  # [  10.  100.  1000. ]\n"
      ],
      "metadata": {
        "colab": {
          "base_uri": "https://localhost:8080/"
        },
        "id": "Sqy7J9pvBK-J",
        "outputId": "f14892af-05ff-4088-ab52-45aefafb4d72"
      },
      "execution_count": 41,
      "outputs": [
        {
          "output_type": "stream",
          "name": "stdout",
          "text": [
            "[  10.           46.41588834  215.443469   1000.        ]\n"
          ]
        }
      ]
    },
    {
      "cell_type": "markdown",
      "source": [
        "#Identity & Diagonal Matrices\n",
        "\n",
        "np.eye() – Identity Matrix with Custom Offset\n",
        "\n",
        "Creates a 2D array with 1s on the main diagonal and 0s elsewhere."
      ],
      "metadata": {
        "id": "7-Ko46kSByQz"
      }
    },
    {
      "cell_type": "markdown",
      "source": [
        "| Feature         | `np.eye()`          | `np.identity()`  |\n",
        "| --------------- | ------------------- | ---------------- |\n",
        "| Shape           | Can be rectangular  | Always square    |\n",
        "| Offset diagonal | Yes (`k` parameter) | No               |\n",
        "| Parameters      | `N, M, k`           | `n` (single int) |\n"
      ],
      "metadata": {
        "id": "abK-UkgxCOAB"
      }
    },
    {
      "cell_type": "code",
      "source": [
        "import numpy as np\n",
        "\n",
        "# 3x3 identity matrix\n",
        "m1 = np.eye(3)\n",
        "print(m1)\n"
      ],
      "metadata": {
        "colab": {
          "base_uri": "https://localhost:8080/"
        },
        "id": "bI--ig7yBRki",
        "outputId": "636b393c-f16a-4a22-b0d7-5da85513ce25"
      },
      "execution_count": 42,
      "outputs": [
        {
          "output_type": "stream",
          "name": "stdout",
          "text": [
            "[[1. 0. 0.]\n",
            " [0. 1. 0.]\n",
            " [0. 0. 1.]]\n"
          ]
        }
      ]
    },
    {
      "cell_type": "markdown",
      "source": [
        "You can shift the diagonal using k:"
      ],
      "metadata": {
        "id": "HRI5oFCeB9pA"
      }
    },
    {
      "cell_type": "code",
      "source": [
        "# Ones above the main diagonal\n",
        "m2 = np.eye(4, k=1)\n",
        "print(m2)\n"
      ],
      "metadata": {
        "colab": {
          "base_uri": "https://localhost:8080/"
        },
        "id": "AbT13J8iB6cC",
        "outputId": "4d44dcc5-78a0-4b37-c2fb-cfdde0026aba"
      },
      "execution_count": 43,
      "outputs": [
        {
          "output_type": "stream",
          "name": "stdout",
          "text": [
            "[[0. 1. 0. 0.]\n",
            " [0. 0. 1. 0.]\n",
            " [0. 0. 0. 1.]\n",
            " [0. 0. 0. 0.]]\n"
          ]
        }
      ]
    },
    {
      "cell_type": "markdown",
      "source": [
        "Parameters:\n",
        "\n",
        "N → number of rows\n",
        "\n",
        "M → number of columns (optional, default = N)\n",
        "\n",
        "k → diagonal index (0 = main, 1 = above, -1 = below)"
      ],
      "metadata": {
        "id": "ZNzWHdgFCBXF"
      }
    },
    {
      "cell_type": "markdown",
      "source": [
        "np.identity() – Always a Square Identity Matrix\n",
        "\n",
        "Creates a square identity matrix (only one parameter: size)."
      ],
      "metadata": {
        "id": "qImrh6XhCE9G"
      }
    },
    {
      "cell_type": "code",
      "source": [
        "m3 = np.identity(4)\n",
        "print(m3)\n"
      ],
      "metadata": {
        "colab": {
          "base_uri": "https://localhost:8080/"
        },
        "id": "vtPuLZ75B_Gt",
        "outputId": "023b2afe-952d-403f-99e9-7d2711324e5b"
      },
      "execution_count": 44,
      "outputs": [
        {
          "output_type": "stream",
          "name": "stdout",
          "text": [
            "[[1. 0. 0. 0.]\n",
            " [0. 1. 0. 0.]\n",
            " [0. 0. 1. 0.]\n",
            " [0. 0. 0. 1.]]\n"
          ]
        }
      ]
    },
    {
      "cell_type": "markdown",
      "source": [
        "#Random Array"
      ],
      "metadata": {
        "id": "I8S6fj5qCYWM"
      }
    },
    {
      "cell_type": "markdown",
      "source": [
        "| Function             | Purpose                            | Range / Distribution |\n",
        "| -------------------- | ---------------------------------- | -------------------- |\n",
        "| `rand()`             | Uniform floats                     | \\[0, 1)              |\n",
        "| `randn()`            | Standard normal (Gaussian)         | (-∞, ∞)              |\n",
        "| `randint(low, high)` | Random integers in given range     | \\[low, high)         |\n",
        "| `seed()`             | Fix randomness for reproducibility | N/A                  |\n"
      ],
      "metadata": {
        "id": "43H9XcmJDFBc"
      }
    },
    {
      "cell_type": "markdown",
      "source": [
        "np.random.rand() – Uniform Distribution [0, 1)\n",
        "\n",
        "Generates random numbers uniformly between 0 and 1."
      ],
      "metadata": {
        "id": "-64epBpHCcsm"
      }
    },
    {
      "cell_type": "code",
      "source": [
        "import numpy as np\n",
        "\n",
        "# Random float between 0 and 1\n",
        "a = np.random.rand()\n",
        "print(a)\n",
        "\n",
        "# 1D array of 5 random numbers\n",
        "b = np.random.rand(5)\n",
        "print(b)\n",
        "\n",
        "# 2D array (3 rows, 4 columns)\n",
        "c = np.random.rand(3, 4)\n",
        "print(c)\n"
      ],
      "metadata": {
        "colab": {
          "base_uri": "https://localhost:8080/"
        },
        "id": "_8FxfBoRCINF",
        "outputId": "c4926d57-8ed3-4cfe-f358-0300cb18fe51"
      },
      "execution_count": 45,
      "outputs": [
        {
          "output_type": "stream",
          "name": "stdout",
          "text": [
            "0.0005045531774415801\n",
            "[0.94025161 0.3205117  0.22025355 0.7053402  0.71860552]\n",
            "[[0.48287866 0.77779383 0.57266871 0.8512962 ]\n",
            " [0.62741365 0.36340803 0.14903961 0.51772598]\n",
            " [0.5557307  0.94063867 0.88552643 0.15457943]]\n"
          ]
        }
      ]
    },
    {
      "cell_type": "markdown",
      "source": [
        "np.random.randn() – Standard Normal Distribution\n",
        "\n",
        "Generates random numbers from a normal distribution (mean = 0, std = 1)."
      ],
      "metadata": {
        "id": "zUceqDeIChZK"
      }
    },
    {
      "cell_type": "code",
      "source": [
        "# Single random value\n",
        "d = np.random.randn()\n",
        "print(d)\n",
        "\n",
        "# 1D array\n",
        "e = np.random.randn(5)\n",
        "print(e)\n",
        "\n",
        "# 2D array\n",
        "f = np.random.randn(3, 4)\n",
        "print(f)\n"
      ],
      "metadata": {
        "colab": {
          "base_uri": "https://localhost:8080/"
        },
        "id": "RVsjIxozCe1s",
        "outputId": "3e638f72-d142-4631-eb8f-7683dfa0a371"
      },
      "execution_count": 46,
      "outputs": [
        {
          "output_type": "stream",
          "name": "stdout",
          "text": [
            "1.4732648222997538\n",
            "[ 0.0707143   0.9567713  -0.31949807 -1.0500971   1.77247982]\n",
            "[[-0.25749872  0.26722702  0.95502944 -0.40339661]\n",
            " [ 0.24241095  0.6428012  -0.71548493 -0.07099809]\n",
            " [-0.99851016  0.5099703   0.7825856  -1.76051474]]\n"
          ]
        }
      ]
    },
    {
      "cell_type": "markdown",
      "source": [
        "np.random.randint() – Random Integers\n",
        "\n",
        "Generates random integers in a given range."
      ],
      "metadata": {
        "id": "uvEIjJP1C6zF"
      }
    },
    {
      "cell_type": "code",
      "source": [
        "# Single random integer between 1 and 10\n",
        "g = np.random.randint(1, 10)\n",
        "print(g)\n",
        "\n",
        "# 1D array of integers\n",
        "h = np.random.randint(1, 10, size=5)\n",
        "print(h)\n",
        "\n",
        "# 2D array\n",
        "i = np.random.randint(1, 100, size=(3, 4))\n",
        "print(i)\n"
      ],
      "metadata": {
        "colab": {
          "base_uri": "https://localhost:8080/"
        },
        "id": "QPoKR-w8ClLg",
        "outputId": "cce63b36-638d-43fa-bd6f-f100c64d933b"
      },
      "execution_count": 47,
      "outputs": [
        {
          "output_type": "stream",
          "name": "stdout",
          "text": [
            "3\n",
            "[7 7 1 3 6]\n",
            "[[90 15 54 76]\n",
            " [21 34 34 77]\n",
            " [16 88 48  4]]\n"
          ]
        }
      ]
    },
    {
      "cell_type": "markdown",
      "source": [
        "np.random.seed() – Reproducibility\n",
        "\n",
        "Sets the seed so that random results can be reproduced."
      ],
      "metadata": {
        "id": "UMSc9uT5DAMW"
      }
    },
    {
      "cell_type": "code",
      "source": [
        "np.random.seed(42)\n",
        "print(np.random.rand(3))  # Same output every time\n",
        "\n",
        "np.random.seed(42)\n",
        "print(np.random.rand(3))  # Exactly same as above\n"
      ],
      "metadata": {
        "colab": {
          "base_uri": "https://localhost:8080/"
        },
        "id": "uOuekydMC96Z",
        "outputId": "80ed313e-1da8-4964-d508-1693de6b8c67"
      },
      "execution_count": 48,
      "outputs": [
        {
          "output_type": "stream",
          "name": "stdout",
          "text": [
            "[0.37454012 0.95071431 0.73199394]\n",
            "[0.37454012 0.95071431 0.73199394]\n"
          ]
        }
      ]
    },
    {
      "cell_type": "markdown",
      "source": [
        "#Array Operations in NumPy\n",
        "\n",
        "NumPy lets you perform vectorized operations directly on arrays without loops, which makes it faster and more concise than plain Python."
      ],
      "metadata": {
        "id": "PzRRUYhMDk4V"
      }
    },
    {
      "cell_type": "markdown",
      "source": [
        "\n",
        "Element-wise Operations\n",
        "\n",
        "\n",
        "NumPy performs operations element-by-element without loops."
      ],
      "metadata": {
        "id": "vI9EzNrODqg5"
      }
    },
    {
      "cell_type": "code",
      "source": [
        "import numpy as np\n",
        "\n",
        "a = np.array([1, 2, 3])\n",
        "b = np.array([4, 5, 6])\n",
        "\n",
        "print(a + b)   # Addition\n",
        "print(a - b)   # Subtraction\n",
        "print(a * b)   # Multiplication\n",
        "print(a / b)   # Division\n",
        "print(a % b)   # Modulus\n",
        "print(a ** 2)  # Power\n"
      ],
      "metadata": {
        "colab": {
          "base_uri": "https://localhost:8080/"
        },
        "id": "KeJJBQaJDCao",
        "outputId": "8e29eea3-8019-45e8-ba7c-82b0d7ed4fb3"
      },
      "execution_count": 50,
      "outputs": [
        {
          "output_type": "stream",
          "name": "stdout",
          "text": [
            "[5 7 9]\n",
            "[-3 -3 -3]\n",
            "[ 4 10 18]\n",
            "[0.25 0.4  0.5 ]\n",
            "[1 2 3]\n",
            "[1 4 9]\n"
          ]
        }
      ]
    },
    {
      "cell_type": "markdown",
      "source": [
        "***Broadcasting***\n",
        "\n",
        "\n",
        "\n",
        "Broadcasting lets NumPy perform operations on arrays of different shapes by stretching the smaller one without copying data."
      ],
      "metadata": {
        "id": "nvzQBKlFD3EG"
      }
    },
    {
      "cell_type": "markdown",
      "source": [
        "| Operation Type   | Examples                                |\n",
        "| ---------------- | --------------------------------------- |\n",
        "| **Element-wise** | `+`, `-`, `*`, `/`                      |\n",
        "| **Broadcasting** | Different shapes, compatible via rules  |\n",
        "| **Ufuncs**       | `np.add`, `np.sin`, `np.exp`            |\n",
        "| **Aggregation**  | `np.sum`, `np.mean`, `np.max`, `np.min` |\n",
        "| **Axis Control** | `axis=0` (columns), `axis=1` (rows)     |\n"
      ],
      "metadata": {
        "id": "xm3HeOy2Ed_-"
      }
    },
    {
      "cell_type": "markdown",
      "source": [
        "***Rules***\n",
        "\n",
        "Compare shapes from right to left.\n",
        "\n",
        "Dimensions are compatible if:\n",
        "\n",
        "They are equal, or\n",
        "\n",
        "One of them is 1.\n",
        "\n",
        "If incompatible → error."
      ],
      "metadata": {
        "id": "8BakrRE3D9lM"
      }
    },
    {
      "cell_type": "code",
      "source": [
        "a = np.array([[1], [2], [3]])   # Shape (3,1)\n",
        "b = np.array([10, 20, 30])      # Shape (3,)\n",
        "result = a + b                  # Shape → (3,3)\n",
        "print(result)\n"
      ],
      "metadata": {
        "colab": {
          "base_uri": "https://localhost:8080/"
        },
        "id": "89D2k-LVDvTD",
        "outputId": "68bc3bdf-c574-45fd-d4b3-92e9b41c5e83"
      },
      "execution_count": 51,
      "outputs": [
        {
          "output_type": "stream",
          "name": "stdout",
          "text": [
            "[[11 21 31]\n",
            " [12 22 32]\n",
            " [13 23 33]]\n"
          ]
        }
      ]
    },
    {
      "cell_type": "markdown",
      "source": [
        "Universal Functions (ufuncs)\n",
        "\n",
        "Arithmetic ufuncs"
      ],
      "metadata": {
        "id": "_fAiyvVcEHxg"
      }
    },
    {
      "cell_type": "code",
      "source": [
        "print(np.add(a, b))       # Same as a + b\n",
        "print(np.subtract(a, b))  # Same as a - b\n",
        "print(np.multiply(a, b))  # Same as a * b\n",
        "print(np.divide(a, b))    # Same as a / b\n",
        "print(np.power(a, 2))     # Same as a**2\n",
        "print(np.mod(b, 3))       # Modulus\n"
      ],
      "metadata": {
        "colab": {
          "base_uri": "https://localhost:8080/"
        },
        "id": "REywVxnxECLy",
        "outputId": "aeb403b0-06e8-45f9-bee0-74103c513278"
      },
      "execution_count": 52,
      "outputs": [
        {
          "output_type": "stream",
          "name": "stdout",
          "text": [
            "[[11 21 31]\n",
            " [12 22 32]\n",
            " [13 23 33]]\n",
            "[[ -9 -19 -29]\n",
            " [ -8 -18 -28]\n",
            " [ -7 -17 -27]]\n",
            "[[10 20 30]\n",
            " [20 40 60]\n",
            " [30 60 90]]\n",
            "[[0.1        0.05       0.03333333]\n",
            " [0.2        0.1        0.06666667]\n",
            " [0.3        0.15       0.1       ]]\n",
            "[[1]\n",
            " [4]\n",
            " [9]]\n",
            "[1 2 0]\n"
          ]
        }
      ]
    },
    {
      "cell_type": "markdown",
      "source": [
        "Trigonometric Functions"
      ],
      "metadata": {
        "id": "Aklh6EvLEMwG"
      }
    },
    {
      "cell_type": "code",
      "source": [
        "angles = np.array([0, np.pi/2, np.pi])\n",
        "print(np.sin(angles))\n",
        "print(np.cos(angles))\n",
        "print(np.tan(angles))\n"
      ],
      "metadata": {
        "colab": {
          "base_uri": "https://localhost:8080/"
        },
        "id": "bweXkLRuEKFz",
        "outputId": "1d86ac91-97aa-458d-dfdc-6f9388c0cba3"
      },
      "execution_count": 53,
      "outputs": [
        {
          "output_type": "stream",
          "name": "stdout",
          "text": [
            "[0.0000000e+00 1.0000000e+00 1.2246468e-16]\n",
            "[ 1.000000e+00  6.123234e-17 -1.000000e+00]\n",
            "[ 0.00000000e+00  1.63312394e+16 -1.22464680e-16]\n"
          ]
        }
      ]
    },
    {
      "cell_type": "markdown",
      "source": [
        "Exponential & Logarithmic"
      ],
      "metadata": {
        "id": "-K6x0EH1EQ5O"
      }
    },
    {
      "cell_type": "code",
      "source": [
        "nums = np.array([1, 2, 3])\n",
        "print(np.exp(nums))        # e^x\n",
        "print(np.log(nums))        # Natural log\n",
        "print(np.log10(nums))      # Base-10 log\n"
      ],
      "metadata": {
        "colab": {
          "base_uri": "https://localhost:8080/"
        },
        "id": "ZEe3aNhzEOsg",
        "outputId": "a92f7ace-e050-4479-e69f-a50efb6862c4"
      },
      "execution_count": 54,
      "outputs": [
        {
          "output_type": "stream",
          "name": "stdout",
          "text": [
            "[ 2.71828183  7.3890561  20.08553692]\n",
            "[0.         0.69314718 1.09861229]\n",
            "[0.         0.30103    0.47712125]\n"
          ]
        }
      ]
    },
    {
      "cell_type": "markdown",
      "source": [
        "Aggregation Functions"
      ],
      "metadata": {
        "id": "WNOXUEP0EVkU"
      }
    },
    {
      "cell_type": "code",
      "source": [
        "arr = np.array([[1, 2, 3],\n",
        "                [4, 5, 6]])\n",
        "\n",
        "print(np.sum(arr))      # Sum of all elements → 21\n",
        "print(np.mean(arr))     # Mean → 3.5\n",
        "print(np.max(arr))      # Max → 6\n",
        "print(np.min(arr))      # Min → 1\n",
        "print(np.prod(arr))     # Product of all elements\n",
        "print(np.std(arr))      # Standard deviation\n",
        "print(np.var(arr))      # Variance\n"
      ],
      "metadata": {
        "colab": {
          "base_uri": "https://localhost:8080/"
        },
        "id": "RuZhv9lMETuw",
        "outputId": "8bb886f6-6c18-49dc-9d8b-6150fad6e26e"
      },
      "execution_count": 55,
      "outputs": [
        {
          "output_type": "stream",
          "name": "stdout",
          "text": [
            "21\n",
            "3.5\n",
            "6\n",
            "1\n",
            "720\n",
            "1.707825127659933\n",
            "2.9166666666666665\n"
          ]
        }
      ]
    },
    {
      "cell_type": "markdown",
      "source": [
        "Axis Parameter\n",
        "axis=0 → Column-wise (down the rows)\n",
        "\n",
        "axis=1 → Row-wise (across the columns)"
      ],
      "metadata": {
        "id": "OS6kAb7QEaIf"
      }
    },
    {
      "cell_type": "code",
      "source": [
        "print(np.sum(arr, axis=0))  # Column sums → [5 7 9]\n",
        "print(np.sum(arr, axis=1))  # Row sums → [ 6 15]\n"
      ],
      "metadata": {
        "colab": {
          "base_uri": "https://localhost:8080/"
        },
        "id": "jCkWxfoqEXO4",
        "outputId": "57d7215e-6f09-4d17-e2de-5db2e3c0b404"
      },
      "execution_count": 56,
      "outputs": [
        {
          "output_type": "stream",
          "name": "stdout",
          "text": [
            "[5 7 9]\n",
            "[ 6 15]\n"
          ]
        }
      ]
    },
    {
      "cell_type": "markdown",
      "source": [
        "#Advanced Indexing & Slicing in NumPy\n",
        "\n",
        "| Feature              | Description                   | Example               |\n",
        "| -------------------- | ----------------------------- | --------------------- |\n",
        "| **Boolean Indexing** | Select with conditions        | `arr[arr > 5]`        |\n",
        "| **Fancy Indexing**   | Select with integer lists     | `arr[[0,2,4]]`        |\n",
        "| **Masking**          | Boolean mask array            | `arr[mask]`           |\n",
        "| **`np.where()`**     | Indices / conditional replace | `np.where(arr>5,1,0)` |\n",
        "| **`np.nonzero()`**   | Non-zero indices              | `np.nonzero(arr)`     |\n",
        "| **Ellipsis**         | Full slices in remaining dims | `arr[...,2]`          |\n",
        "| **`np.newaxis`**     | Add new dimension             | `arr[:,np.newaxis]`   |\n",
        "\n",
        "\n",
        "***Boolean Indexing***\n",
        "\n",
        "Select elements based on True/False conditions."
      ],
      "metadata": {
        "id": "KJ9WybKjE48x"
      }
    },
    {
      "cell_type": "code",
      "source": [
        "import numpy as np\n",
        "\n",
        "arr = np.array([10, 20, 30, 40, 50])\n",
        "\n",
        "# Condition → Boolean array\n",
        "mask = arr > 25\n",
        "print(mask)         # [False False  True  True  True]\n",
        "\n",
        "# Use mask to filter\n",
        "print(arr[mask])    # [30 40 50]\n",
        "\n",
        "# Directly inline\n",
        "print(arr[arr % 20 == 0])  # [20 40]\n"
      ],
      "metadata": {
        "colab": {
          "base_uri": "https://localhost:8080/"
        },
        "id": "u9gvb1PUEbyt",
        "outputId": "2a99682b-e7fc-4105-c515-a80a93e6adfa"
      },
      "execution_count": 57,
      "outputs": [
        {
          "output_type": "stream",
          "name": "stdout",
          "text": [
            "[False False  True  True  True]\n",
            "[30 40 50]\n",
            "[20 40]\n"
          ]
        }
      ]
    },
    {
      "cell_type": "markdown",
      "source": [
        "**Fancy Indexing**\n",
        "\n",
        "Select elements using integer arrays or lists."
      ],
      "metadata": {
        "id": "Pk48U7mRE_y3"
      }
    },
    {
      "cell_type": "code",
      "source": [
        "arr = np.array([10, 20, 30, 40, 50])\n",
        "\n",
        "# Select by positions\n",
        "print(arr[[0, 2, 4]])   # [10 30 50]\n",
        "\n",
        "# 2D example\n",
        "mat = np.array([[1, 2], [3, 4], [5, 6]])\n",
        "print(mat[[0, 2], [1, 0]])  # Picks (0,1) and (2,0) → [2, 5]\n"
      ],
      "metadata": {
        "colab": {
          "base_uri": "https://localhost:8080/"
        },
        "id": "uSvcGWCRE9hQ",
        "outputId": "5232a1db-2e51-4947-e7d0-15649ed71ea7"
      },
      "execution_count": 58,
      "outputs": [
        {
          "output_type": "stream",
          "name": "stdout",
          "text": [
            "[10 30 50]\n",
            "[2 5]\n"
          ]
        }
      ]
    },
    {
      "cell_type": "markdown",
      "source": [
        "**Masking**\n",
        "\n",
        "Mask = Boolean array used for selection."
      ],
      "metadata": {
        "id": "V7YU-pL2FJUB"
      }
    },
    {
      "cell_type": "code",
      "source": [
        "arr = np.arange(10)\n",
        "mask = arr % 2 == 0   # Even numbers\n",
        "print(mask)           # [ True False True False True False True False True False]\n",
        "print(arr[mask])      # [0 2 4 6 8]\n",
        "\n"
      ],
      "metadata": {
        "colab": {
          "base_uri": "https://localhost:8080/"
        },
        "id": "mA7mIQzQFHFq",
        "outputId": "98077b0b-fe07-4bb2-921f-1c532726e9f1"
      },
      "execution_count": 59,
      "outputs": [
        {
          "output_type": "stream",
          "name": "stdout",
          "text": [
            "[ True False  True False  True False  True False  True False]\n",
            "[0 2 4 6 8]\n"
          ]
        }
      ]
    },
    {
      "cell_type": "markdown",
      "source": [
        "np.where()\n",
        "\n",
        "Returns indices or values based on condition."
      ],
      "metadata": {
        "id": "BAJ8IcwOFPRM"
      }
    },
    {
      "cell_type": "code",
      "source": [
        "arr = np.array([10, 20, 30, 40])\n",
        "\n",
        "# Get indices where condition is True\n",
        "print(np.where(arr > 25))  # (array([2, 3]),)\n",
        "\n",
        "# Replace values based on condition\n",
        "print(np.where(arr > 25, arr, -1))\n",
        "# [-1 -1 30 40]\n"
      ],
      "metadata": {
        "colab": {
          "base_uri": "https://localhost:8080/"
        },
        "id": "4T98E9UCFNMz",
        "outputId": "c6f6a425-41e1-4722-aaff-e631143d8044"
      },
      "execution_count": 60,
      "outputs": [
        {
          "output_type": "stream",
          "name": "stdout",
          "text": [
            "(array([2, 3]),)\n",
            "[-1 -1 30 40]\n"
          ]
        }
      ]
    },
    {
      "cell_type": "markdown",
      "source": [
        "np.nonzero()\n",
        "\n",
        "Find indices of non-zero (or True) elements."
      ],
      "metadata": {
        "id": "LNVpyL7hFT8q"
      }
    },
    {
      "cell_type": "code",
      "source": [
        "arr = np.array([0, 3, 0, 4])\n",
        "print(np.nonzero(arr))   # (array([1, 3]),)\n"
      ],
      "metadata": {
        "colab": {
          "base_uri": "https://localhost:8080/"
        },
        "id": "-D8rfBxbFRpU",
        "outputId": "bbc6e259-b140-4073-a28a-c52c35c65876"
      },
      "execution_count": 61,
      "outputs": [
        {
          "output_type": "stream",
          "name": "stdout",
          "text": [
            "(array([1, 3]),)\n"
          ]
        }
      ]
    },
    {
      "cell_type": "markdown",
      "source": [
        "Indexing Tricks\n",
        "\n",
        "Ellipsis (...)\n",
        "\n",
        "Represents full slices across remaining dimensions."
      ],
      "metadata": {
        "id": "6wvig03NFaLB"
      }
    },
    {
      "cell_type": "code",
      "source": [
        "arr = np.arange(27).reshape(3, 3, 3)\n",
        "print(arr[1, ...])      # All rows & cols from 2nd block\n",
        "print(arr[..., 2])      # Last column from all dimensions\n"
      ],
      "metadata": {
        "colab": {
          "base_uri": "https://localhost:8080/"
        },
        "id": "8t29WGnhFdiH",
        "outputId": "a87ee340-d484-4630-d790-f5d1ed505da7"
      },
      "execution_count": 62,
      "outputs": [
        {
          "output_type": "stream",
          "name": "stdout",
          "text": [
            "[[ 9 10 11]\n",
            " [12 13 14]\n",
            " [15 16 17]]\n",
            "[[ 2  5  8]\n",
            " [11 14 17]\n",
            " [20 23 26]]\n"
          ]
        }
      ]
    },
    {
      "cell_type": "markdown",
      "source": [
        "New axis (np.newaxis)\n",
        "\n",
        "Adds an extra dimension."
      ],
      "metadata": {
        "id": "6SIsr5CuFghd"
      }
    },
    {
      "cell_type": "code",
      "source": [
        "arr = np.array([1, 2, 3])\n",
        "print(arr.shape)        # (3,)\n",
        "\n",
        "# Add new axis → column vector\n",
        "col_vec = arr[:, np.newaxis]\n",
        "print(col_vec.shape)    # (3,1)\n",
        "\n",
        "# Add new axis → row vector\n",
        "row_vec = arr[np.newaxis, :]\n",
        "print(row_vec.shape)    # (1,3)\n"
      ],
      "metadata": {
        "colab": {
          "base_uri": "https://localhost:8080/"
        },
        "id": "_vM6zEoZFXTs",
        "outputId": "11b92996-e968-4417-9001-e8f1be65ec2d"
      },
      "execution_count": 63,
      "outputs": [
        {
          "output_type": "stream",
          "name": "stdout",
          "text": [
            "(3,)\n",
            "(3, 1)\n",
            "(1, 3)\n"
          ]
        }
      ]
    },
    {
      "cell_type": "markdown",
      "source": [
        "#Shape Manipulation – NumPy\n",
        "\n"
      ],
      "metadata": {
        "id": "67vJ5suQF1Hj"
      }
    },
    {
      "cell_type": "markdown",
      "source": [
        "| Function           | Purpose              | New Axis? | View/Copy        |\n",
        "| ------------------ | -------------------- | --------- | ---------------- |\n",
        "| `.reshape()`       | Change shape         | No        | View if possible |\n",
        "| `.ravel()`         | Flatten              | No        | View if possible |\n",
        "| `.flatten()`       | Flatten              | No        | Copy             |\n",
        "| `.T`               | Transpose            | No        | View             |\n",
        "| `np.transpose()`   | Reorder axes         | No        | View             |\n",
        "| `np.swapaxes()`    | Swap 2 axes          | No        | View             |\n",
        "| `np.concatenate()` | Join arrays          | No        | —                |\n",
        "| `np.hstack()`      | Stack horizontally   | No        | —                |\n",
        "| `np.vstack()`      | Stack vertically     | No        | —                |\n",
        "| `np.split()`       | Equal split          | —         | —                |\n",
        "| `np.array_split()` | Unequal split        | —         | —                |\n",
        "| `np.stack()`       | Stack along new axis | Yes       | Copy             |\n",
        "| `np.dstack()`      | Stack along depth    | Yes       | Copy             |\n"
      ],
      "metadata": {
        "id": "Vw-QWQMRG6mv"
      }
    },
    {
      "cell_type": "markdown",
      "source": [
        "Reshaping Arrays\n",
        "\n",
        ".reshape() – Change the shape without changing data."
      ],
      "metadata": {
        "id": "K8ipr6ArF4ni"
      }
    },
    {
      "cell_type": "code",
      "source": [
        "import numpy as np\n",
        "\n",
        "arr = np.arange(6)  # [0 1 2 3 4 5]\n",
        "reshaped = arr.reshape(2, 3)\n",
        "print(reshaped)\n",
        "# [[0 1 2]\n",
        "#  [3 4 5]]\n"
      ],
      "metadata": {
        "colab": {
          "base_uri": "https://localhost:8080/"
        },
        "id": "jd232i7PFjH4",
        "outputId": "cfa734e7-cb3d-4a7f-f509-472b1ba32f30"
      },
      "execution_count": 64,
      "outputs": [
        {
          "output_type": "stream",
          "name": "stdout",
          "text": [
            "[[0 1 2]\n",
            " [3 4 5]]\n"
          ]
        }
      ]
    },
    {
      "cell_type": "markdown",
      "source": [
        ".ravel() – Flatten to 1D, returns view (changes affect original if possible)."
      ],
      "metadata": {
        "id": "4CSAPCgxF_0H"
      }
    },
    {
      "cell_type": "code",
      "source": [
        "arr = np.array([[1, 2], [3, 4]])\n",
        "flat = arr.ravel()\n",
        "flat[0] = 99\n",
        "print(arr)  # [[99  2]\n",
        "            #  [ 3  4]]\n"
      ],
      "metadata": {
        "colab": {
          "base_uri": "https://localhost:8080/"
        },
        "id": "eLyCF5uuF7ZV",
        "outputId": "587fe41f-501c-428f-a02d-af0e09a6a1c3"
      },
      "execution_count": 65,
      "outputs": [
        {
          "output_type": "stream",
          "name": "stdout",
          "text": [
            "[[99  2]\n",
            " [ 3  4]]\n"
          ]
        }
      ]
    },
    {
      "cell_type": "markdown",
      "source": [
        ".flatten() – Flatten to 1D, returns copy (independent of original)."
      ],
      "metadata": {
        "id": "TedykDTUGElf"
      }
    },
    {
      "cell_type": "code",
      "source": [
        "arr = np.array([[1, 2], [3, 4]])\n",
        "flat = arr.flatten()\n",
        "flat[0] = 99\n",
        "print(arr)  # [[1 2]\n",
        "            #  [3 4]]\n"
      ],
      "metadata": {
        "colab": {
          "base_uri": "https://localhost:8080/"
        },
        "id": "hz9W4DHbGCH-",
        "outputId": "63207851-03dd-4ba9-f093-bf7fb110397c"
      },
      "execution_count": 66,
      "outputs": [
        {
          "output_type": "stream",
          "name": "stdout",
          "text": [
            "[[1 2]\n",
            " [3 4]]\n"
          ]
        }
      ]
    },
    {
      "cell_type": "markdown",
      "source": [
        "Transpose & Axes Manipulation\n",
        "\n",
        ".T – Simple transpose (swap rows & columns)."
      ],
      "metadata": {
        "id": "-3UmgkLHGJWA"
      }
    },
    {
      "cell_type": "code",
      "source": [
        "arr = np.array([[1, 2, 3], [4, 5, 6]])\n",
        "print(arr.T)\n",
        "# [[1 4]\n",
        "#  [2 5]\n",
        "#  [3 6]]\n"
      ],
      "metadata": {
        "colab": {
          "base_uri": "https://localhost:8080/"
        },
        "id": "qaT3kGKjGMbe",
        "outputId": "3dd657c6-cb2d-430e-e8c8-91c2f6606a99"
      },
      "execution_count": 67,
      "outputs": [
        {
          "output_type": "stream",
          "name": "stdout",
          "text": [
            "[[1 4]\n",
            " [2 5]\n",
            " [3 6]]\n"
          ]
        }
      ]
    },
    {
      "cell_type": "markdown",
      "source": [
        "np.transpose() – Rearrange axes in any order."
      ],
      "metadata": {
        "id": "gwGKrzKmGPGa"
      }
    },
    {
      "cell_type": "code",
      "source": [
        "arr = np.arange(8).reshape(2, 2, 2)\n",
        "print(np.transpose(arr, (1, 0, 2)))  # Swap first two axes\n"
      ],
      "metadata": {
        "colab": {
          "base_uri": "https://localhost:8080/"
        },
        "id": "eAWhsGowGGzg",
        "outputId": "efc43f7f-49c9-434c-82c0-31dd92bc2351"
      },
      "execution_count": 68,
      "outputs": [
        {
          "output_type": "stream",
          "name": "stdout",
          "text": [
            "[[[0 1]\n",
            "  [4 5]]\n",
            "\n",
            " [[2 3]\n",
            "  [6 7]]]\n"
          ]
        }
      ]
    },
    {
      "cell_type": "markdown",
      "source": [
        "np.swapaxes() – Swap exactly two axes."
      ],
      "metadata": {
        "id": "vaUs183lGTmM"
      }
    },
    {
      "cell_type": "code",
      "source": [
        "arr = np.arange(8).reshape(2, 2, 2)\n",
        "print(np.swapaxes(arr, 0, 2).shape)  # (2, 2, 2)\n"
      ],
      "metadata": {
        "colab": {
          "base_uri": "https://localhost:8080/"
        },
        "id": "tSGrl75vGR7C",
        "outputId": "0f144bfb-51b5-4d21-81e5-1abf4f3806db"
      },
      "execution_count": 69,
      "outputs": [
        {
          "output_type": "stream",
          "name": "stdout",
          "text": [
            "(2, 2, 2)\n"
          ]
        }
      ]
    },
    {
      "cell_type": "markdown",
      "source": [
        "Concatenation & Splitting\n",
        "\n",
        "Concatenation\n",
        "\n",
        "np.concatenate() – Join along an axis."
      ],
      "metadata": {
        "id": "2iS6ZHF3GXRa"
      }
    },
    {
      "cell_type": "code",
      "source": [
        "a = np.array([[1, 2], [3, 4]])\n",
        "b = np.array([[5, 6]])\n",
        "print(np.concatenate((a, b), axis=0))\n",
        "# [[1 2]\n",
        "#  [3 4]\n",
        "#  [5 6]]\n"
      ],
      "metadata": {
        "colab": {
          "base_uri": "https://localhost:8080/"
        },
        "id": "sMGxgcmxGVTX",
        "outputId": "b66242ab-e797-47fe-c2a1-6f32c2d56fb0"
      },
      "execution_count": 70,
      "outputs": [
        {
          "output_type": "stream",
          "name": "stdout",
          "text": [
            "[[1 2]\n",
            " [3 4]\n",
            " [5 6]]\n"
          ]
        }
      ]
    },
    {
      "cell_type": "markdown",
      "source": [
        "np.hstack() – Horizontal stack (axis=1 for 2D).\n",
        "\n",
        "np.vstack() – Vertical stack (axis=0 for 2D)."
      ],
      "metadata": {
        "id": "EupiDPSHGdQ5"
      }
    },
    {
      "cell_type": "code",
      "source": [
        "a = np.array([1, 2])\n",
        "b = np.array([3, 4])\n",
        "print(np.hstack((a, b)))  # [1 2 3 4]\n",
        "print(np.vstack((a, b)))\n",
        "# [[1 2]\n",
        "#  [3 4]]\n"
      ],
      "metadata": {
        "colab": {
          "base_uri": "https://localhost:8080/"
        },
        "id": "A87SWZR0GbZ6",
        "outputId": "56ee7313-9c45-4d93-c231-de95cd97e63b"
      },
      "execution_count": 71,
      "outputs": [
        {
          "output_type": "stream",
          "name": "stdout",
          "text": [
            "[1 2 3 4]\n",
            "[[1 2]\n",
            " [3 4]]\n"
          ]
        }
      ]
    },
    {
      "cell_type": "markdown",
      "source": [
        "Splitting\n",
        "\n",
        "np.split() – Split into equal parts (must divide evenly)."
      ],
      "metadata": {
        "id": "csjbLMo3GjRf"
      }
    },
    {
      "cell_type": "code",
      "source": [
        "arr = np.arange(6)\n",
        "print(np.split(arr, 3))  # [array([0,1]), array([2,3]), array([4,5])]\n"
      ],
      "metadata": {
        "colab": {
          "base_uri": "https://localhost:8080/"
        },
        "id": "SQXKGh4JGfwL",
        "outputId": "fa48566d-26b3-41ea-b21f-b86be4d8f64b"
      },
      "execution_count": 72,
      "outputs": [
        {
          "output_type": "stream",
          "name": "stdout",
          "text": [
            "[array([0, 1]), array([2, 3]), array([4, 5])]\n"
          ]
        }
      ]
    },
    {
      "cell_type": "markdown",
      "source": [
        "np.array_split() – Split into uneven parts allowed."
      ],
      "metadata": {
        "id": "MHv6PGERGnwe"
      }
    },
    {
      "cell_type": "code",
      "source": [
        "arr = np.arange(7)\n",
        "print(np.array_split(arr, 3))\n",
        "# [array([0,1,2]), array([3,4]), array([5,6])]\n"
      ],
      "metadata": {
        "colab": {
          "base_uri": "https://localhost:8080/"
        },
        "id": "cQynGNn5GlxC",
        "outputId": "f14b669a-c376-4b51-eb85-3ae6156d5df6"
      },
      "execution_count": 73,
      "outputs": [
        {
          "output_type": "stream",
          "name": "stdout",
          "text": [
            "[array([0, 1, 2]), array([3, 4]), array([5, 6])]\n"
          ]
        }
      ]
    },
    {
      "cell_type": "markdown",
      "source": [
        "**Stacking**\n",
        "\n",
        "np.stack() – Stack along a new axis."
      ],
      "metadata": {
        "id": "cX9E4RAFGrf0"
      }
    },
    {
      "cell_type": "code",
      "source": [
        "a = np.array([1, 2])\n",
        "b = np.array([3, 4])\n",
        "print(np.stack((a, b), axis=0))\n",
        "# [[1 2]\n",
        "#  [3 4]]\n"
      ],
      "metadata": {
        "colab": {
          "base_uri": "https://localhost:8080/"
        },
        "id": "TFT8H47wGpt_",
        "outputId": "060432c4-d0d3-4170-c63b-f055d6ee6bd0"
      },
      "execution_count": 74,
      "outputs": [
        {
          "output_type": "stream",
          "name": "stdout",
          "text": [
            "[[1 2]\n",
            " [3 4]]\n"
          ]
        }
      ]
    },
    {
      "cell_type": "markdown",
      "source": [
        "np.dstack() – Stack along depth (3rd axis)."
      ],
      "metadata": {
        "id": "-seBYb6zGw-V"
      }
    },
    {
      "cell_type": "code",
      "source": [
        "a = np.array([[1, 2]])\n",
        "b = np.array([[3, 4]])\n",
        "print(np.dstack((a, b)))  # [[[1 3]\n",
        "                          #   [2 4]]]\n"
      ],
      "metadata": {
        "colab": {
          "base_uri": "https://localhost:8080/"
        },
        "id": "2aEOELLkGvH2",
        "outputId": "be11ceb5-f633-451a-c0fc-3e846a6b9222"
      },
      "execution_count": 75,
      "outputs": [
        {
          "output_type": "stream",
          "name": "stdout",
          "text": [
            "[[[1 3]\n",
            "  [2 4]]]\n"
          ]
        }
      ]
    },
    {
      "cell_type": "markdown",
      "source": [
        "#Linear Algebra with NumPy\n",
        "\n",
        "NumPy provides powerful functions in the np.linalg module for matrix and linear algebra operations.\n",
        "\n"
      ],
      "metadata": {
        "id": "DcVDZeenHJZi"
      }
    },
    {
      "cell_type": "markdown",
      "source": [
        "Dot Product & Matrix Multiplication\n",
        "\n",
        "Element-wise multiplication"
      ],
      "metadata": {
        "id": "suU9gblKHN0K"
      }
    },
    {
      "cell_type": "code",
      "source": [
        "import numpy as np\n",
        "\n",
        "A = np.array([[1, 2], [3, 4]])\n",
        "B = np.array([[5, 6], [7, 8]])\n",
        "\n",
        "print(A * B)  # Element-wise multiplication\n"
      ],
      "metadata": {
        "colab": {
          "base_uri": "https://localhost:8080/"
        },
        "id": "VI6y6wzFG-fo",
        "outputId": "5a8380ef-69c7-45e5-f77a-8fe772fedae9"
      },
      "execution_count": 76,
      "outputs": [
        {
          "output_type": "stream",
          "name": "stdout",
          "text": [
            "[[ 5 12]\n",
            " [21 32]]\n"
          ]
        }
      ]
    },
    {
      "cell_type": "markdown",
      "source": [
        "Matrix multiplication"
      ],
      "metadata": {
        "id": "2QLCxPCQHVvg"
      }
    },
    {
      "cell_type": "code",
      "source": [
        "print(np.dot(A, B))    # Dot product\n",
        "print(A @ B)           # @ operator (same as dot)\n",
        "print(np.matmul(A, B)) # Matrix multiplication\n"
      ],
      "metadata": {
        "colab": {
          "base_uri": "https://localhost:8080/"
        },
        "id": "M_sk_5vUHUKN",
        "outputId": "761a5364-7708-463f-a1c3-439301c87d89"
      },
      "execution_count": 77,
      "outputs": [
        {
          "output_type": "stream",
          "name": "stdout",
          "text": [
            "[[19 22]\n",
            " [43 50]]\n",
            "[[19 22]\n",
            " [43 50]]\n",
            "[[19 22]\n",
            " [43 50]]\n"
          ]
        }
      ]
    },
    {
      "cell_type": "markdown",
      "source": [
        "Determinant & Inverse"
      ],
      "metadata": {
        "id": "_L5gXsAwHjc1"
      }
    },
    {
      "cell_type": "code",
      "source": [
        "det_A = np.linalg.det(A)   # Determinant\n",
        "print(det_A)\n",
        "\n",
        "inv_A = np.linalg.inv(A)   # Inverse matrix\n",
        "print(inv_A)\n"
      ],
      "metadata": {
        "colab": {
          "base_uri": "https://localhost:8080/"
        },
        "id": "XDtxea-mHX0y",
        "outputId": "5e01ac5c-2e93-4e62-e28c-677da6a353b6"
      },
      "execution_count": 78,
      "outputs": [
        {
          "output_type": "stream",
          "name": "stdout",
          "text": [
            "-2.0000000000000004\n",
            "[[-2.   1. ]\n",
            " [ 1.5 -0.5]]\n"
          ]
        }
      ]
    },
    {
      "cell_type": "markdown",
      "source": [
        "Eigenvalues & Eigenvectors"
      ],
      "metadata": {
        "id": "A2zQRiQPHnyN"
      }
    },
    {
      "cell_type": "code",
      "source": [
        "eig_vals, eig_vecs = np.linalg.eig(A)\n",
        "\n",
        "print(\"Eigenvalues:\", eig_vals)\n",
        "print(\"Eigenvectors:\\n\", eig_vecs)\n"
      ],
      "metadata": {
        "colab": {
          "base_uri": "https://localhost:8080/"
        },
        "id": "DloEsBo1HlkY",
        "outputId": "76ca1cd5-c3d5-4885-90cb-834543127895"
      },
      "execution_count": 79,
      "outputs": [
        {
          "output_type": "stream",
          "name": "stdout",
          "text": [
            "Eigenvalues: [-0.37228132  5.37228132]\n",
            "Eigenvectors:\n",
            " [[-0.82456484 -0.41597356]\n",
            " [ 0.56576746 -0.90937671]]\n"
          ]
        }
      ]
    },
    {
      "cell_type": "markdown",
      "source": [
        "Norms & Ranks"
      ],
      "metadata": {
        "id": "NwXzTghjHwB2"
      }
    },
    {
      "cell_type": "code",
      "source": [
        "print(np.linalg.norm(A))           # Frobenius norm (default)\n",
        "print(np.linalg.norm(A, ord=1))    # L1 norm\n",
        "print(np.linalg.norm(A, ord=2))    # L2 norm\n",
        "\n",
        "print(np.linalg.matrix_rank(A))    # Rank of matrix\n"
      ],
      "metadata": {
        "colab": {
          "base_uri": "https://localhost:8080/"
        },
        "id": "dwzBRySOHsFb",
        "outputId": "05081579-f6b6-41e3-f718-1ed4b7933d78"
      },
      "execution_count": 80,
      "outputs": [
        {
          "output_type": "stream",
          "name": "stdout",
          "text": [
            "5.477225575051661\n",
            "6.0\n",
            "5.464985704219043\n",
            "2\n"
          ]
        }
      ]
    },
    {
      "cell_type": "markdown",
      "source": [
        "Solving Linear Systems\n",
        "\n",
        "Solve the system Ax = b:"
      ],
      "metadata": {
        "id": "bq-acNLSH0AW"
      }
    },
    {
      "cell_type": "code",
      "source": [
        "b = np.array([5, 11])\n",
        "x = np.linalg.solve(A, b)\n",
        "print(x)  # Solution vector\n"
      ],
      "metadata": {
        "colab": {
          "base_uri": "https://localhost:8080/"
        },
        "id": "vbq9ioVcHyLI",
        "outputId": "db83a722-f3ad-4dc7-9d6a-4516bb0d9a2f"
      },
      "execution_count": 81,
      "outputs": [
        {
          "output_type": "stream",
          "name": "stdout",
          "text": [
            "[1. 2.]\n"
          ]
        }
      ]
    },
    {
      "cell_type": "markdown",
      "source": [
        "#Additional & Advanced NumPy Topics"
      ],
      "metadata": {
        "id": "xuBbMjJ3IDcv"
      }
    },
    {
      "cell_type": "markdown",
      "source": [
        "NumPy Data Types\n",
        "\n",
        "NumPy arrays have a single data type (dtype) for all elements."
      ],
      "metadata": {
        "id": "qJfbY2P3IJQE"
      }
    },
    {
      "cell_type": "code",
      "source": [
        "import numpy as np\n",
        "\n",
        "arr = np.array([1, 2, 3], dtype=np.int32)\n",
        "print(arr.dtype)  # int32\n",
        "\n",
        "arr_float = np.array([1, 2, 3], dtype=np.float64)\n",
        "print(arr_float.dtype)  # float64\n",
        "\n",
        "arr_complex = np.array([1+2j, 3+4j])\n",
        "print(arr_complex.dtype)  # complex128\n"
      ],
      "metadata": {
        "colab": {
          "base_uri": "https://localhost:8080/"
        },
        "id": "R9hlp06yH3Ij",
        "outputId": "6d232bbd-e949-4b41-9ed9-cdd5d54d8281"
      },
      "execution_count": 82,
      "outputs": [
        {
          "output_type": "stream",
          "name": "stdout",
          "text": [
            "int32\n",
            "float64\n",
            "complex128\n"
          ]
        }
      ]
    },
    {
      "cell_type": "markdown",
      "source": [
        "Vectorization vs Loops\n",
        "\n",
        "NumPy is much faster than Python loops because operations are done in C internally."
      ],
      "metadata": {
        "id": "1KifytlsIPSP"
      }
    },
    {
      "cell_type": "code",
      "source": [
        "import time\n",
        "\n",
        "size = 10_000_000\n",
        "x = np.arange(size)\n",
        "y = np.arange(size)\n",
        "\n",
        "# Vectorized\n",
        "start = time.time()\n",
        "z = x + y\n",
        "print(\"Vectorized:\", time.time() - start)\n",
        "\n",
        "# Loop\n",
        "x_list = list(range(size))\n",
        "y_list = list(range(size))\n",
        "start = time.time()\n",
        "z_list = [x_list[i] + y_list[i] for i in range(size)]\n",
        "print(\"Loop:\", time.time() - start)\n"
      ],
      "metadata": {
        "colab": {
          "base_uri": "https://localhost:8080/"
        },
        "id": "SM8BlSvKIMdh",
        "outputId": "831aa1e3-8174-4336-fa09-2b242dba5e3b"
      },
      "execution_count": 83,
      "outputs": [
        {
          "output_type": "stream",
          "name": "stdout",
          "text": [
            "Vectorized: 0.04573178291320801\n",
            "Loop: 1.291029453277588\n"
          ]
        }
      ]
    },
    {
      "cell_type": "markdown",
      "source": [
        "Memory Layout\n",
        "\n",
        "NumPy stores data in C-order (row-major) or Fortran-order (column-major)."
      ],
      "metadata": {
        "id": "KxqWiRfNR-RW"
      }
    },
    {
      "cell_type": "code",
      "source": [
        "arr_c = np.array([[1, 2], [3, 4]], order='C')\n",
        "arr_f = np.array([[1, 2], [3, 4]], order='F')\n",
        "\n",
        "print(arr_c.flags)\n",
        "print(arr_f.flags)\n"
      ],
      "metadata": {
        "colab": {
          "base_uri": "https://localhost:8080/"
        },
        "id": "k9qEGTuMITLD",
        "outputId": "bfdeff4f-ac81-4374-cb7a-97959567913d"
      },
      "execution_count": 84,
      "outputs": [
        {
          "output_type": "stream",
          "name": "stdout",
          "text": [
            "  C_CONTIGUOUS : True\n",
            "  F_CONTIGUOUS : False\n",
            "  OWNDATA : True\n",
            "  WRITEABLE : True\n",
            "  ALIGNED : True\n",
            "  WRITEBACKIFCOPY : False\n",
            "\n",
            "  C_CONTIGUOUS : False\n",
            "  F_CONTIGUOUS : True\n",
            "  OWNDATA : True\n",
            "  WRITEABLE : True\n",
            "  ALIGNED : True\n",
            "  WRITEBACKIFCOPY : False\n",
            "\n"
          ]
        }
      ]
    },
    {
      "cell_type": "markdown",
      "source": [
        "Sorting & Searching"
      ],
      "metadata": {
        "id": "lIpwCx5ESERH"
      }
    },
    {
      "cell_type": "code",
      "source": [
        "arr = np.array([3, 1, 2])\n",
        "print(np.sort(arr))  # Sorted array\n",
        "print(np.argsort(arr))  # Indices for sorting\n",
        "\n",
        "sorted_idx = np.argsort(arr)\n",
        "print(arr[sorted_idx])\n",
        "\n",
        "print(np.searchsorted([1, 3, 5], 4))  # Index to insert 4\n"
      ],
      "metadata": {
        "colab": {
          "base_uri": "https://localhost:8080/"
        },
        "id": "neJvzSQrSBV_",
        "outputId": "6f2e6dbf-4931-4760-c6a7-19b47023cb86"
      },
      "execution_count": 85,
      "outputs": [
        {
          "output_type": "stream",
          "name": "stdout",
          "text": [
            "[1 2 3]\n",
            "[1 2 0]\n",
            "[1 2 3]\n",
            "2\n"
          ]
        }
      ]
    },
    {
      "cell_type": "markdown",
      "source": [
        "Set Operations"
      ],
      "metadata": {
        "id": "n_72vty2SJLN"
      }
    },
    {
      "cell_type": "code",
      "source": [
        "a = np.array([1, 2, 3, 4])\n",
        "b = np.array([3, 4, 5, 6])\n",
        "\n",
        "print(np.unique(a))\n",
        "print(np.union1d(a, b))\n",
        "print(np.intersect1d(a, b))\n",
        "print(np.setdiff1d(a, b))\n"
      ],
      "metadata": {
        "colab": {
          "base_uri": "https://localhost:8080/"
        },
        "id": "qYVjAQT7SGhe",
        "outputId": "01b3c658-b6a0-4f9e-f555-5ced641af507"
      },
      "execution_count": 86,
      "outputs": [
        {
          "output_type": "stream",
          "name": "stdout",
          "text": [
            "[1 2 3 4]\n",
            "[1 2 3 4 5 6]\n",
            "[3 4]\n",
            "[1 2]\n"
          ]
        }
      ]
    },
    {
      "cell_type": "markdown",
      "source": [
        "Random Module – More Control"
      ],
      "metadata": {
        "id": "gzFR0_S6SNQt"
      }
    },
    {
      "cell_type": "code",
      "source": [
        "# Random choice with/without replacement\n",
        "print(np.random.choice([1, 2, 3, 4], size=2, replace=False))\n",
        "\n",
        "# Shuffle array in-place\n",
        "arr = np.arange(5)\n",
        "np.random.shuffle(arr)\n",
        "print(arr)\n"
      ],
      "metadata": {
        "colab": {
          "base_uri": "https://localhost:8080/"
        },
        "id": "zseOuGX9SK-l",
        "outputId": "aa21b873-8f7d-4980-a5f0-63e99fd78ad4"
      },
      "execution_count": 87,
      "outputs": [
        {
          "output_type": "stream",
          "name": "stdout",
          "text": [
            "[2 3]\n",
            "[4 0 3 2 1]\n"
          ]
        }
      ]
    },
    {
      "cell_type": "markdown",
      "source": [
        "Mathematical Statistics"
      ],
      "metadata": {
        "id": "-oU5GibUSRam"
      }
    },
    {
      "cell_type": "code",
      "source": [
        "data = np.array([1, 2, 3, 4, 5])\n",
        "\n",
        "print(np.median(data))\n",
        "print(np.percentile(data, 50))  # same as median\n",
        "print(np.percentile(data, [25, 75]))  # quartiles\n",
        "\n",
        "hist, bins = np.histogram(data, bins=3)\n",
        "print(hist)\n",
        "print(bins)\n"
      ],
      "metadata": {
        "colab": {
          "base_uri": "https://localhost:8080/"
        },
        "id": "hPSQqcgnSPK6",
        "outputId": "b1944cba-7ee3-4c2b-d733-e478e108dc9a"
      },
      "execution_count": 88,
      "outputs": [
        {
          "output_type": "stream",
          "name": "stdout",
          "text": [
            "3.0\n",
            "3.0\n",
            "[2. 4.]\n",
            "[2 1 2]\n",
            "[1.         2.33333333 3.66666667 5.        ]\n"
          ]
        }
      ]
    },
    {
      "cell_type": "markdown",
      "source": [
        "Handling Missing Data"
      ],
      "metadata": {
        "id": "qBG6KMWeSVzm"
      }
    },
    {
      "cell_type": "code",
      "source": [
        "arr = np.array([1, np.nan, 3, np.nan])\n",
        "\n",
        "print(np.isnan(arr))  # Boolean mask\n",
        "print(np.nan_to_num(arr, nan=0))  # Replace NaN with 0\n"
      ],
      "metadata": {
        "colab": {
          "base_uri": "https://localhost:8080/"
        },
        "id": "13hPICxmSTaj",
        "outputId": "31b1c8fb-4464-4110-a6be-e9aef146b500"
      },
      "execution_count": 89,
      "outputs": [
        {
          "output_type": "stream",
          "name": "stdout",
          "text": [
            "[False  True False  True]\n",
            "[1. 0. 3. 0.]\n"
          ]
        }
      ]
    },
    {
      "cell_type": "code",
      "source": [],
      "metadata": {
        "id": "qfemgj0VSYA5"
      },
      "execution_count": null,
      "outputs": []
    }
  ]
}