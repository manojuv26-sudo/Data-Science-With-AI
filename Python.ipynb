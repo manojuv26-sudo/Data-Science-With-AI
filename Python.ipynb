{
  "nbformat": 4,
  "nbformat_minor": 0,
  "metadata": {
    "colab": {
      "provenance": []
    },
    "kernelspec": {
      "name": "python3",
      "display_name": "Python 3"
    },
    "language_info": {
      "name": "python"
    }
  },
  "cells": [
    {
      "cell_type": "markdown",
      "source": [
        "#Python"
      ],
      "metadata": {
        "id": "HFDqVeCNwfEf"
      }
    },
    {
      "cell_type": "markdown",
      "source": [
        "Python is a popular, high-level, general-purpose programming language known for its simplicity and readability. It was created by Guido van Rossum in 1991, with a strong focus on enhancing code readability and developer productivity."
      ],
      "metadata": {
        "id": "GJgTPv4CQWey"
      }
    },
    {
      "cell_type": "markdown",
      "source": [
        "# Key features and characteristics:\n",
        "\n",
        "***Easy to Learn and Use:*** Python's simplified syntax and reliance on indentation (rather than curly brackets) make it an ideal choice for beginners and enhance code readability.\n",
        "\n",
        "**Interpreted Language: **Python code is executed line by line, facilitating faster testing and debugging during development.\n",
        "\n",
        "***Dynamically Typed:*** Python automatically determines variable types at runtime, reducing the need for explicit type declarations and increasing coding flexibility.\n",
        "\n",
        "***High-Level Language:*** Python abstracts away low-level details like memory management, allowing developers to focus on problem-solving.\n",
        "\n",
        "***Supports Multiple Programming Paradigms:*** Python is a multi-paradigm language, supporting object-oriented, procedural, and functional programming styles.\n",
        "\n",
        "***Extensive Libraries and Frameworks:*** Python boasts a vast ecosystem of libraries and frameworks for various tasks, including web development (Django, Flask), data analysis (Pandas, NumPy), machine learning (TensorFlow, PyTorch), and more.\n",
        "\n",
        "***Cross-Platform Compatibility:*** Python code can run on various operating systems like Windows, macOS, and Linux without modification.\n",
        "\n",
        "***Large and Active Community:*** A thriving community contributes to Python's growth, offers extensive documentation, tutorials, and support, and continuously improves the language.\n",
        "\n",
        "***Open Source:*** Python is free to use, distribute, and modify, fostering innovation and collaboration."
      ],
      "metadata": {
        "id": "ALqKcfkqQjZc"
      }
    },
    {
      "cell_type": "markdown",
      "source": [
        "#***Applications and uses***\n",
        "Python is a versatile language employed in various industries and domains.\n",
        "Web Development, Data Science and Analysis, Machine Learning and Artificial Intelligence, Automation and Scripting, Software Development, Game Development, Scientific Computing, Everyday Tasks"
      ],
      "metadata": {
        "id": "GUhXXXt5ZuYL"
      }
    },
    {
      "cell_type": "markdown",
      "source": [
        "#python version and how to install python\n",
        "While Python 2 was once widely used, it is now considered obsolete, with its end-of-life declared in 2020.\n",
        "\n",
        " Python 3 has since emerged as the preferred choice for new projects and continues to be actively developed and supported by a vast community.\n",
        "\n",
        "\n",
        "Here's a comparison of key differences:\n",
        "Feature\n",
        "Python 2 version:\n",
        "Print Statement\tprint \"Hello\" (statement)\n",
        "\n",
        "python 3 version:\tprint(\"Hello\") (function)\n",
        "\n",
        "Backward Compatibility\tDifficult to port to Python 3\tNot backward compatible with Python 2\n",
        "\n",
        "Recommendation: If you are starting a new Python project, it is strongly recommended to use Python 3.\n",
        "\n",
        "Installing Python 3\n",
        "\n",
        "Download: Visit the official Python.org website and download the latest stable version of Python 3.\n",
        "\n",
        "Run the Installer: Execute the downloaded installer. Be sure to check the box to \"Add Python to PATH\" during installation, as this makes it easier to run Python from the command line.\n",
        "\n",
        "Verify: Open a terminal or command prompt and type python --version (or python3 --version on some systems) to confirm the installation.\n",
        "\n",
        "Installing and setting up IDEs for Python Development\n",
        "Integrated Development Environments (IDEs) enhance the Python development experience with features like code completion, debugging, and project management.\n",
        "\n",
        "Here are instructions for installing popular choices:\n",
        "VS Code (Visual Studio Code)\n",
        "Download and Install VS Code: Visit the Visual Studio Code website and download the installer for your operating system (Windows, macOS, or Linux).\n",
        "\n",
        "Install Python Extension: Open VS Code, go to the Extensions view (Ctrl+Shift+X), search for \"Python\", and install the official Python extension by Microsoft.\n",
        "\n",
        "Select Interpreter: Open the Command Palette (Ctrl+Shift+P), type \"Python: Select Interpreter\", and choose the Python 3 installation you installed earlier.\n",
        "\n",
        "Create a Project Folder: Open a folder in VS Code to serve as your workspace.\n",
        "\n",
        "PyCharm\n",
        "Download PyCharm Community Edition: Go to the PyCharm website and download the free Community Edition installer.\n",
        "\n",
        "Run the Installer: Execute the installer and follow the setup wizard.\n",
        "\n",
        "Launch PyCharm: Open PyCharm. You can create a new project and select the Python interpreter you want to use.\n",
        "\n",
        "Jupyter Notebook\n",
        "Install Jupyter (if not already part of an Anaconda distribution): Open a terminal or command prompt and run pip install notebook.\n",
        "\n",
        "Launch Jupyter Notebook: After installation, open a terminal or command prompt and run jupyter notebook. This will launch Jupyter Notebook in your web browser.\n",
        "\n",
        "Create a New Notebook: Inside Jupyter Notebook, you can create new notebooks to combine code, output, and text in a single document."
      ],
      "metadata": {
        "id": "fd-osPN8dbGz"
      }
    },
    {
      "cell_type": "markdown",
      "source": [
        "# Python scripts and the Python interpreter\n",
        "What is a Python script?\n",
        "A Python script is essentially a file containing a set of instructions written in Python that can be executed by the Python interpreter. These scripts are designed to perform various tasks, from simple calculations to more complex operations like web scraping, data analysis, and even web development. Python scripts are saved with the .py extension.\n",
        "What is a Python interpreter?\n",
        "The Python interpreter is a program that reads, executes, and translates Python code into machine-readable instructions, allowing the computer to understand and follow the instructions within a Python script. It acts as a bridge between the human-written code and the computer's hardware, executing instructions line by line. Python is considered an interpreted language because of this direct execution without prior translation into machine code.\n",
        "How the Python interpreter works with scripts\n",
        "When you run a Python script, the interpreter performs a sequence of actions:\n",
        "Source Code Analysis (Lexical Analysis): The interpreter first analyzes the Python code in your script, breaking it down into a series of tokens (keywords, operators, etc.).\n",
        "Parsing: These tokens are then parsed into an Abstract Syntax Tree (AST), which represents the hierarchical structure of the code, checking for syntax errors in the process.\n",
        "Bytecode Compilation: The AST is then compiled into bytecode, an intermediate, platform-independent representation of the code. This bytecode is executed by the Python Virtual Machine (PVM). The PVM is the actual runtime engine of Python, translating the bytecode into machine code (binary - 0s and 1s) and executing it on the hardware.\n",
        "Execution: The Python Virtual Machine (PVM) then reads and executes the bytecode, carrying out the instructions in your script.\n",
        "Output (and Error Handling): If the execution is successful, the interpreter produces any specified output (e.g., printing text to the console). If errors occur during execution, they are identified and displayed, and the interpreter may halt the process.\n",
        "Note: The .pyc files that are generated and stored with your Python scripts contain compiled bytecode that the interpreter can execute directly, optimizing execution, especially for larger scripts."
      ],
      "metadata": {
        "id": "NyTaX-6xedvV"
      }
    },
    {
      "cell_type": "code",
      "execution_count": null,
      "metadata": {
        "id": "W_CDH2a_wU-k",
        "colab": {
          "base_uri": "https://localhost:8080/"
        },
        "outputId": "63578372-53cb-4378-f168-43f2cf09003c"
      },
      "outputs": [
        {
          "output_type": "stream",
          "name": "stdout",
          "text": [
            "Manoj Adithya Reddy\n"
          ]
        }
      ],
      "source": [
        "#first python program\n",
        "print(\"Manoj Adithya Reddy\")"
      ]
    },
    {
      "cell_type": "markdown",
      "source": [
        "#Python Basics"
      ],
      "metadata": {
        "id": "I9tEIBaGfNTA"
      }
    },
    {
      "cell_type": "markdown",
      "source": [
        "python is dynamical typed language means no one to declare a variable name"
      ],
      "metadata": {
        "id": "UzMzjJNhhwVa"
      }
    },
    {
      "cell_type": "markdown",
      "source": [
        "#Syntax\n",
        "Python's syntax, or the set of rules governing how code is written and structured, is designed to be clear and readable."
      ],
      "metadata": {
        "id": "rtWGYz_mfaOs"
      }
    },
    {
      "cell_type": "code",
      "source": [
        "print(\"reddy\")"
      ],
      "metadata": {
        "colab": {
          "base_uri": "https://localhost:8080/"
        },
        "id": "7fEfBCXXfG0w",
        "outputId": "cb956046-321b-49ac-a140-eff1c680b877"
      },
      "execution_count": null,
      "outputs": [
        {
          "output_type": "stream",
          "name": "stdout",
          "text": [
            "reddy\n"
          ]
        }
      ]
    },
    {
      "cell_type": "markdown",
      "source": [
        "#Indentation"
      ],
      "metadata": {
        "id": "Sw6CifoQfqfd"
      }
    },
    {
      "cell_type": "markdown",
      "source": [
        "Indentation means adding spaces or tabs at the beginning of a line to define a code block or structure."
      ],
      "metadata": {
        "id": "Qyo1hwx0f5Pa"
      }
    },
    {
      "cell_type": "code",
      "source": [
        "# Correct Indentation\n",
        "for i in range(3):\n",
        "    print(\"Level 1\")       # 4 spaces\n",
        "    if i % 2 == 0:\n",
        "        print(\"Level 2\")   # 8 spaces\n"
      ],
      "metadata": {
        "colab": {
          "base_uri": "https://localhost:8080/"
        },
        "id": "lpfWdg0pfp12",
        "outputId": "611f223f-c4f4-46b8-d8b6-472c562d1d2b"
      },
      "execution_count": null,
      "outputs": [
        {
          "output_type": "stream",
          "name": "stdout",
          "text": [
            "Level 1\n",
            "Level 2\n",
            "Level 1\n",
            "Level 1\n",
            "Level 2\n"
          ]
        }
      ]
    },
    {
      "cell_type": "code",
      "source": [
        "# Incorrect Indentation (will cause error)\n",
        "#for i in range(3):#colons after give the space\n",
        "#compulsory give 4 spaces print(\"Hello\")  # ❌ No indentation after for loop\n"
      ],
      "metadata": {
        "id": "QdViKheggfbS"
      },
      "execution_count": null,
      "outputs": []
    },
    {
      "cell_type": "markdown",
      "source": [
        "#Variables & Data Types"
      ],
      "metadata": {
        "id": "JpnJI2uOhHbK"
      }
    },
    {
      "cell_type": "markdown",
      "source": [
        "a variable is a name used to store and reference values in a program."
      ],
      "metadata": {
        "id": "B6Pzp1H9hJcM"
      }
    },
    {
      "cell_type": "markdown",
      "source": [
        "Python includes several built-in data types such as numeric types (integers, floats, complex), text types (strings), sequence types (lists, tuples, range), mapping types (dictionaries), set types (sets, frozensets), boolean types (True/False), and binary types (bytes, bytearray, memoryview)."
      ],
      "metadata": {
        "id": "t_q1Md5ShjGg"
      }
    },
    {
      "cell_type": "code",
      "source": [
        "#data types\n",
        "#numeric types int,float,complex\n",
        "\n",
        "number = 21 #int  #number is variable\n",
        "print(number)\n",
        "\n",
        "values = 87.9 #float\n",
        "print(values)\n",
        "\n",
        "complex_number = 2 + 3j #complex\n",
        "print(complex_number)\n"
      ],
      "metadata": {
        "colab": {
          "base_uri": "https://localhost:8080/"
        },
        "id": "Yjp_5E-fgh1q",
        "outputId": "8025eb5d-1846-463f-fe7b-ba2aaacbdc75"
      },
      "execution_count": null,
      "outputs": [
        {
          "output_type": "stream",
          "name": "stdout",
          "text": [
            "21\n",
            "87.9\n",
            "(2+3j)\n"
          ]
        }
      ]
    },
    {
      "cell_type": "markdown",
      "source": [
        "text type"
      ],
      "metadata": {
        "id": "Sg805ZQMinjW"
      }
    },
    {
      "cell_type": "code",
      "source": [
        "#string\n",
        "name = \"I am watching cinema\" #compulsory mentio the quotations\n",
        "print(name)"
      ],
      "metadata": {
        "colab": {
          "base_uri": "https://localhost:8080/"
        },
        "id": "NKJLzoi1iiCU",
        "outputId": "f243ce12-eb8d-4cff-de7a-612ff025730c"
      },
      "execution_count": null,
      "outputs": [
        {
          "output_type": "stream",
          "name": "stdout",
          "text": [
            "I am watching cinema\n"
          ]
        }
      ]
    },
    {
      "cell_type": "markdown",
      "source": [
        "sequence type"
      ],
      "metadata": {
        "id": "BEd22gMajUeK"
      }
    },
    {
      "cell_type": "code",
      "source": [
        "#list\n",
        "list = [1,2,3,4,5] #using square brackets\n",
        "print(list)\n",
        "\n",
        "#tuple\n",
        "tuple = (1,2,3,4,5) #using parentheses\n",
        "print(tuple)\n",
        "\n",
        "#range\n",
        "range = range(1,10)\n",
        "print(range)"
      ],
      "metadata": {
        "id": "Uzwl2CagizSa"
      },
      "execution_count": null,
      "outputs": []
    },
    {
      "cell_type": "markdown",
      "source": [
        "mapping type"
      ],
      "metadata": {
        "id": "807rC0lbjbwb"
      }
    },
    {
      "cell_type": "code",
      "source": [
        "#dict\n",
        "dict = {\"name\":\"manoj\",\"age\":21} #using curly brackets\n",
        "print(dict)"
      ],
      "metadata": {
        "colab": {
          "base_uri": "https://localhost:8080/"
        },
        "id": "hBsoKiTijevK",
        "outputId": "07d51f05-05df-40e2-f4b0-834ef9baf72f"
      },
      "execution_count": null,
      "outputs": [
        {
          "output_type": "stream",
          "name": "stdout",
          "text": [
            "{'name': 'manoj', 'age': 21}\n"
          ]
        }
      ]
    },
    {
      "cell_type": "markdown",
      "source": [
        "set type\n"
      ],
      "metadata": {
        "id": "PNiX9_3rjkdH"
      }
    },
    {
      "cell_type": "code",
      "source": [
        "#set\n",
        "set = {1,2,3,4,5} #using curly brackets\n",
        "print(set)\n",
        "\n",
        "#frozenset\n",
        "frozenset = frozenset({1,2,3,4,5}) #using curly brackets and parentheses\n",
        "print(frozenset)"
      ],
      "metadata": {
        "colab": {
          "base_uri": "https://localhost:8080/"
        },
        "id": "orOgkAALjhex",
        "outputId": "e8af803a-8de4-4ec2-9eef-e5846ffd3e1e"
      },
      "execution_count": null,
      "outputs": [
        {
          "output_type": "stream",
          "name": "stdout",
          "text": [
            "{1, 2, 3, 4, 5}\n",
            "frozenset({1, 2, 3, 4, 5})\n"
          ]
        }
      ]
    },
    {
      "cell_type": "markdown",
      "source": [
        "boolean type"
      ],
      "metadata": {
        "id": "CCwI8dY8kP80"
      }
    },
    {
      "cell_type": "code",
      "source": [
        "#boolean\n",
        "boolean = True #True or False\n",
        "print(boolean)"
      ],
      "metadata": {
        "colab": {
          "base_uri": "https://localhost:8080/"
        },
        "id": "L4WPXnHJjn4L",
        "outputId": "669c5fc0-820a-484e-d289-3d7c28b6499d"
      },
      "execution_count": null,
      "outputs": [
        {
          "output_type": "stream",
          "name": "stdout",
          "text": [
            "True\n"
          ]
        }
      ]
    },
    {
      "cell_type": "markdown",
      "source": [
        "binary types"
      ],
      "metadata": {
        "id": "MrR2vde8kXQj"
      }
    },
    {
      "cell_type": "code",
      "source": [
        "#bytes\n",
        "# Creating bytes\n",
        "b = b\"Hello\"                      # bytes literal\n",
        "b2 = bytes(\"Hello\", \"utf-8\")      # from string\n",
        "b3 = bytes([72, 101, 108, 108, 111])  # from list of ints\n",
        "\n",
        "print(b[0])  # 72  (ASCII of 'H')\n",
        "print(b[1:3])  # b'el'\n"
      ],
      "metadata": {
        "colab": {
          "base_uri": "https://localhost:8080/"
        },
        "id": "75FfKQwpkVJS",
        "outputId": "ae9b327b-f610-4a07-9148-e862572479e4"
      },
      "execution_count": null,
      "outputs": [
        {
          "output_type": "stream",
          "name": "stdout",
          "text": [
            "72\n",
            "b'el'\n"
          ]
        }
      ]
    },
    {
      "cell_type": "code",
      "source": [
        "ba = bytearray(b\"Hello\")\n",
        "ba[0] = 74          # Change 'H' (72) to 'J' (74)\n",
        "print(ba)           # bytearray(b'Jello')\n",
        "\n",
        "ba.append(33)       # Add '!' (ASCII 33)\n",
        "print(ba)           # bytearray(b'Jello!')\n"
      ],
      "metadata": {
        "colab": {
          "base_uri": "https://localhost:8080/"
        },
        "id": "cnX2t4qlkeSk",
        "outputId": "d766d8c0-565b-41fd-e590-69818a8873c4"
      },
      "execution_count": null,
      "outputs": [
        {
          "output_type": "stream",
          "name": "stdout",
          "text": [
            "bytearray(b'Jello')\n",
            "bytearray(b'Jello!')\n"
          ]
        }
      ]
    },
    {
      "cell_type": "code",
      "source": [
        "b = bytearray(b\"Python\")\n",
        "mv = memoryview(b)\n",
        "\n",
        "print(mv[0])     # 80 (ASCII of 'P')\n",
        "mv[0] = 74       # Change 'P' → 'J'\n",
        "print(b)         # bytearray(b'Jython')  (changed in original)\n"
      ],
      "metadata": {
        "colab": {
          "base_uri": "https://localhost:8080/"
        },
        "id": "7kkKEy3jk6U9",
        "outputId": "1a352c01-4afe-4a37-b582-32d19484b104"
      },
      "execution_count": null,
      "outputs": [
        {
          "output_type": "stream",
          "name": "stdout",
          "text": [
            "80\n",
            "bytearray(b'Jython')\n"
          ]
        }
      ]
    },
    {
      "cell_type": "markdown",
      "source": [
        "#Type Casting (also called Type Conversion) in Python means changing a value from one data type to another."
      ],
      "metadata": {
        "id": "dn8iSRfdlHCl"
      }
    },
    {
      "cell_type": "markdown",
      "source": [
        "Done automatically by Python.\n",
        "\n",
        "No data loss (safe conversion).\n",
        "\n",
        "Usually happens when combining different numeric types."
      ],
      "metadata": {
        "id": "Yp8-dbXSlcR2"
      }
    },
    {
      "cell_type": "code",
      "source": [
        "x = 10      # int\n",
        "y = 2.5     # float\n",
        "z = x + y   # int + float → float\n",
        "print(z)    # 12.5\n",
        "print(type(z))  # <class 'float'>\n"
      ],
      "metadata": {
        "colab": {
          "base_uri": "https://localhost:8080/"
        },
        "id": "tyukfSTwk67C",
        "outputId": "f62c78f8-806c-4509-bab4-1b6724ebf7fe"
      },
      "execution_count": null,
      "outputs": [
        {
          "output_type": "stream",
          "name": "stdout",
          "text": [
            "12.5\n",
            "<class 'float'>\n"
          ]
        }
      ]
    },
    {
      "cell_type": "code",
      "source": [
        "# String to int\n",
        "a = \"123\"\n",
        "b = int(a)\n",
        "print(b, type(b))  # 123 <class 'int'>\n",
        "\n",
        "# Float to int (loses decimal part)\n",
        "print(int(9.99))  # 9\n",
        "\n",
        "# List to tuple\n",
        "print(tuple([1, 2, 3]))  # (1, 2, 3)\n",
        "\n",
        "# Int to string\n",
        "print(str(100) + \" apples\")  # \"100 apples\"\n"
      ],
      "metadata": {
        "colab": {
          "base_uri": "https://localhost:8080/"
        },
        "id": "h5YiPaiqlKa6",
        "outputId": "ea35d71d-75a7-4f28-9b77-33fa5183fe72"
      },
      "execution_count": null,
      "outputs": [
        {
          "output_type": "stream",
          "name": "stdout",
          "text": [
            "123 <class 'int'>\n",
            "9\n",
            "(1, 2, 3)\n",
            "100 apples\n"
          ]
        }
      ]
    },
    {
      "cell_type": "markdown",
      "source": [
        "Input in Python\n",
        "Python uses the input() function to get user input as a string."
      ],
      "metadata": {
        "id": "ORCMnYntlkQD"
      }
    },
    {
      "cell_type": "code",
      "source": [
        "name = input(\"Enter your name: \")\n",
        "print(\"Hello,\", name)\n"
      ],
      "metadata": {
        "colab": {
          "base_uri": "https://localhost:8080/"
        },
        "id": "iH5hz3talOvl",
        "outputId": "267ddc4f-d0cf-4e3a-afac-10860d41e3f5"
      },
      "execution_count": null,
      "outputs": [
        {
          "output_type": "stream",
          "name": "stdout",
          "text": [
            "Enter your name: manoj\n",
            "Hello, manoj\n"
          ]
        }
      ]
    },
    {
      "cell_type": "code",
      "source": [
        "age = int(input(\"Enter your age: \"))\n",
        "height = float(input(\"Enter your height in meters: \"))\n",
        "print(\"Age:\", age, \"Height:\", height)\n"
      ],
      "metadata": {
        "colab": {
          "base_uri": "https://localhost:8080/"
        },
        "id": "R7drGRAgln8-",
        "outputId": "82b2229e-2ea0-4ddf-d490-8592961b0b68"
      },
      "execution_count": null,
      "outputs": [
        {
          "output_type": "stream",
          "name": "stdout",
          "text": [
            "Enter your age: 21\n",
            "Enter your height in meters: 5.8\n",
            "Age: 21 Height: 5.8\n"
          ]
        }
      ]
    },
    {
      "cell_type": "markdown",
      "source": [
        " Output in Python\n",
        "Python uses print() to display output to the console."
      ],
      "metadata": {
        "id": "SDzjMFvfl0Dq"
      }
    },
    {
      "cell_type": "code",
      "source": [
        "print(\"Hello World\")\n"
      ],
      "metadata": {
        "colab": {
          "base_uri": "https://localhost:8080/"
        },
        "id": "PgixF8BSltrW",
        "outputId": "cbc3898d-912a-4ca3-f9a0-d7bf9dae5e67"
      },
      "execution_count": null,
      "outputs": [
        {
          "output_type": "stream",
          "name": "stdout",
          "text": [
            "Hello World\n"
          ]
        }
      ]
    },
    {
      "cell_type": "code",
      "source": [
        "x, y = 5, 10\n",
        "print(\"x =\", x, \"y =\", y)\n"
      ],
      "metadata": {
        "colab": {
          "base_uri": "https://localhost:8080/"
        },
        "id": "ij-j3HSgl5CI",
        "outputId": "1884b4a1-9e0f-4a86-da75-8c3f34efc563"
      },
      "execution_count": null,
      "outputs": [
        {
          "output_type": "stream",
          "name": "stdout",
          "text": [
            "x = 5 y = 10\n"
          ]
        }
      ]
    },
    {
      "cell_type": "markdown",
      "source": [
        "Parameter\tDescription\n",
        "\n",
        "sep\tSeparator between values (default = \" \")\n",
        "\n",
        "end\tString to append after printing (default = newline \"\\n\")\n",
        "\n",
        "\n",
        "file\tOutput stream (default = sys.stdout)\n",
        "\n",
        "flush\tIf True, forces output to appear immediately"
      ],
      "metadata": {
        "id": "WUmXNXcbmXX-"
      }
    },
    {
      "cell_type": "code",
      "source": [
        "print(\"A\", \"B\", \"C\", sep=\"-\")    # A-B-C\n",
        "print(\"Hello\", end=\" \")          # Hello (no newline)\n",
        "print(\"World\")                   # World\n"
      ],
      "metadata": {
        "colab": {
          "base_uri": "https://localhost:8080/"
        },
        "id": "kRiF8u9xl7ac",
        "outputId": "ee4b5b07-d109-401b-d508-59a907a53957"
      },
      "execution_count": null,
      "outputs": [
        {
          "output_type": "stream",
          "name": "stdout",
          "text": [
            "A-B-C\n",
            "Hello World\n"
          ]
        }
      ]
    },
    {
      "cell_type": "code",
      "source": [
        "name = \"Manoj Adithya Reddy\"\n",
        "age = 21\n",
        "print(f\"My name is {name} and I am {age} years old.\")\n"
      ],
      "metadata": {
        "colab": {
          "base_uri": "https://localhost:8080/"
        },
        "id": "4VKVJkOLmAJT",
        "outputId": "0e5ead53-b3ce-49e2-8ec5-4cdaa1c661d6"
      },
      "execution_count": null,
      "outputs": [
        {
          "output_type": "stream",
          "name": "stdout",
          "text": [
            "My name is Manoj Adithya Reddy and I am 21 years old.\n"
          ]
        }
      ]
    },
    {
      "cell_type": "markdown",
      "source": [
        "format() is used to create well-structured and readable strings by inserting values into placeholders."
      ],
      "metadata": {
        "id": "58NRCoNWmhk_"
      }
    },
    {
      "cell_type": "markdown",
      "source": [
        "| Format Code | Meaning                     |\n",
        "| ----------- | --------------------------- |\n",
        "| `d`         | Integer                     |\n",
        "| `f`         | Floating point              |\n",
        "| `.nf`       | Floating point (n decimals) |\n",
        "| `b`         | Binary                      |\n",
        "| `o`         | Octal                       |\n",
        "| `x` / `X`   | Hexadecimal                 |\n",
        "| `,`         | Comma separator             |\n",
        "| `_`         | Underscore separator        |\n",
        "| `<`         | Left align                  |\n",
        "| `>`         | Right align                 |\n",
        "| `^`         | Center align                |\n"
      ],
      "metadata": {
        "id": "sph-rOPBnn0f"
      }
    },
    {
      "cell_type": "code",
      "source": [
        "# Positional\n",
        "print(\"{0} is {1} years old\".format(\"Bob\", 30))\n",
        "\n",
        "# Keyword\n",
        "print(\"{name} is {age} years old\".format(name=\"manoj\", age=21))\n"
      ],
      "metadata": {
        "colab": {
          "base_uri": "https://localhost:8080/"
        },
        "id": "tMCEm990mKei",
        "outputId": "6df3444e-8f5b-42dc-a3b7-8e56e26c4f63"
      },
      "execution_count": null,
      "outputs": [
        {
          "output_type": "stream",
          "name": "stdout",
          "text": [
            "Bob is 30 years old\n",
            "manoj is 21 years old\n"
          ]
        }
      ]
    },
    {
      "cell_type": "code",
      "source": [
        "# Decimal places\n",
        "pi = 3.14159265\n",
        "print(\"{:.2f}\".format(pi))   # 3.14\n",
        "\n",
        "# Width and alignment\n",
        "print(\"{:>10}\".format(\"Hi\"))  # Right align (width 10)\n",
        "print(\"{:<10}\".format(\"Hi\"))  # Left align\n",
        "print(\"{:^10}\".format(\"Hi\"))  # Center align\n"
      ],
      "metadata": {
        "colab": {
          "base_uri": "https://localhost:8080/"
        },
        "id": "NODHl8sum3le",
        "outputId": "5a168747-2246-4c45-ecf1-abe3b6f1db08"
      },
      "execution_count": null,
      "outputs": [
        {
          "output_type": "stream",
          "name": "stdout",
          "text": [
            "3.14\n",
            "        Hi\n",
            "Hi        \n",
            "    Hi    \n"
          ]
        }
      ]
    },
    {
      "cell_type": "code",
      "source": [
        "name = \"manoj\"\n",
        "score = 95.6789\n",
        "print(f\"{name} scored {score:.2f}\")  # Alice scored 95.68\n"
      ],
      "metadata": {
        "colab": {
          "base_uri": "https://localhost:8080/"
        },
        "id": "OFaO2sTSnIAl",
        "outputId": "9b8875ba-89b4-405f-94e9-3b0a8cfdd8ce"
      },
      "execution_count": null,
      "outputs": [
        {
          "output_type": "stream",
          "name": "stdout",
          "text": [
            "manoj scored 95.68\n"
          ]
        }
      ]
    },
    {
      "cell_type": "code",
      "source": [
        "# Integer\n",
        "print(\"{:d}\".format(25))\n",
        "\n",
        "# Binary, Octal, Hex\n",
        "print(\"{:b}\".format(12))  # 1100\n",
        "print(\"{:o}\".format(12))  # 14\n",
        "print(\"{:x}\".format(12))  # c\n"
      ],
      "metadata": {
        "colab": {
          "base_uri": "https://localhost:8080/"
        },
        "id": "YUJRNuz5nWF8",
        "outputId": "78b8805c-3d2d-4377-8243-3d14b9dee118"
      },
      "execution_count": null,
      "outputs": [
        {
          "output_type": "stream",
          "name": "stdout",
          "text": [
            "25\n",
            "1100\n",
            "14\n",
            "c\n"
          ]
        }
      ]
    },
    {
      "cell_type": "markdown",
      "source": [
        "Old % Formatting"
      ],
      "metadata": {
        "id": "g3--wfV9n6JB"
      }
    },
    {
      "cell_type": "code",
      "source": [
        "print(\"My name is %s and I am %d years old.\" % (name, age))\n"
      ],
      "metadata": {
        "colab": {
          "base_uri": "https://localhost:8080/"
        },
        "id": "vCpl3X33ncKs",
        "outputId": "e32e8725-6868-4771-a9e7-468afa7cdac6"
      },
      "execution_count": null,
      "outputs": [
        {
          "output_type": "stream",
          "name": "stdout",
          "text": [
            "My name is manoj and I am 21 years old.\n"
          ]
        }
      ]
    },
    {
      "cell_type": "markdown",
      "source": [
        "File Input / Output\n",
        "For reading and writing files:"
      ],
      "metadata": {
        "id": "K9z2Cb5WoAF6"
      }
    },
    {
      "cell_type": "code",
      "source": [
        "# Writing to a file\n",
        "with open(\"test.txt\", \"w\") as f:\n",
        "    f.write(\"Hello File\\n\")\n",
        "\n",
        "# Reading from a file\n",
        "with open(\"test.txt\", \"r\") as f:\n",
        "    content = f.read()\n",
        "    print(content)\n"
      ],
      "metadata": {
        "colab": {
          "base_uri": "https://localhost:8080/"
        },
        "id": "WknJkaPKn8Pu",
        "outputId": "b033c58a-6330-4cc3-ee06-b6976292331a"
      },
      "execution_count": null,
      "outputs": [
        {
          "output_type": "stream",
          "name": "stdout",
          "text": [
            "Hello File\n",
            "\n"
          ]
        }
      ]
    },
    {
      "cell_type": "markdown",
      "source": [
        "| Function      | Purpose                             |\n",
        "| ------------- | ----------------------------------- |\n",
        "| `input()`     | Get user input (string)             |\n",
        "| `print()`     | Display output to console           |\n",
        "| `open()`      | Open a file for reading/writing     |\n",
        "| `read()`      | Read entire file                    |\n",
        "| `readline()`  | Read one line from file             |\n",
        "| `write()`     | Write to a file                     |\n",
        "| `with open()` | Context manager for file operations |\n"
      ],
      "metadata": {
        "id": "0V92BrOhoNJI"
      }
    },
    {
      "cell_type": "markdown",
      "source": [
        "Comments (Single-line, Multi-line)"
      ],
      "metadata": {
        "id": "UigrQMhJofJS"
      }
    },
    {
      "cell_type": "markdown",
      "source": [
        "What Are Comments?\n",
        "\n",
        "Comments are ignored by Python — they’re only for humans reading the code.\n",
        "\n",
        "They make your code easier to understand."
      ],
      "metadata": {
        "id": "VBGBNOS8ox5h"
      }
    },
    {
      "cell_type": "markdown",
      "source": [
        "Single-Line Comments\n",
        "Begin with # (hash symbol).\n",
        "\n",
        "Everything after # on that line is ignored by Python."
      ],
      "metadata": {
        "id": "gbhMMy7-o4C5"
      }
    },
    {
      "cell_type": "code",
      "source": [
        "# This is a single-line comment\n",
        "print(\"Hello World\")  # This is also a single-line comment\n"
      ],
      "metadata": {
        "colab": {
          "base_uri": "https://localhost:8080/"
        },
        "id": "YEUNZ-jJoCu4",
        "outputId": "ec7663a5-4756-4ab1-aa4f-78d505cfca7c"
      },
      "execution_count": null,
      "outputs": [
        {
          "output_type": "stream",
          "name": "stdout",
          "text": [
            "Hello World\n"
          ]
        }
      ]
    },
    {
      "cell_type": "markdown",
      "source": [
        "Multi-Line Comments\n",
        "Python doesn’t have a dedicated multi-line comment syntax like /* */ in C or Java.\n",
        "Instead, we use:"
      ],
      "metadata": {
        "id": "96bF3pkuo9an"
      }
    },
    {
      "cell_type": "code",
      "source": [
        "# This is line 1 of a multi-line comment\n",
        "# This is line 2\n",
        "# This is line 3\n"
      ],
      "metadata": {
        "id": "NUsmK2Qoo-cF"
      },
      "execution_count": null,
      "outputs": []
    },
    {
      "cell_type": "markdown",
      "source": [
        "Triple Quotes (''' or \"\"\")\n",
        "Technically, triple-quoted strings are string literals, not real comments.\n",
        "\n",
        "If they’re not assigned to a variable or used as a docstring, Python ignores them."
      ],
      "metadata": {
        "id": "yPGzi-PUpEXi"
      }
    },
    {
      "cell_type": "code",
      "source": [
        "\"\"\"\n",
        "This is a multi-line comment\n",
        "spanning multiple lines\n",
        "using triple double quotes\n",
        "\"\"\"\n",
        "\n",
        "'''\n",
        "You can also use triple single quotes\n",
        "for multi-line comments\n",
        "'''\n"
      ],
      "metadata": {
        "colab": {
          "base_uri": "https://localhost:8080/",
          "height": 36
        },
        "id": "pg2HwYRfo6oX",
        "outputId": "11f3372d-90bc-4986-9b28-476f491c2404"
      },
      "execution_count": null,
      "outputs": [
        {
          "output_type": "execute_result",
          "data": {
            "text/plain": [
              "'\\nYou can also use triple single quotes\\nfor multi-line comments\\n'"
            ],
            "application/vnd.google.colaboratory.intrinsic+json": {
              "type": "string"
            }
          },
          "metadata": {},
          "execution_count": 38
        }
      ]
    },
    {
      "cell_type": "markdown",
      "source": [
        " Docstrings vs Comments\n",
        "\n",
        "Comments → purely ignored by Python.\n",
        "\n",
        "Docstrings → stored in the program for documentation (help() uses them)."
      ],
      "metadata": {
        "id": "fmlf6sYlpU38"
      }
    },
    {
      "cell_type": "code",
      "source": [
        "def greet():\n",
        "    \"\"\"This function prints a greeting message.\"\"\"\n",
        "    print(\"Hello\")"
      ],
      "metadata": {
        "id": "53KY4FdTpHGL"
      },
      "execution_count": null,
      "outputs": []
    },
    {
      "cell_type": "code",
      "source": [
        "def greet():\n",
        "    \"\"\"This function prints a greeting message.\"\"\"\n",
        "    print(\"Hello\")\n",
        "print(greet.__doc__)"
      ],
      "metadata": {
        "colab": {
          "base_uri": "https://localhost:8080/"
        },
        "id": "EDvXs2oUpbb9",
        "outputId": "491e6719-b165-43f0-a654-d091ff2ab308"
      },
      "execution_count": null,
      "outputs": [
        {
          "output_type": "stream",
          "name": "stdout",
          "text": [
            "This function prints a greeting message.\n"
          ]
        }
      ]
    },
    {
      "cell_type": "markdown",
      "source": [
        "Keywords"
      ],
      "metadata": {
        "id": "5Qd6Qxdwpv6L"
      }
    },
    {
      "cell_type": "code",
      "source": [
        "\"\"\"\n",
        "False, None, True,\n",
        "and, as, assert,\n",
        "async, await,\n",
        "break, class, continue,\n",
        "def, del,\n",
        "elif, else, except,\n",
        "finally,\n",
        "for, from,\n",
        "global, if, import,\n",
        "in, is,\n",
        "lambda,\n",
        "nonlocal, not, or,\n",
        "pass, raise, return,\n",
        "try,\n",
        "while,\n",
        "with,\n",
        "yield\n",
        "\"\"\""
      ],
      "metadata": {
        "colab": {
          "base_uri": "https://localhost:8080/",
          "height": 70
        },
        "id": "En2moNaBpodz",
        "outputId": "8f3d1800-4375-4747-d032-d39da81bfca7"
      },
      "execution_count": null,
      "outputs": [
        {
          "output_type": "execute_result",
          "data": {
            "text/plain": [
              "'False, None, True,\\nand, as, assert,\\nasync, await,\\nbreak, class, continue,\\ndef, del,\\nelif, else, except,\\nfinally,\\nfor, from,\\nglobal, if, import,\\nin, is,\\nlambda,\\nnonlocal, not, or,\\npass, raise, return,\\ntry,\\nwhile,\\nwith,\\nyield\\n'"
            ],
            "application/vnd.google.colaboratory.intrinsic+json": {
              "type": "string"
            }
          },
          "metadata": {},
          "execution_count": 43
        }
      ]
    },
    {
      "cell_type": "markdown",
      "source": [
        "Hard keywords define language structure (conditional, loops, declarations, etc.).\n",
        "\n",
        "Soft keywords like match/case are part of newer syntax features (e.g., structural pattern matching)."
      ],
      "metadata": {
        "id": "sNGh8IdaqGjd"
      }
    },
    {
      "cell_type": "code",
      "source": [
        "import keyword\n",
        "\n",
        "print(keyword.kwlist)       # List of hard keywords\n",
        "print(keyword.softkwlist)   # List of soft keywords\n"
      ],
      "metadata": {
        "colab": {
          "base_uri": "https://localhost:8080/"
        },
        "id": "C23mM6_Bp31Z",
        "outputId": "b11aec7e-a396-4027-cd7c-89b755847950"
      },
      "execution_count": null,
      "outputs": [
        {
          "output_type": "stream",
          "name": "stdout",
          "text": [
            "['False', 'None', 'True', 'and', 'as', 'assert', 'async', 'await', 'break', 'class', 'continue', 'def', 'del', 'elif', 'else', 'except', 'finally', 'for', 'from', 'global', 'if', 'import', 'in', 'is', 'lambda', 'nonlocal', 'not', 'or', 'pass', 'raise', 'return', 'try', 'while', 'with', 'yield']\n",
            "['_', 'case', 'match']\n"
          ]
        }
      ]
    },
    {
      "cell_type": "markdown",
      "source": [
        "#Operators"
      ],
      "metadata": {
        "id": "M8i4Cm-BqTql"
      }
    },
    {
      "cell_type": "markdown",
      "source": [
        "#Arithmetic operator"
      ],
      "metadata": {
        "id": "3QIBYxFKr9nn"
      }
    },
    {
      "cell_type": "markdown",
      "source": [
        "| Operator | Description         | Example  | Output |\n",
        "| -------- | ------------------- | -------- | ------ |\n",
        "| `+`      | Addition            | `5 + 3`  | `8`    |\n",
        "| `-`      | Subtraction         | `5 - 3`  | `2`    |\n",
        "| `*`      | Multiplication      | `5 * 3`  | `15`   |\n",
        "| `/`      | Division (float)    | `5 / 2`  | `2.5`  |\n",
        "| `//`     | Floor division      | `5 // 2` | `2`    |\n",
        "| `%`      | Modulus (remainder) | `5 % 2`  | `1`    |\n",
        "| `**`     | Exponentiation      | `2 ** 3` | `8`    |\n"
      ],
      "metadata": {
        "id": "TF9DM7sLqaxq"
      }
    },
    {
      "cell_type": "code",
      "source": [
        "#addition\n",
        "x = 5\n",
        "y = 9\n",
        "print(x+y)"
      ],
      "metadata": {
        "colab": {
          "base_uri": "https://localhost:8080/"
        },
        "id": "RUYUmxNKp9wu",
        "outputId": "25c2b386-ed0a-4b57-a1a1-1cc6ed578716"
      },
      "execution_count": null,
      "outputs": [
        {
          "output_type": "stream",
          "name": "stdout",
          "text": [
            "14\n"
          ]
        }
      ]
    },
    {
      "cell_type": "code",
      "source": [
        "#subtraction\n",
        "print(x-y)"
      ],
      "metadata": {
        "colab": {
          "base_uri": "https://localhost:8080/"
        },
        "id": "zeKeEvI4qjEP",
        "outputId": "98a1121f-6709-4440-f2ec-a7cb8916a1e8"
      },
      "execution_count": null,
      "outputs": [
        {
          "output_type": "stream",
          "name": "stdout",
          "text": [
            "-4\n"
          ]
        }
      ]
    },
    {
      "cell_type": "code",
      "source": [
        "#multiplication\n",
        "print(x*y)"
      ],
      "metadata": {
        "colab": {
          "base_uri": "https://localhost:8080/"
        },
        "id": "Hrm12XYaquzp",
        "outputId": "f5782d76-91e8-4925-e087-7e2a45480ecc"
      },
      "execution_count": null,
      "outputs": [
        {
          "output_type": "stream",
          "name": "stdout",
          "text": [
            "45\n"
          ]
        }
      ]
    },
    {
      "cell_type": "code",
      "source": [
        "#division\n",
        "\n",
        "print(x/y)"
      ],
      "metadata": {
        "colab": {
          "base_uri": "https://localhost:8080/"
        },
        "id": "y-XoJ0oKqyeh",
        "outputId": "af7187b3-02fc-4fa4-b297-d24da6e6cd43"
      },
      "execution_count": null,
      "outputs": [
        {
          "output_type": "stream",
          "name": "stdout",
          "text": [
            "0.5555555555555556\n"
          ]
        }
      ]
    },
    {
      "cell_type": "code",
      "source": [
        "#floor divisiom\n",
        "print(x//y)"
      ],
      "metadata": {
        "colab": {
          "base_uri": "https://localhost:8080/"
        },
        "id": "hr1G1Qo-q26k",
        "outputId": "4a404abf-e306-4186-ef0f-f0cdd57964fa"
      },
      "execution_count": null,
      "outputs": [
        {
          "output_type": "stream",
          "name": "stdout",
          "text": [
            "0\n"
          ]
        }
      ]
    },
    {
      "cell_type": "code",
      "source": [
        "#modulus\n",
        "print(x%y)"
      ],
      "metadata": {
        "colab": {
          "base_uri": "https://localhost:8080/"
        },
        "id": "7ASIYhaXq6fl",
        "outputId": "07888f15-a5dc-4baf-b026-4adddec33552"
      },
      "execution_count": null,
      "outputs": [
        {
          "output_type": "stream",
          "name": "stdout",
          "text": [
            "5\n"
          ]
        }
      ]
    },
    {
      "cell_type": "code",
      "source": [
        "#exponentiation\n",
        "print(x**y)"
      ],
      "metadata": {
        "colab": {
          "base_uri": "https://localhost:8080/"
        },
        "id": "XgvjXOJXq8yP",
        "outputId": "40257be7-f8cb-4c4d-fda0-0c2b9215bf1c"
      },
      "execution_count": null,
      "outputs": [
        {
          "output_type": "stream",
          "name": "stdout",
          "text": [
            "1953125\n"
          ]
        }
      ]
    },
    {
      "cell_type": "markdown",
      "source": [
        "#Assignments operator"
      ],
      "metadata": {
        "id": "Vds-3-Yxr4Px"
      }
    },
    {
      "cell_type": "markdown",
      "source": [
        "| Operator | Meaning               | Example   |\n",
        "| -------- | --------------------- | --------- |\n",
        "| `=`      | Assign value          | `x = 5`   |\n",
        "| `+=`     | Add & assign          | `x += 3`  |\n",
        "| `-=`     | Subtract & assign     | `x -= 3`  |\n",
        "| `*=`     | Multiply & assign     | `x *= 3`  |\n",
        "| `/=`     | Divide & assign       | `x /= 3`  |\n",
        "| `//=`    | Floor divide & assign | `x //= 3` |\n",
        "| `%=`     | Modulus & assign      | `x %= 3`  |\n",
        "| `**=`    | Power & assign        | `x **= 3` |\n"
      ],
      "metadata": {
        "id": "DUpGx5BwrGGB"
      }
    },
    {
      "cell_type": "code",
      "source": [
        "#asign value\n",
        "x = 96"
      ],
      "metadata": {
        "id": "vpu-PJuIrCED"
      },
      "execution_count": null,
      "outputs": []
    },
    {
      "cell_type": "code",
      "source": [
        "#add & assign\n",
        "x += 3\n",
        "print(x)"
      ],
      "metadata": {
        "colab": {
          "base_uri": "https://localhost:8080/"
        },
        "id": "WJVwDB5UrOep",
        "outputId": "064f74af-3515-4626-e58b-7476bdf56d46"
      },
      "execution_count": null,
      "outputs": [
        {
          "output_type": "stream",
          "name": "stdout",
          "text": [
            "99\n"
          ]
        }
      ]
    },
    {
      "cell_type": "code",
      "source": [
        "#subtract\n",
        "x -= 3\n",
        "print(x)"
      ],
      "metadata": {
        "colab": {
          "base_uri": "https://localhost:8080/"
        },
        "id": "gMBNDFQJrS49",
        "outputId": "23cf7ee3-b357-4c9d-a5f0-684e32870dff"
      },
      "execution_count": null,
      "outputs": [
        {
          "output_type": "stream",
          "name": "stdout",
          "text": [
            "96\n"
          ]
        }
      ]
    },
    {
      "cell_type": "code",
      "source": [
        "#multiply\n",
        "x *= 4\n",
        "print(x)"
      ],
      "metadata": {
        "colab": {
          "base_uri": "https://localhost:8080/"
        },
        "id": "7RA1cJyjrYUA",
        "outputId": "787c2f5d-51bb-4d08-b968-ea75a6ecb5b9"
      },
      "execution_count": null,
      "outputs": [
        {
          "output_type": "stream",
          "name": "stdout",
          "text": [
            "384\n"
          ]
        }
      ]
    },
    {
      "cell_type": "code",
      "source": [
        "#divide\n",
        "x /= 4\n",
        "print(x)"
      ],
      "metadata": {
        "colab": {
          "base_uri": "https://localhost:8080/"
        },
        "id": "9sqHwDpSrg_w",
        "outputId": "c6cd4cd1-37d6-4a5e-a692-57cccd0543b9"
      },
      "execution_count": null,
      "outputs": [
        {
          "output_type": "stream",
          "name": "stdout",
          "text": [
            "96.0\n"
          ]
        }
      ]
    },
    {
      "cell_type": "code",
      "source": [
        "#floor divison\n",
        "x //= 5\n",
        "print(x)"
      ],
      "metadata": {
        "colab": {
          "base_uri": "https://localhost:8080/"
        },
        "id": "JoseB9LlrlbO",
        "outputId": "5fd3eb61-1e7e-42bd-93a2-68feb8e8a508"
      },
      "execution_count": null,
      "outputs": [
        {
          "output_type": "stream",
          "name": "stdout",
          "text": [
            "19.0\n"
          ]
        }
      ]
    },
    {
      "cell_type": "code",
      "source": [
        "#modulus\n",
        "x %= 8\n",
        "print(x)"
      ],
      "metadata": {
        "colab": {
          "base_uri": "https://localhost:8080/"
        },
        "id": "Hrm-XcfDrrhX",
        "outputId": "780aaf21-ebe5-41ab-8ed4-e5e700e0a94e"
      },
      "execution_count": null,
      "outputs": [
        {
          "output_type": "stream",
          "name": "stdout",
          "text": [
            "3.0\n"
          ]
        }
      ]
    },
    {
      "cell_type": "code",
      "source": [
        "#power\n",
        "x **= 3\n",
        "print(x)"
      ],
      "metadata": {
        "colab": {
          "base_uri": "https://localhost:8080/"
        },
        "id": "VqcG7ie9ryBr",
        "outputId": "8a94fae9-0429-420c-b062-816408f82c5f"
      },
      "execution_count": null,
      "outputs": [
        {
          "output_type": "stream",
          "name": "stdout",
          "text": [
            "27.0\n"
          ]
        }
      ]
    },
    {
      "cell_type": "markdown",
      "source": [
        "# comparsion operators"
      ],
      "metadata": {
        "id": "TzJ7ATUpt6Y5"
      }
    },
    {
      "cell_type": "markdown",
      "source": [
        "| Operator | Meaning          | Example  | Output  |\n",
        "| -------- | ---------------- | -------- | ------- |\n",
        "| `==`     | Equal            | `5 == 3` | `False` |\n",
        "| `!=`     | Not equal        | `5 != 3` | `True`  |\n",
        "| `>`      | Greater than     | `5 > 3`  | `True`  |\n",
        "| `<`      | Less than        | `5 < 3`  | `False` |\n",
        "| `>=`     | Greater or equal | `5 >= 3` | `True`  |\n",
        "| `<=`     | Less or equal    | `5 <= 3` | `False` |\n"
      ],
      "metadata": {
        "id": "2ILRFfPutVJc"
      }
    },
    {
      "cell_type": "code",
      "source": [
        "#equal\n",
        "x = 5\n",
        "y = 5\n",
        "z = 7\n",
        "print(x == y)\n",
        "print(x == z)"
      ],
      "metadata": {
        "colab": {
          "base_uri": "https://localhost:8080/"
        },
        "id": "CLjmzzT0r03H",
        "outputId": "b07b7ea2-efef-4bd3-db84-1bdff6585fb5"
      },
      "execution_count": null,
      "outputs": [
        {
          "output_type": "stream",
          "name": "stdout",
          "text": [
            "True\n",
            "False\n"
          ]
        }
      ]
    },
    {
      "cell_type": "code",
      "source": [
        "#not equal\n",
        "print(x != y)\n",
        "print(x != z)"
      ],
      "metadata": {
        "colab": {
          "base_uri": "https://localhost:8080/"
        },
        "id": "VJ2bWLq2uGKp",
        "outputId": "c3a20e48-56bf-45ec-96bc-4440e4cf983b"
      },
      "execution_count": null,
      "outputs": [
        {
          "output_type": "stream",
          "name": "stdout",
          "text": [
            "False\n",
            "True\n"
          ]
        }
      ]
    },
    {
      "cell_type": "code",
      "source": [
        "#greater than\n",
        "print(x > y)\n",
        "print(x > z)"
      ],
      "metadata": {
        "colab": {
          "base_uri": "https://localhost:8080/"
        },
        "id": "4sRNpMdzuKh2",
        "outputId": "d52ce3b4-6d72-4a97-8e28-d932815727d4"
      },
      "execution_count": null,
      "outputs": [
        {
          "output_type": "stream",
          "name": "stdout",
          "text": [
            "False\n",
            "False\n"
          ]
        }
      ]
    },
    {
      "cell_type": "code",
      "source": [
        "#less than\n",
        "print(x < y)\n",
        "print(x < z)"
      ],
      "metadata": {
        "colab": {
          "base_uri": "https://localhost:8080/"
        },
        "id": "pOTWaY3-uQKA",
        "outputId": "08799ead-5f5b-400e-f48f-90285cb0ae91"
      },
      "execution_count": null,
      "outputs": [
        {
          "output_type": "stream",
          "name": "stdout",
          "text": [
            "False\n",
            "True\n"
          ]
        }
      ]
    },
    {
      "cell_type": "code",
      "source": [
        "#greater or equal\n",
        "print(x >= y)\n",
        "print(x >= z)\n"
      ],
      "metadata": {
        "colab": {
          "base_uri": "https://localhost:8080/"
        },
        "id": "Q2T4g-WIuSq1",
        "outputId": "b66d45a0-a76a-4b0d-9c96-960eac27ff7a"
      },
      "execution_count": null,
      "outputs": [
        {
          "output_type": "stream",
          "name": "stdout",
          "text": [
            "True\n",
            "False\n"
          ]
        }
      ]
    },
    {
      "cell_type": "code",
      "source": [
        "#less or equal\n",
        "print(x <= y)\n",
        "print(x <= z)\n",
        "#"
      ],
      "metadata": {
        "colab": {
          "base_uri": "https://localhost:8080/"
        },
        "id": "qCNwUnCUub5c",
        "outputId": "da91e97b-8a65-481f-f399-b644ef3a246c"
      },
      "execution_count": null,
      "outputs": [
        {
          "output_type": "stream",
          "name": "stdout",
          "text": [
            "True\n",
            "True\n"
          ]
        }
      ]
    },
    {
      "cell_type": "markdown",
      "source": [
        "#Logical operator"
      ],
      "metadata": {
        "id": "g_Yc4di7u20G"
      }
    },
    {
      "cell_type": "markdown",
      "source": [
        "| Operator | Meaning               | Example               | Output  |\n",
        "| -------- | --------------------- | --------------------- | ------- |\n",
        "| `and`    | True if both are True | `(5 > 3) and (3 > 1)` | `True`  |\n",
        "| `or`     | True if one is True   | `(5 > 3) or (3 < 1)`  | `True`  |\n",
        "| `not`    | True if False         | `not(5 > 3)`          | `False` |\n"
      ],
      "metadata": {
        "id": "sCUdTpUTu1Oo"
      }
    },
    {
      "cell_type": "code",
      "source": [
        "#and\n",
        "\n",
        "x = 5\n",
        "y = 4\n",
        "z = 7\n",
        "v = 2\n",
        "print(x > y) and (z > v)"
      ],
      "metadata": {
        "colab": {
          "base_uri": "https://localhost:8080/"
        },
        "id": "GURhXirOuevZ",
        "outputId": "d8b9ff78-12d6-40a9-923b-221d4592682f"
      },
      "execution_count": null,
      "outputs": [
        {
          "output_type": "stream",
          "name": "stdout",
          "text": [
            "True\n"
          ]
        }
      ]
    },
    {
      "cell_type": "code",
      "source": [
        "# or\n",
        "print(x > y) and (z < v)"
      ],
      "metadata": {
        "colab": {
          "base_uri": "https://localhost:8080/"
        },
        "id": "nqvIoQmFvXdY",
        "outputId": "907895de-9e28-4e2f-cea5-e51e0a754fee"
      },
      "execution_count": null,
      "outputs": [
        {
          "output_type": "stream",
          "name": "stdout",
          "text": [
            "True\n"
          ]
        }
      ]
    },
    {
      "cell_type": "code",
      "source": [
        "#not\n",
        "\n",
        "print(not(z > y))"
      ],
      "metadata": {
        "colab": {
          "base_uri": "https://localhost:8080/"
        },
        "id": "6Ubz50q9vk5e",
        "outputId": "d7581f38-a44f-46b5-8754-36cd63daab6b"
      },
      "execution_count": null,
      "outputs": [
        {
          "output_type": "stream",
          "name": "stdout",
          "text": [
            "False\n"
          ]
        }
      ]
    },
    {
      "cell_type": "markdown",
      "source": [
        "#Identity Operator"
      ],
      "metadata": {
        "id": "Hl9kWoBMvuUw"
      }
    },
    {
      "cell_type": "markdown",
      "source": [
        "| Operator | Meaning                      | Example      | Output       |\n",
        "| -------- | ---------------------------- | ------------ | ------------ |\n",
        "| `is`     | True if both are same object | `a is b`     | `True/False` |\n",
        "| `is not` | True if not same object      | `a is not b` | `True/False` |\n"
      ],
      "metadata": {
        "id": "AcF0VQeIvzw4"
      }
    },
    {
      "cell_type": "code",
      "source": [
        "# is\n",
        "a = True\n",
        "b = False\n",
        "c = a\n",
        "print(a is b)\n",
        "print(a is not c)"
      ],
      "metadata": {
        "colab": {
          "base_uri": "https://localhost:8080/"
        },
        "id": "qbpKbDzbvrOl",
        "outputId": "22e80493-eaf0-4ba0-b916-8929afe97e82"
      },
      "execution_count": null,
      "outputs": [
        {
          "output_type": "stream",
          "name": "stdout",
          "text": [
            "False\n",
            "False\n"
          ]
        }
      ]
    },
    {
      "cell_type": "code",
      "source": [
        "# is\n",
        "a = 7\n",
        "b = 8\n",
        "c = a\n",
        "print(a is b)\n",
        "print(a is not c)"
      ],
      "metadata": {
        "colab": {
          "base_uri": "https://localhost:8080/"
        },
        "id": "sibf1rLyvxv8",
        "outputId": "6b4f70ae-1a28-4167-f450-f6c6d0f4d7f0"
      },
      "execution_count": null,
      "outputs": [
        {
          "output_type": "stream",
          "name": "stdout",
          "text": [
            "False\n",
            "True\n"
          ]
        }
      ]
    },
    {
      "cell_type": "markdown",
      "source": [
        "#Membership operator"
      ],
      "metadata": {
        "id": "9RDxFQGlwZW4"
      }
    },
    {
      "cell_type": "markdown",
      "source": [
        "| Operator | Meaning                       | Example            | Output |\n",
        "| -------- | ----------------------------- | ------------------ | ------ |\n",
        "| `in`     | True if value in sequence     | `\"a\" in \"cat\"`     | `True` |\n",
        "| `not in` | True if value not in sequence | `\"x\" not in \"cat\"` | `True` |\n"
      ],
      "metadata": {
        "id": "3DsZP8Q6wYHS"
      }
    },
    {
      "cell_type": "code",
      "source": [
        "# in\n",
        "a = \"cat is a animal\"\n",
        "\n",
        "# Example 1\n",
        "print(\"a\" in \"cat\")   # Checks if 'a' is in \"cat\"\n",
        "\n",
        "# Example 2\n",
        "print(\"n\" not in \"cat\")  # Checks if 'x' is not in \"cat\"\n"
      ],
      "metadata": {
        "colab": {
          "base_uri": "https://localhost:8080/"
        },
        "id": "9Bv7GS8hwMw6",
        "outputId": "e545c4fd-84d1-423f-ceeb-28a49b511233"
      },
      "execution_count": null,
      "outputs": [
        {
          "output_type": "stream",
          "name": "stdout",
          "text": [
            "True\n",
            "True\n"
          ]
        }
      ]
    },
    {
      "cell_type": "markdown",
      "source": [
        "#Bitwise Opertor"
      ],
      "metadata": {
        "id": "Fsy0EEIexq96"
      }
    },
    {
      "cell_type": "markdown",
      "source": [
        "| Operator | Meaning     | Example                 | Output |   |\n",
        "| -------- | ----------- | ----------------------- | ------ | - |\n",
        "| `&`      | AND         | `5 & 3` → `101 & 011`   | `1`    |   |\n",
        "| `\\|`     | OR          | `5 \\| 3` → `101 \\| 011` | `7`    |   |\n",
        "| `^`      | XOR         | `5 ^ 3` → `101 ^ 011`   | `6`    |   |\n",
        "| `~`      | NOT         | `~5`                    | `-6`   |   |\n",
        "| `<<`     | Left shift  | `5 << 1`                | `10`   |   |\n",
        "| `>>`     | Right shift | `5 >> 1`                | `2`    |   |\n"
      ],
      "metadata": {
        "id": "7AIwKmBHx3N4"
      }
    },
    {
      "cell_type": "code",
      "source": [
        "x = 8\n",
        "y = 5\n",
        "print(x & y)"
      ],
      "metadata": {
        "colab": {
          "base_uri": "https://localhost:8080/"
        },
        "id": "4NooBaQIxAJe",
        "outputId": "63059962-31e6-48c3-e915-65df40f11a06"
      },
      "execution_count": null,
      "outputs": [
        {
          "output_type": "stream",
          "name": "stdout",
          "text": [
            "0\n"
          ]
        }
      ]
    },
    {
      "cell_type": "code",
      "source": [
        "print(x | y)"
      ],
      "metadata": {
        "colab": {
          "base_uri": "https://localhost:8080/"
        },
        "id": "oENZDXulyZXD",
        "outputId": "51edea9f-bc77-48c6-e403-ef516b9c1a08"
      },
      "execution_count": null,
      "outputs": [
        {
          "output_type": "stream",
          "name": "stdout",
          "text": [
            "13\n"
          ]
        }
      ]
    },
    {
      "cell_type": "code",
      "source": [
        "print(x ^ y)"
      ],
      "metadata": {
        "colab": {
          "base_uri": "https://localhost:8080/"
        },
        "id": "nYz3A5QcyciE",
        "outputId": "992b258c-fd3d-443a-d3aa-20ea61f44cba"
      },
      "execution_count": null,
      "outputs": [
        {
          "output_type": "stream",
          "name": "stdout",
          "text": [
            "13\n"
          ]
        }
      ]
    },
    {
      "cell_type": "code",
      "source": [
        "print(~x)"
      ],
      "metadata": {
        "colab": {
          "base_uri": "https://localhost:8080/"
        },
        "id": "vt9FDoHCyhqv",
        "outputId": "892b3add-7fee-4263-c63a-ff7448ad76e9"
      },
      "execution_count": null,
      "outputs": [
        {
          "output_type": "stream",
          "name": "stdout",
          "text": [
            "-9\n"
          ]
        }
      ]
    },
    {
      "cell_type": "code",
      "source": [
        "print(x << 1)"
      ],
      "metadata": {
        "colab": {
          "base_uri": "https://localhost:8080/"
        },
        "id": "IMvcxQb5ymPc",
        "outputId": "97225544-f7de-4c0f-f20b-49882d3120cc"
      },
      "execution_count": null,
      "outputs": [
        {
          "output_type": "stream",
          "name": "stdout",
          "text": [
            "16\n"
          ]
        }
      ]
    },
    {
      "cell_type": "code",
      "source": [
        "print(y>>1)"
      ],
      "metadata": {
        "colab": {
          "base_uri": "https://localhost:8080/"
        },
        "id": "CHbaZK1Nyop9",
        "outputId": "3a20f0e0-04db-4faf-ac26-e796242515d2"
      },
      "execution_count": null,
      "outputs": [
        {
          "output_type": "stream",
          "name": "stdout",
          "text": [
            "2\n"
          ]
        }
      ]
    },
    {
      "cell_type": "markdown",
      "source": [
        "#Control Flow\n"
      ],
      "metadata": {
        "id": "GRXKMKsgyyI1"
      }
    },
    {
      "cell_type": "markdown",
      "source": [
        "#if\n",
        "\n",
        "if is a control flow statement used to make decisions in your program.\n",
        "It lets you run a block of code only if a given condition is True."
      ],
      "metadata": {
        "id": "WwfIT_Kw1bh6"
      }
    },
    {
      "cell_type": "markdown",
      "source": [
        "In Python, if, elif, and else are conditional statements that control program flow based on conditions."
      ],
      "metadata": {
        "id": "5PF8VgIMzHY1"
      }
    },
    {
      "cell_type": "markdown",
      "source": [
        "| Statement | Meaning                                         | Example        |\n",
        "| --------- | ----------------------------------------------- | -------------- |\n",
        "| `if`      | Runs a block if condition is **True**           | `if x > 0:`    |\n",
        "| `elif`    | Checks next condition if previous was **False** | `elif x == 0:` |\n",
        "| `else`    | Runs if all above are **False**                 | `else:`        |\n"
      ],
      "metadata": {
        "id": "l_R175YM0GXy"
      }
    },
    {
      "cell_type": "markdown",
      "source": [
        "| Keyword    | Purpose                                                                | Example                                                                                                             | Example Output |\n",
        "| ---------- | ---------------------------------------------------------------------- | ------------------------------------------------------------------------------------------------------------------- | -------------- |\n",
        "| **`if`**   | Executes **only if** the condition is `True`.                          | `python\\nx = 5\\nif x > 0:\\n    print(\"Positive\")\\n`                                                                 | `Positive`     |\n",
        "| **`elif`** | Checked **only if** all previous `if` / `elif` conditions are `False`. | `python\\nx = 0\\nif x > 0:\\n    print(\"Positive\")\\nelif x == 0:\\n    print(\"Zero\")\\n`                                | `Zero`         |\n",
        "| **`else`** | Executes if **all previous conditions are False**.                     | `python\\nx = -3\\nif x > 0:\\n    print(\"Positive\")\\nelif x == 0:\\n    print(\"Zero\")\\nelse:\\n    print(\"Negative\")\\n` | `Negative`     |\n"
      ],
      "metadata": {
        "id": "08qIAUQjzA6V"
      }
    },
    {
      "cell_type": "code",
      "source": [
        "x = 15\n",
        "\n",
        "if x > 20:\n",
        "    print(\"x is greater than 20\")\n",
        "elif x > 10:\n",
        "    print(\"x is greater than 10 but less than or equal to 20\")\n",
        "else:\n",
        "    print(\"x is 10 or less\")\n"
      ],
      "metadata": {
        "colab": {
          "base_uri": "https://localhost:8080/"
        },
        "id": "-4wjC4neys0W",
        "outputId": "9ff5883e-71a2-4f1a-e1f8-a7b71e1abc2c"
      },
      "execution_count": null,
      "outputs": [
        {
          "output_type": "stream",
          "name": "stdout",
          "text": [
            "x is greater than 10 but less than or equal to 20\n"
          ]
        }
      ]
    },
    {
      "cell_type": "markdown",
      "source": [
        "Nested if Statement in Python\n",
        "Meaning\n",
        "A nested if means placing one if statement inside another.\n",
        "The inner if runs only if the outer if is True."
      ],
      "metadata": {
        "id": "k534Teax0i0h"
      }
    },
    {
      "cell_type": "code",
      "source": [
        "# Check eligibility for driving and voting\n",
        "age = 20\n",
        "has_license = True\n",
        "\n",
        "if age >= 18:  # Outer if\n",
        "    print(\"You are an adult.\")\n",
        "\n",
        "    if has_license:  # Inner if\n",
        "        print(\"You can drive.\")\n",
        "    else:\n",
        "        print(\"You need a driving license.\")\n",
        "else:\n",
        "    print(\"You are not an adult.\")\n"
      ],
      "metadata": {
        "colab": {
          "base_uri": "https://localhost:8080/"
        },
        "id": "F5MQ3APwzLqS",
        "outputId": "2bfe6bae-30ea-418d-bc9d-d1dbe2b3ff6f"
      },
      "execution_count": null,
      "outputs": [
        {
          "output_type": "stream",
          "name": "stdout",
          "text": [
            "You are an adult.\n",
            "You can drive.\n"
          ]
        }
      ]
    },
    {
      "cell_type": "markdown",
      "source": [
        "#Loops\n",
        "\n",
        "A loop in Python is a control structure that repeats a block of code multiple times until a certain condition is met"
      ],
      "metadata": {
        "id": "m1feIvsV1LKn"
      }
    },
    {
      "cell_type": "markdown",
      "source": [
        "for Loop — Iterates over a sequence (list, string, tuple, etc.)"
      ],
      "metadata": {
        "id": "R3t2pPPB1CR2"
      }
    },
    {
      "cell_type": "code",
      "source": [
        "for i in range(5):\n",
        "    print(i)\n"
      ],
      "metadata": {
        "colab": {
          "base_uri": "https://localhost:8080/"
        },
        "id": "Of1V0nE_0t_q",
        "outputId": "428b17f5-22d2-4f4c-f9ca-129cd7d47f30"
      },
      "execution_count": null,
      "outputs": [
        {
          "output_type": "stream",
          "name": "stdout",
          "text": [
            "0\n",
            "1\n",
            "2\n",
            "3\n",
            "4\n"
          ]
        }
      ]
    },
    {
      "cell_type": "markdown",
      "source": [
        "while loop → Repeats as long as a condition is True."
      ],
      "metadata": {
        "id": "csTQ-G4O1zMS"
      }
    },
    {
      "cell_type": "code",
      "source": [
        "count = 1\n",
        "while count <= 5:\n",
        "    print(count)\n",
        "    count += 1\n"
      ],
      "metadata": {
        "colab": {
          "base_uri": "https://localhost:8080/"
        },
        "id": "a_bGsJlu1R1B",
        "outputId": "b5b8b5f8-c90e-48c9-dfc6-cf3697050b9c"
      },
      "execution_count": null,
      "outputs": [
        {
          "output_type": "stream",
          "name": "stdout",
          "text": [
            "1\n",
            "2\n",
            "3\n",
            "4\n",
            "5\n"
          ]
        }
      ]
    },
    {
      "cell_type": "markdown",
      "source": [
        "Break"
      ],
      "metadata": {
        "id": "6xwnXfv_3Pke"
      }
    },
    {
      "cell_type": "markdown",
      "source": [
        "Stops the loop immediately, no matter if more items remain."
      ],
      "metadata": {
        "id": "pb6-yRA23e47"
      }
    },
    {
      "cell_type": "code",
      "source": [
        "for i in range(5):\n",
        "    if i == 3:\n",
        "        break\n",
        "    print(i)\n",
        "\n"
      ],
      "metadata": {
        "colab": {
          "base_uri": "https://localhost:8080/"
        },
        "id": "zThb6SGq16fX",
        "outputId": "2060bbcd-d12e-4d18-e05c-4395502fc419"
      },
      "execution_count": null,
      "outputs": [
        {
          "output_type": "stream",
          "name": "stdout",
          "text": [
            "0\n",
            "1\n",
            "2\n"
          ]
        }
      ]
    },
    {
      "cell_type": "markdown",
      "source": [
        "continue"
      ],
      "metadata": {
        "id": "mg57zl183Yz6"
      }
    },
    {
      "cell_type": "markdown",
      "source": [
        "Skips the rest of the code for the current loop iteration and moves to the next iteration."
      ],
      "metadata": {
        "id": "qzQeWSc_3iVU"
      }
    },
    {
      "cell_type": "code",
      "source": [
        "for i in range(5):\n",
        "    if i == 3:\n",
        "        continue\n",
        "    print(i)\n"
      ],
      "metadata": {
        "colab": {
          "base_uri": "https://localhost:8080/"
        },
        "id": "_GrhyCfW3WES",
        "outputId": "979a4ccf-d849-416c-9b89-d53c98f4cf77"
      },
      "execution_count": null,
      "outputs": [
        {
          "output_type": "stream",
          "name": "stdout",
          "text": [
            "0\n",
            "1\n",
            "2\n",
            "4\n"
          ]
        }
      ]
    },
    {
      "cell_type": "markdown",
      "source": [
        "Pass"
      ],
      "metadata": {
        "id": "Dwl5Y14e3mSQ"
      }
    },
    {
      "cell_type": "markdown",
      "source": [
        "Does nothing — used as a placeholder when you need an empty block."
      ],
      "metadata": {
        "id": "XsfvIx403nm9"
      }
    },
    {
      "cell_type": "code",
      "source": [
        "for i in range(5):\n",
        "    if i == 3:\n",
        "        pass\n",
        "    print(i)\n"
      ],
      "metadata": {
        "colab": {
          "base_uri": "https://localhost:8080/"
        },
        "id": "kmUMsHQV3awk",
        "outputId": "d3a545ef-469f-4f10-aaf5-71a6e8a1dfb9"
      },
      "execution_count": null,
      "outputs": [
        {
          "output_type": "stream",
          "name": "stdout",
          "text": [
            "0\n",
            "1\n",
            "2\n",
            "3\n",
            "4\n"
          ]
        }
      ]
    },
    {
      "cell_type": "markdown",
      "source": [
        "#Data Structures"
      ],
      "metadata": {
        "id": "536Y_9KF4vae"
      }
    },
    {
      "cell_type": "markdown",
      "source": [
        "| Type      | Ordered? | Mutable? | Allows Duplicates? | Example            |\n",
        "| --------- | -------- | -------- | ------------------ | ------------------ |\n",
        "| **List**  | ✅ Yes    | ✅ Yes    | ✅ Yes              | `[1, 2, 3]`        |\n",
        "| **Tuple** | ✅ Yes    | ❌ No     | ✅ Yes              | `(1, 2, 3)`        |\n",
        "| **Set**   | ❌ No     | ✅ Yes    | ❌ No               | `{1, 2, 3}`        |\n",
        "| **Dict**  | ✅ Yes    | ✅ Yes    | Keys ❌ Duplicates  | `{\"a\": 1, \"b\": 2}` |\n"
      ],
      "metadata": {
        "id": "ne0E8DgP5D3L"
      }
    },
    {
      "cell_type": "markdown",
      "source": [
        "***ordered*** means that the elements in a data structure maintain the same sequence (order) in which they were added."
      ],
      "metadata": {
        "id": "zeKL0ccy5ZNP"
      }
    },
    {
      "cell_type": "code",
      "source": [
        "fruits = [\"apple\", \"banana\", \"cherry\"]\n",
        "for fruit in fruits:\n",
        "    print(fruit)\n"
      ],
      "metadata": {
        "colab": {
          "base_uri": "https://localhost:8080/"
        },
        "id": "Bus0hdTZKocj",
        "outputId": "f7fe0a1e-5299-40c9-868f-9e61cad216de"
      },
      "execution_count": null,
      "outputs": [
        {
          "output_type": "stream",
          "name": "stdout",
          "text": [
            "apple\n",
            "banana\n",
            "cherry\n"
          ]
        }
      ]
    },
    {
      "cell_type": "markdown",
      "source": [
        "***unordered*** : The elements inside the collection do not have a fixed position or sequence, and Python does not guarantee they will be stored or retrieved in the same order they were added."
      ],
      "metadata": {
        "id": "MFfscAHmKUFP"
      }
    },
    {
      "cell_type": "code",
      "source": [
        "myset = {\"apple\", \"banana\", \"cherry\"}\n",
        "print(myset)\n"
      ],
      "metadata": {
        "colab": {
          "base_uri": "https://localhost:8080/"
        },
        "id": "jYfTgzADKyy3",
        "outputId": "038d3445-b552-4712-d729-f0a2055868cd"
      },
      "execution_count": null,
      "outputs": [
        {
          "output_type": "stream",
          "name": "stdout",
          "text": [
            "{'apple', 'cherry', 'banana'}\n"
          ]
        }
      ]
    },
    {
      "cell_type": "markdown",
      "source": [
        "Mutable\n",
        "Means changeable — you can modify the object’s contents without creating a new object.\n",
        "\n",
        "You can add, remove, or change elements in place.\n",
        "\n",
        "Examples:\n",
        "\n",
        "list\n",
        "\n",
        "dict\n",
        "\n",
        "set\n",
        "\n",
        "bytearray"
      ],
      "metadata": {
        "id": "H1rp1FlM5tjM"
      }
    },
    {
      "cell_type": "code",
      "source": [
        "fruits = [\"apple\", \"banana\", \"cherry\"]\n",
        "fruits[1] = \"mango\"   # Changing an element\n",
        "print(fruits)\n"
      ],
      "metadata": {
        "colab": {
          "base_uri": "https://localhost:8080/"
        },
        "id": "GH5KuU_e3qYj",
        "outputId": "338a6500-90c6-4c96-ed89-dab5a9d36a45"
      },
      "execution_count": null,
      "outputs": [
        {
          "output_type": "stream",
          "name": "stdout",
          "text": [
            "['apple', 'mango', 'cherry']\n"
          ]
        }
      ]
    },
    {
      "cell_type": "markdown",
      "source": [
        "Immutable\n",
        "Means unchangeable — once created, the object’s contents cannot be altered.\n",
        "\n",
        "Any change creates a new object in memory.\n",
        "\n",
        "Examples:\n",
        "\n",
        "tuple\n",
        "\n",
        "str\n",
        "\n",
        "int\n",
        "\n",
        "float\n",
        "\n",
        "bool\n",
        "\n",
        "frozenset\n",
        "\n",
        "bytes"
      ],
      "metadata": {
        "id": "FOr3cRr_51nr"
      }
    },
    {
      "cell_type": "code",
      "source": [
        "name = \"John\"\n",
        "name = name.replace(\"J\", \"R\")\n",
        "print(name)\n"
      ],
      "metadata": {
        "id": "1-jJ8E3M5yFi",
        "colab": {
          "base_uri": "https://localhost:8080/"
        },
        "outputId": "01120e96-a6e9-45c8-d3bc-5656192a378c"
      },
      "execution_count": null,
      "outputs": [
        {
          "output_type": "stream",
          "name": "stdout",
          "text": [
            "Rohn\n"
          ]
        }
      ]
    },
    {
      "cell_type": "markdown",
      "source": [
        "#Strings"
      ],
      "metadata": {
        "id": "4e_p7lKTLBTb"
      }
    },
    {
      "cell_type": "markdown",
      "source": [
        " Strings in Python\n",
        "A string is a sequence of characters enclosed in single quotes '...', double quotes \"...\", or triple quotes '''...''' / \"\"\"...\"\"\".\n",
        "\n",
        "Strings are immutable (cannot be changed after creation).\n",
        "\n",
        "Strings are ordered → characters have a fixed position."
      ],
      "metadata": {
        "id": "1mBwO4n15OHY"
      }
    },
    {
      "cell_type": "markdown",
      "source": [
        "Indexing\n",
        "Indexing means accessing individual characters in a string.\n",
        "\n",
        "Positive indexing → Starts from 0 (first character).\n",
        "\n",
        "Negative indexing → Starts from -1 (last character)."
      ],
      "metadata": {
        "id": "skiM-kTD5YwB"
      }
    },
    {
      "cell_type": "code",
      "source": [
        "text = \"Manoj\"\n",
        "\n",
        "# Positive Indexing\n",
        "print(text[0])   # First character\n",
        "print(text[2])   # Third character\n",
        "\n",
        "# Negative Indexing\n",
        "print(text[-1])  # Last character\n",
        "print(text[-3])  # Third from last\n"
      ],
      "metadata": {
        "colab": {
          "base_uri": "https://localhost:8080/"
        },
        "id": "u0qzWpjFK9MK",
        "outputId": "63e5031e-ce43-47d9-af74-be6badc86ab1"
      },
      "execution_count": null,
      "outputs": [
        {
          "output_type": "stream",
          "name": "stdout",
          "text": [
            "M\n",
            "n\n",
            "j\n",
            "n\n"
          ]
        }
      ]
    },
    {
      "cell_type": "markdown",
      "source": [
        "Slicing\n",
        "Slicing extracts a substring from a string using:"
      ],
      "metadata": {
        "id": "hyTc4-4O7OZH"
      }
    },
    {
      "cell_type": "markdown",
      "source": [
        "string[start:end:step]\n"
      ],
      "metadata": {
        "id": "QSEbxkRK8Dpj"
      }
    },
    {
      "cell_type": "markdown",
      "source": [
        "start → starting index (inclusive)\n",
        "\n",
        "end → ending index (exclusive)\n",
        "\n",
        "step → jump between characters (default = 1)"
      ],
      "metadata": {
        "id": "fPN0PDQK77QU"
      }
    },
    {
      "cell_type": "code",
      "source": [
        "text = \"Python\"\n",
        "\n",
        "# Basic slicing\n",
        "print(text[0:4])    # Characters from index 0 to 3\n",
        "print(text[2:])     # From index 2 to end\n",
        "print(text[:4])     # From start to index 3\n",
        "\n",
        "# Using step\n",
        "print(text[0:6:2])  # Every 2nd character from index 0 to 5\n",
        "\n",
        "# Negative slicing\n",
        "print(text[-4:-1])  # From 3rd to last till 2nd last\n",
        "print(text[::-1])   # Reverse the string\n"
      ],
      "metadata": {
        "colab": {
          "base_uri": "https://localhost:8080/"
        },
        "id": "5wEVocLb6S62",
        "outputId": "b2e8fe43-ae91-426d-a47a-31ad516f0b7c"
      },
      "execution_count": null,
      "outputs": [
        {
          "output_type": "stream",
          "name": "stdout",
          "text": [
            "Pyth\n",
            "thon\n",
            "Pyth\n",
            "Pto\n",
            "tho\n",
            "nohtyP\n"
          ]
        }
      ]
    },
    {
      "cell_type": "markdown",
      "source": [
        "Quick Cheat\n",
        "\n",
        "| Syntax              | Meaning                       |\n",
        "| ------------------- | ----------------------------- |\n",
        "| `s[i]`              | i-th character                |\n",
        "| `s[-i]`             | i-th from the end             |\n",
        "| `s[start:end]`      | substring from start to end-1 |\n",
        "| `s[start:]`         | substring from start to end   |\n",
        "| `s[:end]`           | substring from start to end-1 |\n",
        "| `s[start:end:step]` | substring with step size      |\n",
        "| `s[::-1]`           | reverse string                |\n"
      ],
      "metadata": {
        "id": "DwhIcWSy8V5c"
      }
    },
    {
      "cell_type": "markdown",
      "source": [
        "String Methods"
      ],
      "metadata": {
        "id": "QDrlMQ1i_7Ql"
      }
    },
    {
      "cell_type": "markdown",
      "source": [
        "| Method                | Description                                   | Example                              | Output            |\n",
        "| --------------------- | --------------------------------------------- | ------------------------------------ | ----------------- |\n",
        "| `capitalize()`        | First letter uppercase, rest lowercase        | `\"hello\".capitalize()`               | `\"Hello\"`         |\n",
        "| `casefold()`          | Lowercase (aggressive, for caseless matching) | `\"HELLO\".casefold()`                 | `\"hello\"`         |\n",
        "| `center(width, char)` | Centers string                                | `\"hi\".center(6, \"-\")`                | `\"--hi--\"`        |\n",
        "| `count(sub)`          | Counts occurrences                            | `\"banana\".count(\"a\")`                | `3`               |\n",
        "| `endswith(suffix)`    | Checks if string ends with suffix             | `\"test.py\".endswith(\".py\")`          | `True`            |\n",
        "| `startswith(prefix)`  | Checks if string starts with prefix           | `\"Python\".startswith(\"Py\")`          | `True`            |\n",
        "| `find(sub)`           | First index of substring or `-1`              | `\"apple\".find(\"p\")`                  | `1`               |\n",
        "| `rfind(sub)`          | Last index of substring                       | `\"apple\".rfind(\"p\")`                 | `2`               |\n",
        "| `format()`            | Formats string                                | `\"{} is {}\".format(\"Python\", \"fun\")` | `\"Python is fun\"` |\n",
        "| `index(sub)`          | First index or error if not found             | `\"apple\".index(\"p\")`                 | `1`               |\n",
        "| `isalnum()`           | True if all alphanumeric                      | `\"abc123\".isalnum()`                 | `True`            |\n",
        "| `isalpha()`           | True if all alphabetic                        | `\"abc\".isalpha()`                    | `True`            |\n",
        "| `isdigit()`           | True if all digits                            | `\"123\".isdigit()`                    | `True`            |\n",
        "| `islower()`           | True if all lowercase                         | `\"hello\".islower()`                  | `True`            |\n",
        "| `isupper()`           | True if all uppercase                         | `\"HELLO\".isupper()`                  | `True`            |\n",
        "| `isspace()`           | True if all spaces                            | `\"   \".isspace()`                    | `True`            |\n",
        "| `istitle()`           | True if title case                            | `\"Hello World\".istitle()`            | `True`            |\n",
        "| `join(iterable)`      | Joins iterable with string                    | `\"-\".join([\"a\",\"b\"])`                | `\"a-b\"`           |\n",
        "| `lower()`             | Converts to lowercase                         | `\"HELLO\".lower()`                    | `\"hello\"`         |\n",
        "| `upper()`             | Converts to uppercase                         | `\"hello\".upper()`                    | `\"HELLO\"`         |\n",
        "| `lstrip()`            | Removes left spaces                           | `\"   hi\".lstrip()`                   | `\"hi\"`            |\n",
        "| `rstrip()`            | Removes right spaces                          | `\"hi   \".rstrip()`                   | `\"hi\"`            |\n",
        "| `strip()`             | Removes spaces both sides                     | `\"  hi  \".strip()`                   | `\"hi\"`            |\n",
        "| `replace(old,new)`    | Replace substring                             | `\"one one\".replace(\"one\",\"two\")`     | `\"two two\"`       |\n",
        "| `split(sep)`          | Splits into list                              | `\"a,b,c\".split(\",\")`                 | `['a','b','c']`   |\n",
        "| `rsplit(sep)`         | Splits from right                             | `\"a,b,c\".rsplit(\",\",1)`              | `['a','b,c']`     |\n",
        "| `splitlines()`        | Split at line breaks                          | `\"a\\nb\".splitlines()`                | `['a','b']`       |\n",
        "| `swapcase()`          | Swap case                                     | `\"HeLLo\".swapcase()`                 | `\"hEllO\"`         |\n",
        "| `title()`             | Title case                                    | `\"hello world\".title()`              | `\"Hello World\"`   |\n",
        "| `zfill(width)`        | Pads with zeros                               | `\"42\".zfill(5)`                      | `\"00042\"`         |\n"
      ],
      "metadata": {
        "id": "GZBw9RP5_-vh"
      }
    },
    {
      "cell_type": "code",
      "source": [
        "# Python String Methods Demonstration\n",
        "\n",
        "print(\"capitalize()  ->\", \"hello\".capitalize())                # \"Hello\"\n",
        "print(\"casefold()    ->\", \"HELLO\".casefold())                   # \"hello\"\n",
        "print(\"center()      ->\", \"hi\".center(6, \"-\"))                  # \"--hi--\"\n",
        "print(\"count()       ->\", \"banana\".count(\"a\"))                  # 3\n",
        "print(\"endswith()    ->\", \"test.py\".endswith(\".py\"))             # True\n",
        "print(\"startswith()  ->\", \"Python\".startswith(\"Py\"))             # True\n",
        "print(\"find()        ->\", \"apple\".find(\"p\"))                     # 1\n",
        "print(\"rfind()       ->\", \"apple\".rfind(\"p\"))                    # 2\n",
        "print(\"format()      ->\", \"{} is {}\".format(\"Python\", \"fun\"))    # \"Python is fun\"\n",
        "print(\"index()       ->\", \"apple\".index(\"p\"))                    # 1\n",
        "print(\"isalnum()     ->\", \"abc123\".isalnum())                    # True\n",
        "print(\"isalpha()     ->\", \"abc\".isalpha())                       # True\n",
        "print(\"isdigit()     ->\", \"123\".isdigit())                       # True\n",
        "print(\"islower()     ->\", \"hello\".islower())                     # True\n",
        "print(\"isupper()     ->\", \"HELLO\".isupper())                     # True\n",
        "print(\"isspace()     ->\", \"   \".isspace())                       # True\n",
        "print(\"istitle()     ->\", \"Hello World\".istitle())               # True\n",
        "print(\"join()        ->\", \"-\".join([\"a\", \"b\"]))                  # \"a-b\"\n",
        "print(\"lower()       ->\", \"HELLO\".lower())                       # \"hello\"\n",
        "print(\"upper()       ->\", \"hello\".upper())                       # \"HELLO\"\n",
        "print(\"lstrip()      ->\", \"   hi\".lstrip())                      # \"hi\"\n",
        "print(\"rstrip()      ->\", \"hi   \".rstrip())                      # \"hi\"\n",
        "print(\"strip()       ->\", \"  hi  \".strip())                      # \"hi\"\n",
        "print(\"replace()     ->\", \"one one\".replace(\"one\", \"two\"))       # \"two two\"\n",
        "print(\"split()       ->\", \"a,b,c\".split(\",\"))                    # ['a', 'b', 'c']\n",
        "print(\"rsplit()      ->\", \"a,b,c\".rsplit(\",\", 1))                 # ['a', 'b,c']\n",
        "print(\"splitlines()  ->\", \"a\\nb\".splitlines())                    # ['a', 'b']\n",
        "print(\"swapcase()    ->\", \"HeLLo\".swapcase())                     # \"hEllO\"\n",
        "print(\"title()       ->\", \"hello world\".title())                  # \"Hello World\"\n",
        "print(\"zfill()       ->\", \"42\".zfill(5))                          # \"00042\"\n"
      ],
      "metadata": {
        "colab": {
          "base_uri": "https://localhost:8080/"
        },
        "id": "tGjOaP1s8Ms9",
        "outputId": "6a1c03d7-9525-4455-897c-af72080bbb72"
      },
      "execution_count": null,
      "outputs": [
        {
          "output_type": "stream",
          "name": "stdout",
          "text": [
            "capitalize()  -> Hello\n",
            "casefold()    -> hello\n",
            "center()      -> --hi--\n",
            "count()       -> 3\n",
            "endswith()    -> True\n",
            "startswith()  -> True\n",
            "find()        -> 1\n",
            "rfind()       -> 2\n",
            "format()      -> Python is fun\n",
            "index()       -> 1\n",
            "isalnum()     -> True\n",
            "isalpha()     -> True\n",
            "isdigit()     -> True\n",
            "islower()     -> True\n",
            "isupper()     -> True\n",
            "isspace()     -> True\n",
            "istitle()     -> True\n",
            "join()        -> a-b\n",
            "lower()       -> hello\n",
            "upper()       -> HELLO\n",
            "lstrip()      -> hi\n",
            "rstrip()      -> hi\n",
            "strip()       -> hi\n",
            "replace()     -> two two\n",
            "split()       -> ['a', 'b', 'c']\n",
            "rsplit()      -> ['a,b', 'c']\n",
            "splitlines()  -> ['a', 'b']\n",
            "swapcase()    -> hEllO\n",
            "title()       -> Hello World\n",
            "zfill()       -> 00042\n"
          ]
        }
      ]
    },
    {
      "cell_type": "markdown",
      "source": [
        "Indexing means accessing elements by their position (starting from 0 for the first item)."
      ],
      "metadata": {
        "id": "xlCT79YeK7CI"
      }
    },
    {
      "cell_type": "markdown",
      "source": [
        "list Indexing"
      ],
      "metadata": {
        "id": "-paR9HebLf3g"
      }
    },
    {
      "cell_type": "markdown",
      "source": [
        "| Syntax        | Meaning                          | Example      | Output     |\n",
        "| ------------- | -------------------------------- | ------------ | ---------- |\n",
        "| `list[index]` | Access element at given position | `fruits[0]`  | `\"apple\"`  |\n",
        "| `list[-1]`    | Access last element              | `fruits[-1]` | `\"cherry\"` |\n"
      ],
      "metadata": {
        "id": "U-BCEaG6K5Tj"
      }
    },
    {
      "cell_type": "code",
      "source": [
        "fruits = [\"apple\", \"banana\", \"cherry\", \"date\"]\n",
        "\n",
        "print(fruits[0])   # First element\n",
        "print(fruits[2])   # Third element\n",
        "print(fruits[-1])  # Last element\n",
        "print(fruits[-2])  # Second last element\n"
      ],
      "metadata": {
        "colab": {
          "base_uri": "https://localhost:8080/"
        },
        "id": "hRETU8azAgdx",
        "outputId": "8c2fe31f-59db-472a-c62f-bf96a87d5de6"
      },
      "execution_count": null,
      "outputs": [
        {
          "output_type": "stream",
          "name": "stdout",
          "text": [
            "apple\n",
            "cherry\n",
            "date\n",
            "cherry\n"
          ]
        }
      ]
    },
    {
      "cell_type": "markdown",
      "source": [
        "Slicing\n",
        "\n",
        "| Syntax                 | Meaning                   | Example        | Output                                  |\n",
        "| ---------------------- | ------------------------- | -------------- | --------------------------------------- |\n",
        "| `list[start:end]`      | From start index to end-1 | `fruits[1:3]`  | `[\"banana\", \"cherry\"]`                  |\n",
        "| `list[:n]`             | From start to index n-1   | `fruits[:2]`   | `[\"apple\", \"banana\"]`                   |\n",
        "| `list[n:]`             | From index n to end       | `fruits[2:]`   | `[\"cherry\", \"date\"]`                    |\n",
        "| `list[start:end:step]` | Skip elements             | `fruits[::2]`  | `[\"apple\", \"cherry\"]`                   |\n",
        "| `list[::-1]`           | Reverse list              | `fruits[::-1]` | `[\"date\", \"cherry\", \"banana\", \"apple\"]` |\n"
      ],
      "metadata": {
        "id": "FP9quuCZLaET"
      }
    },
    {
      "cell_type": "code",
      "source": [
        "fruits = [\"apple\", \"banana\", \"cherry\", \"date\"]\n",
        "\n",
        "print(fruits[1:3])     # Index 1 to 2\n",
        "print(fruits[:2])      # First two elements\n",
        "print(fruits[2:])      # From index 2 to end\n",
        "print(fruits[::2])     # Every 2nd element\n",
        "print(fruits[::-1])    # Reverse list\n"
      ],
      "metadata": {
        "colab": {
          "base_uri": "https://localhost:8080/"
        },
        "id": "-4kaeYbJLSzM",
        "outputId": "9908dcf5-f7b5-412c-df3a-3c221ecab071"
      },
      "execution_count": null,
      "outputs": [
        {
          "output_type": "stream",
          "name": "stdout",
          "text": [
            "['banana', 'cherry']\n",
            "['apple', 'banana']\n",
            "['cherry', 'date']\n",
            "['apple', 'cherry']\n",
            "['date', 'cherry', 'banana', 'apple']\n"
          ]
        }
      ]
    },
    {
      "cell_type": "markdown",
      "source": [
        "Common List Methods"
      ],
      "metadata": {
        "id": "-W1Pb060MTG5"
      }
    },
    {
      "cell_type": "markdown",
      "source": [
        "| Method               | Description                                     | Example                             | Output                                                    |\n",
        "| -------------------- | ----------------------------------------------- | ----------------------------------- | --------------------------------------------------------- |\n",
        "| `append(x)`          | Add item at the end                             | `fruits.append(\"fig\")`              | `['apple', 'banana', 'cherry', 'date', 'fig']`            |\n",
        "| `insert(i, x)`       | Insert at index `i`                             | `fruits.insert(1, \"kiwi\")`          | `['apple', 'kiwi', 'banana', 'cherry', 'date']`           |\n",
        "| `extend(iterable)`   | Add multiple elements                           | `fruits.extend([\"grape\", \"melon\"])` | `['apple', 'banana', 'cherry', 'date', 'grape', 'melon']` |\n",
        "| `remove(x)`          | Remove first occurrence of x                    | `fruits.remove(\"banana\")`           | `['apple', 'cherry', 'date']`                             |\n",
        "| `pop(i)`             | Remove & return element at index (default last) | `fruits.pop()`                      | `'date'`                                                  |\n",
        "| `clear()`            | Remove all elements                             | `fruits.clear()`                    | `[]`                                                      |\n",
        "| `index(x)`           | Return index of first occurrence                | `fruits.index(\"cherry\")`            | `2`                                                       |\n",
        "| `count(x)`           | Count occurrences of x                          | `fruits.count(\"apple\")`             | `1`                                                       |\n",
        "| `sort()`             | Sort list in ascending order                    | `fruits.sort()`                     | `['apple', 'banana', 'cherry']`                           |\n",
        "| `sort(reverse=True)` | Sort descending                                 | `fruits.sort(reverse=True)`         | `['date', 'cherry', 'banana', 'apple']`                   |\n",
        "| `reverse()`          | Reverse list order                              | `fruits.reverse()`                  | `['date', 'cherry', 'banana', 'apple']`                   |\n",
        "| `copy()`             | Shallow copy of list                            | `new_list = fruits.copy()`          | Same as fruits                                            |\n"
      ],
      "metadata": {
        "id": "-L56ueTYMYqa"
      }
    },
    {
      "cell_type": "code",
      "source": [
        "# Initial list\n",
        "fruits = ['apple', 'banana', 'cherry', 'date']\n",
        "\n",
        "# append(x)\n",
        "fruits.append(\"fig\")\n",
        "print(fruits)  # ['apple', 'banana', 'cherry', 'date', 'fig']\n",
        "\n",
        "# Reset\n",
        "fruits = ['apple', 'banana', 'cherry', 'date']\n",
        "\n",
        "# insert(i, x)\n",
        "fruits.insert(1, \"kiwi\")\n",
        "print(fruits)  # ['apple', 'kiwi', 'banana', 'cherry', 'date']\n",
        "\n",
        "# Reset\n",
        "fruits = ['apple', 'banana', 'cherry', 'date']\n",
        "\n",
        "# extend(iterable)\n",
        "fruits.extend([\"grape\", \"melon\"])\n",
        "print(fruits)  # ['apple', 'banana', 'cherry', 'date', 'grape', 'melon']\n",
        "\n",
        "# Reset\n",
        "fruits = ['apple', 'banana', 'cherry', 'date']\n",
        "\n",
        "# remove(x)\n",
        "fruits.remove(\"banana\")\n",
        "print(fruits)  # ['apple', 'cherry', 'date']\n",
        "\n",
        "# Reset\n",
        "fruits = ['apple', 'banana', 'cherry', 'date']\n",
        "\n",
        "# pop(i)\n",
        "print(fruits.pop())  # 'date'\n",
        "print(fruits)        # ['apple', 'banana', 'cherry']\n",
        "\n",
        "# Reset\n",
        "fruits = ['apple', 'banana', 'cherry', 'date']\n",
        "\n",
        "# clear()\n",
        "fruits.clear()\n",
        "print(fruits)  # []\n",
        "\n",
        "# Reset\n",
        "fruits = ['apple', 'banana', 'cherry', 'date']\n",
        "\n",
        "# index(x)\n",
        "print(fruits.index(\"cherry\"))  # 2\n",
        "\n",
        "# count(x)\n",
        "print(fruits.count(\"apple\"))   # 1\n",
        "\n",
        "# sort()\n",
        "fruits.sort()\n",
        "print(fruits)  # ['apple', 'banana', 'cherry', 'date']\n",
        "\n",
        "# sort(reverse=True)\n",
        "fruits.sort(reverse=True)\n",
        "print(fruits)  # ['date', 'cherry', 'banana', 'apple']\n",
        "\n",
        "# reverse()\n",
        "fruits.reverse()\n",
        "print(fruits)  # ['apple', 'banana', 'cherry', 'date']\n",
        "\n",
        "# copy()\n",
        "new_list = fruits.copy()\n",
        "print(new_list)  # ['apple', 'banana', 'cherry', 'date']\n"
      ],
      "metadata": {
        "colab": {
          "base_uri": "https://localhost:8080/"
        },
        "id": "dpUZfWKqLpKR",
        "outputId": "fa644cf3-7e26-4aef-e91e-f2e8603ba1fc"
      },
      "execution_count": null,
      "outputs": [
        {
          "output_type": "stream",
          "name": "stdout",
          "text": [
            "['apple', 'banana', 'cherry', 'date', 'fig']\n",
            "['apple', 'kiwi', 'banana', 'cherry', 'date']\n",
            "['apple', 'banana', 'cherry', 'date', 'grape', 'melon']\n",
            "['apple', 'cherry', 'date']\n",
            "date\n",
            "['apple', 'banana', 'cherry']\n",
            "[]\n",
            "2\n",
            "1\n",
            "['apple', 'banana', 'cherry', 'date']\n",
            "['date', 'cherry', 'banana', 'apple']\n",
            "['apple', 'banana', 'cherry', 'date']\n",
            "['apple', 'banana', 'cherry', 'date']\n"
          ]
        }
      ]
    },
    {
      "cell_type": "markdown",
      "source": [
        "Immutable Lists\n",
        "\n",
        "A tuple is like a list, but immutable (cannot be changed after creation)."
      ],
      "metadata": {
        "id": "ksVxm5EqNbrS"
      }
    },
    {
      "cell_type": "markdown",
      "source": [
        "Creating Tuples"
      ],
      "metadata": {
        "id": "ZzkOcPtJNjGS"
      }
    },
    {
      "cell_type": "code",
      "source": [
        "# Empty tuple\n",
        "t1 = ()\n",
        "\n",
        "# Tuple with values\n",
        "t2 = (1, 2, 3)\n",
        "\n",
        "# Without parentheses (tuple packing)\n",
        "t3 = 4, 5, 6\n",
        "\n",
        "# Single element tuple (needs comma)\n",
        "t4 = (10,)\n",
        "\n",
        "# Tuple from iterable\n",
        "t5 = tuple([7, 8, 9])\n"
      ],
      "metadata": {
        "id": "RRogf_pMMzqJ"
      },
      "execution_count": null,
      "outputs": []
    },
    {
      "cell_type": "markdown",
      "source": [
        "Accessing Elements"
      ],
      "metadata": {
        "id": "KIEBzGgHNpqQ"
      }
    },
    {
      "cell_type": "code",
      "source": [
        "t = (10, 20, 30, 40, 50)\n",
        "\n",
        "# Indexing\n",
        "print(t[0])   # 10\n",
        "print(t[-1])  # 50\n",
        "\n",
        "# Slicing\n",
        "print(t[1:4])   # (20, 30, 40)\n",
        "print(t[:3])    # (10, 20, 30)\n"
      ],
      "metadata": {
        "colab": {
          "base_uri": "https://localhost:8080/"
        },
        "id": "BetS7KmBNl_D",
        "outputId": "8a8b661e-8ea6-4479-e538-9772e280d5e6"
      },
      "execution_count": null,
      "outputs": [
        {
          "output_type": "stream",
          "name": "stdout",
          "text": [
            "10\n",
            "50\n",
            "(20, 30, 40)\n",
            "(10, 20, 30)\n"
          ]
        }
      ]
    },
    {
      "cell_type": "markdown",
      "source": [
        "Tuple Methods"
      ],
      "metadata": {
        "id": "vucV8Dv7OGTZ"
      }
    },
    {
      "cell_type": "markdown",
      "source": [
        "| Method     | Description                              | Example                  | Output |\n",
        "| ---------- | ---------------------------------------- | ------------------------ | ------ |\n",
        "| `count(x)` | Returns number of occurrences of `x`     | `(1, 2, 2, 3).count(2)`  | `2`    |\n",
        "| `index(x)` | Returns index of first occurrence of `x` | `(10, 20, 30).index(20)` | `1`    |\n"
      ],
      "metadata": {
        "id": "RxB3BgdPOKA-"
      }
    },
    {
      "cell_type": "code",
      "source": [
        "# Tuple Example\n",
        "my_tuple = (10, 20, 30, 20, 40, 20)\n",
        "\n",
        "# count()\n",
        "print(my_tuple.count(20))  # Counts occurrences of 20\n",
        "\n",
        "# index()\n",
        "print(my_tuple.index(30))  # Finds index of first 30\n"
      ],
      "metadata": {
        "colab": {
          "base_uri": "https://localhost:8080/"
        },
        "id": "l0paWfvPNsXN",
        "outputId": "1d088ae7-6ba0-4454-8e11-ad6b1f4069c4"
      },
      "execution_count": null,
      "outputs": [
        {
          "output_type": "stream",
          "name": "stdout",
          "text": [
            "3\n",
            "2\n"
          ]
        }
      ]
    },
    {
      "cell_type": "markdown",
      "source": [
        "Unordered collection (no fixed index order)\n",
        "\n",
        "Unique elements only (duplicates removed automatically)\n",
        "\n",
        "Mutable → You can add or remove items\n",
        "\n",
        "Can hold different data types, but all must be hashable (no lists, no other sets)"
      ],
      "metadata": {
        "id": "2y8oGbvdOmSk"
      }
    },
    {
      "cell_type": "markdown",
      "source": [
        "Creating sets"
      ],
      "metadata": {
        "id": "rL8soFtfOr_4"
      }
    },
    {
      "cell_type": "code",
      "source": [
        "# Empty set\n",
        "s1 = set()\n",
        "\n",
        "# Set with values (duplicates removed)\n",
        "s2 = {1, 2, 3, 3, 4}\n",
        "print(s2)  # {1, 2, 3, 4}\n",
        "\n",
        "# From list\n",
        "s3 = set([1, 2, 2, 3])\n",
        "print(s3)  # {1, 2, 3}\n"
      ],
      "metadata": {
        "colab": {
          "base_uri": "https://localhost:8080/"
        },
        "id": "aZI5w1J7OQEQ",
        "outputId": "68b9a416-e9a5-4782-9f1a-f6c1a0989ef5"
      },
      "execution_count": null,
      "outputs": [
        {
          "output_type": "stream",
          "name": "stdout",
          "text": [
            "{1, 2, 3, 4}\n",
            "{1, 2, 3}\n"
          ]
        }
      ]
    },
    {
      "cell_type": "markdown",
      "source": [
        "set methods"
      ],
      "metadata": {
        "id": "eNSAdlRAO5IB"
      }
    },
    {
      "cell_type": "markdown",
      "source": [
        "| Method                          | Description                      | Example                     | Output               |                |\n",
        "| ------------------------------- | -------------------------------- | --------------------------- | -------------------- | -------------- |\n",
        "| `add(x)`                        | Add element `x`                  | `{1,2}.add(3)`              | `{1, 2, 3}`          |                |\n",
        "| `remove(x)`                     | Remove `x`, error if not found   | `{1,2}.remove(2)`           | `{1}`                |                |\n",
        "| `discard(x)`                    | Remove `x` if exists             | `{1,2}.discard(5)`          | `{1, 2}`             |                |\n",
        "| `pop()`                         | Remove & return a random element | `{1,2,3}.pop()`             | `1` (random)         |                |\n",
        "| `clear()`                       | Remove all elements              | `{1,2}.clear()`             | `set()`              |                |\n",
        "| `union()` or \\`                 | \\`                               | Combine sets                | `{1,2}.union({3,4})` | `{1, 2, 3, 4}` |\n",
        "| `intersection()` or `&`         | Common elements                  | `{1,2}&{2,3}`               | `{2}`                |                |\n",
        "| `difference()` or `-`           | Elements in A but not B          | `{1,2,3}-{2,4}`             | `{1, 3}`             |                |\n",
        "| `symmetric_difference()` or `^` | Elements in A or B but not both  | `{1,2}^{2,3}`               | `{1, 3}`             |                |\n",
        "| `issubset()`                    | Checks if A is subset of B       | `{1,2}.issubset({1,2,3})`   | `True`               |                |\n",
        "| `issuperset()`                  | Checks if A is superset of B     | `{1,2,3}.issuperset({1,2})` | `True`               |                |\n",
        "| `copy()`                        | Returns a shallow copy           | `a.copy()`                  | `same as a`          |                |\n"
      ],
      "metadata": {
        "id": "tC486xh9O2iX"
      }
    },
    {
      "cell_type": "code",
      "source": [
        "# Demonstrating Python set methods with their outputs\n",
        "\n",
        "# add(x)\n",
        "example_add = {1, 2}\n",
        "example_add.add(3)\n",
        "\n",
        "# remove(x)\n",
        "example_remove = {1, 2}\n",
        "example_remove.remove(2)\n",
        "\n",
        "# discard(x)\n",
        "example_discard = {1, 2}\n",
        "example_discard.discard(5)\n",
        "\n",
        "# pop()\n",
        "example_pop = {1, 2, 3}\n",
        "pop_value = example_pop.pop()  # random element\n",
        "\n",
        "# clear()\n",
        "example_clear = {1, 2}\n",
        "example_clear.clear()\n",
        "\n",
        "# union()\n",
        "example_union = {1, 2}.union({3, 4})\n",
        "\n",
        "# intersection()\n",
        "example_intersection = {1, 2} & {2, 3}\n",
        "\n",
        "# difference()\n",
        "example_difference = {1, 2, 3} - {2, 4}\n",
        "\n",
        "# symmetric_difference()\n",
        "example_symmetric_difference = {1, 2} ^ {2, 3}\n",
        "\n",
        "# issubset()\n",
        "example_issubset = {1, 2}.issubset({1, 2, 3})\n",
        "\n",
        "# issuperset()\n",
        "example_issuperset = {1, 2, 3}.issuperset({1, 2})\n",
        "\n",
        "# copy()\n",
        "a = {1, 2, 3}\n",
        "example_copy = a.copy()\n",
        "\n",
        "results = {\n",
        "    \"add\": example_add,\n",
        "    \"remove\": example_remove,\n",
        "    \"discard\": example_discard,\n",
        "    \"pop_value\": pop_value,\n",
        "    \"pop_remaining_set\": example_pop,\n",
        "    \"clear\": example_clear,\n",
        "    \"union\": example_union,\n",
        "    \"intersection\": example_intersection,\n",
        "    \"difference\": example_difference,\n",
        "    \"symmetric_difference\": example_symmetric_difference,\n",
        "    \"issubset\": example_issubset,\n",
        "    \"issuperset\": example_issuperset,\n",
        "    \"copy\": example_copy\n",
        "}\n",
        "\n",
        "results\n"
      ],
      "metadata": {
        "colab": {
          "base_uri": "https://localhost:8080/"
        },
        "id": "PqJj_4U0OyCV",
        "outputId": "28b0e436-56af-45f9-8ca7-557e9ee9977b"
      },
      "execution_count": null,
      "outputs": [
        {
          "output_type": "execute_result",
          "data": {
            "text/plain": [
              "{'add': {1, 2, 3},\n",
              " 'remove': {1},\n",
              " 'discard': {1, 2},\n",
              " 'pop_value': 1,\n",
              " 'pop_remaining_set': {2, 3},\n",
              " 'clear': set(),\n",
              " 'union': {1, 2, 3, 4},\n",
              " 'intersection': {2},\n",
              " 'difference': {1, 3},\n",
              " 'symmetric_difference': {1, 3},\n",
              " 'issubset': True,\n",
              " 'issuperset': True,\n",
              " 'copy': {1, 2, 3}}"
            ]
          },
          "metadata": {},
          "execution_count": 12
        }
      ]
    },
    {
      "cell_type": "markdown",
      "source": [
        "set operations"
      ],
      "metadata": {
        "id": "PTVZC8FSRpzZ"
      }
    },
    {
      "cell_type": "markdown",
      "source": [
        "| Operation                | Operator / Method               | Description                                     | Example                                     | Output             |             |\n",
        "| ------------------------ | ------------------------------- | ----------------------------------------------- | ------------------------------------------- | ------------------ | ----------- |\n",
        "| **Union**                | \\`                              | `/`.union()\\`                                   | Combines all unique elements from both sets | `{1, 2} \\| {2, 3}` | `{1, 2, 3}` |\n",
        "| **Intersection**         | `&` / `.intersection()`         | Elements common to both sets                    | `{1, 2} & {2, 3}`                           | `{2}`              |             |\n",
        "| **Difference**           | `-` / `.difference()`           | Elements in the first set but not in the second | `{1, 2} - {2, 3}`                           | `{1}`              |             |\n",
        "| **Symmetric Difference** | `^` / `.symmetric_difference()` | Elements in either set but not both             | `{1, 2} ^ {2, 3}`                           | `{1, 3}`           |             |\n",
        "| **Subset**               | `.issubset()`                   | Checks if a set is a subset of another          | `{1, 2}.issubset({1, 2, 3})`                | `True`             |             |\n",
        "| **Superset**             | `.issuperset()`                 | Checks if a set is a superset of another        | `{1, 2, 3}.issuperset({1, 2})`              | `True`             |             |\n",
        "| **Disjoint**             | `.isdisjoint()`                 | Checks if sets have no elements in common       | `{1, 2}.isdisjoint({3, 4})`                 | `True`             |             |\n"
      ],
      "metadata": {
        "id": "i4TUbdSVRtj_"
      }
    },
    {
      "cell_type": "code",
      "source": [
        "A = {1, 2, 3}\n",
        "B = {3, 4, 5}\n",
        "\n",
        "# Union\n",
        "print(A | B)                 # {1, 2, 3, 4, 5}\n",
        "print(A.union(B))            # {1, 2, 3, 4, 5}\n",
        "\n",
        "# Intersection\n",
        "print(A & B)                 # {3}\n",
        "print(A.intersection(B))     # {3}\n",
        "\n",
        "# Difference\n",
        "print(A - B)                 # {1, 2}\n",
        "print(A.difference(B))       # {1, 2}\n",
        "\n",
        "# Symmetric Difference\n",
        "print(A ^ B)                 # {1, 2, 4, 5}\n",
        "print(A.symmetric_difference(B))  # {1, 2, 4, 5}\n",
        "\n",
        "# Subset, Superset, Disjoint\n",
        "print({1, 2}.issubset(A))     # True\n",
        "print(A.issuperset({1, 2}))   # True\n",
        "print(A.isdisjoint({6, 7}))   # True\n"
      ],
      "metadata": {
        "colab": {
          "base_uri": "https://localhost:8080/"
        },
        "id": "edrab4yNQpzb",
        "outputId": "9c6c751b-7cf8-4f1e-8c9a-8284401bee65"
      },
      "execution_count": null,
      "outputs": [
        {
          "output_type": "stream",
          "name": "stdout",
          "text": [
            "{1, 2, 3, 4, 5}\n",
            "{1, 2, 3, 4, 5}\n",
            "{3}\n",
            "{3}\n",
            "{1, 2}\n",
            "{1, 2}\n",
            "{1, 2, 4, 5}\n",
            "{1, 2, 4, 5}\n",
            "True\n",
            "True\n",
            "True\n"
          ]
        }
      ]
    },
    {
      "cell_type": "markdown",
      "source": [
        "Dictionaries — Key-Value Pairs\n",
        "A dictionary in Python is a collection of key-value pairs.\n",
        "\n",
        "Keys must be unique and immutable (e.g., strings, numbers, tuples).\n",
        "\n",
        "Values can be any data type and can be duplicated.\n",
        "\n",
        "Dictionaries are mutable (can be changed).\n",
        "\n",
        "Order is preserved in Python 3.7+."
      ],
      "metadata": {
        "id": "BA2ncqkjSlqZ"
      }
    },
    {
      "cell_type": "markdown",
      "source": [
        "Creating a Dictionary"
      ],
      "metadata": {
        "id": "yXcCUlV1Sozy"
      }
    },
    {
      "cell_type": "code",
      "source": [
        "# Empty dictionary\n",
        "my_dict = {}\n",
        "\n",
        "# With data\n",
        "person = {\n",
        "    \"name\": \"John\",\n",
        "    \"age\": 25,\n",
        "    \"city\": \"New York\"\n",
        "}\n",
        "print(person)\n"
      ],
      "metadata": {
        "colab": {
          "base_uri": "https://localhost:8080/"
        },
        "id": "k4b09bm7R1vs",
        "outputId": "b65f19f4-081f-49ac-a49f-49b9dd15697d"
      },
      "execution_count": null,
      "outputs": [
        {
          "output_type": "stream",
          "name": "stdout",
          "text": [
            "{'name': 'John', 'age': 25, 'city': 'New York'}\n"
          ]
        }
      ]
    },
    {
      "cell_type": "markdown",
      "source": [
        "dictionary methods"
      ],
      "metadata": {
        "id": "ecKihWImUINw"
      }
    },
    {
      "cell_type": "markdown",
      "source": [
        "| Method                          | Description                                                               | Example                                 |\n",
        "| ------------------------------- | ------------------------------------------------------------------------- | --------------------------------------- |\n",
        "| `dict.get(key, default)`        | Returns the value for a key, or `default` if not found                    | `person.get(\"age\", 30)`                 |\n",
        "| `dict.keys()`                   | Returns a view object of all keys                                         | `person.keys()`                         |\n",
        "| `dict.values()`                 | Returns a view object of all values                                       | `person.values()`                       |\n",
        "| `dict.items()`                  | Returns a view object of key-value pairs as tuples                        | `person.items()`                        |\n",
        "| `dict.update(other_dict)`       | Updates dictionary with key-value pairs from another dict                 | `person.update({\"city\": \"London\"})`     |\n",
        "| `dict.pop(key, default)`        | Removes key and returns value, or `default` if not found                  | `person.pop(\"name\")`                    |\n",
        "| `dict.popitem()`                | Removes and returns the last inserted (key, value) pair                   | `person.popitem()`                      |\n",
        "| `dict.clear()`                  | Removes all items from the dictionary                                     | `person.clear()`                        |\n",
        "| `dict.fromkeys(keys, value)`    | Creates a new dictionary from given keys with specified value             | `dict.fromkeys(['a', 'b'], 0)`          |\n",
        "| `dict.setdefault(key, default)` | Returns value if key exists, else sets key to default and returns default | `person.setdefault(\"country\", \"India\")` |\n",
        "| `dict.copy()`                   | Returns a shallow copy of the dictionary                                  | `person.copy()`                         |\n"
      ],
      "metadata": {
        "id": "Mtp5qNjqT7sW"
      }
    },
    {
      "cell_type": "code",
      "source": [
        "# Sample dictionary\n",
        "person = {\"name\": \"Alice\", \"age\": 25}\n",
        "\n",
        "# 1. get()\n",
        "print(\"get:\", person.get(\"age\", 30))  # key exists\n",
        "print(\"get (default):\", person.get(\"city\", \"Unknown\"))  # key doesn't exist\n",
        "\n",
        "# 2. keys()\n",
        "print(\"keys:\", person.keys())\n",
        "\n",
        "# 3. values()\n",
        "print(\"values:\", person.values())\n",
        "\n",
        "# 4. items()\n",
        "print(\"items:\", person.items())\n",
        "\n",
        "# 5. update()\n",
        "person.update({\"city\": \"London\"})\n",
        "print(\"update:\", person)\n",
        "\n",
        "# 6. pop()\n",
        "print(\"pop:\", person.pop(\"name\"))\n",
        "\n",
        "# 7. popitem()\n",
        "print(\"popitem:\", person.popitem())\n",
        "\n",
        "# 8. clear()\n",
        "person.clear()\n",
        "print(\"clear:\", person)\n",
        "\n",
        "# 9. fromkeys()\n",
        "new_dict = dict.fromkeys(['a', 'b'], 0)\n",
        "print(\"fromkeys:\", new_dict)\n",
        "\n",
        "# 10. setdefault()\n",
        "person = {\"name\": \"Bob\"}\n",
        "print(\"setdefault (exists):\", person.setdefault(\"name\", \"Charlie\"))\n",
        "print(\"setdefault (new):\", person.setdefault(\"country\", \"India\"))\n",
        "print(\"after setdefault:\", person)\n",
        "\n",
        "# 11. copy()\n",
        "person_copy = person.copy()\n",
        "print(\"copy:\", person_copy)\n"
      ],
      "metadata": {
        "colab": {
          "base_uri": "https://localhost:8080/"
        },
        "id": "HvAY8I7DSwHM",
        "outputId": "78b7eaa8-127e-43bc-8775-7fcf78fe12da"
      },
      "execution_count": null,
      "outputs": [
        {
          "output_type": "stream",
          "name": "stdout",
          "text": [
            "get: 25\n",
            "get (default): Unknown\n",
            "keys: dict_keys(['name', 'age'])\n",
            "values: dict_values(['Alice', 25])\n",
            "items: dict_items([('name', 'Alice'), ('age', 25)])\n",
            "update: {'name': 'Alice', 'age': 25, 'city': 'London'}\n",
            "pop: Alice\n",
            "popitem: ('city', 'London')\n",
            "clear: {}\n",
            "fromkeys: {'a': 0, 'b': 0}\n",
            "setdefault (exists): Bob\n",
            "setdefault (new): India\n",
            "after setdefault: {'name': 'Bob', 'country': 'India'}\n",
            "copy: {'name': 'Bob', 'country': 'India'}\n"
          ]
        }
      ]
    },
    {
      "cell_type": "markdown",
      "source": [
        "#Functions"
      ],
      "metadata": {
        "id": "ncHVEFMKUgOW"
      }
    },
    {
      "cell_type": "markdown",
      "source": [
        "| Concept               | Syntax Example               |\n",
        "| --------------------- | ---------------------------- |\n",
        "| Define a function     | `def func():`                |\n",
        "| Call a function       | `func()`                     |\n",
        "| Parameters            | `def func(a, b):`            |\n",
        "| Default parameters    | `def func(a=10):`            |\n",
        "| Return value          | `return value`               |\n",
        "| Multiple returns      | `return val1, val2`          |\n",
        "| Lambda function       | `lambda args: expression`    |\n",
        "| Docstring (help text) | `\"\"\"Function description\"\"\"` |\n"
      ],
      "metadata": {
        "id": "wX-G4O7OUirk"
      }
    },
    {
      "cell_type": "markdown",
      "source": [
        "What is a Function?\n",
        "\n",
        "A function is a block of reusable code that performs a specific task.\n",
        "It helps make code organized, readable, and reusable."
      ],
      "metadata": {
        "id": "jU-csRPAUpxr"
      }
    },
    {
      "cell_type": "markdown",
      "source": [
        "Defining code"
      ],
      "metadata": {
        "id": "nraxfxv5WWhU"
      }
    },
    {
      "cell_type": "code",
      "source": [
        "def greet():\n",
        "    print(\"Hello, welcome to Python!\")\n"
      ],
      "metadata": {
        "id": "i-6Qk1UbTTBP"
      },
      "execution_count": null,
      "outputs": []
    },
    {
      "cell_type": "markdown",
      "source": [
        "Calling functions"
      ],
      "metadata": {
        "id": "RmMjVl5PWey6"
      }
    },
    {
      "cell_type": "code",
      "source": [
        "greet()\n"
      ],
      "metadata": {
        "colab": {
          "base_uri": "https://localhost:8080/"
        },
        "id": "7F672PFGWaUm",
        "outputId": "ecd6e8b2-d3ac-482f-ddd5-dcd971cbc2f8"
      },
      "execution_count": null,
      "outputs": [
        {
          "output_type": "stream",
          "name": "stdout",
          "text": [
            "Hello, welcome to Python!\n"
          ]
        }
      ]
    },
    {
      "cell_type": "markdown",
      "source": [
        "Function with parameters"
      ],
      "metadata": {
        "id": "7qjRP0gMWsW4"
      }
    },
    {
      "cell_type": "code",
      "source": [
        "def greet_user(name):\n",
        "    print(f\"Hello, {name}!\")\n"
      ],
      "metadata": {
        "id": "pxSVR5DhWjZL"
      },
      "execution_count": null,
      "outputs": []
    },
    {
      "cell_type": "markdown",
      "source": [
        "Calling functions"
      ],
      "metadata": {
        "id": "8oo19zwgWxuz"
      }
    },
    {
      "cell_type": "code",
      "source": [
        "greet_user(\"Manoj\")"
      ],
      "metadata": {
        "colab": {
          "base_uri": "https://localhost:8080/"
        },
        "id": "QFQkkqhGWww8",
        "outputId": "4c78eb4b-7fca-45ff-99e3-ae12557ed1b6"
      },
      "execution_count": null,
      "outputs": [
        {
          "output_type": "stream",
          "name": "stdout",
          "text": [
            "Hello, Manoj!\n"
          ]
        }
      ]
    },
    {
      "cell_type": "markdown",
      "source": [
        "Function with return values"
      ],
      "metadata": {
        "id": "PrA5TDrfW9f1"
      }
    },
    {
      "cell_type": "code",
      "source": [
        "def add(a, b):\n",
        "    return a + b\n",
        "\n",
        "result = add(10, 20)\n",
        "print(result)\n"
      ],
      "metadata": {
        "colab": {
          "base_uri": "https://localhost:8080/"
        },
        "id": "H50nuz-xW3Gg",
        "outputId": "da97944c-996e-476f-f1a1-e4323ff49c55"
      },
      "execution_count": null,
      "outputs": [
        {
          "output_type": "stream",
          "name": "stdout",
          "text": [
            "30\n"
          ]
        }
      ]
    },
    {
      "cell_type": "markdown",
      "source": [
        "| Type       | Syntax               | Data Type Stored | Example Call                |\n",
        "| ---------- | -------------------- | ---------------- | --------------------------- |\n",
        "| Positional | `func(a, b)`         | As defined       | `greet(\"Tom\", 20)`          |\n",
        "| Keyword    | `func(x=1)`          | As defined       | `greet(age=20, name=\"Tom\")` |\n",
        "| Default    | `def func(x=0)`      | As defined       | `greet()`                   |\n",
        "| `*args`    | `def func(*args)`    | Tuple            | `func(1,2,3)`               |\n",
        "| `**kwargs` | `def func(**kwargs)` | Dictionary       | `func(a=1,b=2)`             |\n"
      ],
      "metadata": {
        "id": "2kmvkzfQaXZJ"
      }
    },
    {
      "cell_type": "markdown",
      "source": [
        "Positional Arguments\n",
        "\n",
        "These are arguments passed in the same order as parameters are defined in the function."
      ],
      "metadata": {
        "id": "NuX7zghFX3oD"
      }
    },
    {
      "cell_type": "code",
      "source": [
        "def greet(name, age):\n",
        "    print(f\"Hello {name}, you are {age} years old.\")\n",
        "\n",
        "greet(\"Alice\", 25)  # Order matters\n"
      ],
      "metadata": {
        "colab": {
          "base_uri": "https://localhost:8080/"
        },
        "id": "p_0uC8DJXBZA",
        "outputId": "9cec1e7a-a9c1-46f3-81b8-5cb195ee95c4"
      },
      "execution_count": null,
      "outputs": [
        {
          "output_type": "stream",
          "name": "stdout",
          "text": [
            "Hello Alice, you are 25 years old.\n"
          ]
        }
      ]
    },
    {
      "cell_type": "markdown",
      "source": [
        "Keyword Arguments"
      ],
      "metadata": {
        "id": "u1Ap7AN1YXqr"
      }
    },
    {
      "cell_type": "code",
      "source": [
        "def greet(name, age):\n",
        "    print(f\"Hello {name}, you are {age} years old.\")\n",
        "\n",
        "greet(age=25, name=\"Bob\")  # Order doesn't matter\n"
      ],
      "metadata": {
        "colab": {
          "base_uri": "https://localhost:8080/"
        },
        "id": "yznww3SvYIO0",
        "outputId": "39f19c80-e18a-45af-c5c0-6ed140cf4945"
      },
      "execution_count": null,
      "outputs": [
        {
          "output_type": "stream",
          "name": "stdout",
          "text": [
            "Hello Bob, you are 25 years old.\n"
          ]
        }
      ]
    },
    {
      "cell_type": "markdown",
      "source": [
        "Default Arguments\n",
        "\n",
        "You can assign default values to parameters. If not provided, the default is used."
      ],
      "metadata": {
        "id": "_lKQexilY782"
      }
    },
    {
      "cell_type": "code",
      "source": [
        "def greet(name=\"Guest\", age=18):\n",
        "    print(f\"Hello {name}, you are {age} years old.\")\n",
        "\n",
        "greet()\n",
        "greet(\"Charlie\")\n",
        "greet(\"David\", 30)\n"
      ],
      "metadata": {
        "colab": {
          "base_uri": "https://localhost:8080/"
        },
        "id": "Uvqrv2xNYd99",
        "outputId": "5b081304-50c7-4ecc-fa90-12c3ed666df2"
      },
      "execution_count": null,
      "outputs": [
        {
          "output_type": "stream",
          "name": "stdout",
          "text": [
            "Hello Guest, you are 18 years old.\n",
            "Hello Charlie, you are 18 years old.\n",
            "Hello David, you are 30 years old.\n"
          ]
        }
      ]
    },
    {
      "cell_type": "markdown",
      "source": [
        "Variable-Length Arguments\n",
        "Used when you don’t know the exact number of arguments to pass.\n",
        "\n",
        "a) *args (Non-Keyword Variable Arguments)\n",
        "Stores extra positional arguments as a tuple."
      ],
      "metadata": {
        "id": "-wfOszerZlaW"
      }
    },
    {
      "cell_type": "code",
      "source": [
        "def add_numbers(*args):\n",
        "    print(args)  # Tuple\n",
        "    print(f\"Sum: {sum(args)}\")\n",
        "\n",
        "add_numbers(2, 4, 6)\n"
      ],
      "metadata": {
        "colab": {
          "base_uri": "https://localhost:8080/"
        },
        "id": "sU3U6Az8ZIdU",
        "outputId": "1d1706c8-039c-4ff9-c545-0f3c62a26888"
      },
      "execution_count": null,
      "outputs": [
        {
          "output_type": "stream",
          "name": "stdout",
          "text": [
            "(2, 4, 6)\n",
            "Sum: 12\n"
          ]
        }
      ]
    },
    {
      "cell_type": "markdown",
      "source": [
        " **kwargs (Keyword Variable Arguments)\n",
        "Stores extra keyword arguments as a dictionary."
      ],
      "metadata": {
        "id": "GluhWDO5Z25v"
      }
    },
    {
      "cell_type": "code",
      "source": [
        "def display_info(**kwargs):\n",
        "    print(kwargs)  # Dictionary\n",
        "    for key, value in kwargs.items():\n",
        "        print(f\"{key}: {value}\")\n",
        "\n",
        "display_info(name=\"Eve\", age=28, city=\"Paris\")\n"
      ],
      "metadata": {
        "colab": {
          "base_uri": "https://localhost:8080/"
        },
        "id": "_8zo3OQ3Zx_8",
        "outputId": "88333ed4-7bdf-4e29-eab4-c78b7c1f9679"
      },
      "execution_count": null,
      "outputs": [
        {
          "output_type": "stream",
          "name": "stdout",
          "text": [
            "{'name': 'Eve', 'age': 28, 'city': 'Paris'}\n",
            "name: Eve\n",
            "age: 28\n",
            "city: Paris\n"
          ]
        }
      ]
    },
    {
      "cell_type": "markdown",
      "source": [
        "#Return Statement"
      ],
      "metadata": {
        "id": "2pcQIrDnavG_"
      }
    },
    {
      "cell_type": "markdown",
      "source": [
        "What is return?\n",
        "In Python, return is used inside a function to send the result back to the caller.\n",
        "\n",
        "When a return statement is executed, the function ends immediately.\n",
        "\n",
        "If no return is specified, Python automatically returns None."
      ],
      "metadata": {
        "id": "8MEJ7YxrbfqX"
      }
    },
    {
      "cell_type": "markdown",
      "source": [
        "Syntax"
      ],
      "metadata": {
        "id": "JRxofoy5byrn"
      }
    },
    {
      "cell_type": "code",
      "source": [
        "def function_name(parameters):\n",
        "    # code\n",
        "    return value\n"
      ],
      "metadata": {
        "id": "Q4AQ6s_Baxca"
      },
      "execution_count": null,
      "outputs": []
    },
    {
      "cell_type": "markdown",
      "source": [
        "example"
      ],
      "metadata": {
        "id": "jLomk4XZb3D2"
      }
    },
    {
      "cell_type": "markdown",
      "source": [
        " Returning a Single Value"
      ],
      "metadata": {
        "id": "RwOTD4uvcF4V"
      }
    },
    {
      "cell_type": "code",
      "source": [
        "def add(a, b):\n",
        "    return a + b\n",
        "\n",
        "result = add(5, 3)\n",
        "print(result)\n"
      ],
      "metadata": {
        "colab": {
          "base_uri": "https://localhost:8080/"
        },
        "id": "0Fj6DGM9axZQ",
        "outputId": "382e223d-2de0-4431-f29a-c3aba66ccce1"
      },
      "execution_count": null,
      "outputs": [
        {
          "output_type": "stream",
          "name": "stdout",
          "text": [
            "8\n"
          ]
        }
      ]
    },
    {
      "cell_type": "markdown",
      "source": [
        "Returning Multiple Values"
      ],
      "metadata": {
        "id": "qRvzR6VscMux"
      }
    },
    {
      "cell_type": "code",
      "source": [
        "def get_details():\n",
        "    name = \"Alice\"\n",
        "    age = 25\n",
        "    return name, age\n",
        "\n",
        "n, a = get_details()\n",
        "print(n)\n",
        "print(a)\n"
      ],
      "metadata": {
        "colab": {
          "base_uri": "https://localhost:8080/"
        },
        "id": "uTyuIoOXb4Yc",
        "outputId": "6ec5eb66-5dad-4d26-866d-2b62e8580ced"
      },
      "execution_count": null,
      "outputs": [
        {
          "output_type": "stream",
          "name": "stdout",
          "text": [
            "Alice\n",
            "25\n"
          ]
        }
      ]
    },
    {
      "cell_type": "markdown",
      "source": [
        "Returning Without Value"
      ],
      "metadata": {
        "id": "-5QIEM07cpSL"
      }
    },
    {
      "cell_type": "code",
      "source": [
        "def greet():\n",
        "    print(\"Hello\")\n",
        "    return\n",
        "\n",
        "output = greet()\n",
        "print(output)\n"
      ],
      "metadata": {
        "colab": {
          "base_uri": "https://localhost:8080/"
        },
        "id": "QdeLMvFTclD-",
        "outputId": "64f234a0-66d5-4963-de43-d81b61c5bd8e"
      },
      "execution_count": null,
      "outputs": [
        {
          "output_type": "stream",
          "name": "stdout",
          "text": [
            "Hello\n",
            "None\n"
          ]
        }
      ]
    },
    {
      "cell_type": "markdown",
      "source": [
        "Returning from Inside a Loop"
      ],
      "metadata": {
        "id": "1nyJ4y_odcEF"
      }
    },
    {
      "cell_type": "code",
      "source": [
        "def find_even(numbers):\n",
        "    for num in numbers:\n",
        "        if num % 2 == 0:\n",
        "            return num\n",
        "    return None\n",
        "\n",
        "result = find_even([1, 3, 7, 4, 9])\n",
        "print(result)\n"
      ],
      "metadata": {
        "colab": {
          "base_uri": "https://localhost:8080/"
        },
        "id": "lIgV7nZecs1x",
        "outputId": "37d39928-acc0-4a84-a7db-703a5d5909af"
      },
      "execution_count": null,
      "outputs": [
        {
          "output_type": "stream",
          "name": "stdout",
          "text": [
            "4\n"
          ]
        }
      ]
    },
    {
      "cell_type": "markdown",
      "source": [
        "#Lambda function"
      ],
      "metadata": {
        "id": "YRBc1H3y-C50"
      }
    },
    {
      "cell_type": "markdown",
      "source": [
        "What is a Lambda Function?\n",
        "\n",
        "A lambda function is a small, anonymous (unnamed) function in Python.\n",
        "\n",
        "It can have any number of arguments but only one expression.\n",
        "\n",
        "Used for short, simple operations where a normal def function would be overkill."
      ],
      "metadata": {
        "id": "TJHk35CdenMO"
      }
    },
    {
      "cell_type": "code",
      "source": [
        "#lambda arguments: expression\n"
      ],
      "metadata": {
        "id": "sn-HxF1r207r"
      },
      "execution_count": null,
      "outputs": []
    },
    {
      "cell_type": "markdown",
      "source": [
        "lambda → keyword to define the function.\n",
        "\n",
        "arguments → inputs to the function.\n",
        "\n",
        "expression → evaluated and returned automatically."
      ],
      "metadata": {
        "id": "JlY63gcp2zSR"
      }
    },
    {
      "cell_type": "markdown",
      "source": [
        "Basic Argument"
      ],
      "metadata": {
        "id": "uSimjFG73AQA"
      }
    },
    {
      "cell_type": "code",
      "source": [
        "add = lambda x, y: x + y\n",
        "print(add(5, 3))\n"
      ],
      "metadata": {
        "colab": {
          "base_uri": "https://localhost:8080/"
        },
        "id": "bAZ402P1detT",
        "outputId": "971031ed-2ac1-4623-821b-dffce467a67d"
      },
      "execution_count": null,
      "outputs": [
        {
          "output_type": "stream",
          "name": "stdout",
          "text": [
            "8\n"
          ]
        }
      ]
    },
    {
      "cell_type": "markdown",
      "source": [
        "Single Argument\n"
      ],
      "metadata": {
        "id": "KXkH-Lyx3Iss"
      }
    },
    {
      "cell_type": "code",
      "source": [
        "square = lambda n: n ** 2\n",
        "print(square(4))\n"
      ],
      "metadata": {
        "colab": {
          "base_uri": "https://localhost:8080/"
        },
        "id": "u1-0CXmU3Fw2",
        "outputId": "ded587d3-6cc6-460d-a52d-4832b63824d6"
      },
      "execution_count": null,
      "outputs": [
        {
          "output_type": "stream",
          "name": "stdout",
          "text": [
            "16\n"
          ]
        }
      ]
    },
    {
      "cell_type": "markdown",
      "source": [
        "Multiple Arguments"
      ],
      "metadata": {
        "id": "uEWHdvB83VXs"
      }
    },
    {
      "cell_type": "code",
      "source": [
        "multiply = lambda a, b, c: a * b * c\n",
        "print(multiply(2, 3, 4))\n"
      ],
      "metadata": {
        "colab": {
          "base_uri": "https://localhost:8080/"
        },
        "id": "5KesyT5Q3Oxm",
        "outputId": "17d2cc2c-c963-43c6-e318-5f0b14fb805f"
      },
      "execution_count": null,
      "outputs": [
        {
          "output_type": "stream",
          "name": "stdout",
          "text": [
            "24\n"
          ]
        }
      ]
    },
    {
      "cell_type": "markdown",
      "source": [
        "No arguments"
      ],
      "metadata": {
        "id": "nPj7HYu3-MpC"
      }
    },
    {
      "cell_type": "code",
      "source": [
        "say_hello = lambda: \"Hello World\"\n",
        "print(say_hello())\n"
      ],
      "metadata": {
        "colab": {
          "base_uri": "https://localhost:8080/"
        },
        "id": "o73-zDze3YcO",
        "outputId": "c33c0db6-f095-4c87-9514-9898038973b1"
      },
      "execution_count": null,
      "outputs": [
        {
          "output_type": "stream",
          "name": "stdout",
          "text": [
            "Hello World\n"
          ]
        }
      ]
    },
    {
      "cell_type": "markdown",
      "source": [
        "#Map()"
      ],
      "metadata": {
        "id": "QxHLMBWP-dH5"
      }
    },
    {
      "cell_type": "markdown",
      "source": [
        "map() applies a given function to every item in an iterable (like a list, tuple, etc.) and returns a map object (which can be converted to a list, tuple, etc.)."
      ],
      "metadata": {
        "id": "EzkAphMG-j-2"
      }
    },
    {
      "cell_type": "markdown",
      "source": [
        "map(function, iterable, ...)\n"
      ],
      "metadata": {
        "id": "TnBOTr_g-oYH"
      }
    },
    {
      "cell_type": "markdown",
      "source": [
        "function → The function to apply.\n",
        "\n",
        "iterable → One or more iterable objects.\n",
        "\n",
        "Key Points\n",
        "map() does not change the original iterable.\n",
        "\n",
        "Returns a map object (iterator), so you usually convert it to list() or tuple().\n",
        "\n",
        "Can take multiple iterables if the function accepts multiple arguments."
      ],
      "metadata": {
        "id": "GXdR0IrW-vT1"
      }
    },
    {
      "cell_type": "markdown",
      "source": [
        "Basic Usage"
      ],
      "metadata": {
        "id": "maDvsayv-6lG"
      }
    },
    {
      "cell_type": "code",
      "source": [
        "# Function to square numbers\n",
        "def square(num):\n",
        "    return num ** 2\n",
        "\n",
        "numbers = [1, 2, 3, 4, 5]\n",
        "\n",
        "result = map(square, numbers)\n",
        "\n",
        "print(list(result))\n"
      ],
      "metadata": {
        "colab": {
          "base_uri": "https://localhost:8080/"
        },
        "id": "8Ga6ZKav-Pyk",
        "outputId": "38cfd85f-ddf0-43a7-af84-ea1414a33fb5"
      },
      "execution_count": null,
      "outputs": [
        {
          "output_type": "stream",
          "name": "stdout",
          "text": [
            "[1, 4, 9, 16, 25]\n"
          ]
        }
      ]
    },
    {
      "cell_type": "markdown",
      "source": [
        "Using lambda with map()"
      ],
      "metadata": {
        "id": "B6o45O3L-_lm"
      }
    },
    {
      "cell_type": "code",
      "source": [
        "numbers = [2, 4, 6, 8]\n",
        "\n",
        "result = map(lambda x: x * 3, numbers)\n",
        "\n",
        "print(list(result))\n"
      ],
      "metadata": {
        "colab": {
          "base_uri": "https://localhost:8080/"
        },
        "id": "mQvB2tcw-hSU",
        "outputId": "53338f56-1db3-4e0d-8514-cfed7ad09c9b"
      },
      "execution_count": null,
      "outputs": [
        {
          "output_type": "stream",
          "name": "stdout",
          "text": [
            "[6, 12, 18, 24]\n"
          ]
        }
      ]
    },
    {
      "cell_type": "markdown",
      "source": [
        "Using map() with Multiple Iterables"
      ],
      "metadata": {
        "id": "J7UKKTwe_F2j"
      }
    },
    {
      "cell_type": "code",
      "source": [
        "numbers1 = [1, 2, 3]\n",
        "numbers2 = [4, 5, 6]\n",
        "\n",
        "result = map(lambda x, y: x + y, numbers1, numbers2)\n",
        "\n",
        "print(list(result))\n"
      ],
      "metadata": {
        "colab": {
          "base_uri": "https://localhost:8080/"
        },
        "id": "GSJQ6eCZ_C9F",
        "outputId": "0ca83cdd-dd83-426c-d353-5be6884a7ff7"
      },
      "execution_count": null,
      "outputs": [
        {
          "output_type": "stream",
          "name": "stdout",
          "text": [
            "[5, 7, 9]\n"
          ]
        }
      ]
    },
    {
      "cell_type": "markdown",
      "source": [
        "Converting Strings to Uppercase"
      ],
      "metadata": {
        "id": "xmhEvNpf_LHw"
      }
    },
    {
      "cell_type": "code",
      "source": [
        "words = [\"python\", \"map\", \"function\"]\n",
        "\n",
        "result = map(str.upper, words)\n",
        "\n",
        "print(list(result))\n"
      ],
      "metadata": {
        "colab": {
          "base_uri": "https://localhost:8080/"
        },
        "id": "eV_4YWQS_Ir5",
        "outputId": "bc2dbd84-81c5-4f70-81ba-66cbf8974129"
      },
      "execution_count": null,
      "outputs": [
        {
          "output_type": "stream",
          "name": "stdout",
          "text": [
            "['PYTHON', 'MAP', 'FUNCTION']\n"
          ]
        }
      ]
    },
    {
      "cell_type": "markdown",
      "source": [
        "#Filter"
      ],
      "metadata": {
        "id": "vae9Tml5_nMK"
      }
    },
    {
      "cell_type": "markdown",
      "source": [
        "The filter() function constructs an iterator from elements of an iterable for which a function returns True."
      ],
      "metadata": {
        "id": "rZB-_Qnr_s-b"
      }
    },
    {
      "cell_type": "markdown",
      "source": [
        "syntax\n",
        "\n",
        "filter(function, iterable)\n"
      ],
      "metadata": {
        "id": "GqAt5Kho_w6_"
      }
    },
    {
      "cell_type": "markdown",
      "source": [
        "Parameters\n",
        "\n",
        "function – A function that tests each element of the iterable, returning True or False.\n",
        "\n",
        "iterable – Any iterable object (list, tuple, set, etc.)."
      ],
      "metadata": {
        "id": "SHOflGL__4LN"
      }
    },
    {
      "cell_type": "markdown",
      "source": [
        "Filtering even numbers"
      ],
      "metadata": {
        "id": "DAw9UpVjAQcv"
      }
    },
    {
      "cell_type": "code",
      "source": [
        "numbers = [1, 2, 3, 4, 5, 6]\n",
        "\n",
        "# Function to check even\n",
        "def is_even(n):\n",
        "    return n % 2 == 0\n",
        "\n",
        "even_numbers = filter(is_even, numbers)\n",
        "\n",
        "print(list(even_numbers))\n"
      ],
      "metadata": {
        "colab": {
          "base_uri": "https://localhost:8080/"
        },
        "id": "8vy9VuQq_Oki",
        "outputId": "4ac7ec7d-5ff8-4b0f-92ae-cc04061d82a8"
      },
      "execution_count": null,
      "outputs": [
        {
          "output_type": "stream",
          "name": "stdout",
          "text": [
            "[2, 4, 6]\n"
          ]
        }
      ]
    },
    {
      "cell_type": "markdown",
      "source": [
        "Using lambda with filter()"
      ],
      "metadata": {
        "id": "OYU8ayVBB8tr"
      }
    },
    {
      "cell_type": "code",
      "source": [
        "numbers = [10, 15, 20, 25, 30]\n",
        "even_numbers = filter(lambda x: x % 2 == 0, numbers)\n",
        "\n",
        "print(list(even_numbers))\n"
      ],
      "metadata": {
        "colab": {
          "base_uri": "https://localhost:8080/"
        },
        "id": "5UjBc74ZATnu",
        "outputId": "2234575a-3368-4f0c-c654-4652bab13d62"
      },
      "execution_count": null,
      "outputs": [
        {
          "output_type": "stream",
          "name": "stdout",
          "text": [
            "[10, 20, 30]\n"
          ]
        }
      ]
    },
    {
      "cell_type": "markdown",
      "source": [
        "Filtering Words Longer Than 4 Letters"
      ],
      "metadata": {
        "id": "CTv9kUDxCCTK"
      }
    },
    {
      "cell_type": "code",
      "source": [
        "words = [\"apple\", \"bat\", \"banana\", \"cat\"]\n",
        "\n",
        "long_words = filter(lambda w: len(w) > 4, words)\n",
        "\n",
        "print(list(long_words))\n"
      ],
      "metadata": {
        "colab": {
          "base_uri": "https://localhost:8080/"
        },
        "id": "-u7nlogAB_hN",
        "outputId": "3cd24e70-6b4e-4416-bede-fed3dcca83e4"
      },
      "execution_count": null,
      "outputs": [
        {
          "output_type": "stream",
          "name": "stdout",
          "text": [
            "['apple', 'banana']\n"
          ]
        }
      ]
    },
    {
      "cell_type": "markdown",
      "source": [
        "None as Function"
      ],
      "metadata": {
        "id": "D4TeJgfXCIm9"
      }
    },
    {
      "cell_type": "code",
      "source": [
        "values = [0, 1, \"\", \"hello\", [], [1, 2], None, True]\n",
        "\n",
        "filtered = filter(None, values)\n",
        "\n",
        "print(list(filtered))\n"
      ],
      "metadata": {
        "colab": {
          "base_uri": "https://localhost:8080/"
        },
        "id": "DQ-kYnvXCExz",
        "outputId": "60cb96af-1e14-48e1-afac-8ab165b229e4"
      },
      "execution_count": null,
      "outputs": [
        {
          "output_type": "stream",
          "name": "stdout",
          "text": [
            "[1, 'hello', [1, 2], True]\n"
          ]
        }
      ]
    },
    {
      "cell_type": "markdown",
      "source": [
        "#reduce"
      ],
      "metadata": {
        "id": "YaeA3FkHCmyF"
      }
    },
    {
      "cell_type": "markdown",
      "source": [
        "reduce means repeatedly applying a function to the items of an iterable to reduce it to a single cumulative value."
      ],
      "metadata": {
        "id": "7tzbjJ_JCpKD"
      }
    },
    {
      "cell_type": "code",
      "source": [
        "from functools import reduce\n",
        "\n",
        "nums = [1, 2, 3, 4]\n",
        "result = reduce(lambda a, b: a + b, nums)\n",
        "result\n"
      ],
      "metadata": {
        "colab": {
          "base_uri": "https://localhost:8080/"
        },
        "id": "CMOHqXK2CPuA",
        "outputId": "80102acc-7951-4aba-fbb4-03f02429be04"
      },
      "execution_count": null,
      "outputs": [
        {
          "output_type": "execute_result",
          "data": {
            "text/plain": [
              "10"
            ]
          },
          "metadata": {},
          "execution_count": 16
        }
      ]
    },
    {
      "cell_type": "code",
      "source": [
        "from functools import reduce\n",
        "\n",
        "# Example 1: Sum of numbers\n",
        "nums = [1, 2, 3, 4]\n",
        "sum_result = reduce(lambda a, b: a + b, nums)   # 1+2+3+4 = 10\n",
        "\n",
        "# Example 2: Product of numbers\n",
        "product_result = reduce(lambda a, b: a * b, nums)  # 1*2*3*4 = 24\n",
        "\n",
        "# Example 3: Find maximum number\n",
        "max_result = reduce(lambda a, b: a if a > b else b, nums)  # max = 4\n",
        "\n",
        "print(sum_result, product_result, max_result)\n"
      ],
      "metadata": {
        "colab": {
          "base_uri": "https://localhost:8080/"
        },
        "id": "h5oUeu1ICs6t",
        "outputId": "7a8d9468-89c0-43f1-e8da-8ff3a38ac1de"
      },
      "execution_count": null,
      "outputs": [
        {
          "output_type": "stream",
          "name": "stdout",
          "text": [
            "10 24 4\n"
          ]
        }
      ]
    },
    {
      "cell_type": "markdown",
      "source": [
        "#Recursion"
      ],
      "metadata": {
        "id": "TwewMJJ5DuHm"
      }
    },
    {
      "cell_type": "markdown",
      "source": [
        "Recursion is when a function calls itself directly or indirectly to solve a problem in smaller steps until it reaches a base case (a stopping point)."
      ],
      "metadata": {
        "id": "oZl7s_CaDwzc"
      }
    },
    {
      "cell_type": "markdown",
      "source": [
        "Key Parts of Recursion\n",
        "Every recursive function must have:\n",
        "\n",
        "Base Case – a condition that stops the recursion.\n",
        "Without this, the function will call itself forever → crash (RecursionError in Python).\n",
        "\n",
        "Recursive Case – the function calls itself with a smaller or simpler input."
      ],
      "metadata": {
        "id": "MDy9yck7D1Nd"
      }
    },
    {
      "cell_type": "markdown",
      "source": [
        "Factorial\n",
        "Factorial:\n",
        "n! = n × (n-1) × (n-2) × ... × 1"
      ],
      "metadata": {
        "id": "RdLhLZnzD6c1"
      }
    },
    {
      "cell_type": "code",
      "source": [
        "def factorial(n):\n",
        "    # Base case\n",
        "    if n == 0 or n == 1:\n",
        "        return 1\n",
        "    # Recursive case\n",
        "    return n * factorial(n - 1)\n",
        "\n",
        "print(factorial(5))  # Output: 120\n"
      ],
      "metadata": {
        "colab": {
          "base_uri": "https://localhost:8080/"
        },
        "id": "R6-0HW0lCxBG",
        "outputId": "f94ee2f3-c752-4fff-a706-2bc1af7fa74f"
      },
      "execution_count": null,
      "outputs": [
        {
          "output_type": "stream",
          "name": "stdout",
          "text": [
            "120\n"
          ]
        }
      ]
    },
    {
      "cell_type": "code",
      "source": [
        "factorial(5)\n",
        "5 * factorial(4)\n",
        "5 * (4 * factorial(3))\n",
        "5 * (4 * (3 * factorial(2)))\n",
        "5 * (4 * (3 * (2 * factorial(1))))\n",
        "5 * (4 * (3 * (2 * 1)))\n",
        "120\n"
      ],
      "metadata": {
        "colab": {
          "base_uri": "https://localhost:8080/"
        },
        "id": "zDh5udgkD9ry",
        "outputId": "2db8e986-6b73-4cee-8199-bb856b132fbd"
      },
      "execution_count": null,
      "outputs": [
        {
          "output_type": "execute_result",
          "data": {
            "text/plain": [
              "120"
            ]
          },
          "metadata": {},
          "execution_count": 20
        }
      ]
    },
    {
      "cell_type": "markdown",
      "source": [
        " Factorial"
      ],
      "metadata": {
        "id": "n5CM2ar-EzrP"
      }
    },
    {
      "cell_type": "code",
      "source": [
        "def factorial(n):\n",
        "    if n == 0:  # Base case\n",
        "        return 1\n",
        "    return n * factorial(n - 1)  # Recursive case\n",
        "\n",
        "print(factorial(50))\n"
      ],
      "metadata": {
        "colab": {
          "base_uri": "https://localhost:8080/"
        },
        "id": "oOsg-aS0D_3-",
        "outputId": "b2853d4e-3a77-4dc1-d363-b5287590527f"
      },
      "execution_count": null,
      "outputs": [
        {
          "output_type": "stream",
          "name": "stdout",
          "text": [
            "30414093201713378043612608166064768844377641568960512000000000000\n"
          ]
        }
      ]
    },
    {
      "cell_type": "markdown",
      "source": [
        "Fibonacci Numbers"
      ],
      "metadata": {
        "id": "JAKuxjnzFGJ0"
      }
    },
    {
      "cell_type": "code",
      "source": [
        "def fibonacci(n):\n",
        "    if n <= 1:  # Base case\n",
        "        return n\n",
        "    return fibonacci(n - 1) + fibonacci(n - 2)  # Recursive case\n",
        "\n",
        "print(fibonacci(6))\n"
      ],
      "metadata": {
        "colab": {
          "base_uri": "https://localhost:8080/"
        },
        "id": "IG417QvrE2l4",
        "outputId": "f000f87a-53a1-4507-9852-a362760a7b65"
      },
      "execution_count": null,
      "outputs": [
        {
          "output_type": "stream",
          "name": "stdout",
          "text": [
            "8\n"
          ]
        }
      ]
    },
    {
      "cell_type": "markdown",
      "source": [
        "#recursion important examples"
      ],
      "metadata": {
        "id": "lyTagjo7F2ks"
      }
    },
    {
      "cell_type": "code",
      "source": [
        "from functools import reduce\n",
        "\n",
        "# 1. Factorial\n",
        "def factorial(n):\n",
        "    if n == 0:\n",
        "        return 1\n",
        "    return n * factorial(n-1)\n",
        "\n",
        "# 2. Fibonacci\n",
        "def fibonacci(n):\n",
        "    if n <= 1:\n",
        "        return n\n",
        "    return fibonacci(n-1) + fibonacci(n-2)\n",
        "\n",
        "# 3. Sum of Digits\n",
        "def sum_digits(n):\n",
        "    if n == 0:\n",
        "        return 0\n",
        "    return n % 10 + sum_digits(n // 10)\n",
        "\n",
        "# 4. Reverse String\n",
        "def reverse_string(s):\n",
        "    if len(s) == 0:\n",
        "        return s\n",
        "    return s[-1] + reverse_string(s[:-1])\n",
        "\n",
        "# 5. Palindrome Check\n",
        "def is_palindrome(s):\n",
        "    if len(s) <= 1:\n",
        "        return True\n",
        "    return s[0] == s[-1] and is_palindrome(s[1:-1])\n",
        "\n",
        "# 6. Binary Search\n",
        "def binary_search(arr, target, low, high):\n",
        "    if low > high:\n",
        "        return -1\n",
        "    mid = (low + high) // 2\n",
        "    if arr[mid] == target:\n",
        "        return mid\n",
        "    elif arr[mid] > target:\n",
        "        return binary_search(arr, target, low, mid - 1)\n",
        "    else:\n",
        "        return binary_search(arr, target, mid + 1, high)\n",
        "\n",
        "# 7. GCD (Euclidean Algorithm)\n",
        "def gcd(a, b):\n",
        "    if b == 0:\n",
        "        return a\n",
        "    return gcd(b, a % b)\n",
        "\n",
        "# 8. Tower of Hanoi\n",
        "def hanoi(n, src, dest, aux):\n",
        "    moves = []\n",
        "    def move_disks(n, src, dest, aux):\n",
        "        if n == 1:\n",
        "            moves.append(f\"Move disk 1 from {src} to {dest}\")\n",
        "            return\n",
        "        move_disks(n-1, src, aux, dest)\n",
        "        moves.append(f\"Move disk {n} from {src} to {dest}\")\n",
        "        move_disks(n-1, aux, dest, src)\n",
        "    move_disks(n, src, dest, aux)\n",
        "    return moves\n",
        "\n",
        "# 9. Merge Sort\n",
        "def merge_sort(arr):\n",
        "    if len(arr) > 1:\n",
        "        mid = len(arr) // 2\n",
        "        L = arr[:mid]\n",
        "        R = arr[mid:]\n",
        "        merge_sort(L)\n",
        "        merge_sort(R)\n",
        "        i = j = k = 0\n",
        "        while i < len(L) and j < len(R):\n",
        "            if L[i] < R[j]:\n",
        "                arr[k] = L[i]\n",
        "                i += 1\n",
        "            else:\n",
        "                arr[k] = R[j]\n",
        "                j += 1\n",
        "            k += 1\n",
        "        while i < len(L):\n",
        "            arr[k] = L[i]\n",
        "            i += 1\n",
        "            k += 1\n",
        "        while j < len(R):\n",
        "            arr[k] = R[j]\n",
        "            j += 1\n",
        "            k += 1\n",
        "\n",
        "# 10. DFS in Graph\n",
        "def dfs(graph, node, visited=None):\n",
        "    if visited is None:\n",
        "        visited = set()\n",
        "    output = []\n",
        "    if node not in visited:\n",
        "        output.append(node)\n",
        "        visited.add(node)\n",
        "        for neighbor in graph[node]:\n",
        "            output.extend(dfs(graph, neighbor, visited))\n",
        "    return output\n",
        "\n",
        "\n",
        "# Running all functions\n",
        "results = {\n",
        "    \"Factorial(5)\": factorial(5),\n",
        "    \"Fibonacci(6)\": fibonacci(6),\n",
        "    \"Sum of digits(1234)\": sum_digits(1234),\n",
        "    \"Reverse 'hello'\": reverse_string(\"hello\"),\n",
        "    \"Palindrome 'madam'\": is_palindrome(\"madam\"),\n",
        "    \"Binary search for 7\": binary_search([1,3,5,7,9], 7, 0, 4),\n",
        "    \"GCD(48, 18)\": gcd(48, 18),\n",
        "    \"Tower of Hanoi (3 disks)\": hanoi(3, 'A', 'C', 'B'),\n",
        "    \"Merge sort\": (lambda nums: (merge_sort(nums), nums))([38, 27, 43, 3, 9, 82, 10])[1],\n",
        "    \"DFS in graph\": dfs({'A': ['B','C'], 'B': ['D','E'], 'C': ['F'], 'D': [], 'E': ['F'], 'F': []}, 'A')\n",
        "}\n",
        "\n",
        "results\n"
      ],
      "metadata": {
        "colab": {
          "base_uri": "https://localhost:8080/"
        },
        "id": "sNTKFgRaFLMX",
        "outputId": "b6bcffb2-0588-4d6f-d8e0-e392873915b9"
      },
      "execution_count": null,
      "outputs": [
        {
          "output_type": "execute_result",
          "data": {
            "text/plain": [
              "{'Factorial(5)': 120,\n",
              " 'Fibonacci(6)': 8,\n",
              " 'Sum of digits(1234)': 10,\n",
              " \"Reverse 'hello'\": 'olleh',\n",
              " \"Palindrome 'madam'\": True,\n",
              " 'Binary search for 7': 3,\n",
              " 'GCD(48, 18)': 6,\n",
              " 'Tower of Hanoi (3 disks)': ['Move disk 1 from A to C',\n",
              "  'Move disk 2 from A to B',\n",
              "  'Move disk 1 from C to B',\n",
              "  'Move disk 3 from A to C',\n",
              "  'Move disk 1 from B to A',\n",
              "  'Move disk 2 from B to C',\n",
              "  'Move disk 1 from A to C'],\n",
              " 'Merge sort': [3, 9, 10, 27, 38, 43, 82],\n",
              " 'DFS in graph': ['A', 'B', 'D', 'E', 'F', 'C']}"
            ]
          },
          "metadata": {},
          "execution_count": 27
        }
      ]
    },
    {
      "cell_type": "markdown",
      "source": [
        "#Scope of Variable"
      ],
      "metadata": {
        "id": "rQyQGKbUH7NE"
      }
    },
    {
      "cell_type": "markdown",
      "source": [
        "Scope of a Variable means where in a program a variable can be accessed or modified."
      ],
      "metadata": {
        "id": "XZnwC8QwIVdV"
      }
    },
    {
      "cell_type": "markdown",
      "source": [
        "| **Level** | **Scope Name** | **Description**                                          |\n",
        "| --------- | -------------- | -------------------------------------------------------- |\n",
        "| **L**     | Local          | Variables inside the current function.                   |\n",
        "| **E**     | Enclosing      | Variables in outer functions (nested function scenario). |\n",
        "| **G**     | Global         | Variables defined at the top-level of a script/module.   |\n",
        "| **B**     | Built-in       | Names predefined in Python (like `len`, `range`).        |\n"
      ],
      "metadata": {
        "id": "Cb8cY_S6IYTe"
      }
    },
    {
      "cell_type": "markdown",
      "source": [
        "Local Scope\n",
        "\n",
        "Variables created inside a function.\n",
        "\n",
        "Accessible only within that function."
      ],
      "metadata": {
        "id": "8vWTCIxgICYb"
      }
    },
    {
      "cell_type": "code",
      "source": [
        "def my_func():\n",
        "    x = 10  # local variable\n",
        "    print(\"Inside function:\", x)\n",
        "\n",
        "my_func()\n",
        "# print(x)  # ❌ Error: x not defined\n"
      ],
      "metadata": {
        "colab": {
          "base_uri": "https://localhost:8080/"
        },
        "id": "bIrT6SaFGCUb",
        "outputId": "28f4c0a0-f078-4e69-9377-ab3ab7286b10"
      },
      "execution_count": null,
      "outputs": [
        {
          "output_type": "stream",
          "name": "stdout",
          "text": [
            "Inside function: 10\n"
          ]
        }
      ]
    },
    {
      "cell_type": "code",
      "source": [
        "def my_func():\n",
        "    x = 10  # local variable\n",
        "    print(\"Inside function:\", x)\n",
        "\n",
        "my_func()\n",
        "print(67)  # ❌ Error: x not defined\n"
      ],
      "metadata": {
        "colab": {
          "base_uri": "https://localhost:8080/"
        },
        "id": "5XKoJoSMIi9x",
        "outputId": "e9552e11-f9dd-4d0c-efe1-7defd7b9b365"
      },
      "execution_count": null,
      "outputs": [
        {
          "output_type": "stream",
          "name": "stdout",
          "text": [
            "Inside function: 10\n",
            "67\n"
          ]
        }
      ]
    },
    {
      "cell_type": "markdown",
      "source": [
        "Global Scope\n",
        "\n",
        "Variables created outside all functions.\n",
        "\n",
        "Accessible anywhere in the program (unless shadowed by local variables)."
      ],
      "metadata": {
        "id": "bJfqzRnTIv-Z"
      }
    },
    {
      "cell_type": "code",
      "source": [
        "x = 50  # global variable\n",
        "\n",
        "def my_func():\n",
        "    print(\"Inside function:\", x)\n",
        "\n",
        "my_func()\n",
        "print(\"Outside function:\", x)\n"
      ],
      "metadata": {
        "colab": {
          "base_uri": "https://localhost:8080/"
        },
        "id": "Ns9Jgfx6IlTS",
        "outputId": "c4bb2463-2a39-4bff-e722-3008a51ddb33"
      },
      "execution_count": null,
      "outputs": [
        {
          "output_type": "stream",
          "name": "stdout",
          "text": [
            "Inside function: 50\n",
            "Outside function: 50\n"
          ]
        }
      ]
    },
    {
      "cell_type": "markdown",
      "source": [
        "Enclosing Scope (Nonlocal)\n",
        "\n",
        "Variables in outer functions for nested functions.\n",
        "\n",
        "Use nonlocal to modify them."
      ],
      "metadata": {
        "id": "HyUujLS_I4Cl"
      }
    },
    {
      "cell_type": "code",
      "source": [
        "def outer():\n",
        "    y = 20  # enclosing variable\n",
        "    def inner():\n",
        "        nonlocal y\n",
        "        y += 5\n",
        "        print(\"Inner:\", y)\n",
        "    inner()\n",
        "    print(\"Outer:\", y)\n",
        "\n",
        "outer()\n"
      ],
      "metadata": {
        "colab": {
          "base_uri": "https://localhost:8080/"
        },
        "id": "P5vnGDwiI0gN",
        "outputId": "31937df6-dc87-4eb2-b600-7b262872943f"
      },
      "execution_count": null,
      "outputs": [
        {
          "output_type": "stream",
          "name": "stdout",
          "text": [
            "Inner: 25\n",
            "Outer: 25\n"
          ]
        }
      ]
    },
    {
      "cell_type": "markdown",
      "source": [
        "Built-in Scope\n",
        "\n",
        "Python’s default functions/keywords.\n",
        "\n",
        "Example: print(), len(), sum()."
      ],
      "metadata": {
        "id": "HFcf-UcUI-62"
      }
    },
    {
      "cell_type": "code",
      "source": [
        "print(len([1, 2, 3]))  # 3\n"
      ],
      "metadata": {
        "colab": {
          "base_uri": "https://localhost:8080/"
        },
        "id": "4XhAJ9rBI76H",
        "outputId": "6a4bfd29-2470-42c8-8b62-360cff0d2592"
      },
      "execution_count": null,
      "outputs": [
        {
          "output_type": "stream",
          "name": "stdout",
          "text": [
            "3\n"
          ]
        }
      ]
    },
    {
      "cell_type": "markdown",
      "source": [
        "#decorator"
      ],
      "metadata": {
        "id": "iAVuqCjzJ0iI"
      }
    },
    {
      "cell_type": "markdown",
      "source": [
        "What is a Decorator in Python?\n",
        "A decorator is a special function that modifies the behavior of another function without changing its code.\n",
        "\n",
        "Why use decorators?\n",
        "\n",
        "To add reusable functionality to many functions easily.\n",
        "\n",
        "To separate concerns (like logging, timing, checking permissions).\n",
        "\n",
        "To keep code clean and DRY (Don’t Repeat Yourself)."
      ],
      "metadata": {
        "id": "kWUWMe_zJ6de"
      }
    },
    {
      "cell_type": "code",
      "source": [
        "def my_decorator(func):\n",
        "    def wrapper():\n",
        "        print(\"Before the function runs\")\n",
        "        func()\n",
        "        print(\"After the function runs\")\n",
        "    return wrapper\n",
        "\n",
        "@my_decorator\n",
        "def say_hello():\n",
        "    print(\"Hello!\")\n",
        "\n",
        "say_hello()\n"
      ],
      "metadata": {
        "id": "QIllH5Z6JFck",
        "colab": {
          "base_uri": "https://localhost:8080/"
        },
        "outputId": "4ffecbac-a6ec-49d3-8ffa-40e77aece494"
      },
      "execution_count": 1,
      "outputs": [
        {
          "output_type": "stream",
          "name": "stdout",
          "text": [
            "Before the function runs\n",
            "Hello!\n",
            "After the function runs\n"
          ]
        }
      ]
    },
    {
      "cell_type": "markdown",
      "source": [
        "Simple decorator — adds prints before and after a function"
      ],
      "metadata": {
        "id": "358m3I5OM0aq"
      }
    },
    {
      "cell_type": "code",
      "source": [
        "def simple_decorator(func):\n",
        "    def wrapper():\n",
        "        print(\"Before function runs\")\n",
        "        func()\n",
        "        print(\"After function runs\")\n",
        "    return wrapper\n",
        "\n",
        "@simple_decorator\n",
        "def greet():\n",
        "    print(\"Hello!\")\n",
        "\n",
        "greet()\n"
      ],
      "metadata": {
        "colab": {
          "base_uri": "https://localhost:8080/"
        },
        "id": "6O-cKVmJMUp6",
        "outputId": "3e7560ba-4938-41ef-a8fc-4da7733db635"
      },
      "execution_count": 2,
      "outputs": [
        {
          "output_type": "stream",
          "name": "stdout",
          "text": [
            "Before function runs\n",
            "Hello!\n",
            "After function runs\n"
          ]
        }
      ]
    },
    {
      "cell_type": "markdown",
      "source": [
        "Decorator for functions with arguments"
      ],
      "metadata": {
        "id": "82NO7whoM6iH"
      }
    },
    {
      "cell_type": "code",
      "source": [
        "def decorator_with_args(func):\n",
        "    def wrapper(*args, **kwargs):\n",
        "        print(\"Function is about to run\")\n",
        "        result = func(*args, **kwargs)\n",
        "        print(\"Function finished running\")\n",
        "        return result\n",
        "    return wrapper\n",
        "\n",
        "@decorator_with_args\n",
        "def add(a, b):\n",
        "    return a + b\n",
        "\n",
        "print(add(5, 3))\n"
      ],
      "metadata": {
        "colab": {
          "base_uri": "https://localhost:8080/"
        },
        "id": "kthxtDkUM2wl",
        "outputId": "565e6a70-d095-437a-ea51-f82ec0a0da57"
      },
      "execution_count": 3,
      "outputs": [
        {
          "output_type": "stream",
          "name": "stdout",
          "text": [
            "Function is about to run\n",
            "Function finished running\n",
            "8\n"
          ]
        }
      ]
    },
    {
      "cell_type": "markdown",
      "source": [
        "Decorator with parameters (a decorator factory)"
      ],
      "metadata": {
        "id": "xURrNOauNLnU"
      }
    },
    {
      "cell_type": "code",
      "source": [
        "def repeat(times):\n",
        "    def decorator(func):\n",
        "        def wrapper(*args, **kwargs):\n",
        "            for _ in range(times):\n",
        "                func(*args, **kwargs)\n",
        "        return wrapper\n",
        "    return decorator\n",
        "\n",
        "@repeat(3)\n",
        "def say_hello():\n",
        "    print(\"Hello!\")\n",
        "\n",
        "say_hello()\n"
      ],
      "metadata": {
        "colab": {
          "base_uri": "https://localhost:8080/"
        },
        "id": "Va2cHqcnNHfZ",
        "outputId": "23fc78ad-efe3-445a-c3f3-42051200f301"
      },
      "execution_count": 4,
      "outputs": [
        {
          "output_type": "stream",
          "name": "stdout",
          "text": [
            "Hello!\n",
            "Hello!\n",
            "Hello!\n"
          ]
        }
      ]
    },
    {
      "cell_type": "markdown",
      "source": [
        "Timing decorator (measures execution time)"
      ],
      "metadata": {
        "id": "Cc4h36DuNZQD"
      }
    },
    {
      "cell_type": "code",
      "source": [
        "import time\n",
        "\n",
        "def timer(func):\n",
        "    def wrapper(*args, **kwargs):\n",
        "        start = time.time()\n",
        "        result = func(*args, **kwargs)\n",
        "        end = time.time()\n",
        "        print(f\"Function took {end - start:.4f} seconds\")\n",
        "        return result\n",
        "    return wrapper\n",
        "\n",
        "@timer\n",
        "def waste_time():\n",
        "    for _ in range(1000000):\n",
        "        pass\n",
        "\n",
        "waste_time()\n"
      ],
      "metadata": {
        "colab": {
          "base_uri": "https://localhost:8080/"
        },
        "id": "u-kHpL_hNUde",
        "outputId": "e668080e-2e1c-4ff7-eb18-ad240fc3f4b4"
      },
      "execution_count": 5,
      "outputs": [
        {
          "output_type": "stream",
          "name": "stdout",
          "text": [
            "Function took 0.0767 seconds\n"
          ]
        }
      ]
    },
    {
      "cell_type": "markdown",
      "source": [
        "Logging decorator (logs function name and arguments)"
      ],
      "metadata": {
        "id": "3FcjL1NfNhlS"
      }
    },
    {
      "cell_type": "code",
      "source": [
        "def logger(func):\n",
        "    def wrapper(*args, **kwargs):\n",
        "        print(f\"Calling {func.__name__} with args={args} kwargs={kwargs}\")\n",
        "        return func(*args, **kwargs)\n",
        "    return wrapper\n",
        "\n",
        "@logger\n",
        "def multiply(x, y):\n",
        "    return x * y\n",
        "\n",
        "print(multiply(4, 5))\n"
      ],
      "metadata": {
        "colab": {
          "base_uri": "https://localhost:8080/"
        },
        "id": "GVt03MaLNcuC",
        "outputId": "99fa59e9-9574-4a9e-e361-6eac1950d78a"
      },
      "execution_count": 6,
      "outputs": [
        {
          "output_type": "stream",
          "name": "stdout",
          "text": [
            "Calling multiply with args=(4, 5) kwargs={}\n",
            "20\n"
          ]
        }
      ]
    },
    {
      "cell_type": "markdown",
      "source": [
        "#Modules & Packages"
      ],
      "metadata": {
        "id": "Z7TZHx5FN7Bz"
      }
    },
    {
      "cell_type": "markdown",
      "source": [
        "What is a Module?\n",
        "\n",
        "A module is a single Python file (.py) that contains Python code — functions, classes, variables, etc.\n",
        "\n",
        "You can reuse code by importing modules instead of rewriting it."
      ],
      "metadata": {
        "id": "_5X5aJLEOKvq"
      }
    },
    {
      "cell_type": "code",
      "source": [
        "# file: math_utils.py\n",
        "def add(a, b):\n",
        "    return a + b"
      ],
      "metadata": {
        "id": "C0-8em5JNmyV"
      },
      "execution_count": 7,
      "outputs": []
    },
    {
      "cell_type": "markdown",
      "source": [
        "What is a Package?\n",
        "\n",
        "A package is a folder/directory containing multiple modules and a special file __init__.py (can be empty).\n",
        "\n",
        "It helps organize modules in a hierarchical structure.\n",
        "\n"
      ],
      "metadata": {
        "id": "XS3j9dWAOVRX"
      }
    },
    {
      "cell_type": "markdown",
      "source": [
        "my_package/\n",
        "    __init__.py\n",
        "    module1.py\n",
        "    module2.py\n"
      ],
      "metadata": {
        "id": "5E4i7RgFOZxc"
      }
    },
    {
      "cell_type": "markdown",
      "source": [
        "| Task                         | Syntax                         |\n",
        "| ---------------------------- | ------------------------------ |\n",
        "| Import whole module          | `import module_name`           |\n",
        "| Import specific parts        | `from module_name import func` |\n",
        "| Import with alias            | `import module_name as alias`  |\n",
        "| Import all (not recommended) | `from module_name import *`    |\n"
      ],
      "metadata": {
        "id": "01pj_JwWOg1K"
      }
    },
    {
      "cell_type": "markdown",
      "source": [
        "#math — math functions and constants"
      ],
      "metadata": {
        "id": "QMBnaudHO0cM"
      }
    },
    {
      "cell_type": "code",
      "source": [
        "import math\n",
        "\n",
        "print(math.sqrt(16))      # 4.0 — square root\n",
        "print(math.factorial(5))  # 120 — factorial\n",
        "print(math.pi)            # 3.141592653589793 — constant pi\n",
        "print(math.sin(math.pi/2))# 1.0 — sine of 90 degrees (in radians)\n"
      ],
      "metadata": {
        "colab": {
          "base_uri": "https://localhost:8080/"
        },
        "id": "XGSboJXmOOVu",
        "outputId": "a5d8df6e-df36-4090-df13-25f58adedf24"
      },
      "execution_count": 9,
      "outputs": [
        {
          "output_type": "stream",
          "name": "stdout",
          "text": [
            "4.0\n",
            "120\n",
            "3.141592653589793\n",
            "1.0\n"
          ]
        }
      ]
    },
    {
      "cell_type": "markdown",
      "source": [
        "random — generate random numbers"
      ],
      "metadata": {
        "id": "WgL5ZpIGO7DR"
      }
    },
    {
      "cell_type": "code",
      "source": [
        "import random\n",
        "\n",
        "print(random.random())         # random float between 0 and 1\n",
        "print(random.randint(1, 10))  # random int between 1 and 10 (inclusive)\n",
        "print(random.choice(['red', 'green', 'blue']))  # randomly select from list\n",
        "print(random.shuffle([1, 2, 3, 4]))  # shuffles list in place\n"
      ],
      "metadata": {
        "colab": {
          "base_uri": "https://localhost:8080/"
        },
        "id": "DmTuod-DOY4B",
        "outputId": "f39fb737-b2b7-4e92-e702-39a742719bfe"
      },
      "execution_count": 10,
      "outputs": [
        {
          "output_type": "stream",
          "name": "stdout",
          "text": [
            "0.7096770317943935\n",
            "7\n",
            "blue\n",
            "None\n"
          ]
        }
      ]
    },
    {
      "cell_type": "markdown",
      "source": [
        "datetime — working with dates and times"
      ],
      "metadata": {
        "id": "yXnTD7DVPAql"
      }
    },
    {
      "cell_type": "code",
      "source": [
        "import datetime\n",
        "\n",
        "now = datetime.datetime.now()\n",
        "print(now)                    # current date and time\n",
        "\n",
        "today = datetime.date.today()\n",
        "print(today)                  # current date\n",
        "\n",
        "birthday = datetime.date(1990, 5, 15)\n",
        "print(birthday)\n",
        "\n",
        "# timedelta for date arithmetic\n",
        "delta = datetime.timedelta(days=7)\n",
        "week_later = today + delta\n",
        "print(week_later)\n"
      ],
      "metadata": {
        "colab": {
          "base_uri": "https://localhost:8080/"
        },
        "id": "z-bh0X21O9rm",
        "outputId": "c27665e7-736b-4c67-d462-3b43a2c3e3fd"
      },
      "execution_count": 11,
      "outputs": [
        {
          "output_type": "stream",
          "name": "stdout",
          "text": [
            "2025-08-12 03:04:07.415236\n",
            "2025-08-12\n",
            "1990-05-15\n",
            "2025-08-19\n"
          ]
        }
      ]
    },
    {
      "cell_type": "markdown",
      "source": [
        " os — interact with operating system"
      ],
      "metadata": {
        "id": "lCo--OCnPHn-"
      }
    },
    {
      "cell_type": "code",
      "source": [
        "import os\n",
        "\n",
        "print(os.name)               # e.g. 'posix', 'nt'\n",
        "\n",
        "print(os.getcwd())           # current working directory\n",
        "\n",
        "os.chdir('..')               # change directory to parent\n",
        "\n",
        "print(os.listdir('.'))       # list files in current directory\n",
        "\n",
        "if not os.path.exists('new_folder'):\n",
        "  os.mkdir('new_folder')       # create new folder\n",
        "else:\n",
        "  print(\"Directory 'new_folder' already exists.\")\n",
        "\n",
        "# os.rename('old.txt', 'new.txt')  # rename file - removed as file doesn't exist\n",
        "\n",
        "# os.remove('file.txt')        # delete file - removed as file doesn't exist"
      ],
      "metadata": {
        "colab": {
          "base_uri": "https://localhost:8080/"
        },
        "id": "7wUIKe6kPDRv",
        "outputId": "72954235-37a5-493a-c4bb-c090a9785ba6"
      },
      "execution_count": 15,
      "outputs": [
        {
          "output_type": "stream",
          "name": "stdout",
          "text": [
            "posix\n",
            "/\n",
            "['usr', 'mnt', 'run', 'sbin', 'dev', 'tmp', 'lib64', 'root', 'proc', 'etc', 'media', 'bin', 'srv', 'home', 'boot', 'var', 'opt', 'libx32', 'lib', 'lib32', 'sys', 'kaggle', 'new_folder', '.dockerenv', 'datalab', 'tools', 'content', 'python-apt', 'python-apt.tar.xz', 'NGC-DL-CONTAINER-LICENSE', 'cuda-keyring_1.1-1_all.deb']\n",
            "Directory 'new_folder' already exists.\n"
          ]
        }
      ]
    },
    {
      "cell_type": "markdown",
      "source": [
        "#Creating Custom Modules"
      ],
      "metadata": {
        "id": "jqli1x15Pmlv"
      }
    },
    {
      "cell_type": "markdown",
      "source": [
        " Create a Python file\n",
        "Make a new file with .py extension, for example, mymath.py"
      ],
      "metadata": {
        "id": "voYiWCxgP4vi"
      }
    },
    {
      "cell_type": "code",
      "source": [
        "# mymath.py\n",
        "\n",
        "def add(a, b):\n",
        "    return a + b\n",
        "\n",
        "def subtract(a, b):\n",
        "    return a - b\n"
      ],
      "metadata": {
        "id": "BT7i77U0PKSw"
      },
      "execution_count": 16,
      "outputs": []
    },
    {
      "cell_type": "markdown",
      "source": [
        "Use (import) your module in another file\n",
        "Create another file, say main.py in the same directory."
      ],
      "metadata": {
        "id": "duMoNjNgP_eU"
      }
    },
    {
      "cell_type": "code",
      "metadata": {
        "colab": {
          "base_uri": "https://localhost:8080/"
        },
        "id": "1d1728ae",
        "outputId": "db2386bc-17a8-474b-f99f-c70bedf4f9c0"
      },
      "source": [
        "# Create the mymath.py file\n",
        "with open(\"mymath.py\", \"w\") as f:\n",
        "    f.write(\"def add(a, b):\\n\")\n",
        "    f.write(\"    return a + b\\n\")\n",
        "    f.write(\"\\ndef subtract(a, b):\\n\")\n",
        "    f.write(\"    return a - b\\n\")\n",
        "\n",
        "print(\"mymath.py created successfully.\")"
      ],
      "execution_count": 26,
      "outputs": [
        {
          "output_type": "stream",
          "name": "stdout",
          "text": [
            "mymath.py created successfully.\n"
          ]
        }
      ]
    },
    {
      "cell_type": "code",
      "source": [
        "# main.py\n",
        "\n",
        "import mymath\n",
        "\n",
        "print(mymath.add(5, 3))       # Output: 8\n",
        "print(mymath.subtract(10, 4)) # Output: 6\n"
      ],
      "metadata": {
        "colab": {
          "base_uri": "https://localhost:8080/"
        },
        "id": "Y1YKqE8CQ7rc",
        "outputId": "890b30b3-cd46-417b-e209-d04c5520a564"
      },
      "execution_count": 28,
      "outputs": [
        {
          "output_type": "stream",
          "name": "stdout",
          "text": [
            "8\n",
            "6\n"
          ]
        }
      ]
    },
    {
      "cell_type": "code",
      "source": [
        "from mymath import add\n",
        "\n",
        "print(add(7, 2))  # Output: 9\n"
      ],
      "metadata": {
        "colab": {
          "base_uri": "https://localhost:8080/"
        },
        "id": "havvx5AaQxZd",
        "outputId": "2f3c2ea3-660e-4186-db57-a8076adeca23"
      },
      "execution_count": 27,
      "outputs": [
        {
          "output_type": "stream",
          "name": "stdout",
          "text": [
            "9\n"
          ]
        }
      ]
    },
    {
      "cell_type": "code",
      "source": [
        "import mymath as mm\n",
        "\n",
        "print(mm.subtract(9, 4))  # Output: 5\n"
      ],
      "metadata": {
        "colab": {
          "base_uri": "https://localhost:8080/"
        },
        "id": "GaDdlprZQyOj",
        "outputId": "8afbb602-1af8-418a-8e6a-e7a331809deb"
      },
      "execution_count": 29,
      "outputs": [
        {
          "output_type": "stream",
          "name": "stdout",
          "text": [
            "5\n"
          ]
        }
      ]
    },
    {
      "cell_type": "markdown",
      "source": [
        "What is __name__?\n",
        "\n",
        "Every Python module (file) has a built-in attribute called __name__.\n",
        "\n",
        "When you run a Python file directly, __name__ is set to \"__main__\".\n",
        "\n",
        "When you import that file as a module, __name__ is set to the module’s filename (without .py).\n",
        "\n",
        "Why use if __name__ == \"__main__\":?\n",
        "\n",
        "To make sure some code only runs when you execute the script directly, but NOT when you import it.\n",
        "\n",
        "Useful for:\n",
        "\n",
        "Running tests or demos inside the module.\n",
        "\n",
        "Preventing certain code from running on import."
      ],
      "metadata": {
        "id": "6B40wRFgRav0"
      }
    },
    {
      "cell_type": "code",
      "source": [
        "# mymodule.py\n",
        "\n",
        "def greet():\n",
        "    print(\"Hello from greet()\")\n",
        "\n",
        "if __name__ == \"__main__\":\n",
        "    print(\"Running as main script\")\n",
        "    greet()\n"
      ],
      "metadata": {
        "colab": {
          "base_uri": "https://localhost:8080/"
        },
        "id": "uIvLvYA9RMtt",
        "outputId": "82e46fb1-8273-4b4b-9839-11eaaa077b49"
      },
      "execution_count": 32,
      "outputs": [
        {
          "output_type": "stream",
          "name": "stdout",
          "text": [
            "Running as main script\n",
            "Hello from greet()\n"
          ]
        }
      ]
    },
    {
      "cell_type": "markdown",
      "source": [
        "#Exception Handling in Python\n",
        "When your program encounters an error during execution, it raises an exception. If not handled, your program crashes.\n",
        "\n",
        "Python lets you handle exceptions gracefully using try and except."
      ],
      "metadata": {
        "id": "TX02F2hfRth5"
      }
    },
    {
      "cell_type": "markdown",
      "source": [
        "| Block     | Purpose                                  |\n",
        "| --------- | ---------------------------------------- |\n",
        "| `try`     | Code that may raise an exception         |\n",
        "| `except`  | Code to handle specific exceptions       |\n",
        "| `else`    | Code to run if no exceptions were raised |\n",
        "| `finally` | Code that always runs (cleanup, etc.)    |\n"
      ],
      "metadata": {
        "id": "OX-cNq4XSyxg"
      }
    },
    {
      "cell_type": "markdown",
      "source": [
        "Syntax"
      ],
      "metadata": {
        "id": "apN3usnRRxqC"
      }
    },
    {
      "cell_type": "markdown",
      "source": [
        "try:\n",
        "    # code that might raise an exception\n",
        "except SomeException:\n",
        "    # code that runs if the exception occurs\n",
        "else:\n",
        "    # code that runs if no exception occurred\n",
        "finally:\n",
        "    # code that always runs, no matter what\n"
      ],
      "metadata": {
        "id": "4HDeh8adRzxT"
      }
    },
    {
      "cell_type": "markdown",
      "source": [
        "try — block where exceptions might occur"
      ],
      "metadata": {
        "id": "SXy0pphKR4IN"
      }
    },
    {
      "cell_type": "code",
      "source": [
        "try:\n",
        "    x = 10 / 0  # Raises ZeroDivisionError\n",
        "except ZeroDivisionError:\n",
        "    print(\"You can't divide by zero!\")\n"
      ],
      "metadata": {
        "colab": {
          "base_uri": "https://localhost:8080/"
        },
        "id": "YtbZXG2wRh3l",
        "outputId": "5e1d2965-f0b7-41ad-b3d3-c6e62c30d1b1"
      },
      "execution_count": 33,
      "outputs": [
        {
          "output_type": "stream",
          "name": "stdout",
          "text": [
            "You can't divide by zero!\n"
          ]
        }
      ]
    },
    {
      "cell_type": "markdown",
      "source": [
        "except — block to catch and handle exceptions"
      ],
      "metadata": {
        "id": "1eFOI8qIR-Yb"
      }
    },
    {
      "cell_type": "code",
      "source": [
        "try:\n",
        "    num = int(input(\"Enter a number: \"))\n",
        "    result = 10 / num\n",
        "except ValueError:\n",
        "    print(\"That's not a valid number!\")\n",
        "except ZeroDivisionError:\n",
        "    print(\"Cannot divide by zero!\")\n"
      ],
      "metadata": {
        "colab": {
          "base_uri": "https://localhost:8080/"
        },
        "id": "G7h21o1tR657",
        "outputId": "e302ee25-5ecc-4460-d639-a6222b619e06"
      },
      "execution_count": 34,
      "outputs": [
        {
          "name": "stdout",
          "output_type": "stream",
          "text": [
            "Enter a number: 98\n"
          ]
        }
      ]
    },
    {
      "cell_type": "markdown",
      "source": [
        "else — runs if no exception occurred"
      ],
      "metadata": {
        "id": "jhqDhU7USInV"
      }
    },
    {
      "cell_type": "code",
      "source": [
        "try:\n",
        "    num = int(input(\"Enter a number: \"))\n",
        "except ValueError:\n",
        "    print(\"Invalid number!\")\n",
        "else:\n",
        "    print(f\"You entered {num}, all good!\")\n"
      ],
      "metadata": {
        "colab": {
          "base_uri": "https://localhost:8080/"
        },
        "id": "JUFHqb1iSA1S",
        "outputId": "9d26e19c-4836-47b6-f055-1cc0441b7392"
      },
      "execution_count": 38,
      "outputs": [
        {
          "output_type": "stream",
          "name": "stdout",
          "text": [
            "Enter a number: 87\n",
            "You entered 87, all good!\n"
          ]
        }
      ]
    },
    {
      "cell_type": "markdown",
      "source": [
        "finally — always runs, whether exception occurred or not\n",
        "Good for cleanup (closing files, releasing resources):"
      ],
      "metadata": {
        "id": "RzoNSKonSaOy"
      }
    },
    {
      "cell_type": "code",
      "source": [
        "file = None  # Initialize file to None\n",
        "try:\n",
        "    file = open(\"data.txt\", \"r\")\n",
        "    data = file.read()\n",
        "except FileNotFoundError:\n",
        "    print(\"File not found.\")\n",
        "else:\n",
        "    print(\"File read successfully.\")\n",
        "finally:\n",
        "    if file is not None: # Check if file was opened\n",
        "        file.close()\n",
        "        print(\"File closed.\")"
      ],
      "metadata": {
        "colab": {
          "base_uri": "https://localhost:8080/"
        },
        "id": "EXCOBOhESM5I",
        "outputId": "f4406e9b-0f32-4ee5-aaf7-e16bef9189fe"
      },
      "execution_count": 40,
      "outputs": [
        {
          "output_type": "stream",
          "name": "stdout",
          "text": [
            "File not found.\n"
          ]
        }
      ]
    },
    {
      "cell_type": "markdown",
      "source": [
        "#Handling Multiple Exceptions\n",
        "When a block of code can raise different kinds of exceptions, you can catch them separately or together."
      ],
      "metadata": {
        "id": "MaZSphGaTERF"
      }
    },
    {
      "cell_type": "markdown",
      "source": [
        "Catch different exceptions with separate except blocks"
      ],
      "metadata": {
        "id": "qDr9EVStTIvS"
      }
    },
    {
      "cell_type": "code",
      "source": [
        "try:\n",
        "    num = int(input(\"Enter a number: \"))\n",
        "    result = 10 / num\n",
        "except ValueError:\n",
        "    print(\"Invalid input! Please enter a number.\")\n",
        "except ZeroDivisionError:\n",
        "    print(\"Oops! You can't divide by zero.\")\n"
      ],
      "metadata": {
        "colab": {
          "base_uri": "https://localhost:8080/"
        },
        "id": "IbXRhLPeSgMT",
        "outputId": "305b5264-4c3b-4e33-f4c3-4f2248e8686b"
      },
      "execution_count": 41,
      "outputs": [
        {
          "name": "stdout",
          "output_type": "stream",
          "text": [
            "Enter a number: 98\n"
          ]
        }
      ]
    },
    {
      "cell_type": "markdown",
      "source": [
        " Catch multiple exceptions in a single except block"
      ],
      "metadata": {
        "id": "09n3XmXLTRFN"
      }
    },
    {
      "cell_type": "code",
      "source": [
        "try:\n",
        "    num = int(input(\"Enter a number: \"))\n",
        "    result = 10 / num\n",
        "except (ValueError, ZeroDivisionError):\n",
        "    print(\"Either you didn't enter a valid number or tried to divide by zero.\")\n"
      ],
      "metadata": {
        "colab": {
          "base_uri": "https://localhost:8080/"
        },
        "id": "h8cIRGqcTLcS",
        "outputId": "418ea185-31c3-4ac2-fbb7-59abf2a6a4c0"
      },
      "execution_count": 42,
      "outputs": [
        {
          "name": "stdout",
          "output_type": "stream",
          "text": [
            "Enter a number: 76\n"
          ]
        }
      ]
    },
    {
      "cell_type": "markdown",
      "source": [
        "Catch all exceptions (not recommended unless necessary)"
      ],
      "metadata": {
        "id": "eDRXh57QTXeg"
      }
    },
    {
      "cell_type": "code",
      "source": [
        "try:\n",
        "    # risky code\n",
        "    pass\n",
        "except Exception as e:\n",
        "    print(f\"An error occurred: {e}\")\n"
      ],
      "metadata": {
        "id": "ZJVQFso6TTi-"
      },
      "execution_count": 43,
      "outputs": []
    },
    {
      "cell_type": "markdown",
      "source": [
        "Example"
      ],
      "metadata": {
        "id": "s9t6-ve9Tcam"
      }
    },
    {
      "cell_type": "code",
      "source": [
        "def divide_numbers():\n",
        "    try:\n",
        "        x = int(input(\"Enter numerator: \"))\n",
        "        y = int(input(\"Enter denominator: \"))\n",
        "        result = x / y\n",
        "    except ValueError:\n",
        "        print(\"Error: Please enter valid integers.\")\n",
        "    except ZeroDivisionError:\n",
        "        print(\"Error: Cannot divide by zero.\")\n",
        "    else:\n",
        "        print(f\"Result is {result}\")\n",
        "    finally:\n",
        "        print(\"Execution complete.\")\n",
        "\n",
        "divide_numbers()\n"
      ],
      "metadata": {
        "colab": {
          "base_uri": "https://localhost:8080/"
        },
        "id": "94JrIHVXTadd",
        "outputId": "9c311e86-dc0a-4fd4-d148-a687189dcc3d"
      },
      "execution_count": 44,
      "outputs": [
        {
          "output_type": "stream",
          "name": "stdout",
          "text": [
            "Enter numerator: 78\n",
            "Enter denominator: 56\n",
            "Result is 1.3928571428571428\n",
            "Execution complete.\n"
          ]
        }
      ]
    },
    {
      "cell_type": "markdown",
      "source": [
        "#raise Statement"
      ],
      "metadata": {
        "id": "UfOCKhzFTlm8"
      }
    },
    {
      "cell_type": "markdown",
      "source": [
        "| Purpose               | Example                       |\n",
        "| --------------------- | ----------------------------- |\n",
        "| Raise built-in error  | `raise ValueError(\"message\")` |\n",
        "| Raise custom error    | `raise MyError(\"message\")`    |\n",
        "| Re-raise caught error | `raise` inside except block   |\n"
      ],
      "metadata": {
        "id": "yuLB3LTCUnsU"
      }
    },
    {
      "cell_type": "markdown",
      "source": [
        "The raise Statement in Python\n",
        "\n",
        "The raise statement is used to manually trigger (raise) an exception.\n",
        "\n",
        "Why use raise?\n",
        "\n",
        "To signal that an error or unusual situation has happened.\n",
        "\n",
        "To enforce certain conditions or validation.\n",
        "\n",
        "To propagate an error after catching it (re-raise)."
      ],
      "metadata": {
        "id": "v5Bs2Ur4TtX1"
      }
    },
    {
      "cell_type": "code",
      "source": [
        "def check_age(age):\n",
        "    if age > 18:\n",
        "        raise ValueError(\"Age must be at least 18.\")\n",
        "    print(\"Age is valid.\")\n",
        "\n",
        "check_age(15)\n"
      ],
      "metadata": {
        "colab": {
          "base_uri": "https://localhost:8080/"
        },
        "id": "aCnxf4xZTeXV",
        "outputId": "2269f91e-0b56-4343-9ad1-ba7f28d627b2"
      },
      "execution_count": 47,
      "outputs": [
        {
          "output_type": "stream",
          "name": "stdout",
          "text": [
            "Age is valid.\n"
          ]
        }
      ]
    },
    {
      "cell_type": "markdown",
      "source": [
        "Raising a custom exception:"
      ],
      "metadata": {
        "id": "LMcq7qt6ULCs"
      }
    },
    {
      "cell_type": "code",
      "source": [
        "class MyError(Exception):\n",
        "    pass\n",
        "\n",
        "def do_something(flag):\n",
        "    if not flag:\n",
        "        raise MyError(\"Flag must be True!\")\n",
        "\n",
        "print(do_something(True))\n"
      ],
      "metadata": {
        "colab": {
          "base_uri": "https://localhost:8080/"
        },
        "id": "ZzP0qYpsTx-i",
        "outputId": "622110ad-d7b3-4c0e-9b15-60bf50522b33"
      },
      "execution_count": 51,
      "outputs": [
        {
          "output_type": "stream",
          "name": "stdout",
          "text": [
            "None\n"
          ]
        }
      ]
    },
    {
      "cell_type": "markdown",
      "source": [
        "Re-raising an exception\n",
        "You can catch an exception and then raise it again:"
      ],
      "metadata": {
        "id": "iEc0BmWMUhbl"
      }
    },
    {
      "cell_type": "code",
      "source": [
        "try:\n",
        "    x = int(input(\"Enter a number: \"))\n",
        "    if x < 0:\n",
        "        raise ValueError(\"Negative number not allowed\")\n",
        "except ValueError as e:\n",
        "    print(f\"Caught an error: {e}\")\n",
        "    raise  # re-raise the same exception\n"
      ],
      "metadata": {
        "colab": {
          "base_uri": "https://localhost:8080/"
        },
        "id": "4u5EShSHUOMf",
        "outputId": "7fa8ddc2-ca42-46cc-ca30-ec3ea7ab2ef0"
      },
      "execution_count": 52,
      "outputs": [
        {
          "name": "stdout",
          "output_type": "stream",
          "text": [
            "Enter a number: 84\n"
          ]
        }
      ]
    },
    {
      "cell_type": "markdown",
      "source": [
        "#What is a Custom Exception?\n",
        "Python already has many built-in exceptions (ValueError, TypeError, ZeroDivisionError, etc.).\n",
        "\n",
        "But sometimes you need to define your own exception to handle a specific type of error in your program.\n",
        "\n",
        "Custom exceptions are classes that usually inherit from Exception or a subclass of it.\n",
        "\n",
        "1. Creating a Simple Custom Exception"
      ],
      "metadata": {
        "id": "9RozpRi7U56R"
      }
    },
    {
      "cell_type": "code",
      "source": [
        "class NegativeNumberError(Exception):\n",
        "    \"\"\"Raised when a number is negative.\"\"\"\n",
        "    pass\n",
        "\n",
        "def check_number(num):\n",
        "    if num < 0:\n",
        "        raise NegativeNumberError(\"Negative numbers are not allowed!\")\n",
        "    print(\"Number is valid.\")\n",
        "\n",
        "# Example usage\n",
        "try:\n",
        "    check_number(-5)\n",
        "except NegativeNumberError as e:\n",
        "    print(f\"Caught custom exception: {e}\")\n"
      ],
      "metadata": {
        "colab": {
          "base_uri": "https://localhost:8080/"
        },
        "id": "V0YxdUJ5Ujw_",
        "outputId": "e7807e4e-e4b5-40d0-fe85-dd359fdf163c"
      },
      "execution_count": 53,
      "outputs": [
        {
          "output_type": "stream",
          "name": "stdout",
          "text": [
            "Caught custom exception: Negative numbers are not allowed!\n"
          ]
        }
      ]
    },
    {
      "cell_type": "markdown",
      "source": [
        "Custom Exception with Additional Attributes"
      ],
      "metadata": {
        "id": "EzVGyT-5VHi4"
      }
    },
    {
      "cell_type": "code",
      "source": [
        "class AgeError(Exception):\n",
        "    def __init__(self, age, message=\"Invalid age\"):\n",
        "        self.age = age\n",
        "        self.message = message\n",
        "        super().__init__(self.message)\n",
        "\n",
        "def validate_age(age):\n",
        "    if age < 18:\n",
        "        raise AgeError(age, \"Age must be at least 18.\")\n",
        "    print(\"Age is valid.\")\n",
        "\n",
        "try:\n",
        "    validate_age(15)\n",
        "except AgeError as e:\n",
        "    print(f\"Error: {e.message}, Age: {e.age}\")\n"
      ],
      "metadata": {
        "colab": {
          "base_uri": "https://localhost:8080/"
        },
        "id": "t5gesZ9mVDP-",
        "outputId": "d9b74bd5-0212-4c94-bc0d-c68159916870"
      },
      "execution_count": 54,
      "outputs": [
        {
          "output_type": "stream",
          "name": "stdout",
          "text": [
            "Error: Age must be at least 18., Age: 15\n"
          ]
        }
      ]
    },
    {
      "cell_type": "markdown",
      "source": [
        "Multiple Custom Exceptions\n",
        "You can define a hierarchy of exceptions for more specific handling."
      ],
      "metadata": {
        "id": "GgjMhk1dVMmz"
      }
    },
    {
      "cell_type": "code",
      "source": [
        "class AppError(Exception):\n",
        "    \"\"\"Base class for application errors\"\"\"\n",
        "    pass\n",
        "\n",
        "class DatabaseError(AppError):\n",
        "    \"\"\"Raised when a database error occurs\"\"\"\n",
        "    pass\n",
        "\n",
        "class ValidationError(AppError):\n",
        "    \"\"\"Raised when validation fails\"\"\"\n",
        "    pass\n",
        "\n",
        "try:\n",
        "    raise ValidationError(\"Invalid data format\")\n",
        "except ValidationError as e:\n",
        "    print(f\"Validation failed: {e}\")\n",
        "except DatabaseError as e:\n",
        "    print(f\"Database issue: {e}\")\n"
      ],
      "metadata": {
        "colab": {
          "base_uri": "https://localhost:8080/"
        },
        "id": "aCyT515jVJcd",
        "outputId": "94246ab2-6f03-4ac6-d547-54dec8c0bfba"
      },
      "execution_count": 55,
      "outputs": [
        {
          "output_type": "stream",
          "name": "stdout",
          "text": [
            "Validation failed: Invalid data format\n"
          ]
        }
      ]
    },
    {
      "cell_type": "markdown",
      "source": [
        "#What is OOP?\n",
        "OOP is a way of structuring programs by bundling data (attributes) and behavior (methods) into objects.\n",
        "\n",
        "\n",
        "\n",
        "| Term          | Meaning                        |\n",
        "| ------------- | ------------------------------ |\n",
        "| **Class**     | Blueprint for creating objects |\n",
        "| **Object**    | Instance of a class            |\n",
        "| **Attribute** | Variable inside a class/object |\n",
        "| **Method**    | Function inside a class        |\n"
      ],
      "metadata": {
        "id": "bdOO7scSVbs6"
      }
    },
    {
      "cell_type": "markdown",
      "source": [
        "Creating a Class\n",
        "\n",
        "\n",
        "A class is like a blueprint for creating objects."
      ],
      "metadata": {
        "id": "k9g_HIA4Vo0O"
      }
    },
    {
      "cell_type": "code",
      "source": [
        "class Person:\n",
        "    # Constructor (initializer)\n",
        "    def __init__(self, name, age):\n",
        "        self.name = name  # Attribute\n",
        "        self.age = age\n",
        "\n",
        "    # Method\n",
        "    def greet(self):\n",
        "        print(f\"Hello, my name is {self.name} and I'm {self.age} years old.\")\n"
      ],
      "metadata": {
        "id": "Pr4zOeaMVPIv"
      },
      "execution_count": 56,
      "outputs": []
    },
    {
      "cell_type": "markdown",
      "source": [
        "Creating an Object (Instance)"
      ],
      "metadata": {
        "id": "EjrQopLUVyvJ"
      }
    },
    {
      "cell_type": "markdown",
      "source": [
        "\n",
        "An object is an instance of a class."
      ],
      "metadata": {
        "id": "N22znFOjV3AW"
      }
    },
    {
      "cell_type": "code",
      "source": [
        "# Create object\n",
        "person1 = Person(\"Manoj\", 25)\n",
        "person2 = Person(\"Ravi\", 30)\n",
        "\n",
        "# Access attributes\n",
        "print(person1.name)  # Output: Manoj\n",
        "print(person2.age)   # Output: 30\n",
        "\n",
        "# Call method\n",
        "person1.greet()  # Output: Hello, my name is Manoj and I'm 25 years old.\n"
      ],
      "metadata": {
        "colab": {
          "base_uri": "https://localhost:8080/"
        },
        "id": "U-liGd-BVrd_",
        "outputId": "125fd821-3c43-46bf-870a-72b91b3f76e3"
      },
      "execution_count": 57,
      "outputs": [
        {
          "output_type": "stream",
          "name": "stdout",
          "text": [
            "Manoj\n",
            "30\n",
            "Hello, my name is Manoj and I'm 25 years old.\n"
          ]
        }
      ]
    },
    {
      "cell_type": "markdown",
      "source": [
        "Class vs. Instance Attributes"
      ],
      "metadata": {
        "id": "iLj2o7llWEjT"
      }
    },
    {
      "cell_type": "code",
      "source": [
        "class Dog:\n",
        "    species = \"Canis familiaris\"  # Class attribute\n",
        "\n",
        "    def __init__(self, name):\n",
        "        self.name = name  # Instance attribute\n",
        "\n",
        "dog1 = Dog(\"Buddy\")\n",
        "dog2 = Dog(\"Max\")\n",
        "\n",
        "print(dog1.species)  # Output: Canis familiaris\n",
        "print(dog1.name)     # Output: Buddy\n"
      ],
      "metadata": {
        "colab": {
          "base_uri": "https://localhost:8080/"
        },
        "id": "PqC470hEV7Bm",
        "outputId": "d1aef0bc-e479-4172-da8a-46a3e249c97f"
      },
      "execution_count": 58,
      "outputs": [
        {
          "output_type": "stream",
          "name": "stdout",
          "text": [
            "Canis familiaris\n",
            "Buddy\n"
          ]
        }
      ]
    },
    {
      "cell_type": "markdown",
      "source": [
        "Adding Methods"
      ],
      "metadata": {
        "id": "4sn8vCfOWKqG"
      }
    },
    {
      "cell_type": "code",
      "source": [
        "class Calculator:\n",
        "    def add(self, a, b):\n",
        "        return a + b\n",
        "\n",
        "calc = Calculator()\n",
        "print(calc.add(5, 3))  # Output: 8\n"
      ],
      "metadata": {
        "colab": {
          "base_uri": "https://localhost:8080/"
        },
        "id": "vcAtWBDnWHPD",
        "outputId": "06de2851-fd89-436f-8de1-7618a121813d"
      },
      "execution_count": 59,
      "outputs": [
        {
          "output_type": "stream",
          "name": "stdout",
          "text": [
            "8\n"
          ]
        }
      ]
    },
    {
      "cell_type": "markdown",
      "source": [
        "Updating Attributes"
      ],
      "metadata": {
        "id": "HdX2NXnaWPY8"
      }
    },
    {
      "cell_type": "code",
      "source": [
        "person1.age = 26  # Change attribute\n",
        "person1.greet()   # Output: Hello, my name is Manoj and I'm 26 years old.\n"
      ],
      "metadata": {
        "colab": {
          "base_uri": "https://localhost:8080/"
        },
        "id": "pySrIDahWM_H",
        "outputId": "ab7125dd-3740-49d8-b347-67f0be1a2ecb"
      },
      "execution_count": 60,
      "outputs": [
        {
          "output_type": "stream",
          "name": "stdout",
          "text": [
            "Hello, my name is Manoj and I'm 26 years old.\n"
          ]
        }
      ]
    },
    {
      "cell_type": "markdown",
      "source": [
        "What is __init__?\n",
        "\n",
        "__init__ is a special method in Python classes.\n",
        "\n",
        "It’s called automatically whenever a new object is created.\n",
        "\n",
        "It’s used to initialize object attributes (set up the object’s initial state)."
      ],
      "metadata": {
        "id": "1m-3flxzXZCN"
      }
    },
    {
      "cell_type": "code",
      "source": [
        "class Person:\n",
        "    def __init__(self, name, age):\n",
        "        self.name = name  # Instance attribute\n",
        "        self.age = age\n",
        "\n",
        "    def greet(self):\n",
        "        print(f\"Hi, I'm {self.name} and I'm {self.age} years old.\")\n",
        "\n",
        "# Creating an object calls __init__ automatically\n",
        "p1 = Person(\"Manoj\", 25)\n",
        "p1.greet()\n"
      ],
      "metadata": {
        "colab": {
          "base_uri": "https://localhost:8080/"
        },
        "id": "hKF1ouDtWR1T",
        "outputId": "f7f54cca-993d-433a-cb24-e06e15e96a8d"
      },
      "execution_count": 61,
      "outputs": [
        {
          "output_type": "stream",
          "name": "stdout",
          "text": [
            "Hi, I'm Manoj and I'm 25 years old.\n"
          ]
        }
      ]
    },
    {
      "cell_type": "markdown",
      "source": [
        "Example with Default Values\n",
        "\n"
      ],
      "metadata": {
        "id": "4gGGluPLeMeT"
      }
    },
    {
      "cell_type": "code",
      "source": [
        "class Car:\n",
        "    def __init__(self, brand=\"Unknown\", year=2020):\n",
        "        self.brand = brand\n",
        "        self.year = year\n",
        "\n",
        "car1 = Car(\"Toyota\", 2023)\n",
        "car2 = Car()  # Uses default values\n",
        "\n",
        "print(car1.brand, car1.year)  # Toyota 2023\n",
        "print(car2.brand, car2.year)  # Unknown 2020\n"
      ],
      "metadata": {
        "colab": {
          "base_uri": "https://localhost:8080/"
        },
        "id": "ZrOrIOHydlSC",
        "outputId": "7ac0570c-9141-4d0f-f631-48ce76f20b6c"
      },
      "execution_count": 62,
      "outputs": [
        {
          "output_type": "stream",
          "name": "stdout",
          "text": [
            "Toyota 2023\n",
            "Unknown 2020\n"
          ]
        }
      ]
    },
    {
      "cell_type": "markdown",
      "source": [
        "#Instance Variables\n",
        "\n",
        "Belong to each object (instance) of the class.\n",
        "\n",
        "Defined inside __init__ using self.\n",
        "\n",
        "Each object gets its own copy of the variable.\n",
        "\n",
        "Changing in one object does not affect others.\n",
        "\n",
        "Example:"
      ],
      "metadata": {
        "id": "mdjec_ITe9LB"
      }
    },
    {
      "cell_type": "markdown",
      "source": [
        "| Feature       | Instance Variable             | Class Variable               |\n",
        "| ------------- | ----------------------------- | ---------------------------- |\n",
        "| Defined in    | `__init__` (with `self`)      | Class body (outside methods) |\n",
        "| Belongs to    | Specific object               | Class itself                 |\n",
        "| Storage       | Separate copy for each object | Shared single copy           |\n",
        "| Change effect | Affects only that object      | Affects all objects          |\n",
        "\n"
      ],
      "metadata": {
        "id": "2T7Xrnfbfc66"
      }
    },
    {
      "cell_type": "code",
      "source": [
        "class Dog:\n",
        "    def __init__(self, name):\n",
        "        self.name = name  # Instance variable\n",
        "\n",
        "dog1 = Dog(\"Buddy\")\n",
        "dog2 = Dog(\"Max\")\n",
        "\n",
        "dog1.name = \"Charlie\"  # Change only dog1's name\n",
        "\n",
        "print(dog1.name)  # Charlie\n",
        "print(dog2.name)  # Max\n"
      ],
      "metadata": {
        "colab": {
          "base_uri": "https://localhost:8080/"
        },
        "id": "hgYLIUN9ePqI",
        "outputId": "e5ece3ef-1a41-4887-9e0e-cb98f1e2a706"
      },
      "execution_count": 63,
      "outputs": [
        {
          "output_type": "stream",
          "name": "stdout",
          "text": [
            "Charlie\n",
            "Max\n"
          ]
        }
      ]
    },
    {
      "cell_type": "markdown",
      "source": [
        "2. Class Variables\n",
        "\n",
        "Shared across all instances of the class.\n",
        "\n",
        "Defined outside any method in the class body.\n",
        "\n",
        "Changing via the class name affects all objects.\n",
        "\n",
        "Example:\n"
      ],
      "metadata": {
        "id": "bpU9X8JQfJTi"
      }
    },
    {
      "cell_type": "code",
      "source": [
        "class Dog:\n",
        "    species = \"Canis familiaris\"  # Class variable\n",
        "\n",
        "    def __init__(self, name):\n",
        "        self.name = name  # Instance variable\n",
        "\n",
        "dog1 = Dog(\"Buddy\")\n",
        "dog2 = Dog(\"Max\")\n",
        "\n",
        "print(dog1.species)  # Canis familiaris\n",
        "print(dog2.species)  # Canis familiaris\n",
        "\n",
        "Dog.species = \"Canis lupus familiaris\"  # Change for all\n",
        "print(dog1.species)  # Canis lupus familiaris\n",
        "print(dog2.species)  # Canis lupus familiaris\n"
      ],
      "metadata": {
        "colab": {
          "base_uri": "https://localhost:8080/"
        },
        "id": "O1Mz4umXfD1q",
        "outputId": "183acb95-31a5-4061-b37a-0bd6bc7e081e"
      },
      "execution_count": 64,
      "outputs": [
        {
          "output_type": "stream",
          "name": "stdout",
          "text": [
            "Canis familiaris\n",
            "Canis familiaris\n",
            "Canis lupus familiaris\n",
            "Canis lupus familiaris\n"
          ]
        }
      ]
    },
    {
      "cell_type": "markdown",
      "source": [
        "Instance vs Class Variable in One Class"
      ],
      "metadata": {
        "id": "JARSPeDbfRfe"
      }
    },
    {
      "cell_type": "code",
      "source": [
        "class Car:\n",
        "    wheels = 4  # Class variable (same for all)\n",
        "\n",
        "    def __init__(self, color):\n",
        "        self.color = color  # Instance variable\n",
        "\n",
        "car1 = Car(\"Red\")\n",
        "car2 = Car(\"Blue\")\n",
        "\n",
        "print(car1.color, car1.wheels)  # Red 4\n",
        "print(car2.color, car2.wheels)  # Blue 4\n",
        "\n",
        "Car.wheels = 6  # Change for all\n",
        "print(car1.wheels, car2.wheels)  # 6 6\n"
      ],
      "metadata": {
        "colab": {
          "base_uri": "https://localhost:8080/"
        },
        "id": "-GngzLmpfNx6",
        "outputId": "122c7580-a8d1-4008-feb3-0a51edf7b8d0"
      },
      "execution_count": 65,
      "outputs": [
        {
          "output_type": "stream",
          "name": "stdout",
          "text": [
            "Red 4\n",
            "Blue 4\n",
            "6 6\n"
          ]
        }
      ]
    },
    {
      "cell_type": "markdown",
      "source": [
        "#What is Inheritance?\n",
        "Inheritance lets you create a new class from an existing class so the child class automatically inherits attributes & methods from the parent class.\n",
        "\n",
        "Benefits:\n",
        "\n",
        "Reuse code (don’t rewrite common features).\n",
        "\n",
        "Extend or modify existing behavior.\n",
        "\n",
        "Build hierarchical relationships."
      ],
      "metadata": {
        "id": "l0QeWl8igaX9"
      }
    },
    {
      "cell_type": "code",
      "source": [
        "class Parent:\n",
        "    def greet(self):\n",
        "        print(\"Hello from Parent\")\n",
        "\n",
        "class Child(Parent):  # Inheriting Parent\n",
        "    pass\n",
        "\n",
        "obj = Child()\n",
        "obj.greet()  # Output: Hello from Parent\n"
      ],
      "metadata": {
        "colab": {
          "base_uri": "https://localhost:8080/"
        },
        "id": "2BCEPo1WgIEu",
        "outputId": "3fd7910a-9f3c-4f90-9e3d-630df8d01fd1"
      },
      "execution_count": 68,
      "outputs": [
        {
          "output_type": "stream",
          "name": "stdout",
          "text": [
            "Hello from Parent\n"
          ]
        }
      ]
    },
    {
      "cell_type": "markdown",
      "source": [
        "Method Overriding\n",
        "\n",
        "Child can replace a method from Parent.\n",
        "\n",
        "\n",
        "\n"
      ],
      "metadata": {
        "id": "NWj0zWjBgeed"
      }
    },
    {
      "cell_type": "code",
      "source": [
        "class Parent:\n",
        "    def greet(self):\n",
        "        print(\"Hello from Parent\")\n",
        "\n",
        "class Child(Parent):\n",
        "    def greet(self):\n",
        "        print(\"Hello from Child\")\n",
        "\n",
        "obj = Child()\n",
        "obj.greet()  # Output: Hello from Child\n"
      ],
      "metadata": {
        "colab": {
          "base_uri": "https://localhost:8080/"
        },
        "id": "bnAPWq6-gd0b",
        "outputId": "23751f09-4a84-46dd-b08a-13edc43cc444"
      },
      "execution_count": 69,
      "outputs": [
        {
          "output_type": "stream",
          "name": "stdout",
          "text": [
            "Hello from Child\n"
          ]
        }
      ]
    },
    {
      "cell_type": "markdown",
      "source": [
        "super() — Call Parent Methods"
      ],
      "metadata": {
        "id": "xYYXmcnMgoG4"
      }
    },
    {
      "cell_type": "code",
      "source": [
        "class Parent:\n",
        "    def __init__(self, name):\n",
        "        self.name = name\n",
        "\n",
        "class Child(Parent):\n",
        "    def __init__(self, name, age):\n",
        "        super().__init__(name)  # Calls Parent's __init__\n",
        "        self.age = age\n",
        "\n",
        "c = Child(\"Manoj\", 25)\n",
        "print(c.name, c.age)  # Manoj 25\n"
      ],
      "metadata": {
        "colab": {
          "base_uri": "https://localhost:8080/"
        },
        "id": "2ZHVnc3bglhd",
        "outputId": "78d74fa8-14cc-4a6a-b265-0cf9b3cc48c4"
      },
      "execution_count": 70,
      "outputs": [
        {
          "output_type": "stream",
          "name": "stdout",
          "text": [
            "Manoj 25\n"
          ]
        }
      ]
    },
    {
      "cell_type": "markdown",
      "source": [
        "Types of Inheritance in Python\n",
        "\n",
        "(a) Single Inheritance\n",
        "\n",
        "One parent → one child."
      ],
      "metadata": {
        "id": "93H_WOjJgtap"
      }
    },
    {
      "cell_type": "code",
      "source": [
        "class Animal:\n",
        "    def speak(self):\n",
        "        print(\"Animal speaks\")\n",
        "\n",
        "class Dog(Animal):\n",
        "    def bark(self):\n",
        "        print(\"Dog barks\")\n",
        "\n",
        "d = Dog()\n",
        "d.speak()\n",
        "d.bark()\n"
      ],
      "metadata": {
        "colab": {
          "base_uri": "https://localhost:8080/"
        },
        "id": "ZVaRH1x5gqYr",
        "outputId": "377e2c52-604d-45df-e8d8-7ca137b618b3"
      },
      "execution_count": 71,
      "outputs": [
        {
          "output_type": "stream",
          "name": "stdout",
          "text": [
            "Animal speaks\n",
            "Dog barks\n"
          ]
        }
      ]
    },
    {
      "cell_type": "markdown",
      "source": [
        "Multiple Inheritance\n",
        "\n",
        "Child inherits from two or more parents."
      ],
      "metadata": {
        "id": "54R_6htkg_s4"
      }
    },
    {
      "cell_type": "code",
      "source": [
        "class Father:\n",
        "    def skill(self):\n",
        "        print(\"Father's skill: Driving\")\n",
        "\n",
        "class Mother:\n",
        "    def hobby(self):\n",
        "        print(\"Mother's hobby: Painting\")\n",
        "\n",
        "class Child(Father, Mother):\n",
        "    pass\n",
        "\n",
        "c = Child()\n",
        "c.skill()\n",
        "c.hobby()\n"
      ],
      "metadata": {
        "colab": {
          "base_uri": "https://localhost:8080/"
        },
        "id": "eBcQOQLHgyTo",
        "outputId": "b6c61aac-10ae-4a17-f11a-16a4b5f0e186"
      },
      "execution_count": 72,
      "outputs": [
        {
          "output_type": "stream",
          "name": "stdout",
          "text": [
            "Father's skill: Driving\n",
            "Mother's hobby: Painting\n"
          ]
        }
      ]
    },
    {
      "cell_type": "markdown",
      "source": [
        "Multilevel Inheritance\n",
        "\n",
        "Grandparent → Parent → Child."
      ],
      "metadata": {
        "id": "5Fsw0CeIhddT"
      }
    },
    {
      "cell_type": "code",
      "source": [
        "class Grandparent:\n",
        "    def greet(self):\n",
        "        print(\"Hello from Grandparent\")\n",
        "\n",
        "class Parent(Grandparent):\n",
        "    pass\n",
        "\n",
        "class Child(Parent):\n",
        "    pass\n",
        "\n",
        "c = Child()\n",
        "c.greet()\n"
      ],
      "metadata": {
        "colab": {
          "base_uri": "https://localhost:8080/"
        },
        "id": "RTPMJChthShW",
        "outputId": "34e767bc-32b4-4009-cf63-8fd0e917a9a0"
      },
      "execution_count": 73,
      "outputs": [
        {
          "output_type": "stream",
          "name": "stdout",
          "text": [
            "Hello from Grandparent\n"
          ]
        }
      ]
    },
    {
      "cell_type": "markdown",
      "source": [
        "Hierarchical Inheritance\n",
        "\n",
        "One parent → multiple children"
      ],
      "metadata": {
        "id": "oFIZxIJHhn11"
      }
    },
    {
      "cell_type": "code",
      "source": [
        "class Vehicle:\n",
        "    def start(self):\n",
        "        print(\"Vehicle starts\")\n",
        "\n",
        "class Car(Vehicle):\n",
        "    pass\n",
        "\n",
        "class Bike(Vehicle):\n",
        "    pass\n",
        "\n",
        "car = Car()\n",
        "bike = Bike()\n",
        "car.start()\n",
        "bike.start()\n"
      ],
      "metadata": {
        "colab": {
          "base_uri": "https://localhost:8080/"
        },
        "id": "BPf3NTRqhiN3",
        "outputId": "8e87264a-8162-49b9-c8ec-93094cb36352"
      },
      "execution_count": 74,
      "outputs": [
        {
          "output_type": "stream",
          "name": "stdout",
          "text": [
            "Vehicle starts\n",
            "Vehicle starts\n"
          ]
        }
      ]
    },
    {
      "cell_type": "markdown",
      "source": [
        "Hybrid Inheritance\n",
        "\n",
        "Combination of multiple inheritance types."
      ],
      "metadata": {
        "id": "SlSr0jeoh8BL"
      }
    },
    {
      "cell_type": "code",
      "source": [
        "class A:\n",
        "    def method_a(self):\n",
        "        print(\"Method A\")\n",
        "\n",
        "class B(A):\n",
        "    def method_b(self):\n",
        "        print(\"Method B\")\n",
        "\n",
        "class C:\n",
        "    def method_c(self):\n",
        "        print(\"Method C\")\n",
        "\n",
        "class D(B, C):\n",
        "    pass\n",
        "\n",
        "d = D()\n",
        "d.method_a()\n",
        "d.method_b()\n",
        "d.method_c()\n"
      ],
      "metadata": {
        "colab": {
          "base_uri": "https://localhost:8080/"
        },
        "id": "pY4lZFcTh5FR",
        "outputId": "bb6bc5bc-a281-4434-898f-0c45050a6cc9"
      },
      "execution_count": 75,
      "outputs": [
        {
          "output_type": "stream",
          "name": "stdout",
          "text": [
            "Method A\n",
            "Method B\n",
            "Method C\n"
          ]
        }
      ]
    },
    {
      "cell_type": "markdown",
      "source": [
        "Method Resolution Order (MRO)\n",
        "When using multiple inheritance, Python follows C3 Linearization to decide which class’s method to call"
      ],
      "metadata": {
        "id": "OjFaYO-riCHf"
      }
    },
    {
      "cell_type": "code",
      "source": [
        "print(D.mro())\n"
      ],
      "metadata": {
        "colab": {
          "base_uri": "https://localhost:8080/"
        },
        "id": "7JkslTO9h-tO",
        "outputId": "e5364ca1-0568-4faa-eda6-403d35c1f46c"
      },
      "execution_count": 76,
      "outputs": [
        {
          "output_type": "stream",
          "name": "stdout",
          "text": [
            "[<class '__main__.D'>, <class '__main__.B'>, <class '__main__.A'>, <class '__main__.C'>, <class 'object'>]\n"
          ]
        }
      ]
    },
    {
      "cell_type": "markdown",
      "source": [
        "# What is Polymorphism?\n",
        "The word Polymorphism means many forms.\n",
        "In Python OOP, it allows:\n",
        "\n",
        "Same function/method name to work differently for different classes or objects.\n",
        "\n",
        "Increases flexibility and code reuse.\n",
        "\n"
      ],
      "metadata": {
        "id": "X-3mAwyciPcC"
      }
    },
    {
      "cell_type": "markdown",
      "source": [
        " Types of Polymorphism in Python\n",
        "(a) Polymorphism with Functions\n",
        "Same function works with different types of objects."
      ],
      "metadata": {
        "id": "BzisscYTiXq2"
      }
    },
    {
      "cell_type": "code",
      "source": [
        "print(len(\"Python\"))   # String → 6\n",
        "print(len([1, 2, 3]))  # List → 3\n"
      ],
      "metadata": {
        "colab": {
          "base_uri": "https://localhost:8080/"
        },
        "id": "sH9sWuUniE7b",
        "outputId": "db84f11b-37b8-419d-edd3-d38af5da80ce"
      },
      "execution_count": 77,
      "outputs": [
        {
          "output_type": "stream",
          "name": "stdout",
          "text": [
            "6\n",
            "3\n"
          ]
        }
      ]
    },
    {
      "cell_type": "markdown",
      "source": [
        "Polymorphism with Class Methods\n",
        "Two or more classes have the same method name but different implementations."
      ],
      "metadata": {
        "id": "JFwhm2y-ikox"
      }
    },
    {
      "cell_type": "code",
      "source": [
        "class Dog:\n",
        "    def speak(self):\n",
        "        return \"Woof!\"\n",
        "\n",
        "class Cat:\n",
        "    def speak(self):\n",
        "        return \"Meow!\"\n",
        "\n",
        "for animal in [Dog(), Cat()]:\n",
        "    print(animal.speak())\n"
      ],
      "metadata": {
        "colab": {
          "base_uri": "https://localhost:8080/"
        },
        "id": "wsrgzWj6ibA4",
        "outputId": "2d80ac94-eb59-4086-fe2e-72abdf2a6c05"
      },
      "execution_count": 78,
      "outputs": [
        {
          "output_type": "stream",
          "name": "stdout",
          "text": [
            "Woof!\n",
            "Meow!\n"
          ]
        }
      ]
    },
    {
      "cell_type": "markdown",
      "source": [
        "Polymorphism with Inheritance (Method Overriding)"
      ],
      "metadata": {
        "id": "tfe9RCwtis0i"
      }
    },
    {
      "cell_type": "code",
      "source": [
        "class Animal:\n",
        "    def speak(self):\n",
        "        return \"Animal sound\"\n",
        "\n",
        "class Dog(Animal):\n",
        "    def speak(self):\n",
        "        return \"Bark\"\n",
        "\n",
        "class Cat(Animal):\n",
        "    def speak(self):\n",
        "        return \"Meow\"\n",
        "\n",
        "animals = [Dog(), Cat(), Animal()]\n",
        "for a in animals:\n",
        "    print(a.speak())\n"
      ],
      "metadata": {
        "colab": {
          "base_uri": "https://localhost:8080/"
        },
        "id": "WmPRzmhjioGj",
        "outputId": "67709e17-4600-48d6-b6ce-7f33fcbe7d9b"
      },
      "execution_count": 79,
      "outputs": [
        {
          "output_type": "stream",
          "name": "stdout",
          "text": [
            "Bark\n",
            "Meow\n",
            "Animal sound\n"
          ]
        }
      ]
    },
    {
      "cell_type": "markdown",
      "source": [
        "Polymorphism with super()\n",
        "\n",
        "You can extend the parent’s behavior.\n",
        "\n",
        "\n"
      ],
      "metadata": {
        "id": "kgSe8kPXjDuB"
      }
    },
    {
      "cell_type": "code",
      "source": [
        "class Shape:\n",
        "    def area(self):\n",
        "        return 0\n",
        "\n",
        "class Rectangle(Shape):\n",
        "    def __init__(self, w, h):\n",
        "        self.w = w\n",
        "        self.h = h\n",
        "    def area(self):\n",
        "        return super().area() + (self.w * self.h)\n",
        "\n",
        "r = Rectangle(5, 4)\n",
        "print(r.area())  # 20\n"
      ],
      "metadata": {
        "colab": {
          "base_uri": "https://localhost:8080/"
        },
        "id": "AF1rQpMrjALd",
        "outputId": "05316637-ebb1-4236-9355-d80c966e7a5e"
      },
      "execution_count": 80,
      "outputs": [
        {
          "output_type": "stream",
          "name": "stdout",
          "text": [
            "20\n"
          ]
        }
      ]
    },
    {
      "cell_type": "markdown",
      "source": [
        "Duck Typing\n",
        "\n",
        "Python doesn’t require strict type checking — if an object has the required method, it works."
      ],
      "metadata": {
        "id": "OdfTEHOnj3Ki"
      }
    },
    {
      "cell_type": "code",
      "source": [
        "class Bird:\n",
        "    def fly(self):\n",
        "        print(\"Bird flies\")\n",
        "\n",
        "class Airplane:\n",
        "    def fly(self):\n",
        "        print(\"Airplane flies\")\n",
        "\n",
        "def let_it_fly(thing):\n",
        "    thing.fly()\n",
        "\n",
        "let_it_fly(Bird())\n",
        "let_it_fly(Airplane())\n"
      ],
      "metadata": {
        "colab": {
          "base_uri": "https://localhost:8080/"
        },
        "id": "eFFn6YdljRp1",
        "outputId": "abd6833f-74bb-4c9f-f250-26ffd41fb7c7"
      },
      "execution_count": 81,
      "outputs": [
        {
          "output_type": "stream",
          "name": "stdout",
          "text": [
            "Bird flies\n",
            "Airplane flies\n"
          ]
        }
      ]
    },
    {
      "cell_type": "markdown",
      "source": [
        "#What is Encapsulation?\n",
        "Encapsulation means wrapping data (variables) and methods (functions) together inside a single unit (class) and restricting direct access to some of the object’s components.\n",
        "\n",
        "In Python:\n",
        "\n",
        "Encapsulation is used to protect data from outside interference.\n",
        "\n",
        "Access to data is controlled through public, protected, and private attributes."
      ],
      "metadata": {
        "id": "ml3SLe0OkGAF"
      }
    },
    {
      "cell_type": "markdown",
      "source": [
        "| Type          | Syntax Prefix | Accessible From                             |\n",
        "| ------------- | ------------- | ------------------------------------------- |\n",
        "| **Public**    | none          | Anywhere                                    |\n",
        "| **Protected** | `_`           | Within class and subclasses (by convention) |\n",
        "| **Private**   | `__`          | Only within the same class (name mangling)  |\n"
      ],
      "metadata": {
        "id": "PeVTOEsIkJ93"
      }
    },
    {
      "cell_type": "markdown",
      "source": [
        " Public Members\n",
        "\n",
        "Accessible from anywhere."
      ],
      "metadata": {
        "id": "6aZ1EH1jkTds"
      }
    },
    {
      "cell_type": "code",
      "source": [
        "class Car:\n",
        "    def __init__(self, brand):\n",
        "        self.brand = brand  # public\n",
        "\n",
        "car = Car(\"Toyota\")\n",
        "print(car.brand)  # Accessible\n"
      ],
      "metadata": {
        "colab": {
          "base_uri": "https://localhost:8080/"
        },
        "id": "iVb15meQj6Lo",
        "outputId": "1871fd11-f90b-4458-e6be-a8f65213743f"
      },
      "execution_count": 82,
      "outputs": [
        {
          "output_type": "stream",
          "name": "stdout",
          "text": [
            "Toyota\n"
          ]
        }
      ]
    },
    {
      "cell_type": "markdown",
      "source": [
        " Protected Members (_)\n",
        "\n",
        "By convention, should be accessed only in class & subclasses."
      ],
      "metadata": {
        "id": "y4LF-YS_kZIO"
      }
    },
    {
      "cell_type": "code",
      "source": [
        "class Car:\n",
        "    def __init__(self, brand):\n",
        "        self._brand = brand  # protected\n",
        "\n",
        "class SportsCar(Car):\n",
        "    def display(self):\n",
        "        print(f\"SportsCar brand: {self._brand}\")\n",
        "\n",
        "sc = SportsCar(\"Ferrari\")\n",
        "sc.display()\n",
        "print(sc._brand)  # Technically accessible, but not recommended\n"
      ],
      "metadata": {
        "colab": {
          "base_uri": "https://localhost:8080/"
        },
        "id": "8U2x63bOkWKi",
        "outputId": "6dc79ca7-2679-48d0-cd4e-91a42292584a"
      },
      "execution_count": 83,
      "outputs": [
        {
          "output_type": "stream",
          "name": "stdout",
          "text": [
            "SportsCar brand: Ferrari\n",
            "Ferrari\n"
          ]
        }
      ]
    },
    {
      "cell_type": "markdown",
      "source": [
        "Private Members (__)\n",
        "\n",
        "Not directly accessible — Python changes the name internally (name mangling)."
      ],
      "metadata": {
        "id": "KNqq13Pdkh-n"
      }
    },
    {
      "cell_type": "code",
      "source": [
        "class Car:\n",
        "    def __init__(self, brand):\n",
        "        self.__brand = brand  # private\n",
        "\n",
        "    def get_brand(self):\n",
        "        return self.__brand  # public getter\n",
        "\n",
        "c = Car(\"BMW\")\n",
        "# print(c.__brand)  # ❌ Error: AttributeError\n",
        "print(c.get_brand())  # ✅ BMW\n"
      ],
      "metadata": {
        "colab": {
          "base_uri": "https://localhost:8080/"
        },
        "id": "0UF80kMPkey3",
        "outputId": "10b0d10e-474d-4d8a-b4c5-ee3b69d9625e"
      },
      "execution_count": 84,
      "outputs": [
        {
          "output_type": "stream",
          "name": "stdout",
          "text": [
            "BMW\n"
          ]
        }
      ]
    },
    {
      "cell_type": "markdown",
      "source": [
        "Why Encapsulation?\n",
        "\n",
        "Data Hiding → Prevents accidental changes.\n",
        "\n",
        "Controlled Access → Use getters & setters to validate changes.\n",
        "\n",
        "Flexibility → Internal changes won’t affect external code."
      ],
      "metadata": {
        "id": "M7uaoKMTkw9m"
      }
    },
    {
      "cell_type": "markdown",
      "source": [
        "Example with Getters and Setters"
      ],
      "metadata": {
        "id": "LkGGwvzik3b7"
      }
    },
    {
      "cell_type": "code",
      "source": [
        "class BankAccount:\n",
        "    def __init__(self, owner, balance):\n",
        "        self.owner = owner\n",
        "        self.__balance = balance  # private\n",
        "\n",
        "    def deposit(self, amount):\n",
        "        if amount > 0:\n",
        "            self.__balance += amount\n",
        "\n",
        "    def withdraw(self, amount):\n",
        "        if 0 < amount <= self.__balance:\n",
        "            self.__balance -= amount\n",
        "\n",
        "    def get_balance(self):\n",
        "        return self.__balance\n",
        "\n",
        "acc = BankAccount(\"John\", 1000)\n",
        "acc.deposit(500)\n",
        "print(acc.get_balance())  # 1500\n"
      ],
      "metadata": {
        "colab": {
          "base_uri": "https://localhost:8080/"
        },
        "id": "VlG8PBnAkpYS",
        "outputId": "61cd7ae3-da4c-42d0-b6c0-a2ff19bdbef2"
      },
      "execution_count": 85,
      "outputs": [
        {
          "output_type": "stream",
          "name": "stdout",
          "text": [
            "1500\n"
          ]
        }
      ]
    },
    {
      "cell_type": "markdown",
      "source": [
        "#What is Abstraction?\n",
        "Abstraction means hiding the internal implementation details of a class/method and only exposing the necessary functionalities to the user.\n",
        "It focuses on what an object does rather than how it does it.\n",
        "\n",
        "In Python:\n",
        "\n",
        "We implement abstraction using the abc module (Abstract Base Classes).\n",
        "\n",
        "Abstract classes can have abstract methods (no implementation) and concrete methods (with implementation).\n",
        "\n"
      ],
      "metadata": {
        "id": "HaOML215lH3J"
      }
    },
    {
      "cell_type": "markdown",
      "source": [
        "Key Points\n",
        "Abstract Class → A class that cannot be instantiated.\n",
        "\n",
        "Abstract Method → A method declared but not defined in the base class — must be overridden in subclasses.\n",
        "\n",
        "Use @abstractmethod decorator from abc module.\n",
        "\n"
      ],
      "metadata": {
        "id": "_9K53BtAlMIC"
      }
    },
    {
      "cell_type": "markdown",
      "source": [
        "Simple Method"
      ],
      "metadata": {
        "id": "L-3ZZ5yRlQws"
      }
    },
    {
      "cell_type": "code",
      "source": [
        "from abc import ABC, abstractmethod\n",
        "\n",
        "# Abstract Base Class\n",
        "class Shape(ABC):\n",
        "    @abstractmethod\n",
        "    def area(self):\n",
        "        pass  # Only a declaration, no implementation\n",
        "\n",
        "    @abstractmethod\n",
        "    def perimeter(self):\n",
        "        pass\n",
        "\n",
        "# Subclass must implement abstract methods\n",
        "class Rectangle(Shape):\n",
        "    def __init__(self, width, height):\n",
        "        self.width = width\n",
        "        self.height = height\n",
        "\n",
        "    def area(self):\n",
        "        return self.width * self.height\n",
        "\n",
        "    def perimeter(self):\n",
        "        return 2 * (self.width + self.height)\n",
        "\n",
        "# Cannot create object of Shape directly\n",
        "# shape = Shape()  # ❌ Error\n",
        "\n",
        "rect = Rectangle(10, 5)\n",
        "print(\"Area:\", rect.area())        # Area: 50\n",
        "print(\"Perimeter:\", rect.perimeter())  # Perimeter: 30\n"
      ],
      "metadata": {
        "colab": {
          "base_uri": "https://localhost:8080/"
        },
        "id": "hTLezy4mk5qG",
        "outputId": "d333fedf-fa8a-4d06-ada2-d7266d09d05d"
      },
      "execution_count": 86,
      "outputs": [
        {
          "output_type": "stream",
          "name": "stdout",
          "text": [
            "Area: 50\n",
            "Perimeter: 30\n"
          ]
        }
      ]
    },
    {
      "cell_type": "markdown",
      "source": [
        "Benefits of Abstraction\n",
        "\n",
        "Hides complexity from the user.\n",
        "\n",
        "Encourages code reusability (common interface, different implementations).\n",
        "\n",
        "Promotes maintainability (change implementation without affecting outside code)"
      ],
      "metadata": {
        "id": "qOuo0PgblWwL"
      }
    },
    {
      "cell_type": "markdown",
      "source": [
        " Abstract Class with Concrete Methods\n",
        "\n",
        "An abstract class can also have regular methods."
      ],
      "metadata": {
        "id": "5IH-ynTolZ8c"
      }
    },
    {
      "cell_type": "code",
      "source": [
        "from abc import ABC, abstractmethod\n",
        "\n",
        "class Vehicle(ABC):\n",
        "    @abstractmethod\n",
        "    def start(self):\n",
        "        pass\n",
        "\n",
        "    def stop(self):  # Concrete method\n",
        "        print(\"Vehicle stopped.\")\n",
        "\n",
        "class Car(Vehicle):\n",
        "    def start(self):\n",
        "        print(\"Car started.\")\n",
        "\n",
        "c = Car()\n",
        "c.start()\n",
        "c.stop()\n"
      ],
      "metadata": {
        "colab": {
          "base_uri": "https://localhost:8080/"
        },
        "id": "Q8bRZO2QlTE5",
        "outputId": "8fdfb361-8cc2-487a-c32f-08705bd0834b"
      },
      "execution_count": 87,
      "outputs": [
        {
          "output_type": "stream",
          "name": "stdout",
          "text": [
            "Car started.\n",
            "Vehicle stopped.\n"
          ]
        }
      ]
    },
    {
      "cell_type": "markdown",
      "source": [
        "# super()\n",
        "super() is used to call methods from a parent (superclass) inside a child (subclass).\n",
        "\n",
        "Why use it?\n",
        "To avoid repeating the parent's method name explicitly.\n",
        "\n",
        "To make the code easier to maintain (works even if the parent class name changes).\n",
        "\n",
        "Useful in multiple inheritance to ensure proper method resolution order (MRO).\n",
        "\n",
        "Example: Using super() in Inheritance"
      ],
      "metadata": {
        "id": "KGDcznPvlpts"
      }
    },
    {
      "cell_type": "markdown",
      "source": [
        "Key Differences:\n",
        "\n",
        "super() → used inside a class to call parent class methods.\n",
        "\n",
        "isinstance() → used to check the type of an object at runtime."
      ],
      "metadata": {
        "id": "YCAbsuOimHYn"
      }
    },
    {
      "cell_type": "code",
      "source": [
        "class Person:\n",
        "    def __init__(self, name):\n",
        "        self.name = name\n",
        "        print(f\"Person constructor called for {self.name}\")\n",
        "\n",
        "class Student(Person):\n",
        "    def __init__(self, name, grade):\n",
        "        super().__init__(name)  # Call parent constructor\n",
        "        self.grade = grade\n",
        "        print(f\"Student constructor called for {self.name} with grade {self.grade}\")\n",
        "\n",
        "s = Student(\"Manoj\", \"A\")\n"
      ],
      "metadata": {
        "colab": {
          "base_uri": "https://localhost:8080/"
        },
        "id": "VMUCaK3glgoq",
        "outputId": "6b1e4307-4279-4a6f-939b-df4f66cdd52b"
      },
      "execution_count": 88,
      "outputs": [
        {
          "output_type": "stream",
          "name": "stdout",
          "text": [
            "Person constructor called for Manoj\n",
            "Student constructor called for Manoj with grade A\n"
          ]
        }
      ]
    },
    {
      "cell_type": "markdown",
      "source": [
        "Example: Calling Parent Methods"
      ],
      "metadata": {
        "id": "atDHmE-clw7B"
      }
    },
    {
      "cell_type": "code",
      "source": [
        "class Parent:\n",
        "    def greet(self):\n",
        "        print(\"Hello from Parent\")\n",
        "\n",
        "class Child(Parent):\n",
        "    def greet(self):\n",
        "        super().greet()  # Call Parent's greet\n",
        "        print(\"Hello from Child\")\n",
        "\n",
        "obj = Child()\n",
        "obj.greet()\n"
      ],
      "metadata": {
        "colab": {
          "base_uri": "https://localhost:8080/"
        },
        "id": "omy8PWtOltoF",
        "outputId": "8fea41b9-0c25-4de1-8bad-62caafa5b54d"
      },
      "execution_count": 89,
      "outputs": [
        {
          "output_type": "stream",
          "name": "stdout",
          "text": [
            "Hello from Parent\n",
            "Hello from Child\n"
          ]
        }
      ]
    },
    {
      "cell_type": "markdown",
      "source": [
        "isinstance()\n",
        "\n",
        "isinstance(object, class)\n",
        "\n",
        " checks whether an object is an instance of a given class (or subclass)."
      ],
      "metadata": {
        "id": "Vbfp1qhjl17D"
      }
    },
    {
      "cell_type": "code",
      "source": [
        "class Animal:\n",
        "    pass\n",
        "\n",
        "class Dog(Animal):\n",
        "    pass\n",
        "\n",
        "dog = Dog()\n",
        "\n",
        "print(isinstance(dog, Dog))      # True (dog is a Dog)\n",
        "print(isinstance(dog, Animal))   # True (Dog inherits from Animal)\n",
        "print(isinstance(dog, object))   # True (everything in Python is an object)\n",
        "print(isinstance(dog, list))     # False\n"
      ],
      "metadata": {
        "colab": {
          "base_uri": "https://localhost:8080/"
        },
        "id": "8R8aWz3Sly2M",
        "outputId": "8bb10192-d367-4ed8-f25c-8e88e9d21f1d"
      },
      "execution_count": 90,
      "outputs": [
        {
          "output_type": "stream",
          "name": "stdout",
          "text": [
            "True\n",
            "True\n",
            "True\n",
            "False\n"
          ]
        }
      ]
    },
    {
      "cell_type": "markdown",
      "source": [
        "Checking Multiple Types\n",
        "You can pass a tuple of classes to check against multiple types."
      ],
      "metadata": {
        "id": "noiN5DMSl-rx"
      }
    },
    {
      "cell_type": "code",
      "source": [
        "print(isinstance(5, (int, float)))    # True\n",
        "print(isinstance(\"hello\", (int, float))) # False\n"
      ],
      "metadata": {
        "colab": {
          "base_uri": "https://localhost:8080/"
        },
        "id": "AaBt0YSHl7mf",
        "outputId": "eaadd5e5-5aa7-4da5-d481-33acfe4eb787"
      },
      "execution_count": 91,
      "outputs": [
        {
          "output_type": "stream",
          "name": "stdout",
          "text": [
            "True\n",
            "False\n"
          ]
        }
      ]
    },
    {
      "cell_type": "markdown",
      "source": [
        "# file Handling\n",
        "The open() Function\n",
        "\n",
        "In Python, open() is used to open a file and return a file object, which lets you read, write, or append data."
      ],
      "metadata": {
        "id": "uEKKtd8amSE4"
      }
    },
    {
      "cell_type": "markdown",
      "source": [
        "open(file, mode, encoding=None)\n"
      ],
      "metadata": {
        "id": "XWYn0wd6mbC2"
      }
    },
    {
      "cell_type": "markdown",
      "source": [
        "Parameters:\n",
        "\n",
        "file → name or path of the file (e.g., \"data.txt\" or \"C:/folder/data.txt\").\n",
        "\n",
        "mode → file operation mode (default is \"r\").\n",
        "\n",
        "encoding → character encoding (commonly \"utf-8\" for text files).\n",
        "\n"
      ],
      "metadata": {
        "id": "BVvBgRv7meQO"
      }
    },
    {
      "cell_type": "markdown",
      "source": [
        "| Mode  | Meaning                  | Creates File? | Overwrites? |\n",
        "| ----- | ------------------------ | ------------- | ----------- |\n",
        "| `\"r\"` | Read (default)           | ❌ No          | ❌ No        |\n",
        "| `\"w\"` | Write                    | ✅ Yes         | ✅ Yes       |\n",
        "| `\"a\"` | Append                   | ✅ Yes         | ❌ No        |\n",
        "| `\"x\"` | Create (error if exists) | ✅ Yes         | ❌ No        |\n",
        "| `\"b\"` | Binary mode              | —             | —           |\n",
        "| `\"t\"` | Text mode (default)      | —             | —           |\n"
      ],
      "metadata": {
        "id": "S3B5r2GgmhT2"
      }
    },
    {
      "cell_type": "markdown",
      "source": [
        "You can combine modes:\n",
        "\n",
        "\"rb\" → read binary\n",
        "\n",
        "\"wt\" → write text\n",
        "\n",
        "\"ab\" → append binary"
      ],
      "metadata": {
        "id": "MV7keZcKmr40"
      }
    },
    {
      "cell_type": "markdown",
      "source": [
        "Example — Opening and Reading a File"
      ],
      "metadata": {
        "id": "KVeGn-mRmvNr"
      }
    },
    {
      "cell_type": "code",
      "metadata": {
        "colab": {
          "base_uri": "https://localhost:8080/"
        },
        "id": "88b6fcf8",
        "outputId": "8ffea6cb-b86d-420e-e89f-0d46bd3387f9"
      },
      "source": [
        "# Create the file with some content first\n",
        "with open(\"example.txt\", \"w\", encoding=\"utf-8\") as f:\n",
        "    f.write(\"This is some example content.\\n\")\n",
        "    f.write(\"This is the second line.\")\n",
        "\n",
        "print(\"example.txt created successfully.\")"
      ],
      "execution_count": 93,
      "outputs": [
        {
          "output_type": "stream",
          "name": "stdout",
          "text": [
            "example.txt created successfully.\n"
          ]
        }
      ]
    },
    {
      "cell_type": "code",
      "source": [
        "# Open file in read mode\n",
        "file = open(\"example.txt\", \"r\", encoding=\"utf-8\")\n",
        "\n",
        "# Read content\n",
        "content = file.read()\n",
        "print(content)\n",
        "\n",
        "# Close file\n",
        "file.close()\n"
      ],
      "metadata": {
        "colab": {
          "base_uri": "https://localhost:8080/"
        },
        "id": "W3egGALKm_uj",
        "outputId": "5dd190d0-8d8f-40a6-d9a9-ed82d0923faf"
      },
      "execution_count": 94,
      "outputs": [
        {
          "output_type": "stream",
          "name": "stdout",
          "text": [
            "This is some example content.\n",
            "This is the second line.\n"
          ]
        }
      ]
    },
    {
      "cell_type": "markdown",
      "source": [
        "Best Practice — Using with Statement\n",
        "\n",
        "Using with automatically closes the file after use (no need for close())."
      ],
      "metadata": {
        "id": "EthUFU7VnFw9"
      }
    },
    {
      "cell_type": "code",
      "source": [
        "with open(\"example.txt\", \"r\", encoding=\"utf-8\") as file:\n",
        "    content = file.read()\n",
        "    print(content)\n"
      ],
      "metadata": {
        "colab": {
          "base_uri": "https://localhost:8080/"
        },
        "id": "kLP3h_vQm_XK",
        "outputId": "513757c9-bc4f-4269-f4dc-bc55ed6d1cb2"
      },
      "execution_count": 95,
      "outputs": [
        {
          "output_type": "stream",
          "name": "stdout",
          "text": [
            "This is some example content.\n",
            "This is the second line.\n"
          ]
        }
      ]
    },
    {
      "cell_type": "markdown",
      "source": [
        "Example — Writing to a File"
      ],
      "metadata": {
        "id": "V9L4p5AUnNtX"
      }
    },
    {
      "cell_type": "code",
      "source": [
        "with open(\"example.txt\", \"w\", encoding=\"utf-8\") as file:\n",
        "    file.write(\"Hello, world!\\n\")\n",
        "    file.write(\"This is Python file handling.\")\n"
      ],
      "metadata": {
        "id": "97riiDtInLJx"
      },
      "execution_count": 96,
      "outputs": []
    },
    {
      "cell_type": "markdown",
      "source": [
        "| Mode  | Description                                                         | File Created if Missing? | Overwrites Data? |\n",
        "| ----- | ------------------------------------------------------------------- | ------------------------ | ---------------- |\n",
        "| `\"r\"` | **Read** (default) – file must exist                                | ❌ No                     | ❌ No             |\n",
        "| `\"w\"` | **Write** – creates new file or clears existing file before writing | ✅ Yes                    | ✅ Yes            |\n",
        "| `\"a\"` | **Append** – adds data to the end of file                           | ✅ Yes                    | ❌ No             |\n"
      ],
      "metadata": {
        "id": "axviEbX2nnsA"
      }
    },
    {
      "cell_type": "markdown",
      "source": [
        "Reading Files (\"r\")"
      ],
      "metadata": {
        "id": "GvkaHO81nq8a"
      }
    },
    {
      "cell_type": "code",
      "source": [
        "# Open file in read mode\n",
        "with open(\"example.txt\", \"r\", encoding=\"utf-8\") as f:\n",
        "    content = f.read()  # Reads entire file as a string\n",
        "    print(content)\n"
      ],
      "metadata": {
        "colab": {
          "base_uri": "https://localhost:8080/"
        },
        "id": "6nub3eR3nQFP",
        "outputId": "164f4b53-927c-4fa3-fadd-b1c0eb1a38c0"
      },
      "execution_count": 97,
      "outputs": [
        {
          "output_type": "stream",
          "name": "stdout",
          "text": [
            "Hello, world!\n",
            "This is Python file handling.\n"
          ]
        }
      ]
    },
    {
      "cell_type": "code",
      "source": [
        "# Read only first 10 characters\n",
        "with open(\"example.txt\", \"r\", encoding=\"utf-8\") as f:\n",
        "  print(\"First 10 characters:\", f.read(10))\n",
        "\n",
        "# Read a single line\n",
        "with open(\"example.txt\", \"r\", encoding=\"utf-8\") as f:\n",
        "  print(\"First line:\", f.readline())\n",
        "\n",
        "# Read all lines into a list\n",
        "with open(\"example.txt\", \"r\", encoding=\"utf-8\") as f:\n",
        "  print(\"All lines:\", f.readlines())"
      ],
      "metadata": {
        "colab": {
          "base_uri": "https://localhost:8080/"
        },
        "id": "9jjsx9qyntiU",
        "outputId": "5a8cc068-08be-41e5-f759-eed2244ca33d"
      },
      "execution_count": 99,
      "outputs": [
        {
          "output_type": "stream",
          "name": "stdout",
          "text": [
            "First 10 characters: Hello, wor\n",
            "First line: Hello, world!\n",
            "\n",
            "All lines: ['Hello, world!\\n', 'This is Python file handling.']\n"
          ]
        }
      ]
    },
    {
      "cell_type": "markdown",
      "source": [
        "Writing Files (\"w\")"
      ],
      "metadata": {
        "id": "4qcD4F3ln5id"
      }
    },
    {
      "cell_type": "code",
      "source": [
        "# 'w' overwrites the file\n",
        "with open(\"example.txt\", \"w\", encoding=\"utf-8\") as f:\n",
        "    f.write(\"Hello, Python!\\n\")\n",
        "    f.write(\"This will overwrite existing content.\")\n"
      ],
      "metadata": {
        "id": "vTcdPeAsnvyu"
      },
      "execution_count": 100,
      "outputs": []
    },
    {
      "cell_type": "markdown",
      "source": [
        "Appending Files (\"a\")"
      ],
      "metadata": {
        "id": "pPK1NZjHn94a"
      }
    },
    {
      "cell_type": "code",
      "source": [
        "# 'a' adds text to the end of file\n",
        "with open(\"example.txt\", \"a\", encoding=\"utf-8\") as f:\n",
        "    f.write(\"\\nAdding new line without deleting old data.\")\n"
      ],
      "metadata": {
        "id": "aQMkJkYdn7o3"
      },
      "execution_count": 101,
      "outputs": []
    },
    {
      "cell_type": "markdown",
      "source": [
        "Reading + Writing (\"r+\" / \"w+\" / \"a+\")"
      ],
      "metadata": {
        "id": "oTpfx3rfoEHe"
      }
    },
    {
      "cell_type": "markdown",
      "source": [
        "| Mode   | Meaning         | Behavior                                          |\n",
        "| ------ | --------------- | ------------------------------------------------- |\n",
        "| `\"r+\"` | Read and Write  | File must exist, no truncation                    |\n",
        "| `\"w+\"` | Write and Read  | Creates new file or overwrites existing           |\n",
        "| `\"a+\"` | Append and Read | Creates file if not exists, starts writing at end |\n"
      ],
      "metadata": {
        "id": "J3Rxn7g9oHnh"
      }
    },
    {
      "cell_type": "code",
      "source": [
        "with open(\"example.txt\", \"r+\", encoding=\"utf-8\") as f:\n",
        "    data = f.read()   # Read old data\n",
        "    f.write(\"\\nNew data here!\")  # Append new data\n"
      ],
      "metadata": {
        "id": "fWq0vURcoAro"
      },
      "execution_count": 103,
      "outputs": []
    },
    {
      "cell_type": "markdown",
      "source": [
        "Best Practice — Always Use with\n",
        "Using with ensures the file is automatically closed:"
      ],
      "metadata": {
        "id": "bx8o1HdJoPBj"
      }
    },
    {
      "cell_type": "code",
      "source": [
        "with open(\"data.txt\", \"w\", encoding=\"utf-8\") as f:\n",
        "    f.write(\"Safe file handling!\")\n"
      ],
      "metadata": {
        "id": "aGcqQF3boGeh"
      },
      "execution_count": 104,
      "outputs": []
    },
    {
      "cell_type": "markdown",
      "source": [
        "#with Statement\n",
        "The with statement is used for context management — it ensures that resources (like files) are automatically opened and closed safely.\n",
        "\n",
        "Example:"
      ],
      "metadata": {
        "id": "PbCDwdl2o3qK"
      }
    },
    {
      "cell_type": "code",
      "source": [
        "# Without 'with' → need to close manually\n",
        "file = open(\"test.txt\", \"w\")\n",
        "file.write(\"Hello World\")\n",
        "file.close()\n",
        "\n",
        "# With 'with' → automatically closes file\n",
        "with open(\"test.txt\", \"w\", encoding=\"utf-8\") as f:\n",
        "    f.write(\"Hello from Python!\")\n"
      ],
      "metadata": {
        "id": "PWwWM5wCoRyb"
      },
      "execution_count": 105,
      "outputs": []
    },
    {
      "cell_type": "markdown",
      "source": [
        "#Working with CSV Files\n",
        "CSV = Comma-Separated Values — often used for spreadsheets and datasets.\n",
        "Python’s built-in csv module helps in reading and writing CSV files."
      ],
      "metadata": {
        "id": "KUTS_uFmo9iq"
      }
    },
    {
      "cell_type": "markdown",
      "source": [
        "Writing to CSV"
      ],
      "metadata": {
        "id": "keYIrToXpCYB"
      }
    },
    {
      "cell_type": "code",
      "source": [
        "import csv\n",
        "\n",
        "data = [\n",
        "    [\"Name\", \"Age\", \"City\"],\n",
        "    [\"Alice\", 25, \"New York\"],\n",
        "    [\"Bob\", 30, \"London\"]\n",
        "]\n",
        "\n",
        "with open(\"people.csv\", \"w\", newline='', encoding=\"utf-8\") as file:\n",
        "    writer = csv.writer(file)\n",
        "    writer.writerows(data)  # Write multiple rows\n"
      ],
      "metadata": {
        "id": "4e8TficNo6y7"
      },
      "execution_count": 106,
      "outputs": []
    },
    {
      "cell_type": "markdown",
      "source": [
        "Reading from CSV\n",
        "\n",
        "\n"
      ],
      "metadata": {
        "id": "aUnq_SvlpOQD"
      }
    },
    {
      "cell_type": "code",
      "source": [
        "import csv\n",
        "\n",
        "with open(\"people.csv\", \"r\", encoding=\"utf-8\") as file:\n",
        "    reader = csv.reader(file)\n",
        "    for row in reader:\n",
        "        print(row)\n"
      ],
      "metadata": {
        "colab": {
          "base_uri": "https://localhost:8080/"
        },
        "id": "nuSK6NhlpKr2",
        "outputId": "c23455b1-530f-49bd-bd17-47e4d68fce9e"
      },
      "execution_count": 107,
      "outputs": [
        {
          "output_type": "stream",
          "name": "stdout",
          "text": [
            "['Name', 'Age', 'City']\n",
            "['Alice', '25', 'New York']\n",
            "['Bob', '30', 'London']\n"
          ]
        }
      ]
    },
    {
      "cell_type": "markdown",
      "source": [
        "Reading CSV as Dictionary"
      ],
      "metadata": {
        "id": "wZGbGrzNpVjR"
      }
    },
    {
      "cell_type": "code",
      "source": [
        "import csv\n",
        "\n",
        "with open(\"people.csv\", \"r\", encoding=\"utf-8\") as file:\n",
        "    reader = csv.DictReader(file)\n",
        "    for row in reader:\n",
        "        print(row[\"Name\"], row[\"City\"])\n"
      ],
      "metadata": {
        "colab": {
          "base_uri": "https://localhost:8080/"
        },
        "id": "QOJdR7kJpSXk",
        "outputId": "0d54e3fc-08b2-4368-aa0a-9d0088cb393f"
      },
      "execution_count": 108,
      "outputs": [
        {
          "output_type": "stream",
          "name": "stdout",
          "text": [
            "Alice New York\n",
            "Bob London\n"
          ]
        }
      ]
    },
    {
      "cell_type": "markdown",
      "source": [
        "# Working with JSON Files\n",
        "JSON = JavaScript Object Notation — a popular data format for APIs and config files.\n",
        "Python’s built-in json module can serialize and deserialize JSON data."
      ],
      "metadata": {
        "id": "0pHz_eoDpdcY"
      }
    },
    {
      "cell_type": "markdown",
      "source": [
        "Writing to JSON"
      ],
      "metadata": {
        "id": "Tcr6CPXmphhF"
      }
    },
    {
      "cell_type": "code",
      "source": [
        "import json\n",
        "\n",
        "person = {\n",
        "    \"name\": \"Alice\",\n",
        "    \"age\": 25,\n",
        "    \"city\": \"New York\",\n",
        "    \"skills\": [\"Python\", \"Data Analysis\"]\n",
        "}\n",
        "\n",
        "with open(\"person.json\", \"w\", encoding=\"utf-8\") as file:\n",
        "    json.dump(person, file, indent=4)  # indent for pretty formatting\n"
      ],
      "metadata": {
        "id": "YY3W4mgNpaMi"
      },
      "execution_count": 109,
      "outputs": []
    },
    {
      "cell_type": "markdown",
      "source": [
        "Reading from JSON"
      ],
      "metadata": {
        "id": "icusxA5WpmPO"
      }
    },
    {
      "cell_type": "code",
      "source": [
        "import json\n",
        "\n",
        "with open(\"person.json\", \"r\", encoding=\"utf-8\") as file:\n",
        "    data = json.load(file)\n",
        "    print(data[\"name\"], data[\"skills\"])\n"
      ],
      "metadata": {
        "colab": {
          "base_uri": "https://localhost:8080/"
        },
        "id": "eVzEHRRxpjf_",
        "outputId": "6e11b098-8859-411f-bff4-e0f08d1c3416"
      },
      "execution_count": 110,
      "outputs": [
        {
          "output_type": "stream",
          "name": "stdout",
          "text": [
            "Alice ['Python', 'Data Analysis']\n"
          ]
        }
      ]
    },
    {
      "cell_type": "markdown",
      "source": [
        "Converting Between Python Objects and JSON Strings"
      ],
      "metadata": {
        "id": "5cywGWy4pq6w"
      }
    },
    {
      "cell_type": "code",
      "source": [
        "import json\n",
        "\n",
        "# Python → JSON string\n",
        "json_str = json.dumps(person, indent=4)\n",
        "print(json_str)\n",
        "\n",
        "# JSON string → Python object\n",
        "python_obj = json.loads(json_str)\n",
        "print(python_obj[\"city\"])\n"
      ],
      "metadata": {
        "colab": {
          "base_uri": "https://localhost:8080/"
        },
        "id": "8B7VgEplpoVT",
        "outputId": "457f1284-3950-4c34-9094-e5711b9acbfb"
      },
      "execution_count": 111,
      "outputs": [
        {
          "output_type": "stream",
          "name": "stdout",
          "text": [
            "{\n",
            "    \"name\": \"Alice\",\n",
            "    \"age\": 25,\n",
            "    \"city\": \"New York\",\n",
            "    \"skills\": [\n",
            "        \"Python\",\n",
            "        \"Data Analysis\"\n",
            "    ]\n",
            "}\n",
            "New York\n"
          ]
        }
      ]
    },
    {
      "cell_type": "markdown",
      "source": [
        "#Advanced Python"
      ],
      "metadata": {
        "id": "TiYUNRl6pvX-"
      }
    },
    {
      "cell_type": "markdown",
      "source": [
        "What is a List Comprehension?\n",
        "\n",
        "A List Comprehension is a compact and Pythonic way to create lists from existing iterables (like lists, tuples, ranges, etc.) in one line.\n",
        "\n",
        "Basic Syntax:"
      ],
      "metadata": {
        "id": "hTQuaQ4vqD9b"
      }
    },
    {
      "cell_type": "markdown",
      "source": [
        "[expression for item in iterable if condition]\n"
      ],
      "metadata": {
        "id": "LVPqKdeiqL8Y"
      }
    },
    {
      "cell_type": "code",
      "source": [
        "# Squares of numbers from 0 to 9\n",
        "squares = [x**2 for x in range(10)]\n",
        "print(squares)\n"
      ],
      "metadata": {
        "colab": {
          "base_uri": "https://localhost:8080/"
        },
        "id": "j_A2htOXptid",
        "outputId": "b952a6bc-c446-4b39-a4a8-8a0994ec062d"
      },
      "execution_count": 112,
      "outputs": [
        {
          "output_type": "stream",
          "name": "stdout",
          "text": [
            "[0, 1, 4, 9, 16, 25, 36, 49, 64, 81]\n"
          ]
        }
      ]
    },
    {
      "cell_type": "markdown",
      "source": [
        "With Condition"
      ],
      "metadata": {
        "id": "BGo3e9HTqQ2K"
      }
    },
    {
      "cell_type": "code",
      "source": [
        "# Even numbers only\n",
        "evens = [x for x in range(10) if x % 2 == 0]\n",
        "print(evens)\n"
      ],
      "metadata": {
        "colab": {
          "base_uri": "https://localhost:8080/"
        },
        "id": "hRWQHEoLqOL5",
        "outputId": "63ad1de0-0e89-4b3c-99e5-7a6cc0e88d2e"
      },
      "execution_count": 113,
      "outputs": [
        {
          "output_type": "stream",
          "name": "stdout",
          "text": [
            "[0, 2, 4, 6, 8]\n"
          ]
        }
      ]
    },
    {
      "cell_type": "markdown",
      "source": [
        "Nested Loops"
      ],
      "metadata": {
        "id": "QI2v5l_6qVH5"
      }
    },
    {
      "cell_type": "code",
      "source": [
        "# Cartesian product\n",
        "pairs = [(x, y) for x in [1, 2, 3] for y in ['A', 'B']]\n",
        "print(pairs)\n"
      ],
      "metadata": {
        "colab": {
          "base_uri": "https://localhost:8080/"
        },
        "id": "KtFXwq4DqS3b",
        "outputId": "edcb8ec9-d5dc-4b4d-af3e-521b09c4c938"
      },
      "execution_count": 114,
      "outputs": [
        {
          "output_type": "stream",
          "name": "stdout",
          "text": [
            "[(1, 'A'), (1, 'B'), (2, 'A'), (2, 'B'), (3, 'A'), (3, 'B')]\n"
          ]
        }
      ]
    },
    {
      "cell_type": "markdown",
      "source": [
        "Nested List Comprehension (Flattening)"
      ],
      "metadata": {
        "id": "2WVAw8LTqYRh"
      }
    },
    {
      "cell_type": "code",
      "source": [
        "matrix = [[1, 2, 3], [4, 5, 6], [7, 8, 9]]\n",
        "flat = [num for row in matrix for num in row]\n",
        "print(flat)\n"
      ],
      "metadata": {
        "colab": {
          "base_uri": "https://localhost:8080/"
        },
        "id": "0YuPWLc3qXs5",
        "outputId": "1903eb08-ce97-4d16-8ee4-c411d872371b"
      },
      "execution_count": 115,
      "outputs": [
        {
          "output_type": "stream",
          "name": "stdout",
          "text": [
            "[1, 2, 3, 4, 5, 6, 7, 8, 9]\n"
          ]
        }
      ]
    },
    {
      "cell_type": "markdown",
      "source": [
        "Applying a Function"
      ],
      "metadata": {
        "id": "KHNJWb-UqhQV"
      }
    },
    {
      "cell_type": "code",
      "source": [
        "words = [\"python\", \"rocks\", \"comprehensions\"]\n",
        "upper_words = [word.upper() for word in words]\n",
        "print(upper_words)\n"
      ],
      "metadata": {
        "colab": {
          "base_uri": "https://localhost:8080/"
        },
        "id": "kPG_Ohrzqe3G",
        "outputId": "3d7cc904-9367-42f3-87ef-6af2fde60dc9"
      },
      "execution_count": 116,
      "outputs": [
        {
          "output_type": "stream",
          "name": "stdout",
          "text": [
            "['PYTHON', 'ROCKS', 'COMPREHENSIONS']\n"
          ]
        }
      ]
    },
    {
      "cell_type": "markdown",
      "source": [
        "With if–else in Expression"
      ],
      "metadata": {
        "id": "o1zP3WdQqllR"
      }
    },
    {
      "cell_type": "code",
      "source": [
        "# Odd → \"Odd\", Even → \"Even\"\n",
        "labels = [\"Even\" if x % 2 == 0 else \"Odd\" for x in range(6)]\n",
        "print(labels)\n"
      ],
      "metadata": {
        "colab": {
          "base_uri": "https://localhost:8080/"
        },
        "id": "iwk0mgwtqjOo",
        "outputId": "3b980fa7-0247-4362-8ada-3306b2e22009"
      },
      "execution_count": 117,
      "outputs": [
        {
          "output_type": "stream",
          "name": "stdout",
          "text": [
            "['Even', 'Odd', 'Even', 'Odd', 'Even', 'Odd']\n"
          ]
        }
      ]
    },
    {
      "cell_type": "markdown",
      "source": [
        " Dictionary & Set Comprehensions"
      ],
      "metadata": {
        "id": "uv0ueh9FqqSp"
      }
    },
    {
      "cell_type": "code",
      "source": [
        "# Dictionary comprehension\n",
        "squares_dict = {x: x**2 for x in range(5)}\n",
        "print(squares_dict)\n",
        "\n",
        "# Set comprehension\n",
        "squares_set = {x**2 for x in range(5)}\n",
        "print(squares_set)\n"
      ],
      "metadata": {
        "colab": {
          "base_uri": "https://localhost:8080/"
        },
        "id": "eYmv5mSVqnch",
        "outputId": "e350c781-d0a7-4aec-f3c2-cd3cbd0dec78"
      },
      "execution_count": 118,
      "outputs": [
        {
          "output_type": "stream",
          "name": "stdout",
          "text": [
            "{0: 0, 1: 1, 2: 4, 3: 9, 4: 16}\n",
            "{0, 1, 4, 9, 16}\n"
          ]
        }
      ]
    },
    {
      "cell_type": "markdown",
      "source": [
        "Using Functions Inside List Comprehensions"
      ],
      "metadata": {
        "id": "FpaAxrxQq4Km"
      }
    },
    {
      "cell_type": "code",
      "source": [
        "def factorial(n):\n",
        "    return 1 if n == 0 else n * factorial(n-1)\n",
        "\n",
        "facts = [factorial(x) for x in range(6)]\n",
        "print(facts)\n"
      ],
      "metadata": {
        "colab": {
          "base_uri": "https://localhost:8080/"
        },
        "id": "fMLzyGTcq1nD",
        "outputId": "64e9a5a8-a95f-452d-fc3b-34e5a3ea3b5d"
      },
      "execution_count": 119,
      "outputs": [
        {
          "output_type": "stream",
          "name": "stdout",
          "text": [
            "[1, 1, 2, 6, 24, 120]\n"
          ]
        }
      ]
    },
    {
      "cell_type": "markdown",
      "source": [
        "Filtering with Multiple Conditions"
      ],
      "metadata": {
        "id": "HbKoO1LAq84e"
      }
    },
    {
      "cell_type": "code",
      "source": [
        "nums = [x for x in range(50) if x % 2 == 0 if x % 5 == 0]\n",
        "print(nums)\n"
      ],
      "metadata": {
        "colab": {
          "base_uri": "https://localhost:8080/"
        },
        "id": "hrbE-3E4q6O2",
        "outputId": "fb1c432c-97e2-4682-c1ed-761d3273e948"
      },
      "execution_count": 120,
      "outputs": [
        {
          "output_type": "stream",
          "name": "stdout",
          "text": [
            "[0, 10, 20, 30, 40]\n"
          ]
        }
      ]
    },
    {
      "cell_type": "markdown",
      "source": [
        "#Dictionary Comprehension\n",
        "A dictionary comprehension creates dictionaries in a concise way, just like list comprehensions."
      ],
      "metadata": {
        "id": "QSjkOqyGrPTf"
      }
    },
    {
      "cell_type": "markdown",
      "source": [
        "{key_expression: value_expression for item in iterable if condition}\n"
      ],
      "metadata": {
        "id": "P93e8_6srRUV"
      }
    },
    {
      "cell_type": "code",
      "source": [
        "# Numbers and their squares\n",
        "squares_dict = {x: x**2 for x in range(6)}\n",
        "print(squares_dict)\n"
      ],
      "metadata": {
        "colab": {
          "base_uri": "https://localhost:8080/"
        },
        "id": "oj9O2HG6q-_Y",
        "outputId": "cb0450cc-7517-4252-ddbc-d84c73282fc9"
      },
      "execution_count": 121,
      "outputs": [
        {
          "output_type": "stream",
          "name": "stdout",
          "text": [
            "{0: 0, 1: 1, 2: 4, 3: 9, 4: 16, 5: 25}\n"
          ]
        }
      ]
    },
    {
      "cell_type": "markdown",
      "source": [
        " Filtering\n",
        ""
      ],
      "metadata": {
        "id": "us-TfDFfrVi0"
      }
    },
    {
      "cell_type": "code",
      "source": [
        "# Squares only for even numbers\n",
        "even_squares = {x: x**2 for x in range(10) if x % 2 == 0}\n",
        "print(even_squares)\n"
      ],
      "metadata": {
        "colab": {
          "base_uri": "https://localhost:8080/"
        },
        "id": "srqlEGbFrTcD",
        "outputId": "2d787b79-a33d-4a94-c857-00a90c5c3219"
      },
      "execution_count": 122,
      "outputs": [
        {
          "output_type": "stream",
          "name": "stdout",
          "text": [
            "{0: 0, 2: 4, 4: 16, 6: 36, 8: 64}\n"
          ]
        }
      ]
    },
    {
      "cell_type": "markdown",
      "source": [
        "Swapping Keys and Values"
      ],
      "metadata": {
        "id": "-7v9-w8GrZvp"
      }
    },
    {
      "cell_type": "code",
      "source": [
        "data = {'a': 1, 'b': 2, 'c': 3}\n",
        "swapped = {v: k for k, v in data.items()}\n",
        "print(swapped)\n"
      ],
      "metadata": {
        "colab": {
          "base_uri": "https://localhost:8080/"
        },
        "id": "lh140Jx4rXs6",
        "outputId": "3de21da2-87e7-4cf6-9ebd-5ff70c39c012"
      },
      "execution_count": 123,
      "outputs": [
        {
          "output_type": "stream",
          "name": "stdout",
          "text": [
            "{1: 'a', 2: 'b', 3: 'c'}\n"
          ]
        }
      ]
    },
    {
      "cell_type": "markdown",
      "source": [
        "Using Functions"
      ],
      "metadata": {
        "id": "QK7rTcvZrcKO"
      }
    },
    {
      "cell_type": "code",
      "source": [
        "def cube(n): return n**3\n",
        "cubes_dict = {x: cube(x) for x in range(1, 6)}\n",
        "print(cubes_dict)\n"
      ],
      "metadata": {
        "colab": {
          "base_uri": "https://localhost:8080/"
        },
        "id": "-FlFX3Y1rbUa",
        "outputId": "9913a6d8-7839-47d8-bc4a-e3a11f78d95e"
      },
      "execution_count": 124,
      "outputs": [
        {
          "output_type": "stream",
          "name": "stdout",
          "text": [
            "{1: 1, 2: 8, 3: 27, 4: 64, 5: 125}\n"
          ]
        }
      ]
    },
    {
      "cell_type": "markdown",
      "source": [
        "#Set Comprehension\n",
        "A set comprehension creates sets in one line.\n",
        "Syntax:"
      ],
      "metadata": {
        "id": "5iP9CBBarjy_"
      }
    },
    {
      "cell_type": "markdown",
      "source": [
        "{expression for item in iterable if condition}\n"
      ],
      "metadata": {
        "id": "vSUOE_jzrn4r"
      }
    },
    {
      "cell_type": "code",
      "source": [
        "nums = {x**2 for x in range(6)}\n",
        "print(nums)\n"
      ],
      "metadata": {
        "colab": {
          "base_uri": "https://localhost:8080/"
        },
        "id": "oeKC4mfWrhqk",
        "outputId": "d7ec37a4-8eb3-4f01-b7d5-14bcb4cab600"
      },
      "execution_count": 125,
      "outputs": [
        {
          "output_type": "stream",
          "name": "stdout",
          "text": [
            "{0, 1, 4, 9, 16, 25}\n"
          ]
        }
      ]
    },
    {
      "cell_type": "markdown",
      "source": [
        "Removing Duplicates"
      ],
      "metadata": {
        "id": "wT-9ALovrsWU"
      }
    },
    {
      "cell_type": "code",
      "source": [
        "words = [\"apple\", \"banana\", \"apple\", \"orange\", \"banana\"]\n",
        "unique_lengths = {len(word) for word in words}\n",
        "print(unique_lengths)\n"
      ],
      "metadata": {
        "colab": {
          "base_uri": "https://localhost:8080/"
        },
        "id": "hgSRCaYNrqdP",
        "outputId": "42cbbcf5-f446-421d-d077-7f392c241144"
      },
      "execution_count": 126,
      "outputs": [
        {
          "output_type": "stream",
          "name": "stdout",
          "text": [
            "{5, 6}\n"
          ]
        }
      ]
    },
    {
      "cell_type": "markdown",
      "source": [
        "With Condition"
      ],
      "metadata": {
        "id": "PdRcDxsur0mF"
      }
    },
    {
      "cell_type": "code",
      "source": [
        "even_squares = {x**2 for x in range(10) if x % 2 == 0}\n",
        "print(even_squares)\n"
      ],
      "metadata": {
        "colab": {
          "base_uri": "https://localhost:8080/"
        },
        "id": "nZk9pV1iruTq",
        "outputId": "85e6e147-5c54-48d6-8f3d-c5e545510180"
      },
      "execution_count": 127,
      "outputs": [
        {
          "output_type": "stream",
          "name": "stdout",
          "text": [
            "{0, 64, 4, 36, 16}\n"
          ]
        }
      ]
    },
    {
      "cell_type": "markdown",
      "source": [
        "From String"
      ],
      "metadata": {
        "id": "JsNwB2ALr40s"
      }
    },
    {
      "cell_type": "code",
      "source": [
        "chars = {ch for ch in \"abracadabra\" if ch not in \"abc\"}\n",
        "print(chars)\n"
      ],
      "metadata": {
        "colab": {
          "base_uri": "https://localhost:8080/"
        },
        "id": "UPdjeTZ7r22G",
        "outputId": "b9d3818e-aa1c-445d-96f0-a4373df7252b"
      },
      "execution_count": 128,
      "outputs": [
        {
          "output_type": "stream",
          "name": "stdout",
          "text": [
            "{'r', 'd'}\n"
          ]
        }
      ]
    },
    {
      "cell_type": "markdown",
      "source": [
        "Advanced Combined Example"
      ],
      "metadata": {
        "id": "JpcU388Jr8pg"
      }
    },
    {
      "cell_type": "code",
      "source": [
        "students = {\"Alice\": 85, \"Bob\": 72, \"Charlie\": 90, \"David\": 60}\n",
        "\n",
        "# Dictionary: Names & Grade Categories\n",
        "grades = {name: (\"Pass\" if marks >= 75 else \"Fail\")\n",
        "          for name, marks in students.items()}\n",
        "\n",
        "# Set: All distinct grade results\n",
        "grade_results = {(\"Pass\" if marks >= 75 else \"Fail\")\n",
        "                 for marks in students.values()}\n",
        "\n",
        "print(grades)\n",
        "print(grade_results)\n"
      ],
      "metadata": {
        "colab": {
          "base_uri": "https://localhost:8080/"
        },
        "id": "Mtqc49pqr6ox",
        "outputId": "3969d3cf-45ae-495d-9a10-70dcf5bb6d13"
      },
      "execution_count": 129,
      "outputs": [
        {
          "output_type": "stream",
          "name": "stdout",
          "text": [
            "{'Alice': 'Pass', 'Bob': 'Fail', 'Charlie': 'Pass', 'David': 'Fail'}\n",
            "{'Pass', 'Fail'}\n"
          ]
        }
      ]
    },
    {
      "cell_type": "markdown",
      "source": [
        "#What Are Generators?\n",
        "A generator is a special type of Python iterator that generates values on the fly instead of storing them in memory.\n",
        "\n",
        "Memory-efficient — doesn’t store all values at once.\n",
        "\n",
        "Lazy evaluation — values are produced only when needed.\n",
        "\n",
        "Created using:\n",
        "\n",
        "Generator functions → use yield instead of return.\n",
        "\n",
        "Generator expressions → like list comprehensions but with ()."
      ],
      "metadata": {
        "id": "TTkSdX9ksXGd"
      }
    },
    {
      "cell_type": "markdown",
      "source": [
        "The yield Keyword\n",
        "\n",
        "yield pauses the function, saving its state.\n",
        "\n",
        "When called again, it resumes from where it left off.\n",
        "\n",
        "Produces a sequence of values over time."
      ],
      "metadata": {
        "id": "cQgyFDzNsc0v"
      }
    },
    {
      "cell_type": "markdown",
      "source": [
        "| Feature                   | `return` | `yield`                        |\n",
        "| ------------------------- | -------- | ------------------------------ |\n",
        "| Stops function completely | ✅        | ❌ (pauses)                     |\n",
        "| Returns single value      | ✅        | ❌ (returns multiple over time) |\n",
        "| Memory efficient          | ❌        | ✅                              |\n",
        "| Iterable support          | ❌        | ✅                              |\n"
      ],
      "metadata": {
        "id": "munqthd3tNVL"
      }
    },
    {
      "cell_type": "markdown",
      "source": [
        "Generator Function Example"
      ],
      "metadata": {
        "id": "S2JwuLcbsh31"
      }
    },
    {
      "cell_type": "code",
      "source": [
        "def my_generator():\n",
        "    yield 1\n",
        "    yield 2\n",
        "    yield 3\n",
        "\n",
        "gen = my_generator()\n",
        "\n",
        "print(next(gen))  # 1\n",
        "print(next(gen))  # 2\n",
        "print(next(gen))  # 3\n"
      ],
      "metadata": {
        "colab": {
          "base_uri": "https://localhost:8080/"
        },
        "id": "fIlW2MT4r-Ph",
        "outputId": "0f83488c-84b3-40f3-f715-ac6a2276d112"
      },
      "execution_count": 130,
      "outputs": [
        {
          "output_type": "stream",
          "name": "stdout",
          "text": [
            "1\n",
            "2\n",
            "3\n"
          ]
        }
      ]
    },
    {
      "cell_type": "markdown",
      "source": [
        "Memory Difference"
      ],
      "metadata": {
        "id": "7fp2Yp4dslvc"
      }
    },
    {
      "cell_type": "code",
      "source": [
        "# List - stores all values (uses more memory)\n",
        "nums_list = [x**2 for x in range(1000000)]\n",
        "\n",
        "# Generator - produces values one by one (low memory)\n",
        "nums_gen = (x**2 for x in range(1000000))\n"
      ],
      "metadata": {
        "id": "E1HPHrjlskcV"
      },
      "execution_count": 131,
      "outputs": []
    },
    {
      "cell_type": "markdown",
      "source": [
        " Fibonacci Generator"
      ],
      "metadata": {
        "id": "x4_q17B_srC2"
      }
    },
    {
      "cell_type": "code",
      "source": [
        "def fibonacci(n):\n",
        "    a, b = 0, 1\n",
        "    for _ in range(n):\n",
        "        yield a\n",
        "        a, b = b, a + b\n",
        "\n",
        "for num in fibonacci(6):\n",
        "    print(num)\n"
      ],
      "metadata": {
        "colab": {
          "base_uri": "https://localhost:8080/"
        },
        "id": "KInlFHA0spGG",
        "outputId": "77337994-9fcc-4f70-fba9-46387cb49108"
      },
      "execution_count": 132,
      "outputs": [
        {
          "output_type": "stream",
          "name": "stdout",
          "text": [
            "0\n",
            "1\n",
            "1\n",
            "2\n",
            "3\n",
            "5\n"
          ]
        }
      ]
    },
    {
      "cell_type": "markdown",
      "source": [
        "Using yield with Conditions"
      ],
      "metadata": {
        "id": "Ka_EE9iKsx9A"
      }
    },
    {
      "cell_type": "code",
      "source": [
        "def even_numbers(limit):\n",
        "    for i in range(limit):\n",
        "        if i % 2 == 0:\n",
        "            yield i\n",
        "\n",
        "for num in even_numbers(10):\n",
        "    print(num, end=\" \")\n"
      ],
      "metadata": {
        "colab": {
          "base_uri": "https://localhost:8080/"
        },
        "id": "v8BKrmS9sslR",
        "outputId": "ffee83cc-d293-441c-bcf8-3b3cbb0adf75"
      },
      "execution_count": 133,
      "outputs": [
        {
          "output_type": "stream",
          "name": "stdout",
          "text": [
            "0 2 4 6 8 "
          ]
        }
      ]
    },
    {
      "cell_type": "markdown",
      "source": [
        "Generator Expression"
      ],
      "metadata": {
        "id": "i6PqWw84s2lh"
      }
    },
    {
      "cell_type": "code",
      "source": [
        "gen_exp = (x**2 for x in range(5))\n",
        "for val in gen_exp:\n",
        "    print(val)\n"
      ],
      "metadata": {
        "colab": {
          "base_uri": "https://localhost:8080/"
        },
        "id": "8xRxnzKvsz2R",
        "outputId": "641cc255-ee23-48dd-957f-1b0dca0938ea"
      },
      "execution_count": 134,
      "outputs": [
        {
          "output_type": "stream",
          "name": "stdout",
          "text": [
            "0\n",
            "1\n",
            "4\n",
            "9\n",
            "16\n"
          ]
        }
      ]
    },
    {
      "cell_type": "markdown",
      "source": [
        "Real-World Use Case — Reading Large Files"
      ],
      "metadata": {
        "id": "15Pu3nhcs5-c"
      }
    },
    {
      "cell_type": "code",
      "metadata": {
        "colab": {
          "base_uri": "https://localhost:8080/"
        },
        "id": "fc34c0dc",
        "outputId": "d64ce9cf-cfff-45b8-8328-268bd1863b83"
      },
      "source": [
        "# Create a small dummy file named bigdata.txt\n",
        "with open(\"bigdata.txt\", \"w\") as f:\n",
        "    f.write(\"This is the first line.\\n\")\n",
        "    f.write(\"This is the second line.\\n\")\n",
        "    f.write(\"And this is the third line.\")\n",
        "\n",
        "print(\"bigdata.txt created successfully.\")"
      ],
      "execution_count": 137,
      "outputs": [
        {
          "output_type": "stream",
          "name": "stdout",
          "text": [
            "bigdata.txt created successfully.\n"
          ]
        }
      ]
    },
    {
      "cell_type": "code",
      "source": [
        "def read_large_file(file_path):\n",
        "    with open(file_path) as file:\n",
        "        for line in file:\n",
        "            yield line.strip()\n",
        "\n",
        "# Usage:\n",
        "for line in read_large_file(\"bigdata.txt\"):\n",
        "    print(line)\n"
      ],
      "metadata": {
        "colab": {
          "base_uri": "https://localhost:8080/"
        },
        "id": "e7dFdpxZtFMy",
        "outputId": "e68c0951-862a-409e-c4cc-4625ef6cdda9"
      },
      "execution_count": 138,
      "outputs": [
        {
          "output_type": "stream",
          "name": "stdout",
          "text": [
            "This is the first line.\n",
            "This is the second line.\n",
            "And this is the third line.\n"
          ]
        }
      ]
    },
    {
      "cell_type": "markdown",
      "source": [
        "#Iterator vs Generator"
      ],
      "metadata": {
        "id": "Uh7UXS81tZRY"
      }
    },
    {
      "cell_type": "markdown",
      "source": [
        "| Feature         | Iterator                           | Generator              |\n",
        "| --------------- | ---------------------------------- | ---------------------- |\n",
        "| Syntax          | Class with `__iter__` & `__next__` | Function with `yield`  |\n",
        "| Memory          | Can store all values               | Produces values lazily |\n",
        "| Code Length     | Longer boilerplate                 | Short and readable     |\n",
        "| Automatic State | ❌ No, you manage it                | ✅ Yes, auto handled    |\n",
        "| Use Case        | Complex iteration logic            | Streaming, large data  |\n"
      ],
      "metadata": {
        "id": "bicrhQC1tfPS"
      }
    },
    {
      "cell_type": "markdown",
      "source": [
        "Iterator → when you need full control over iteration logic (custom steps, complex state).\n",
        "\n",
        "Generator → when you want an easy, memory-efficient way to produce values.\n",
        "\n"
      ],
      "metadata": {
        "id": "lidOO8dEuMas"
      }
    },
    {
      "cell_type": "markdown",
      "source": [
        "Iterators — The Basics\n",
        "\n",
        "An iterator is an object that can be iterated (looped) over.\n",
        "\n",
        "It remembers its state (where it is in iteration).\n",
        "\n",
        "Must implement:\n",
        "\n",
        "__iter__() → returns the iterator object itself.\n",
        "\n",
        "__next__() → returns the next value or raises StopIteration."
      ],
      "metadata": {
        "id": "HWOvkK9Ptq0E"
      }
    },
    {
      "cell_type": "code",
      "source": [
        "# List Iterator\n",
        "nums = [1, 2, 3]\n",
        "it = iter(nums)  # Get iterator\n",
        "\n",
        "print(next(it))  # 1\n",
        "print(next(it))  # 2\n",
        "print(next(it))  # 3\n"
      ],
      "metadata": {
        "colab": {
          "base_uri": "https://localhost:8080/"
        },
        "id": "8hCRBQCTtHMX",
        "outputId": "0ee3fc24-2046-44dc-e743-be4b28e94c8c"
      },
      "execution_count": 139,
      "outputs": [
        {
          "output_type": "stream",
          "name": "stdout",
          "text": [
            "1\n",
            "2\n",
            "3\n"
          ]
        }
      ]
    },
    {
      "cell_type": "markdown",
      "source": [
        " Creating a Custom Iterator"
      ],
      "metadata": {
        "id": "GZylZ5mwtxBb"
      }
    },
    {
      "cell_type": "code",
      "source": [
        "class MyIterator:\n",
        "    def __init__(self, start, end):\n",
        "        self.current = start\n",
        "        self.end = end\n",
        "\n",
        "    def __iter__(self):\n",
        "        return self\n",
        "\n",
        "    def __next__(self):\n",
        "        if self.current >= self.end:\n",
        "            raise StopIteration\n",
        "        self.current += 1\n",
        "        return self.current - 1\n",
        "\n",
        "for num in MyIterator(0, 5):\n",
        "    print(num)\n"
      ],
      "metadata": {
        "colab": {
          "base_uri": "https://localhost:8080/"
        },
        "id": "TR9BkAmAtu-6",
        "outputId": "bed03d01-0487-47da-c914-b663ca09c19a"
      },
      "execution_count": 140,
      "outputs": [
        {
          "output_type": "stream",
          "name": "stdout",
          "text": [
            "0\n",
            "1\n",
            "2\n",
            "3\n",
            "4\n"
          ]
        }
      ]
    },
    {
      "cell_type": "markdown",
      "source": [
        "Generators — A Shortcut for Iterators\n",
        "\n",
        "A generator is a simpler way to create an iterator:\n",
        "\n",
        "Uses yield instead of return.\n",
        "\n",
        "Automatically implements __iter__() and __next__().\n",
        "\n",
        "Saves memory by producing values lazily."
      ],
      "metadata": {
        "id": "PcVzAEV-t1iO"
      }
    },
    {
      "cell_type": "code",
      "source": [
        "def my_gen():\n",
        "    yield 0\n",
        "    yield 1\n",
        "    yield 2\n",
        "\n",
        "for val in my_gen():\n",
        "    print(val)\n"
      ],
      "metadata": {
        "colab": {
          "base_uri": "https://localhost:8080/"
        },
        "id": "eh6HbHUotysJ",
        "outputId": "82b4b7c3-4bbb-46ae-b0cb-f4d3e4984e7f"
      },
      "execution_count": 141,
      "outputs": [
        {
          "output_type": "stream",
          "name": "stdout",
          "text": [
            "0\n",
            "1\n",
            "2\n"
          ]
        }
      ]
    },
    {
      "cell_type": "markdown",
      "source": [
        "Memory Usage Difference"
      ],
      "metadata": {
        "id": "XvasUT7Ot6tD"
      }
    },
    {
      "cell_type": "code",
      "source": [
        "import sys\n",
        "\n",
        "# List: stores all items\n",
        "nums_list = [x for x in range(1000000)]\n",
        "print(\"List size:\", sys.getsizeof(nums_list))\n",
        "\n",
        "# Generator: stores only state\n",
        "nums_gen = (x for x in range(1000000))\n",
        "print(\"Generator size:\", sys.getsizeof(nums_gen))\n"
      ],
      "metadata": {
        "colab": {
          "base_uri": "https://localhost:8080/"
        },
        "id": "pAJSovb5t4hY",
        "outputId": "9b97e814-a8d7-4d94-eabe-57739eed63a0"
      },
      "execution_count": 142,
      "outputs": [
        {
          "output_type": "stream",
          "name": "stdout",
          "text": [
            "List size: 8448728\n",
            "Generator size: 200\n"
          ]
        }
      ]
    },
    {
      "cell_type": "markdown",
      "source": [
        "#Iterators vs iterables"
      ],
      "metadata": {
        "id": "CE8HtND2uSyA"
      }
    },
    {
      "cell_type": "markdown",
      "source": [
        "| Feature        | Iterable                      | Iterator                      |\n",
        "| -------------- | ----------------------------- | ----------------------------- |\n",
        "| Definition     | Object you can loop over      | Object that gives next value  |\n",
        "| Method Needed  | `__iter__()`                  | `__iter__()` & `__next__()`   |\n",
        "| State Tracking | ❌ No                          | ✅ Yes                         |\n",
        "| Examples       | list, tuple, str, dict, range | object from `iter()` function |\n",
        "| Memory         | Can store all items           | Produces items one by one     |\n"
      ],
      "metadata": {
        "id": "LkwZdZ07uk4F"
      }
    },
    {
      "cell_type": "markdown",
      "source": [
        "Iterables\n",
        "An iterable is any object you can loop over (with for or in), but it does not remember its iteration state.\n",
        "\n",
        "Must implement __iter__() that returns an iterator.\n",
        "\n",
        "Examples: list, tuple, str, dict, set, range, etc."
      ],
      "metadata": {
        "id": "ztVba13Zua2v"
      }
    },
    {
      "cell_type": "code",
      "source": [
        "nums = [1, 2, 3]   # Iterable\n",
        "for n in nums:\n",
        "    print(n)\n"
      ],
      "metadata": {
        "colab": {
          "base_uri": "https://localhost:8080/"
        },
        "id": "g4PJApcwt8ok",
        "outputId": "b42cadd8-6581-4964-ad55-ab27a6a7652d"
      },
      "execution_count": 143,
      "outputs": [
        {
          "output_type": "stream",
          "name": "stdout",
          "text": [
            "1\n",
            "2\n",
            "3\n"
          ]
        }
      ]
    },
    {
      "cell_type": "markdown",
      "source": [
        "Iterators\n",
        "An iterator is the actual object that produces one item at a time on demand.\n",
        "\n",
        "Must implement:\n",
        "\n",
        "__iter__() → returns self.\n",
        "\n",
        "__next__() → returns next value or raises StopIteration."
      ],
      "metadata": {
        "id": "SaJ5vcGBugsj"
      }
    },
    {
      "cell_type": "code",
      "source": [
        "nums = [1, 2, 3]\n",
        "it = iter(nums)     # Iterator\n",
        "\n",
        "print(next(it))  # 1\n",
        "print(next(it))  # 2\n",
        "print(next(it))  # 3\n",
        "# print(next(it))  # Raises StopIteration\n"
      ],
      "metadata": {
        "colab": {
          "base_uri": "https://localhost:8080/"
        },
        "id": "ttr9h6CjucvX",
        "outputId": "cc00225b-1927-4797-a4e3-666138f8ceda"
      },
      "execution_count": 144,
      "outputs": [
        {
          "output_type": "stream",
          "name": "stdout",
          "text": [
            "1\n",
            "2\n",
            "3\n"
          ]
        }
      ]
    },
    {
      "cell_type": "markdown",
      "source": [
        "Relationship\n",
        "\n",
        "Think of it like this:\n",
        "\n",
        "Iterable = “Book” (you can read it, but it doesn’t track the page you’re on).\n",
        "\n",
        "Iterator = “Bookmark” (remembers where you left off)."
      ],
      "metadata": {
        "id": "Etkr1rkjuoYg"
      }
    },
    {
      "cell_type": "code",
      "source": [
        "# Iterable\n",
        "nums = [10, 20, 30]\n",
        "\n",
        "# Create Iterator from Iterable\n",
        "it = iter(nums)\n",
        "\n",
        "# Read values\n",
        "print(next(it))  # 10\n",
        "print(next(it))  # 20\n"
      ],
      "metadata": {
        "colab": {
          "base_uri": "https://localhost:8080/"
        },
        "id": "4X6vnfOouitC",
        "outputId": "1ae5b9db-df77-496e-b936-68fd66fb7be1"
      },
      "execution_count": 145,
      "outputs": [
        {
          "output_type": "stream",
          "name": "stdout",
          "text": [
            "10\n",
            "20\n"
          ]
        }
      ]
    },
    {
      "cell_type": "markdown",
      "source": [
        "#What is next()?\n",
        "The next() function retrieves the next item from an iterator.\n",
        "If there are no more items, it raises a StopIteration exception — unless you provide a default value."
      ],
      "metadata": {
        "id": "ayYK-BQMu5n2"
      }
    },
    {
      "cell_type": "markdown",
      "source": [
        "next(iterator, default)\n"
      ],
      "metadata": {
        "id": "SVhh8NE6u88I"
      }
    },
    {
      "cell_type": "code",
      "source": [
        "numbers = [10, 20, 30]\n",
        "iterator = iter(numbers)\n",
        "\n",
        "print(next(iterator))  # 10\n",
        "print(next(iterator))  # 20\n",
        "print(next(iterator))  # 30\n",
        "# print(next(iterator))  # Raises StopIteration\n"
      ],
      "metadata": {
        "colab": {
          "base_uri": "https://localhost:8080/"
        },
        "id": "LOEUi2BZurfl",
        "outputId": "cd5d17d9-8def-4126-addb-7ad9d2e53fbb"
      },
      "execution_count": 146,
      "outputs": [
        {
          "output_type": "stream",
          "name": "stdout",
          "text": [
            "10\n",
            "20\n",
            "30\n"
          ]
        }
      ]
    },
    {
      "cell_type": "markdown",
      "source": [
        " Using next() with a Default\n",
        "Instead of raising an error when the iterator is exhausted, you can provide a default:"
      ],
      "metadata": {
        "id": "VrLY8edgvCJv"
      }
    },
    {
      "cell_type": "code",
      "source": [
        "numbers = [10, 20]\n",
        "iterator = iter(numbers)\n",
        "\n",
        "print(next(iterator, \"No more items\"))  # 10\n",
        "print(next(iterator, \"No more items\"))  # 20\n",
        "print(next(iterator, \"No more items\"))  # No more items\n"
      ],
      "metadata": {
        "colab": {
          "base_uri": "https://localhost:8080/"
        },
        "id": "7eteLblku_6s",
        "outputId": "39505329-1ef5-4d86-bd2a-8889b07714ee"
      },
      "execution_count": 147,
      "outputs": [
        {
          "output_type": "stream",
          "name": "stdout",
          "text": [
            "10\n",
            "20\n",
            "No more items\n"
          ]
        }
      ]
    },
    {
      "cell_type": "markdown",
      "source": [
        " Common Use Case — Reading from a File"
      ],
      "metadata": {
        "id": "xZteNORRvGis"
      }
    },
    {
      "cell_type": "code",
      "metadata": {
        "colab": {
          "base_uri": "https://localhost:8080/"
        },
        "id": "fc935d6f",
        "outputId": "2d634a75-c8c9-4ba2-c86b-54398cac90d2"
      },
      "source": [
        "# Create a dummy file named sample.txt\n",
        "with open(\"sample.txt\", \"w\") as f:\n",
        "    f.write(\"This is the first line.\\n\")\n",
        "    f.write(\"This is the second line.\\n\")\n",
        "    f.write(\"This is the third line.\")\n",
        "\n",
        "print(\"sample.txt created successfully.\")"
      ],
      "execution_count": 150,
      "outputs": [
        {
          "output_type": "stream",
          "name": "stdout",
          "text": [
            "sample.txt created successfully.\n"
          ]
        }
      ]
    },
    {
      "cell_type": "code",
      "source": [
        "with open(\"sample.txt\") as file:\n",
        "    line1 = next(file)  # First line\n",
        "    line2 = next(file)  # Second line\n",
        "    print(line1.strip(), line2.strip())\n"
      ],
      "metadata": {
        "colab": {
          "base_uri": "https://localhost:8080/"
        },
        "id": "8KosLtOfvP4b",
        "outputId": "78bef149-3665-4012-c392-8c9e2606e7c5"
      },
      "execution_count": 151,
      "outputs": [
        {
          "output_type": "stream",
          "name": "stdout",
          "text": [
            "This is the first line. This is the second line.\n"
          ]
        }
      ]
    },
    {
      "cell_type": "markdown",
      "source": [
        "With Generators"
      ],
      "metadata": {
        "id": "XsKKPV58vUvU"
      }
    },
    {
      "cell_type": "code",
      "source": [
        "def countdown(n):\n",
        "    while n > 0:\n",
        "        yield n\n",
        "        n -= 1\n",
        "\n",
        "gen = countdown(3)\n",
        "\n",
        "print(next(gen))  # 3\n",
        "print(next(gen))  # 2\n",
        "print(next(gen))  # 1\n",
        "# print(next(gen)) → StopIteration\n"
      ],
      "metadata": {
        "colab": {
          "base_uri": "https://localhost:8080/"
        },
        "id": "iq8S8AIpvQsW",
        "outputId": "d1e62ffd-8128-454d-d787-715cc53ddb2a"
      },
      "execution_count": 152,
      "outputs": [
        {
          "output_type": "stream",
          "name": "stdout",
          "text": [
            "3\n",
            "2\n",
            "1\n"
          ]
        }
      ]
    },
    {
      "cell_type": "markdown",
      "source": [
        "#zip()\n",
        "zip() combines two or more iterables element-wise into tuples.\n",
        "It stops when the shortest iterable is exhausted.\n",
        "\n",
        "Syntax:"
      ],
      "metadata": {
        "id": "m1TsHu9Nvag9"
      }
    },
    {
      "cell_type": "markdown",
      "source": [
        "zip(iterable1, iterable2, ...)\n"
      ],
      "metadata": {
        "id": "NW_AUrRJvdMK"
      }
    },
    {
      "cell_type": "code",
      "source": [
        "names = [\"Alice\", \"Bob\", \"Charlie\"]\n",
        "scores = [85, 92, 78]\n",
        "\n",
        "combined = zip(names, scores)\n",
        "print(list(combined))\n",
        "# Output: [('Alice', 85), ('Bob', 92), ('Charlie', 78)]\n"
      ],
      "metadata": {
        "colab": {
          "base_uri": "https://localhost:8080/"
        },
        "id": "UPO8MjAUvW8O",
        "outputId": "f1a74aa0-82fc-4314-d49d-673fb50a9ee3"
      },
      "execution_count": 153,
      "outputs": [
        {
          "output_type": "stream",
          "name": "stdout",
          "text": [
            "[('Alice', 85), ('Bob', 92), ('Charlie', 78)]\n"
          ]
        }
      ]
    },
    {
      "cell_type": "markdown",
      "source": [
        "Use in Loops:"
      ],
      "metadata": {
        "id": "yL8T3KLivhzP"
      }
    },
    {
      "cell_type": "code",
      "source": [
        "for name, score in zip(names, scores):\n",
        "    print(f\"{name} scored {score}\")\n"
      ],
      "metadata": {
        "colab": {
          "base_uri": "https://localhost:8080/"
        },
        "id": "2UQv5SjXvfSX",
        "outputId": "db4723c7-81f8-4d6f-f945-ad266c56fe1a"
      },
      "execution_count": 154,
      "outputs": [
        {
          "output_type": "stream",
          "name": "stdout",
          "text": [
            "Alice scored 85\n",
            "Bob scored 92\n",
            "Charlie scored 78\n"
          ]
        }
      ]
    },
    {
      "cell_type": "markdown",
      "source": [
        "Unequal Lengths:"
      ],
      "metadata": {
        "id": "SrEZXkYuvlZP"
      }
    },
    {
      "cell_type": "code",
      "source": [
        "a = [1, 2, 3]\n",
        "b = ['x', 'y']\n",
        "print(list(zip(a, b)))\n",
        "# Output: [(1, 'x'), (2, 'y')]  → stops at shortest list\n"
      ],
      "metadata": {
        "colab": {
          "base_uri": "https://localhost:8080/"
        },
        "id": "olBeLh1RvjTV",
        "outputId": "9cd30505-d628-41ad-814a-b050fe88fb42"
      },
      "execution_count": 155,
      "outputs": [
        {
          "output_type": "stream",
          "name": "stdout",
          "text": [
            "[(1, 'x'), (2, 'y')]\n"
          ]
        }
      ]
    },
    {
      "cell_type": "markdown",
      "source": [
        "#enumerate()\n",
        "enumerate() adds a counter (index) to an iterable.\n",
        "Very useful when you need both index and value.\n",
        "\n",
        "Syntax:"
      ],
      "metadata": {
        "id": "MAzyO_wQvptR"
      }
    },
    {
      "cell_type": "markdown",
      "source": [
        "enumerate(iterable, start=0)\n"
      ],
      "metadata": {
        "id": "CWKYn7njvshx"
      }
    },
    {
      "cell_type": "code",
      "source": [
        "fruits = [\"apple\", \"banana\", \"cherry\"]\n",
        "\n",
        "for index, fruit in enumerate(fruits):\n",
        "    print(index, fruit)\n",
        "# Output:\n",
        "# 0 apple\n",
        "# 1 banana\n",
        "# 2 cherry\n",
        "\n"
      ],
      "metadata": {
        "colab": {
          "base_uri": "https://localhost:8080/"
        },
        "id": "zIlAbwFlvnEQ",
        "outputId": "1a6b387f-e1b4-45e5-80b1-4cf78580befa"
      },
      "execution_count": 156,
      "outputs": [
        {
          "output_type": "stream",
          "name": "stdout",
          "text": [
            "0 apple\n",
            "1 banana\n",
            "2 cherry\n"
          ]
        }
      ]
    },
    {
      "cell_type": "markdown",
      "source": [
        "Custom Start Index:"
      ],
      "metadata": {
        "id": "Dg_OgN2kv6IG"
      }
    },
    {
      "cell_type": "code",
      "source": [
        "for index, fruit in enumerate(fruits, start=1):\n",
        "    print(index, fruit)\n",
        "# Output:\n",
        "# 1 apple\n",
        "# 2 banana\n",
        "# 3 cherry\n"
      ],
      "metadata": {
        "colab": {
          "base_uri": "https://localhost:8080/"
        },
        "id": "skeLmIocv3Nt",
        "outputId": "8a36f02d-efaa-483e-8612-b5996ea49ba7"
      },
      "execution_count": 157,
      "outputs": [
        {
          "output_type": "stream",
          "name": "stdout",
          "text": [
            "1 apple\n",
            "2 banana\n",
            "3 cherry\n"
          ]
        }
      ]
    },
    {
      "cell_type": "markdown",
      "source": [
        "zip() + enumerate() Together\n",
        "\n",
        "You can combine them when you want indexed pairs:"
      ],
      "metadata": {
        "id": "Bt6ZEu-Xv-6U"
      }
    },
    {
      "cell_type": "code",
      "source": [
        "names = [\"Alice\", \"Bob\", \"Charlie\"]\n",
        "scores = [85, 92, 78]\n",
        "\n",
        "for idx, (name, score) in enumerate(zip(names, scores), start=1):\n",
        "    print(f\"{idx}. {name} scored {score}\")\n"
      ],
      "metadata": {
        "colab": {
          "base_uri": "https://localhost:8080/"
        },
        "id": "NeECpPutv8p1",
        "outputId": "ca43b0cb-4a05-4864-e4bf-d94def5c03ee"
      },
      "execution_count": 158,
      "outputs": [
        {
          "output_type": "stream",
          "name": "stdout",
          "text": [
            "1. Alice scored 85\n",
            "2. Bob scored 92\n",
            "3. Charlie scored 78\n"
          ]
        }
      ]
    },
    {
      "cell_type": "code",
      "source": [],
      "metadata": {
        "id": "zT7iE8DDwDOt"
      },
      "execution_count": null,
      "outputs": []
    }
  ]
}